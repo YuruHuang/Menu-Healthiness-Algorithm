{
  "nbformat": 4,
  "nbformat_minor": 0,
  "metadata": {
    "colab": {
      "provenance": []
    },
    "kernelspec": {
      "name": "python3",
      "display_name": "Python 3"
    },
    "language_info": {
      "name": "python"
    },
    "accelerator": "GPU",
    "gpuClass": "standard"
  },
  "cells": [
    {
      "cell_type": "markdown",
      "source": [
        "In this notebook, I will replicate what Tom B did with the takeaway classifier, except that I will replace the classification header with a regression header.\n",
        "\n",
        "The goals for this notebook is two-fold:\n",
        "\n",
        "1. Run ULMfit for the regression task using fastai\n",
        "2. Resample the data to get a balanced dataset"
      ],
      "metadata": {
        "id": "AUHZKecR_RKy"
      }
    },
    {
      "cell_type": "markdown",
      "source": [
        "# Data preprocessing\n"
      ],
      "metadata": {
        "id": "FiHnw0J4CfDF"
      }
    },
    {
      "cell_type": "code",
      "source": [
        "! [ -e /content ] && pip install -Uqq fastai  # upgrade fastai on colab"
      ],
      "metadata": {
        "id": "WvJtlYyKjrQo"
      },
      "execution_count": null,
      "outputs": []
    },
    {
      "cell_type": "code",
      "execution_count": null,
      "metadata": {
        "id": "rPvjT4Zy_KsN",
        "colab": {
          "base_uri": "https://localhost:8080/"
        },
        "outputId": "0c7de579-7adc-407e-c7f1-62c411f8c5aa"
      },
      "outputs": [
        {
          "output_type": "stream",
          "name": "stdout",
          "text": [
            "Looking in indexes: https://pypi.org/simple, https://us-python.pkg.dev/colab-wheels/public/simple/\n",
            "Collecting unidecode\n",
            "  Downloading Unidecode-1.3.4-py3-none-any.whl (235 kB)\n",
            "\u001b[K     |████████████████████████████████| 235 kB 6.9 MB/s \n",
            "\u001b[?25hInstalling collected packages: unidecode\n",
            "Successfully installed unidecode-1.3.4\n"
          ]
        }
      ],
      "source": [
        "## Import all the libraries\n",
        "!pip install unidecode\n",
        "from unidecode import unidecode\n",
        "import string\n",
        "import pandas as pd\n",
        "from fastai.vision.all import *\n",
        "from fastai.text.all import *\n",
        "from fastai.collab import *\n",
        "from fastai.tabular.all import *\n",
        "import string\n",
        "import string\n",
        "from sklearn.model_selection import train_test_split"
      ]
    },
    {
      "cell_type": "code",
      "source": [
        "train_ds = pd.read_csv('train_smogn.csv')\n",
        "test_ds = pd.read_csv('test_smogn.csv')"
      ],
      "metadata": {
        "id": "p7qu0InJHTAW"
      },
      "execution_count": null,
      "outputs": []
    },
    {
      "cell_type": "code",
      "source": [
        "def rest_name_cleaning(rest_name):\n",
        "  '''\n",
        "  This function cleans the restaurant name string\n",
        "  '''\n",
        "  rest_name_clean = rest_name.lower()\n",
        "  rest_name_clean = rest_name_clean.strip()\n",
        "  ascii_name = unidecode(rest_name_clean)\n",
        "  ascii_name_fix = ascii_name.replace('`',\"'\")\n",
        "  ascii_name_fix = ascii_name_fix.replace('~',\" \")\n",
        "  ascii_name_fix = ascii_name_fix.replace(']',\" \")\n",
        "  ascii_name_fix = ascii_name_fix.replace('[',\" \")\n",
        "  ascii_name_fix = ascii_name_fix.replace('\\\\',\" \")\n",
        "  ascii_name_fix = ascii_name_fix.replace('%',\" \")\n",
        "  ascii_name_fix = ascii_name_fix.replace('*',\" \")\n",
        "  ascii_name_fix = ascii_name_fix.replace('+',\" and \")\n",
        "  ascii_name_fix = ascii_name_fix.replace('&',\" and \")\n",
        "  ascii_name_fix = ascii_name_fix.replace('/',\" \")\n",
        "\n",
        "  return ascii_name_fix"
      ],
      "metadata": {
        "id": "Fu95QAuNHdVu"
      },
      "execution_count": null,
      "outputs": []
    },
    {
      "cell_type": "code",
      "source": [
        "# test example\n",
        "# train_ds['ascii_name_fix'] = train_ds.rest_name.apply(rest_name_cleaning)"
      ],
      "metadata": {
        "id": "7iJqBUONnaZn"
      },
      "execution_count": null,
      "outputs": []
    },
    {
      "cell_type": "code",
      "source": [
        "# 0-12 if over 12 then 12\n",
        "def clean_data(data):\n",
        "  data.loc[data['predict']>12, 'predict'] = 12\n",
        "  data.loc[data['predict']<0, 'predict'] = 0\n",
        "  data['ascii_name_fix'] = data.rest_name.apply(rest_name_cleaning)\n",
        "  return data"
      ],
      "metadata": {
        "id": "kd7hq9v2Xut6"
      },
      "execution_count": null,
      "outputs": []
    },
    {
      "cell_type": "code",
      "source": [
        "train_ds = clean_data(train_ds)\n",
        "test_ds = clean_data(test_ds)"
      ],
      "metadata": {
        "id": "VT5X-eLxXvmg"
      },
      "execution_count": null,
      "outputs": []
    },
    {
      "cell_type": "code",
      "source": [
        "train_ds['is_valid'] = False\n",
        "test_ds['is_valid'] = True"
      ],
      "metadata": {
        "id": "DpW_6NdJHfjU"
      },
      "execution_count": null,
      "outputs": []
    },
    {
      "cell_type": "code",
      "source": [
        "justeat_df = pd.concat([train_ds,test_ds], axis=0)"
      ],
      "metadata": {
        "id": "ne8ZQma6OMnI"
      },
      "execution_count": null,
      "outputs": []
    },
    {
      "cell_type": "code",
      "source": [
        "justeat_df.head()"
      ],
      "metadata": {
        "colab": {
          "base_uri": "https://localhost:8080/",
          "height": 317
        },
        "id": "9Dd8_BwhmQXP",
        "outputId": "20a20878-3b81-49e0-dc1c-6c47d35f10fb"
      },
      "execution_count": null,
      "outputs": [
        {
          "output_type": "execute_result",
          "data": {
            "text/plain": [
              "   Unnamed: 0    index  Restaurant ID  Desserts  Vegetables  Salads  Chips  \\\n",
              "0           0  21615.0          37196         1          18       4      1   \n",
              "1           1  21158.0          38498         1          18       4      2   \n",
              "2           2  20740.0          35972         2          17       5      2   \n",
              "3           3  25787.0          95230         0          17       2      0   \n",
              "4           4  26378.0          94912         0          16       3      0   \n",
              "\n",
              "   Water  Milk  Special Offers  ... postcode_district specialOffers chips  \\\n",
              "0      0     0               3  ...               G12             3     1   \n",
              "1      0     0               3  ...               G12             3     1   \n",
              "2      0     0               3  ...               G12             2     2   \n",
              "3      0     0               4  ...               G12             4     0   \n",
              "4      0     0               4  ...               G12             4     0   \n",
              "\n",
              "  salads   predict  rating2    ascii_name_fix  is_valid n_review review  \n",
              "0      4  8.568073        3  la vita spuntini     False      NaN    NaN  \n",
              "1      4  8.556266        2  la vita spuntini     False      NaN    NaN  \n",
              "2      5  8.546312        3  la vita spuntini     False      NaN    NaN  \n",
              "3      2  8.555663        3  la vita spuntini     False      NaN    NaN  \n",
              "4      2  8.538543        3  la vita spuntini     False      NaN    NaN  \n",
              "\n",
              "[5 rows x 29 columns]"
            ],
            "text/html": [
              "\n",
              "  <div id=\"df-12b787db-55c4-445f-8178-55435f806876\">\n",
              "    <div class=\"colab-df-container\">\n",
              "      <div>\n",
              "<style scoped>\n",
              "    .dataframe tbody tr th:only-of-type {\n",
              "        vertical-align: middle;\n",
              "    }\n",
              "\n",
              "    .dataframe tbody tr th {\n",
              "        vertical-align: top;\n",
              "    }\n",
              "\n",
              "    .dataframe thead th {\n",
              "        text-align: right;\n",
              "    }\n",
              "</style>\n",
              "<table border=\"1\" class=\"dataframe\">\n",
              "  <thead>\n",
              "    <tr style=\"text-align: right;\">\n",
              "      <th></th>\n",
              "      <th>Unnamed: 0</th>\n",
              "      <th>index</th>\n",
              "      <th>Restaurant ID</th>\n",
              "      <th>Desserts</th>\n",
              "      <th>Vegetables</th>\n",
              "      <th>Salads</th>\n",
              "      <th>Chips</th>\n",
              "      <th>Water</th>\n",
              "      <th>Milk</th>\n",
              "      <th>Special Offers</th>\n",
              "      <th>...</th>\n",
              "      <th>postcode_district</th>\n",
              "      <th>specialOffers</th>\n",
              "      <th>chips</th>\n",
              "      <th>salads</th>\n",
              "      <th>predict</th>\n",
              "      <th>rating2</th>\n",
              "      <th>ascii_name_fix</th>\n",
              "      <th>is_valid</th>\n",
              "      <th>n_review</th>\n",
              "      <th>review</th>\n",
              "    </tr>\n",
              "  </thead>\n",
              "  <tbody>\n",
              "    <tr>\n",
              "      <th>0</th>\n",
              "      <td>0</td>\n",
              "      <td>21615.0</td>\n",
              "      <td>37196</td>\n",
              "      <td>1</td>\n",
              "      <td>18</td>\n",
              "      <td>4</td>\n",
              "      <td>1</td>\n",
              "      <td>0</td>\n",
              "      <td>0</td>\n",
              "      <td>3</td>\n",
              "      <td>...</td>\n",
              "      <td>G12</td>\n",
              "      <td>3</td>\n",
              "      <td>1</td>\n",
              "      <td>4</td>\n",
              "      <td>8.568073</td>\n",
              "      <td>3</td>\n",
              "      <td>la vita spuntini</td>\n",
              "      <td>False</td>\n",
              "      <td>NaN</td>\n",
              "      <td>NaN</td>\n",
              "    </tr>\n",
              "    <tr>\n",
              "      <th>1</th>\n",
              "      <td>1</td>\n",
              "      <td>21158.0</td>\n",
              "      <td>38498</td>\n",
              "      <td>1</td>\n",
              "      <td>18</td>\n",
              "      <td>4</td>\n",
              "      <td>2</td>\n",
              "      <td>0</td>\n",
              "      <td>0</td>\n",
              "      <td>3</td>\n",
              "      <td>...</td>\n",
              "      <td>G12</td>\n",
              "      <td>3</td>\n",
              "      <td>1</td>\n",
              "      <td>4</td>\n",
              "      <td>8.556266</td>\n",
              "      <td>2</td>\n",
              "      <td>la vita spuntini</td>\n",
              "      <td>False</td>\n",
              "      <td>NaN</td>\n",
              "      <td>NaN</td>\n",
              "    </tr>\n",
              "    <tr>\n",
              "      <th>2</th>\n",
              "      <td>2</td>\n",
              "      <td>20740.0</td>\n",
              "      <td>35972</td>\n",
              "      <td>2</td>\n",
              "      <td>17</td>\n",
              "      <td>5</td>\n",
              "      <td>2</td>\n",
              "      <td>0</td>\n",
              "      <td>0</td>\n",
              "      <td>3</td>\n",
              "      <td>...</td>\n",
              "      <td>G12</td>\n",
              "      <td>2</td>\n",
              "      <td>2</td>\n",
              "      <td>5</td>\n",
              "      <td>8.546312</td>\n",
              "      <td>3</td>\n",
              "      <td>la vita spuntini</td>\n",
              "      <td>False</td>\n",
              "      <td>NaN</td>\n",
              "      <td>NaN</td>\n",
              "    </tr>\n",
              "    <tr>\n",
              "      <th>3</th>\n",
              "      <td>3</td>\n",
              "      <td>25787.0</td>\n",
              "      <td>95230</td>\n",
              "      <td>0</td>\n",
              "      <td>17</td>\n",
              "      <td>2</td>\n",
              "      <td>0</td>\n",
              "      <td>0</td>\n",
              "      <td>0</td>\n",
              "      <td>4</td>\n",
              "      <td>...</td>\n",
              "      <td>G12</td>\n",
              "      <td>4</td>\n",
              "      <td>0</td>\n",
              "      <td>2</td>\n",
              "      <td>8.555663</td>\n",
              "      <td>3</td>\n",
              "      <td>la vita spuntini</td>\n",
              "      <td>False</td>\n",
              "      <td>NaN</td>\n",
              "      <td>NaN</td>\n",
              "    </tr>\n",
              "    <tr>\n",
              "      <th>4</th>\n",
              "      <td>4</td>\n",
              "      <td>26378.0</td>\n",
              "      <td>94912</td>\n",
              "      <td>0</td>\n",
              "      <td>16</td>\n",
              "      <td>3</td>\n",
              "      <td>0</td>\n",
              "      <td>0</td>\n",
              "      <td>0</td>\n",
              "      <td>4</td>\n",
              "      <td>...</td>\n",
              "      <td>G12</td>\n",
              "      <td>4</td>\n",
              "      <td>0</td>\n",
              "      <td>2</td>\n",
              "      <td>8.538543</td>\n",
              "      <td>3</td>\n",
              "      <td>la vita spuntini</td>\n",
              "      <td>False</td>\n",
              "      <td>NaN</td>\n",
              "      <td>NaN</td>\n",
              "    </tr>\n",
              "  </tbody>\n",
              "</table>\n",
              "<p>5 rows × 29 columns</p>\n",
              "</div>\n",
              "      <button class=\"colab-df-convert\" onclick=\"convertToInteractive('df-12b787db-55c4-445f-8178-55435f806876')\"\n",
              "              title=\"Convert this dataframe to an interactive table.\"\n",
              "              style=\"display:none;\">\n",
              "        \n",
              "  <svg xmlns=\"http://www.w3.org/2000/svg\" height=\"24px\"viewBox=\"0 0 24 24\"\n",
              "       width=\"24px\">\n",
              "    <path d=\"M0 0h24v24H0V0z\" fill=\"none\"/>\n",
              "    <path d=\"M18.56 5.44l.94 2.06.94-2.06 2.06-.94-2.06-.94-.94-2.06-.94 2.06-2.06.94zm-11 1L8.5 8.5l.94-2.06 2.06-.94-2.06-.94L8.5 2.5l-.94 2.06-2.06.94zm10 10l.94 2.06.94-2.06 2.06-.94-2.06-.94-.94-2.06-.94 2.06-2.06.94z\"/><path d=\"M17.41 7.96l-1.37-1.37c-.4-.4-.92-.59-1.43-.59-.52 0-1.04.2-1.43.59L10.3 9.45l-7.72 7.72c-.78.78-.78 2.05 0 2.83L4 21.41c.39.39.9.59 1.41.59.51 0 1.02-.2 1.41-.59l7.78-7.78 2.81-2.81c.8-.78.8-2.07 0-2.86zM5.41 20L4 18.59l7.72-7.72 1.47 1.35L5.41 20z\"/>\n",
              "  </svg>\n",
              "      </button>\n",
              "      \n",
              "  <style>\n",
              "    .colab-df-container {\n",
              "      display:flex;\n",
              "      flex-wrap:wrap;\n",
              "      gap: 12px;\n",
              "    }\n",
              "\n",
              "    .colab-df-convert {\n",
              "      background-color: #E8F0FE;\n",
              "      border: none;\n",
              "      border-radius: 50%;\n",
              "      cursor: pointer;\n",
              "      display: none;\n",
              "      fill: #1967D2;\n",
              "      height: 32px;\n",
              "      padding: 0 0 0 0;\n",
              "      width: 32px;\n",
              "    }\n",
              "\n",
              "    .colab-df-convert:hover {\n",
              "      background-color: #E2EBFA;\n",
              "      box-shadow: 0px 1px 2px rgba(60, 64, 67, 0.3), 0px 1px 3px 1px rgba(60, 64, 67, 0.15);\n",
              "      fill: #174EA6;\n",
              "    }\n",
              "\n",
              "    [theme=dark] .colab-df-convert {\n",
              "      background-color: #3B4455;\n",
              "      fill: #D2E3FC;\n",
              "    }\n",
              "\n",
              "    [theme=dark] .colab-df-convert:hover {\n",
              "      background-color: #434B5C;\n",
              "      box-shadow: 0px 1px 3px 1px rgba(0, 0, 0, 0.15);\n",
              "      filter: drop-shadow(0px 1px 2px rgba(0, 0, 0, 0.3));\n",
              "      fill: #FFFFFF;\n",
              "    }\n",
              "  </style>\n",
              "\n",
              "      <script>\n",
              "        const buttonEl =\n",
              "          document.querySelector('#df-12b787db-55c4-445f-8178-55435f806876 button.colab-df-convert');\n",
              "        buttonEl.style.display =\n",
              "          google.colab.kernel.accessAllowed ? 'block' : 'none';\n",
              "\n",
              "        async function convertToInteractive(key) {\n",
              "          const element = document.querySelector('#df-12b787db-55c4-445f-8178-55435f806876');\n",
              "          const dataTable =\n",
              "            await google.colab.kernel.invokeFunction('convertToInteractive',\n",
              "                                                     [key], {});\n",
              "          if (!dataTable) return;\n",
              "\n",
              "          const docLinkHtml = 'Like what you see? Visit the ' +\n",
              "            '<a target=\"_blank\" href=https://colab.research.google.com/notebooks/data_table.ipynb>data table notebook</a>'\n",
              "            + ' to learn more about interactive tables.';\n",
              "          element.innerHTML = '';\n",
              "          dataTable['output_type'] = 'display_data';\n",
              "          await google.colab.output.renderOutput(dataTable, element);\n",
              "          const docLink = document.createElement('div');\n",
              "          docLink.innerHTML = docLinkHtml;\n",
              "          element.appendChild(docLink);\n",
              "        }\n",
              "      </script>\n",
              "    </div>\n",
              "  </div>\n",
              "  "
            ]
          },
          "metadata": {},
          "execution_count": 10
        }
      ]
    },
    {
      "cell_type": "code",
      "source": [
        "justeat_df.shape, train_ds.shape, test_ds.shape"
      ],
      "metadata": {
        "colab": {
          "base_uri": "https://localhost:8080/"
        },
        "id": "LD4cSRAzYuPA",
        "outputId": "fd20fd3f-7df9-44b4-e305-81fec2a815c2"
      },
      "execution_count": null,
      "outputs": [
        {
          "output_type": "execute_result",
          "data": {
            "text/plain": [
              "((62360, 29), (56902, 27), (5458, 28))"
            ]
          },
          "metadata": {},
          "execution_count": 11
        }
      ]
    },
    {
      "cell_type": "code",
      "source": [
        "justeat_df.drop(justeat_df.columns[0:2],axis=1,inplace=True)"
      ],
      "metadata": {
        "id": "NoLQcNF9Y52g"
      },
      "execution_count": null,
      "outputs": []
    },
    {
      "cell_type": "code",
      "source": [
        "def split_chars(text):\n",
        "  return ' '.join(list(text))"
      ],
      "metadata": {
        "id": "gd90SPi-u-6L"
      },
      "execution_count": null,
      "outputs": []
    },
    {
      "cell_type": "code",
      "source": [
        "justeat_df['rest__name_space'] = justeat_df['ascii_name_fix'].apply(split_chars)"
      ],
      "metadata": {
        "id": "n2WMhlLRwPM0"
      },
      "execution_count": null,
      "outputs": []
    },
    {
      "cell_type": "code",
      "source": [
        "justeat_df = justeat_df[['rest__name_space','predict', 'is_valid']]"
      ],
      "metadata": {
        "id": "Ja1vUO-cZsxu"
      },
      "execution_count": null,
      "outputs": []
    },
    {
      "cell_type": "code",
      "source": [
        "justeat_df.tail()"
      ],
      "metadata": {
        "colab": {
          "base_uri": "https://localhost:8080/",
          "height": 206
        },
        "id": "iuJfHtmnxl8F",
        "outputId": "5350a395-e74b-4bd0-f64e-9f22b407cc8a"
      },
      "execution_count": null,
      "outputs": [
        {
          "output_type": "execute_result",
          "data": {
            "text/plain": [
              "                                             rest__name_space   predict  \\\n",
              "5453                              s u p e r   s h a w a r m a  6.619293   \n",
              "5454                                      b a h a r   c a f e  7.049263   \n",
              "5455  a m e r i c a n   p h i l l i   c h e e s e   s t e a k  6.134494   \n",
              "5456                                      v i v a   p i z z a  5.910214   \n",
              "5457                          a l i s h a n   t a n d o o r i  7.208977   \n",
              "\n",
              "      is_valid  \n",
              "5453      True  \n",
              "5454      True  \n",
              "5455      True  \n",
              "5456      True  \n",
              "5457      True  "
            ],
            "text/html": [
              "\n",
              "  <div id=\"df-7ce0b309-18ba-46b8-b1d5-0796bbe869d2\">\n",
              "    <div class=\"colab-df-container\">\n",
              "      <div>\n",
              "<style scoped>\n",
              "    .dataframe tbody tr th:only-of-type {\n",
              "        vertical-align: middle;\n",
              "    }\n",
              "\n",
              "    .dataframe tbody tr th {\n",
              "        vertical-align: top;\n",
              "    }\n",
              "\n",
              "    .dataframe thead th {\n",
              "        text-align: right;\n",
              "    }\n",
              "</style>\n",
              "<table border=\"1\" class=\"dataframe\">\n",
              "  <thead>\n",
              "    <tr style=\"text-align: right;\">\n",
              "      <th></th>\n",
              "      <th>rest__name_space</th>\n",
              "      <th>predict</th>\n",
              "      <th>is_valid</th>\n",
              "    </tr>\n",
              "  </thead>\n",
              "  <tbody>\n",
              "    <tr>\n",
              "      <th>5453</th>\n",
              "      <td>s u p e r   s h a w a r m a</td>\n",
              "      <td>6.619293</td>\n",
              "      <td>True</td>\n",
              "    </tr>\n",
              "    <tr>\n",
              "      <th>5454</th>\n",
              "      <td>b a h a r   c a f e</td>\n",
              "      <td>7.049263</td>\n",
              "      <td>True</td>\n",
              "    </tr>\n",
              "    <tr>\n",
              "      <th>5455</th>\n",
              "      <td>a m e r i c a n   p h i l l i   c h e e s e   s t e a k</td>\n",
              "      <td>6.134494</td>\n",
              "      <td>True</td>\n",
              "    </tr>\n",
              "    <tr>\n",
              "      <th>5456</th>\n",
              "      <td>v i v a   p i z z a</td>\n",
              "      <td>5.910214</td>\n",
              "      <td>True</td>\n",
              "    </tr>\n",
              "    <tr>\n",
              "      <th>5457</th>\n",
              "      <td>a l i s h a n   t a n d o o r i</td>\n",
              "      <td>7.208977</td>\n",
              "      <td>True</td>\n",
              "    </tr>\n",
              "  </tbody>\n",
              "</table>\n",
              "</div>\n",
              "      <button class=\"colab-df-convert\" onclick=\"convertToInteractive('df-7ce0b309-18ba-46b8-b1d5-0796bbe869d2')\"\n",
              "              title=\"Convert this dataframe to an interactive table.\"\n",
              "              style=\"display:none;\">\n",
              "        \n",
              "  <svg xmlns=\"http://www.w3.org/2000/svg\" height=\"24px\"viewBox=\"0 0 24 24\"\n",
              "       width=\"24px\">\n",
              "    <path d=\"M0 0h24v24H0V0z\" fill=\"none\"/>\n",
              "    <path d=\"M18.56 5.44l.94 2.06.94-2.06 2.06-.94-2.06-.94-.94-2.06-.94 2.06-2.06.94zm-11 1L8.5 8.5l.94-2.06 2.06-.94-2.06-.94L8.5 2.5l-.94 2.06-2.06.94zm10 10l.94 2.06.94-2.06 2.06-.94-2.06-.94-.94-2.06-.94 2.06-2.06.94z\"/><path d=\"M17.41 7.96l-1.37-1.37c-.4-.4-.92-.59-1.43-.59-.52 0-1.04.2-1.43.59L10.3 9.45l-7.72 7.72c-.78.78-.78 2.05 0 2.83L4 21.41c.39.39.9.59 1.41.59.51 0 1.02-.2 1.41-.59l7.78-7.78 2.81-2.81c.8-.78.8-2.07 0-2.86zM5.41 20L4 18.59l7.72-7.72 1.47 1.35L5.41 20z\"/>\n",
              "  </svg>\n",
              "      </button>\n",
              "      \n",
              "  <style>\n",
              "    .colab-df-container {\n",
              "      display:flex;\n",
              "      flex-wrap:wrap;\n",
              "      gap: 12px;\n",
              "    }\n",
              "\n",
              "    .colab-df-convert {\n",
              "      background-color: #E8F0FE;\n",
              "      border: none;\n",
              "      border-radius: 50%;\n",
              "      cursor: pointer;\n",
              "      display: none;\n",
              "      fill: #1967D2;\n",
              "      height: 32px;\n",
              "      padding: 0 0 0 0;\n",
              "      width: 32px;\n",
              "    }\n",
              "\n",
              "    .colab-df-convert:hover {\n",
              "      background-color: #E2EBFA;\n",
              "      box-shadow: 0px 1px 2px rgba(60, 64, 67, 0.3), 0px 1px 3px 1px rgba(60, 64, 67, 0.15);\n",
              "      fill: #174EA6;\n",
              "    }\n",
              "\n",
              "    [theme=dark] .colab-df-convert {\n",
              "      background-color: #3B4455;\n",
              "      fill: #D2E3FC;\n",
              "    }\n",
              "\n",
              "    [theme=dark] .colab-df-convert:hover {\n",
              "      background-color: #434B5C;\n",
              "      box-shadow: 0px 1px 3px 1px rgba(0, 0, 0, 0.15);\n",
              "      filter: drop-shadow(0px 1px 2px rgba(0, 0, 0, 0.3));\n",
              "      fill: #FFFFFF;\n",
              "    }\n",
              "  </style>\n",
              "\n",
              "      <script>\n",
              "        const buttonEl =\n",
              "          document.querySelector('#df-7ce0b309-18ba-46b8-b1d5-0796bbe869d2 button.colab-df-convert');\n",
              "        buttonEl.style.display =\n",
              "          google.colab.kernel.accessAllowed ? 'block' : 'none';\n",
              "\n",
              "        async function convertToInteractive(key) {\n",
              "          const element = document.querySelector('#df-7ce0b309-18ba-46b8-b1d5-0796bbe869d2');\n",
              "          const dataTable =\n",
              "            await google.colab.kernel.invokeFunction('convertToInteractive',\n",
              "                                                     [key], {});\n",
              "          if (!dataTable) return;\n",
              "\n",
              "          const docLinkHtml = 'Like what you see? Visit the ' +\n",
              "            '<a target=\"_blank\" href=https://colab.research.google.com/notebooks/data_table.ipynb>data table notebook</a>'\n",
              "            + ' to learn more about interactive tables.';\n",
              "          element.innerHTML = '';\n",
              "          dataTable['output_type'] = 'display_data';\n",
              "          await google.colab.output.renderOutput(dataTable, element);\n",
              "          const docLink = document.createElement('div');\n",
              "          docLink.innerHTML = docLinkHtml;\n",
              "          element.appendChild(docLink);\n",
              "        }\n",
              "      </script>\n",
              "    </div>\n",
              "  </div>\n",
              "  "
            ]
          },
          "metadata": {},
          "execution_count": 16
        }
      ]
    },
    {
      "cell_type": "code",
      "source": [
        "test = 'american philli cheesesteak'\n",
        "split_chars(test), split_chars(test).split(' ')"
      ],
      "metadata": {
        "colab": {
          "base_uri": "https://localhost:8080/"
        },
        "id": "VR0iDSeSx_sn",
        "outputId": "5c58b0e8-9acc-4de4-87f0-bb8dd7a66d10"
      },
      "execution_count": null,
      "outputs": [
        {
          "output_type": "execute_result",
          "data": {
            "text/plain": [
              "('a m e r i c a n   p h i l l i   c h e e s e s t e a k',\n",
              " ['a',\n",
              "  'm',\n",
              "  'e',\n",
              "  'r',\n",
              "  'i',\n",
              "  'c',\n",
              "  'a',\n",
              "  'n',\n",
              "  '',\n",
              "  '',\n",
              "  'p',\n",
              "  'h',\n",
              "  'i',\n",
              "  'l',\n",
              "  'l',\n",
              "  'i',\n",
              "  '',\n",
              "  '',\n",
              "  'c',\n",
              "  'h',\n",
              "  'e',\n",
              "  'e',\n",
              "  's',\n",
              "  'e',\n",
              "  's',\n",
              "  't',\n",
              "  'e',\n",
              "  'a',\n",
              "  'k'])"
            ]
          },
          "metadata": {},
          "execution_count": 51
        }
      ]
    },
    {
      "cell_type": "markdown",
      "source": [
        "# train learnner"
      ],
      "metadata": {
        "id": "N_EooeW9IBcc"
      }
    },
    {
      "cell_type": "code",
      "source": [
        "import inspect\n",
        "def print_source(obj):\n",
        "    for line in inspect.getsource(obj).split(\"\\n\"):\n",
        "        print(line)\n",
        "\n",
        "print_source(BaseTokenizer)"
      ],
      "metadata": {
        "colab": {
          "base_uri": "https://localhost:8080/"
        },
        "id": "-fC9vqSIiaGn",
        "outputId": "5af4d831-cb5c-4653-cdae-eac860bab684"
      },
      "execution_count": null,
      "outputs": [
        {
          "output_type": "stream",
          "name": "stdout",
          "text": [
            "class BaseTokenizer():\n",
            "    \"Basic tokenizer that just splits on spaces\"\n",
            "    def __init__(self, split_char=' ', **kwargs): self.split_char=split_char\n",
            "    def __call__(self, items): return (t.split(self.split_char) for t in items)\n",
            "\n"
          ]
        }
      ]
    },
    {
      "cell_type": "code",
      "source": [
        "# two ways to work around this: add ' ' for each character, or redefine the tokenizer"
      ],
      "metadata": {
        "id": "iPb3AD38th8s"
      },
      "execution_count": null,
      "outputs": []
    },
    {
      "cell_type": "markdown",
      "source": [
        "let's first do it on the word level"
      ],
      "metadata": {
        "id": "N2IVpuOnrumr"
      }
    },
    {
      "cell_type": "code",
      "source": [
        "# prepare the data for language model\n",
        "dls_lm = TextDataLoaders.from_df(justeat_df, is_lm=True, valid_pct=0.1, shuffle_train=True)"
      ],
      "metadata": {
        "colab": {
          "base_uri": "https://localhost:8080/",
          "height": 17
        },
        "id": "crlEGh50vAc9",
        "outputId": "1f270072-8ff9-41d3-f8d0-b94b3d35ac06"
      },
      "execution_count": null,
      "outputs": [
        {
          "output_type": "display_data",
          "data": {
            "text/plain": [
              "<IPython.core.display.HTML object>"
            ],
            "text/html": [
              "\n",
              "<style>\n",
              "    /* Turns off some styling */\n",
              "    progress {\n",
              "        /* gets rid of default border in Firefox and Opera. */\n",
              "        border: none;\n",
              "        /* Needs to be in here for Safari polyfill so background images work as expected. */\n",
              "        background-size: auto;\n",
              "    }\n",
              "    .progress-bar-interrupted, .progress-bar-interrupted::-webkit-progress-bar {\n",
              "        background: #F44336;\n",
              "    }\n",
              "</style>\n"
            ]
          },
          "metadata": {}
        },
        {
          "output_type": "display_data",
          "data": {
            "text/plain": [
              "<IPython.core.display.HTML object>"
            ],
            "text/html": [
              ""
            ]
          },
          "metadata": {}
        }
      ]
    },
    {
      "cell_type": "code",
      "source": [
        "dls_lm.show_batch(max_n=5)"
      ],
      "metadata": {
        "colab": {
          "base_uri": "https://localhost:8080/",
          "height": 380
        },
        "id": "AfREAFoy1f0j",
        "outputId": "fd245f8f-4322-4a1e-904e-292fe70af35a"
      },
      "execution_count": null,
      "outputs": [
        {
          "output_type": "display_data",
          "data": {
            "text/plain": [
              "<IPython.core.display.HTML object>"
            ],
            "text/html": [
              "<table border=\"1\" class=\"dataframe\">\n",
              "  <thead>\n",
              "    <tr style=\"text-align: right;\">\n",
              "      <th></th>\n",
              "      <th>text</th>\n",
              "      <th>text_</th>\n",
              "    </tr>\n",
              "  </thead>\n",
              "  <tbody>\n",
              "    <tr>\n",
              "      <th>0</th>\n",
              "      <td>xxbos p a p a j o h n ' s - c r a m l i n g t o n xxbos w i c k e d c h i c k e n xxbos s 7 v n ' s xxbos s t a r g r i l l a n d p i z z a h o u s e xxbos c a s a</td>\n",
              "      <td>p a p a j o h n ' s - c r a m l i n g t o n xxbos w i c k e d c h i c k e n xxbos s 7 v n ' s xxbos s t a r g r i l l a n d p i z z a h o u s e xxbos c a s a n</td>\n",
              "    </tr>\n",
              "    <tr>\n",
              "      <th>1</th>\n",
              "      <td>e xxbos f l a m e r s s t a r xxbos s u g a r s h a c k xxbos s u g a r s h a c k xxbos e x p r e s s c h i p p y xxbos h e a v e n l y d e s s e r t s - m a n c h</td>\n",
              "      <td>xxbos f l a m e r s s t a r xxbos s u g a r s h a c k xxbos s u g a r s h a c k xxbos e x p r e s s c h i p p y xxbos h e a v e n l y d e s s e r t s - m a n c h e</td>\n",
              "    </tr>\n",
              "    <tr>\n",
              "      <th>2</th>\n",
              "      <td>d e s s e r t e x p r e s s xxbos s u g a r s h a c k xxbos l a v i t a s p u n t i n i xxbos s u g a r s h a c k xxbos l a v i t a s p u n t i n i xxbos c o s t a</td>\n",
              "      <td>e s s e r t e x p r e s s xxbos s u g a r s h a c k xxbos l a v i t a s p u n t i n i xxbos s u g a r s h a c k xxbos l a v i t a s p u n t i n i xxbos c o s t a -</td>\n",
              "    </tr>\n",
              "    <tr>\n",
              "      <th>3</th>\n",
              "      <td>l e n c a f e xxbos s u g a r s h a c k xxbos m i o i t a l i a n r e s t a u r a n t xxbos l a v i t a s p u n t i n i xxbos b r e a d a n d b u t t e r s a n</td>\n",
              "      <td>e n c a f e xxbos s u g a r s h a c k xxbos m i o i t a l i a n r e s t a u r a n t xxbos l a v i t a s p u n t i n i xxbos b r e a d a n d b u t t e r s a n d</td>\n",
              "    </tr>\n",
              "    <tr>\n",
              "      <th>4</th>\n",
              "      <td>r g e r s xxbos s u g a r s h a c k xxbos g o l d e n b o w l xxbos s u g a r s h a c k xxbos s u b w a y ( r ) w e s t w o o d c r o s s xxbos s u g a r s h a c k</td>\n",
              "      <td>g e r s xxbos s u g a r s h a c k xxbos g o l d e n b o w l xxbos s u g a r s h a c k xxbos s u b w a y ( r ) w e s t w o o d c r o s s xxbos s u g a r s h a c k xxbos</td>\n",
              "    </tr>\n",
              "  </tbody>\n",
              "</table>"
            ]
          },
          "metadata": {}
        }
      ]
    },
    {
      "cell_type": "code",
      "source": [
        "learn = language_model_learner(dls_lm, AWD_LSTM, metrics=[accuracy, Perplexity()], path='', wd=0.1).to_fp16()"
      ],
      "metadata": {
        "id": "7gEszzshKeUE",
        "colab": {
          "base_uri": "https://localhost:8080/",
          "height": 37
        },
        "outputId": "ea437df4-fb6b-46a4-8cc6-5216dccc8034"
      },
      "execution_count": null,
      "outputs": [
        {
          "output_type": "display_data",
          "data": {
            "text/plain": [
              "<IPython.core.display.HTML object>"
            ],
            "text/html": [
              "\n",
              "<style>\n",
              "    /* Turns off some styling */\n",
              "    progress {\n",
              "        /* gets rid of default border in Firefox and Opera. */\n",
              "        border: none;\n",
              "        /* Needs to be in here for Safari polyfill so background images work as expected. */\n",
              "        background-size: auto;\n",
              "    }\n",
              "    .progress-bar-interrupted, .progress-bar-interrupted::-webkit-progress-bar {\n",
              "        background: #F44336;\n",
              "    }\n",
              "</style>\n"
            ]
          },
          "metadata": {}
        },
        {
          "output_type": "display_data",
          "data": {
            "text/plain": [
              "<IPython.core.display.HTML object>"
            ],
            "text/html": [
              "\n",
              "    <div>\n",
              "      <progress value='105070592' class='' max='105067061' style='width:300px; height:20px; vertical-align: middle;'></progress>\n",
              "      100.00% [105070592/105067061 00:09<00:00]\n",
              "    </div>\n",
              "    "
            ]
          },
          "metadata": {}
        }
      ]
    },
    {
      "cell_type": "code",
      "source": [
        "learn.freeze()"
      ],
      "metadata": {
        "id": "nwK-WJCy15bY"
      },
      "execution_count": null,
      "outputs": []
    },
    {
      "cell_type": "code",
      "source": [
        "lr = 1e-1\n",
        "cycles = 25"
      ],
      "metadata": {
        "id": "1vdr3OAL2V3Q"
      },
      "execution_count": null,
      "outputs": []
    },
    {
      "cell_type": "code",
      "source": [
        "learn.fit_one_cycle(cycles, 1e-2)"
      ],
      "metadata": {
        "colab": {
          "base_uri": "https://localhost:8080/",
          "height": 833
        },
        "id": "7FOQ0KnN2af5",
        "outputId": "4087b5db-61aa-409f-a981-2381260f7538"
      },
      "execution_count": null,
      "outputs": [
        {
          "output_type": "display_data",
          "data": {
            "text/plain": [
              "<IPython.core.display.HTML object>"
            ],
            "text/html": [
              "\n",
              "<style>\n",
              "    /* Turns off some styling */\n",
              "    progress {\n",
              "        /* gets rid of default border in Firefox and Opera. */\n",
              "        border: none;\n",
              "        /* Needs to be in here for Safari polyfill so background images work as expected. */\n",
              "        background-size: auto;\n",
              "    }\n",
              "    .progress-bar-interrupted, .progress-bar-interrupted::-webkit-progress-bar {\n",
              "        background: #F44336;\n",
              "    }\n",
              "</style>\n"
            ]
          },
          "metadata": {}
        },
        {
          "output_type": "display_data",
          "data": {
            "text/plain": [
              "<IPython.core.display.HTML object>"
            ],
            "text/html": [
              "<table border=\"1\" class=\"dataframe\">\n",
              "  <thead>\n",
              "    <tr style=\"text-align: left;\">\n",
              "      <th>epoch</th>\n",
              "      <th>train_loss</th>\n",
              "      <th>valid_loss</th>\n",
              "      <th>accuracy</th>\n",
              "      <th>perplexity</th>\n",
              "      <th>time</th>\n",
              "    </tr>\n",
              "  </thead>\n",
              "  <tbody>\n",
              "    <tr>\n",
              "      <td>0</td>\n",
              "      <td>3.571362</td>\n",
              "      <td>2.848798</td>\n",
              "      <td>0.210178</td>\n",
              "      <td>17.267019</td>\n",
              "      <td>00:58</td>\n",
              "    </tr>\n",
              "    <tr>\n",
              "      <td>1</td>\n",
              "      <td>2.689434</td>\n",
              "      <td>2.200784</td>\n",
              "      <td>0.421786</td>\n",
              "      <td>9.032096</td>\n",
              "      <td>00:52</td>\n",
              "    </tr>\n",
              "    <tr>\n",
              "      <td>2</td>\n",
              "      <td>2.197866</td>\n",
              "      <td>1.894918</td>\n",
              "      <td>0.462299</td>\n",
              "      <td>6.652000</td>\n",
              "      <td>00:52</td>\n",
              "    </tr>\n",
              "    <tr>\n",
              "      <td>3</td>\n",
              "      <td>1.997042</td>\n",
              "      <td>1.772271</td>\n",
              "      <td>0.500148</td>\n",
              "      <td>5.884199</td>\n",
              "      <td>00:52</td>\n",
              "    </tr>\n",
              "    <tr>\n",
              "      <td>4</td>\n",
              "      <td>1.889011</td>\n",
              "      <td>1.692256</td>\n",
              "      <td>0.525253</td>\n",
              "      <td>5.431720</td>\n",
              "      <td>00:52</td>\n",
              "    </tr>\n",
              "    <tr>\n",
              "      <td>5</td>\n",
              "      <td>1.853880</td>\n",
              "      <td>1.664009</td>\n",
              "      <td>0.531240</td>\n",
              "      <td>5.280438</td>\n",
              "      <td>00:53</td>\n",
              "    </tr>\n",
              "    <tr>\n",
              "      <td>6</td>\n",
              "      <td>1.845271</td>\n",
              "      <td>1.640307</td>\n",
              "      <td>0.535472</td>\n",
              "      <td>5.156750</td>\n",
              "      <td>00:52</td>\n",
              "    </tr>\n",
              "    <tr>\n",
              "      <td>7</td>\n",
              "      <td>1.811180</td>\n",
              "      <td>1.630448</td>\n",
              "      <td>0.537386</td>\n",
              "      <td>5.106161</td>\n",
              "      <td>00:52</td>\n",
              "    </tr>\n",
              "    <tr>\n",
              "      <td>8</td>\n",
              "      <td>1.796463</td>\n",
              "      <td>1.615561</td>\n",
              "      <td>0.542860</td>\n",
              "      <td>5.030711</td>\n",
              "      <td>00:52</td>\n",
              "    </tr>\n",
              "    <tr>\n",
              "      <td>9</td>\n",
              "      <td>1.802512</td>\n",
              "      <td>1.609512</td>\n",
              "      <td>0.546954</td>\n",
              "      <td>5.000370</td>\n",
              "      <td>00:53</td>\n",
              "    </tr>\n",
              "    <tr>\n",
              "      <td>10</td>\n",
              "      <td>1.794107</td>\n",
              "      <td>1.605426</td>\n",
              "      <td>0.549657</td>\n",
              "      <td>4.979983</td>\n",
              "      <td>00:53</td>\n",
              "    </tr>\n",
              "    <tr>\n",
              "      <td>11</td>\n",
              "      <td>1.780253</td>\n",
              "      <td>1.596520</td>\n",
              "      <td>0.551501</td>\n",
              "      <td>4.935825</td>\n",
              "      <td>00:52</td>\n",
              "    </tr>\n",
              "    <tr>\n",
              "      <td>12</td>\n",
              "      <td>1.781423</td>\n",
              "      <td>1.616700</td>\n",
              "      <td>0.545820</td>\n",
              "      <td>5.036440</td>\n",
              "      <td>00:52</td>\n",
              "    </tr>\n",
              "    <tr>\n",
              "      <td>13</td>\n",
              "      <td>1.793400</td>\n",
              "      <td>1.590364</td>\n",
              "      <td>0.551403</td>\n",
              "      <td>4.905536</td>\n",
              "      <td>00:53</td>\n",
              "    </tr>\n",
              "    <tr>\n",
              "      <td>14</td>\n",
              "      <td>1.758736</td>\n",
              "      <td>1.584367</td>\n",
              "      <td>0.553494</td>\n",
              "      <td>4.876202</td>\n",
              "      <td>00:52</td>\n",
              "    </tr>\n",
              "    <tr>\n",
              "      <td>15</td>\n",
              "      <td>1.769142</td>\n",
              "      <td>1.583587</td>\n",
              "      <td>0.554530</td>\n",
              "      <td>4.872403</td>\n",
              "      <td>00:52</td>\n",
              "    </tr>\n",
              "    <tr>\n",
              "      <td>16</td>\n",
              "      <td>1.774163</td>\n",
              "      <td>1.581090</td>\n",
              "      <td>0.556887</td>\n",
              "      <td>4.860251</td>\n",
              "      <td>00:52</td>\n",
              "    </tr>\n",
              "    <tr>\n",
              "      <td>17</td>\n",
              "      <td>1.764450</td>\n",
              "      <td>1.579066</td>\n",
              "      <td>0.555575</td>\n",
              "      <td>4.850424</td>\n",
              "      <td>00:52</td>\n",
              "    </tr>\n",
              "    <tr>\n",
              "      <td>18</td>\n",
              "      <td>1.768106</td>\n",
              "      <td>1.575185</td>\n",
              "      <td>0.555990</td>\n",
              "      <td>4.831635</td>\n",
              "      <td>00:52</td>\n",
              "    </tr>\n",
              "    <tr>\n",
              "      <td>19</td>\n",
              "      <td>1.764214</td>\n",
              "      <td>1.578322</td>\n",
              "      <td>0.555940</td>\n",
              "      <td>4.846816</td>\n",
              "      <td>00:52</td>\n",
              "    </tr>\n",
              "    <tr>\n",
              "      <td>20</td>\n",
              "      <td>1.757588</td>\n",
              "      <td>1.573398</td>\n",
              "      <td>0.556276</td>\n",
              "      <td>4.823007</td>\n",
              "      <td>00:52</td>\n",
              "    </tr>\n",
              "    <tr>\n",
              "      <td>21</td>\n",
              "      <td>1.761880</td>\n",
              "      <td>1.573651</td>\n",
              "      <td>0.556167</td>\n",
              "      <td>4.824229</td>\n",
              "      <td>00:53</td>\n",
              "    </tr>\n",
              "    <tr>\n",
              "      <td>22</td>\n",
              "      <td>1.758848</td>\n",
              "      <td>1.571925</td>\n",
              "      <td>0.557676</td>\n",
              "      <td>4.815912</td>\n",
              "      <td>00:52</td>\n",
              "    </tr>\n",
              "    <tr>\n",
              "      <td>23</td>\n",
              "      <td>1.773404</td>\n",
              "      <td>1.572630</td>\n",
              "      <td>0.556749</td>\n",
              "      <td>4.819305</td>\n",
              "      <td>00:52</td>\n",
              "    </tr>\n",
              "    <tr>\n",
              "      <td>24</td>\n",
              "      <td>1.760156</td>\n",
              "      <td>1.572597</td>\n",
              "      <td>0.556601</td>\n",
              "      <td>4.819149</td>\n",
              "      <td>00:52</td>\n",
              "    </tr>\n",
              "  </tbody>\n",
              "</table>"
            ]
          },
          "metadata": {}
        }
      ]
    },
    {
      "cell_type": "code",
      "source": [
        "learn.unfreeze()\n",
        "learn.fit_one_cycle(cycles, 1e-3)"
      ],
      "metadata": {
        "id": "uFhGmZBq23Mo",
        "outputId": "d2c19c09-3cde-404a-eeda-93eb59f57ba7",
        "colab": {
          "base_uri": "https://localhost:8080/",
          "height": 833
        }
      },
      "execution_count": null,
      "outputs": [
        {
          "output_type": "display_data",
          "data": {
            "text/plain": [
              "<IPython.core.display.HTML object>"
            ],
            "text/html": [
              "\n",
              "<style>\n",
              "    /* Turns off some styling */\n",
              "    progress {\n",
              "        /* gets rid of default border in Firefox and Opera. */\n",
              "        border: none;\n",
              "        /* Needs to be in here for Safari polyfill so background images work as expected. */\n",
              "        background-size: auto;\n",
              "    }\n",
              "    .progress-bar-interrupted, .progress-bar-interrupted::-webkit-progress-bar {\n",
              "        background: #F44336;\n",
              "    }\n",
              "</style>\n"
            ]
          },
          "metadata": {}
        },
        {
          "output_type": "display_data",
          "data": {
            "text/plain": [
              "<IPython.core.display.HTML object>"
            ],
            "text/html": [
              "<table border=\"1\" class=\"dataframe\">\n",
              "  <thead>\n",
              "    <tr style=\"text-align: left;\">\n",
              "      <th>epoch</th>\n",
              "      <th>train_loss</th>\n",
              "      <th>valid_loss</th>\n",
              "      <th>accuracy</th>\n",
              "      <th>perplexity</th>\n",
              "      <th>time</th>\n",
              "    </tr>\n",
              "  </thead>\n",
              "  <tbody>\n",
              "    <tr>\n",
              "      <td>0</td>\n",
              "      <td>1.637433</td>\n",
              "      <td>1.472437</td>\n",
              "      <td>0.582110</td>\n",
              "      <td>4.359847</td>\n",
              "      <td>00:56</td>\n",
              "    </tr>\n",
              "    <tr>\n",
              "      <td>1</td>\n",
              "      <td>1.488164</td>\n",
              "      <td>1.342599</td>\n",
              "      <td>0.615797</td>\n",
              "      <td>3.828981</td>\n",
              "      <td>00:56</td>\n",
              "    </tr>\n",
              "    <tr>\n",
              "      <td>2</td>\n",
              "      <td>1.348803</td>\n",
              "      <td>1.217488</td>\n",
              "      <td>0.651762</td>\n",
              "      <td>3.378689</td>\n",
              "      <td>00:56</td>\n",
              "    </tr>\n",
              "    <tr>\n",
              "      <td>3</td>\n",
              "      <td>1.239007</td>\n",
              "      <td>1.133287</td>\n",
              "      <td>0.677655</td>\n",
              "      <td>3.105850</td>\n",
              "      <td>00:56</td>\n",
              "    </tr>\n",
              "    <tr>\n",
              "      <td>4</td>\n",
              "      <td>1.154452</td>\n",
              "      <td>1.068019</td>\n",
              "      <td>0.694691</td>\n",
              "      <td>2.909611</td>\n",
              "      <td>00:57</td>\n",
              "    </tr>\n",
              "    <tr>\n",
              "      <td>5</td>\n",
              "      <td>1.096087</td>\n",
              "      <td>1.018433</td>\n",
              "      <td>0.709843</td>\n",
              "      <td>2.768854</td>\n",
              "      <td>00:56</td>\n",
              "    </tr>\n",
              "    <tr>\n",
              "      <td>6</td>\n",
              "      <td>1.045209</td>\n",
              "      <td>0.984167</td>\n",
              "      <td>0.717833</td>\n",
              "      <td>2.675583</td>\n",
              "      <td>00:56</td>\n",
              "    </tr>\n",
              "    <tr>\n",
              "      <td>7</td>\n",
              "      <td>1.012607</td>\n",
              "      <td>0.967644</td>\n",
              "      <td>0.724077</td>\n",
              "      <td>2.631737</td>\n",
              "      <td>00:56</td>\n",
              "    </tr>\n",
              "    <tr>\n",
              "      <td>8</td>\n",
              "      <td>0.979910</td>\n",
              "      <td>0.951266</td>\n",
              "      <td>0.729749</td>\n",
              "      <td>2.588986</td>\n",
              "      <td>00:56</td>\n",
              "    </tr>\n",
              "    <tr>\n",
              "      <td>9</td>\n",
              "      <td>0.949660</td>\n",
              "      <td>0.939789</td>\n",
              "      <td>0.732718</td>\n",
              "      <td>2.559441</td>\n",
              "      <td>00:56</td>\n",
              "    </tr>\n",
              "    <tr>\n",
              "      <td>10</td>\n",
              "      <td>0.924991</td>\n",
              "      <td>0.929743</td>\n",
              "      <td>0.735144</td>\n",
              "      <td>2.533858</td>\n",
              "      <td>00:56</td>\n",
              "    </tr>\n",
              "    <tr>\n",
              "      <td>11</td>\n",
              "      <td>0.904365</td>\n",
              "      <td>0.928515</td>\n",
              "      <td>0.738133</td>\n",
              "      <td>2.530749</td>\n",
              "      <td>00:55</td>\n",
              "    </tr>\n",
              "    <tr>\n",
              "      <td>12</td>\n",
              "      <td>0.882167</td>\n",
              "      <td>0.920781</td>\n",
              "      <td>0.739978</td>\n",
              "      <td>2.511252</td>\n",
              "      <td>00:56</td>\n",
              "    </tr>\n",
              "    <tr>\n",
              "      <td>13</td>\n",
              "      <td>0.869960</td>\n",
              "      <td>0.919694</td>\n",
              "      <td>0.739751</td>\n",
              "      <td>2.508523</td>\n",
              "      <td>00:56</td>\n",
              "    </tr>\n",
              "    <tr>\n",
              "      <td>14</td>\n",
              "      <td>0.845312</td>\n",
              "      <td>0.916062</td>\n",
              "      <td>0.741438</td>\n",
              "      <td>2.499429</td>\n",
              "      <td>00:56</td>\n",
              "    </tr>\n",
              "    <tr>\n",
              "      <td>15</td>\n",
              "      <td>0.833946</td>\n",
              "      <td>0.916681</td>\n",
              "      <td>0.742385</td>\n",
              "      <td>2.500977</td>\n",
              "      <td>00:56</td>\n",
              "    </tr>\n",
              "    <tr>\n",
              "      <td>16</td>\n",
              "      <td>0.828630</td>\n",
              "      <td>0.919042</td>\n",
              "      <td>0.742523</td>\n",
              "      <td>2.506887</td>\n",
              "      <td>00:56</td>\n",
              "    </tr>\n",
              "    <tr>\n",
              "      <td>17</td>\n",
              "      <td>0.807184</td>\n",
              "      <td>0.920509</td>\n",
              "      <td>0.743381</td>\n",
              "      <td>2.510567</td>\n",
              "      <td>00:56</td>\n",
              "    </tr>\n",
              "    <tr>\n",
              "      <td>18</td>\n",
              "      <td>0.796905</td>\n",
              "      <td>0.922045</td>\n",
              "      <td>0.743795</td>\n",
              "      <td>2.514426</td>\n",
              "      <td>00:56</td>\n",
              "    </tr>\n",
              "    <tr>\n",
              "      <td>19</td>\n",
              "      <td>0.789156</td>\n",
              "      <td>0.922455</td>\n",
              "      <td>0.743943</td>\n",
              "      <td>2.515458</td>\n",
              "      <td>00:56</td>\n",
              "    </tr>\n",
              "    <tr>\n",
              "      <td>20</td>\n",
              "      <td>0.788003</td>\n",
              "      <td>0.922166</td>\n",
              "      <td>0.744663</td>\n",
              "      <td>2.514731</td>\n",
              "      <td>00:56</td>\n",
              "    </tr>\n",
              "    <tr>\n",
              "      <td>21</td>\n",
              "      <td>0.787037</td>\n",
              "      <td>0.922239</td>\n",
              "      <td>0.744575</td>\n",
              "      <td>2.514916</td>\n",
              "      <td>00:56</td>\n",
              "    </tr>\n",
              "    <tr>\n",
              "      <td>22</td>\n",
              "      <td>0.771884</td>\n",
              "      <td>0.925572</td>\n",
              "      <td>0.744880</td>\n",
              "      <td>2.523310</td>\n",
              "      <td>00:56</td>\n",
              "    </tr>\n",
              "    <tr>\n",
              "      <td>23</td>\n",
              "      <td>0.781392</td>\n",
              "      <td>0.925124</td>\n",
              "      <td>0.744802</td>\n",
              "      <td>2.522181</td>\n",
              "      <td>00:56</td>\n",
              "    </tr>\n",
              "    <tr>\n",
              "      <td>24</td>\n",
              "      <td>0.771335</td>\n",
              "      <td>0.925155</td>\n",
              "      <td>0.744880</td>\n",
              "      <td>2.522259</td>\n",
              "      <td>00:56</td>\n",
              "    </tr>\n",
              "  </tbody>\n",
              "</table>"
            ]
          },
          "metadata": {}
        }
      ]
    },
    {
      "cell_type": "code",
      "source": [
        "TEXT = \"BOB\"\n",
        "N_WORDS = 40\n",
        "N_SENTENCES = 1\n",
        "preds = [learn.predict(TEXT, N_WORDS, temperature=0.75)\n",
        "         for _ in range(N_SENTENCES)]"
      ],
      "metadata": {
        "id": "CkyrUC8Y26uZ",
        "outputId": "71a4821a-2487-44f8-bced-80f8d805fbce",
        "colab": {
          "base_uri": "https://localhost:8080/",
          "height": 17
        }
      },
      "execution_count": null,
      "outputs": [
        {
          "output_type": "display_data",
          "data": {
            "text/plain": [
              "<IPython.core.display.HTML object>"
            ],
            "text/html": [
              "\n",
              "<style>\n",
              "    /* Turns off some styling */\n",
              "    progress {\n",
              "        /* gets rid of default border in Firefox and Opera. */\n",
              "        border: none;\n",
              "        /* Needs to be in here for Safari polyfill so background images work as expected. */\n",
              "        background-size: auto;\n",
              "    }\n",
              "    .progress-bar-interrupted, .progress-bar-interrupted::-webkit-progress-bar {\n",
              "        background: #F44336;\n",
              "    }\n",
              "</style>\n"
            ]
          },
          "metadata": {}
        },
        {
          "output_type": "display_data",
          "data": {
            "text/plain": [
              "<IPython.core.display.HTML object>"
            ],
            "text/html": [
              ""
            ]
          },
          "metadata": {}
        }
      ]
    },
    {
      "cell_type": "code",
      "source": [
        "preds"
      ],
      "metadata": {
        "id": "zx7NJ8BZ7_aT",
        "outputId": "0e0bdc5b-d895-4a69-bb57-3b7153017e66",
        "colab": {
          "base_uri": "https://localhost:8080/"
        }
      },
      "execution_count": null,
      "outputs": [
        {
          "output_type": "execute_result",
          "data": {
            "text/plain": [
              "['XXUNK 0 r e s t a u r a n t s p i c e o f l i f e s u g a r s h a c k s p i c e']"
            ]
          },
          "metadata": {},
          "execution_count": 27
        }
      ]
    },
    {
      "cell_type": "code",
      "source": [
        "learn.save_encoder('just_eat_enc_210722')"
      ],
      "metadata": {
        "id": "809EuJ7h3JXQ"
      },
      "execution_count": null,
      "outputs": []
    },
    {
      "cell_type": "markdown",
      "source": [
        "# Train a regression model"
      ],
      "metadata": {
        "id": "WA8cwFZt3d_6"
      }
    },
    {
      "cell_type": "code",
      "source": [
        "# loading the data (with both the label and texts)\n",
        "dls_rn = DataBlock(\n",
        "    blocks=(TextBlock.from_df('rest__name_space', tok_text_col=\"rest__name_space\"), RegressionBlock),\n",
        "    get_x=ColReader('rest__name_space'), get_y=ColReader('predict'),\n",
        "    splitter=ColSplitter())"
      ],
      "metadata": {
        "id": "qwBT0zRp3jUB"
      },
      "execution_count": null,
      "outputs": []
    },
    {
      "cell_type": "code",
      "source": [
        "dls = dls_rn.dataloaders(justeat_df)"
      ],
      "metadata": {
        "id": "OIvOMC-4BMtE",
        "outputId": "29897add-94cb-461c-b71c-67a375db0d1c",
        "colab": {
          "base_uri": "https://localhost:8080/",
          "height": 17
        }
      },
      "execution_count": null,
      "outputs": [
        {
          "output_type": "display_data",
          "data": {
            "text/plain": [
              "<IPython.core.display.HTML object>"
            ],
            "text/html": [
              "\n",
              "<style>\n",
              "    /* Turns off some styling */\n",
              "    progress {\n",
              "        /* gets rid of default border in Firefox and Opera. */\n",
              "        border: none;\n",
              "        /* Needs to be in here for Safari polyfill so background images work as expected. */\n",
              "        background-size: auto;\n",
              "    }\n",
              "    .progress-bar-interrupted, .progress-bar-interrupted::-webkit-progress-bar {\n",
              "        background: #F44336;\n",
              "    }\n",
              "</style>\n"
            ]
          },
          "metadata": {}
        },
        {
          "output_type": "display_data",
          "data": {
            "text/plain": [
              "<IPython.core.display.HTML object>"
            ],
            "text/html": [
              ""
            ]
          },
          "metadata": {}
        }
      ]
    },
    {
      "cell_type": "code",
      "source": [
        "dls.show_batch(max_n=3)"
      ],
      "metadata": {
        "id": "V-wyeaQvBpzE",
        "outputId": "329c42c3-094d-498c-ba8d-769d9a28d6ad",
        "colab": {
          "base_uri": "https://localhost:8080/",
          "height": 143
        }
      },
      "execution_count": null,
      "outputs": [
        {
          "output_type": "display_data",
          "data": {
            "text/plain": [
              "<IPython.core.display.HTML object>"
            ],
            "text/html": [
              "<table border=\"1\" class=\"dataframe\">\n",
              "  <thead>\n",
              "    <tr style=\"text-align: right;\">\n",
              "      <th></th>\n",
              "      <th>text</th>\n",
              "      <th>text_</th>\n",
              "    </tr>\n",
              "  </thead>\n",
              "  <tbody>\n",
              "    <tr>\n",
              "      <th>0</th>\n",
              "      <td>xxbos d o u g h a n d c o w o o d f i r e d p i z z a a n d a r t i s a n p a s t a h a l s t e a d</td>\n",
              "      <td>6.180345058441162</td>\n",
              "    </tr>\n",
              "    <tr>\n",
              "      <th>1</th>\n",
              "      <td>xxbos m r c h i p p y - t r a d i t i o n a l f i s h a n d c h i p s , p i z z a a n d k e b a b s</td>\n",
              "      <td>4.048370361328125</td>\n",
              "    </tr>\n",
              "    <tr>\n",
              "      <th>2</th>\n",
              "      <td>xxbos l a r a r e s t a u r a n t - l e b a n e s e a n d m e d i t e r r a n e a n c u i s i n e</td>\n",
              "      <td>6.20351505279541</td>\n",
              "    </tr>\n",
              "  </tbody>\n",
              "</table>"
            ]
          },
          "metadata": {}
        }
      ]
    },
    {
      "cell_type": "code",
      "source": [
        "learn = text_classifier_learner(dls, AWD_LSTM, drop_mult=0.5, metrics=mae)"
      ],
      "metadata": {
        "id": "ph0z2-ry85TU",
        "outputId": "025c2fc6-e76f-48f0-e109-48d7202beeb0",
        "colab": {
          "base_uri": "https://localhost:8080/",
          "height": 37
        }
      },
      "execution_count": null,
      "outputs": [
        {
          "output_type": "display_data",
          "data": {
            "text/plain": [
              "<IPython.core.display.HTML object>"
            ],
            "text/html": [
              "\n",
              "<style>\n",
              "    /* Turns off some styling */\n",
              "    progress {\n",
              "        /* gets rid of default border in Firefox and Opera. */\n",
              "        border: none;\n",
              "        /* Needs to be in here for Safari polyfill so background images work as expected. */\n",
              "        background-size: auto;\n",
              "    }\n",
              "    .progress-bar-interrupted, .progress-bar-interrupted::-webkit-progress-bar {\n",
              "        background: #F44336;\n",
              "    }\n",
              "</style>\n"
            ]
          },
          "metadata": {}
        },
        {
          "output_type": "display_data",
          "data": {
            "text/plain": [
              "<IPython.core.display.HTML object>"
            ],
            "text/html": [
              "\n",
              "    <div>\n",
              "      <progress value='105070592' class='' max='105067061' style='width:300px; height:20px; vertical-align: middle;'></progress>\n",
              "      100.00% [105070592/105067061 00:15<00:00]\n",
              "    </div>\n",
              "    "
            ]
          },
          "metadata": {}
        }
      ]
    },
    {
      "cell_type": "code",
      "source": [
        "learn.load_encoder('just_eat_enc_210722')"
      ],
      "metadata": {
        "id": "v7B0B_XfI9Ve",
        "outputId": "c78a0ddf-7e88-43fe-aad3-77a44d1b59bf",
        "colab": {
          "base_uri": "https://localhost:8080/"
        }
      },
      "execution_count": null,
      "outputs": [
        {
          "output_type": "execute_result",
          "data": {
            "text/plain": [
              "<fastai.text.learner.TextLearner at 0x7f79fff78450>"
            ]
          },
          "metadata": {},
          "execution_count": 23
        }
      ]
    },
    {
      "cell_type": "code",
      "source": [
        "learn.fit_one_cycle(cycles, 2e-2, cbs=[SaveModelCallback(every_epoch=False, fname='learner_c1'),\n",
        "                                       EarlyStoppingCallback(monitor='valid_loss', patience=5)])"
      ],
      "metadata": {
        "id": "jOXWbq32b4Og",
        "outputId": "3952a897-9b74-4230-cf4b-26b74052414a",
        "colab": {
          "base_uri": "https://localhost:8080/",
          "height": 627
        }
      },
      "execution_count": null,
      "outputs": [
        {
          "output_type": "display_data",
          "data": {
            "text/plain": [
              "<IPython.core.display.HTML object>"
            ],
            "text/html": [
              "\n",
              "<style>\n",
              "    /* Turns off some styling */\n",
              "    progress {\n",
              "        /* gets rid of default border in Firefox and Opera. */\n",
              "        border: none;\n",
              "        /* Needs to be in here for Safari polyfill so background images work as expected. */\n",
              "        background-size: auto;\n",
              "    }\n",
              "    .progress-bar-interrupted, .progress-bar-interrupted::-webkit-progress-bar {\n",
              "        background: #F44336;\n",
              "    }\n",
              "</style>\n"
            ]
          },
          "metadata": {}
        },
        {
          "output_type": "display_data",
          "data": {
            "text/plain": [
              "<IPython.core.display.HTML object>"
            ],
            "text/html": [
              "<table border=\"1\" class=\"dataframe\">\n",
              "  <thead>\n",
              "    <tr style=\"text-align: left;\">\n",
              "      <th>epoch</th>\n",
              "      <th>train_loss</th>\n",
              "      <th>valid_loss</th>\n",
              "      <th>mae</th>\n",
              "      <th>time</th>\n",
              "    </tr>\n",
              "  </thead>\n",
              "  <tbody>\n",
              "    <tr>\n",
              "      <td>0</td>\n",
              "      <td>5.273640</td>\n",
              "      <td>2.493701</td>\n",
              "      <td>1.260557</td>\n",
              "      <td>01:29</td>\n",
              "    </tr>\n",
              "    <tr>\n",
              "      <td>1</td>\n",
              "      <td>5.168935</td>\n",
              "      <td>1.849071</td>\n",
              "      <td>1.044082</td>\n",
              "      <td>01:10</td>\n",
              "    </tr>\n",
              "    <tr>\n",
              "      <td>2</td>\n",
              "      <td>4.575679</td>\n",
              "      <td>1.733373</td>\n",
              "      <td>1.020163</td>\n",
              "      <td>01:10</td>\n",
              "    </tr>\n",
              "    <tr>\n",
              "      <td>3</td>\n",
              "      <td>5.237940</td>\n",
              "      <td>1.712487</td>\n",
              "      <td>1.008089</td>\n",
              "      <td>01:15</td>\n",
              "    </tr>\n",
              "    <tr>\n",
              "      <td>4</td>\n",
              "      <td>5.219352</td>\n",
              "      <td>2.214801</td>\n",
              "      <td>1.142539</td>\n",
              "      <td>01:09</td>\n",
              "    </tr>\n",
              "    <tr>\n",
              "      <td>5</td>\n",
              "      <td>5.343300</td>\n",
              "      <td>1.679161</td>\n",
              "      <td>0.985185</td>\n",
              "      <td>01:11</td>\n",
              "    </tr>\n",
              "    <tr>\n",
              "      <td>6</td>\n",
              "      <td>4.837605</td>\n",
              "      <td>1.849862</td>\n",
              "      <td>1.068628</td>\n",
              "      <td>01:16</td>\n",
              "    </tr>\n",
              "    <tr>\n",
              "      <td>7</td>\n",
              "      <td>5.251155</td>\n",
              "      <td>1.639146</td>\n",
              "      <td>0.978537</td>\n",
              "      <td>01:11</td>\n",
              "    </tr>\n",
              "    <tr>\n",
              "      <td>8</td>\n",
              "      <td>5.215017</td>\n",
              "      <td>1.628531</td>\n",
              "      <td>0.979181</td>\n",
              "      <td>01:11</td>\n",
              "    </tr>\n",
              "    <tr>\n",
              "      <td>9</td>\n",
              "      <td>5.132993</td>\n",
              "      <td>1.819925</td>\n",
              "      <td>1.058010</td>\n",
              "      <td>01:14</td>\n",
              "    </tr>\n",
              "    <tr>\n",
              "      <td>10</td>\n",
              "      <td>4.768599</td>\n",
              "      <td>2.073680</td>\n",
              "      <td>1.147058</td>\n",
              "      <td>01:11</td>\n",
              "    </tr>\n",
              "    <tr>\n",
              "      <td>11</td>\n",
              "      <td>5.829666</td>\n",
              "      <td>1.647732</td>\n",
              "      <td>0.984027</td>\n",
              "      <td>01:10</td>\n",
              "    </tr>\n",
              "    <tr>\n",
              "      <td>12</td>\n",
              "      <td>5.144129</td>\n",
              "      <td>1.648134</td>\n",
              "      <td>0.983199</td>\n",
              "      <td>01:12</td>\n",
              "    </tr>\n",
              "    <tr>\n",
              "      <td>13</td>\n",
              "      <td>4.889793</td>\n",
              "      <td>1.741668</td>\n",
              "      <td>1.002659</td>\n",
              "      <td>01:10</td>\n",
              "    </tr>\n",
              "  </tbody>\n",
              "</table>"
            ]
          },
          "metadata": {}
        },
        {
          "output_type": "stream",
          "name": "stdout",
          "text": [
            "Better model found at epoch 0 with valid_loss value: 2.493701219558716.\n",
            "Better model found at epoch 1 with valid_loss value: 1.8490707874298096.\n",
            "Better model found at epoch 2 with valid_loss value: 1.7333734035491943.\n",
            "Better model found at epoch 3 with valid_loss value: 1.7124871015548706.\n",
            "Better model found at epoch 5 with valid_loss value: 1.6791614294052124.\n",
            "Better model found at epoch 7 with valid_loss value: 1.639145851135254.\n",
            "Better model found at epoch 8 with valid_loss value: 1.6285314559936523.\n",
            "No improvement since epoch 8: early stopping\n"
          ]
        }
      ]
    },
    {
      "cell_type": "code",
      "source": [
        "learn.freeze_to(-2)\n",
        "learn.fit_one_cycle(cycles, slice(1e-2/(2.6**4),1e-2),\n",
        "                    cbs=[SaveModelCallback(every_epoch=False,  fname='learner_c2'),\n",
        "                                       EarlyStoppingCallback(monitor='valid_loss', patience=5)])"
      ],
      "metadata": {
        "id": "uHKEfh3oUh0u",
        "outputId": "428d507c-4250-4b37-bdab-13bc02874cac",
        "colab": {
          "base_uri": "https://localhost:8080/",
          "height": 707
        }
      },
      "execution_count": null,
      "outputs": [
        {
          "output_type": "display_data",
          "data": {
            "text/plain": [
              "<IPython.core.display.HTML object>"
            ],
            "text/html": [
              "\n",
              "<style>\n",
              "    /* Turns off some styling */\n",
              "    progress {\n",
              "        /* gets rid of default border in Firefox and Opera. */\n",
              "        border: none;\n",
              "        /* Needs to be in here for Safari polyfill so background images work as expected. */\n",
              "        background-size: auto;\n",
              "    }\n",
              "    .progress-bar-interrupted, .progress-bar-interrupted::-webkit-progress-bar {\n",
              "        background: #F44336;\n",
              "    }\n",
              "</style>\n"
            ]
          },
          "metadata": {}
        },
        {
          "output_type": "display_data",
          "data": {
            "text/plain": [
              "<IPython.core.display.HTML object>"
            ],
            "text/html": [
              "<table border=\"1\" class=\"dataframe\">\n",
              "  <thead>\n",
              "    <tr style=\"text-align: left;\">\n",
              "      <th>epoch</th>\n",
              "      <th>train_loss</th>\n",
              "      <th>valid_loss</th>\n",
              "      <th>mae</th>\n",
              "      <th>time</th>\n",
              "    </tr>\n",
              "  </thead>\n",
              "  <tbody>\n",
              "    <tr>\n",
              "      <td>0</td>\n",
              "      <td>4.081811</td>\n",
              "      <td>1.646856</td>\n",
              "      <td>0.990863</td>\n",
              "      <td>01:15</td>\n",
              "    </tr>\n",
              "    <tr>\n",
              "      <td>1</td>\n",
              "      <td>4.395446</td>\n",
              "      <td>1.551679</td>\n",
              "      <td>0.928496</td>\n",
              "      <td>01:19</td>\n",
              "    </tr>\n",
              "    <tr>\n",
              "      <td>2</td>\n",
              "      <td>5.178613</td>\n",
              "      <td>1.540373</td>\n",
              "      <td>0.950562</td>\n",
              "      <td>01:14</td>\n",
              "    </tr>\n",
              "    <tr>\n",
              "      <td>3</td>\n",
              "      <td>4.862484</td>\n",
              "      <td>1.438420</td>\n",
              "      <td>0.906945</td>\n",
              "      <td>01:12</td>\n",
              "    </tr>\n",
              "    <tr>\n",
              "      <td>4</td>\n",
              "      <td>4.651489</td>\n",
              "      <td>1.405441</td>\n",
              "      <td>0.880793</td>\n",
              "      <td>01:10</td>\n",
              "    </tr>\n",
              "    <tr>\n",
              "      <td>5</td>\n",
              "      <td>4.739217</td>\n",
              "      <td>1.396223</td>\n",
              "      <td>0.885462</td>\n",
              "      <td>01:11</td>\n",
              "    </tr>\n",
              "    <tr>\n",
              "      <td>6</td>\n",
              "      <td>4.961708</td>\n",
              "      <td>1.415473</td>\n",
              "      <td>0.902147</td>\n",
              "      <td>01:11</td>\n",
              "    </tr>\n",
              "    <tr>\n",
              "      <td>7</td>\n",
              "      <td>4.534562</td>\n",
              "      <td>1.462004</td>\n",
              "      <td>0.922941</td>\n",
              "      <td>01:11</td>\n",
              "    </tr>\n",
              "    <tr>\n",
              "      <td>8</td>\n",
              "      <td>4.575267</td>\n",
              "      <td>1.647493</td>\n",
              "      <td>0.981840</td>\n",
              "      <td>01:11</td>\n",
              "    </tr>\n",
              "    <tr>\n",
              "      <td>9</td>\n",
              "      <td>4.243078</td>\n",
              "      <td>1.347472</td>\n",
              "      <td>0.875779</td>\n",
              "      <td>01:10</td>\n",
              "    </tr>\n",
              "    <tr>\n",
              "      <td>10</td>\n",
              "      <td>4.129698</td>\n",
              "      <td>1.319287</td>\n",
              "      <td>0.858800</td>\n",
              "      <td>01:11</td>\n",
              "    </tr>\n",
              "    <tr>\n",
              "      <td>11</td>\n",
              "      <td>4.507683</td>\n",
              "      <td>1.371421</td>\n",
              "      <td>0.871245</td>\n",
              "      <td>01:11</td>\n",
              "    </tr>\n",
              "    <tr>\n",
              "      <td>12</td>\n",
              "      <td>4.301119</td>\n",
              "      <td>1.322717</td>\n",
              "      <td>0.853869</td>\n",
              "      <td>01:10</td>\n",
              "    </tr>\n",
              "    <tr>\n",
              "      <td>13</td>\n",
              "      <td>4.148731</td>\n",
              "      <td>1.438744</td>\n",
              "      <td>0.891905</td>\n",
              "      <td>01:11</td>\n",
              "    </tr>\n",
              "    <tr>\n",
              "      <td>14</td>\n",
              "      <td>3.814871</td>\n",
              "      <td>1.340499</td>\n",
              "      <td>0.850869</td>\n",
              "      <td>01:11</td>\n",
              "    </tr>\n",
              "    <tr>\n",
              "      <td>15</td>\n",
              "      <td>4.114174</td>\n",
              "      <td>1.364305</td>\n",
              "      <td>0.855400</td>\n",
              "      <td>01:11</td>\n",
              "    </tr>\n",
              "  </tbody>\n",
              "</table>"
            ]
          },
          "metadata": {}
        },
        {
          "output_type": "stream",
          "name": "stdout",
          "text": [
            "Better model found at epoch 0 with valid_loss value: 1.6468555927276611.\n",
            "Better model found at epoch 1 with valid_loss value: 1.5516785383224487.\n",
            "Better model found at epoch 2 with valid_loss value: 1.5403730869293213.\n",
            "Better model found at epoch 3 with valid_loss value: 1.4384199380874634.\n",
            "Better model found at epoch 4 with valid_loss value: 1.4054409265518188.\n",
            "Better model found at epoch 5 with valid_loss value: 1.396222710609436.\n",
            "Better model found at epoch 9 with valid_loss value: 1.3474724292755127.\n",
            "Better model found at epoch 10 with valid_loss value: 1.3192873001098633.\n",
            "No improvement since epoch 10: early stopping\n"
          ]
        }
      ]
    },
    {
      "cell_type": "code",
      "source": [
        "learn.freeze_to(-3)\n",
        "learn.fit_one_cycle(cycles, slice(5e-3/(2.6**4),5e-3),\n",
        "                     cbs=[SaveModelCallback(every_epoch=False, fname='learner_c3'),\n",
        "                                       EarlyStoppingCallback(monitor='valid_loss', patience=5)])\n"
      ],
      "metadata": {
        "id": "Si9vkvEXJal_",
        "outputId": "c7599f3f-f636-40a2-b4ff-70d307784bb7",
        "colab": {
          "base_uri": "https://localhost:8080/",
          "height": 272
        }
      },
      "execution_count": null,
      "outputs": [
        {
          "output_type": "display_data",
          "data": {
            "text/plain": [
              "<IPython.core.display.HTML object>"
            ],
            "text/html": [
              "\n",
              "<style>\n",
              "    /* Turns off some styling */\n",
              "    progress {\n",
              "        /* gets rid of default border in Firefox and Opera. */\n",
              "        border: none;\n",
              "        /* Needs to be in here for Safari polyfill so background images work as expected. */\n",
              "        background-size: auto;\n",
              "    }\n",
              "    .progress-bar-interrupted, .progress-bar-interrupted::-webkit-progress-bar {\n",
              "        background: #F44336;\n",
              "    }\n",
              "</style>\n"
            ]
          },
          "metadata": {}
        },
        {
          "output_type": "display_data",
          "data": {
            "text/plain": [
              "<IPython.core.display.HTML object>"
            ],
            "text/html": [
              "<table border=\"1\" class=\"dataframe\">\n",
              "  <thead>\n",
              "    <tr style=\"text-align: left;\">\n",
              "      <th>epoch</th>\n",
              "      <th>train_loss</th>\n",
              "      <th>valid_loss</th>\n",
              "      <th>mae</th>\n",
              "      <th>time</th>\n",
              "    </tr>\n",
              "  </thead>\n",
              "  <tbody>\n",
              "    <tr>\n",
              "      <td>0</td>\n",
              "      <td>4.114789</td>\n",
              "      <td>1.305212</td>\n",
              "      <td>0.848170</td>\n",
              "      <td>01:13</td>\n",
              "    </tr>\n",
              "    <tr>\n",
              "      <td>1</td>\n",
              "      <td>4.017489</td>\n",
              "      <td>1.341423</td>\n",
              "      <td>0.862134</td>\n",
              "      <td>01:13</td>\n",
              "    </tr>\n",
              "    <tr>\n",
              "      <td>2</td>\n",
              "      <td>3.954689</td>\n",
              "      <td>1.326972</td>\n",
              "      <td>0.845968</td>\n",
              "      <td>01:13</td>\n",
              "    </tr>\n",
              "    <tr>\n",
              "      <td>3</td>\n",
              "      <td>3.842458</td>\n",
              "      <td>1.350462</td>\n",
              "      <td>0.851032</td>\n",
              "      <td>01:12</td>\n",
              "    </tr>\n",
              "    <tr>\n",
              "      <td>4</td>\n",
              "      <td>4.842979</td>\n",
              "      <td>1.432468</td>\n",
              "      <td>0.887877</td>\n",
              "      <td>01:13</td>\n",
              "    </tr>\n",
              "    <tr>\n",
              "      <td>5</td>\n",
              "      <td>4.234387</td>\n",
              "      <td>1.511799</td>\n",
              "      <td>0.932408</td>\n",
              "      <td>01:12</td>\n",
              "    </tr>\n",
              "  </tbody>\n",
              "</table>"
            ]
          },
          "metadata": {}
        },
        {
          "output_type": "stream",
          "name": "stdout",
          "text": [
            "Better model found at epoch 0 with valid_loss value: 1.305212140083313.\n",
            "No improvement since epoch 0: early stopping\n"
          ]
        }
      ]
    },
    {
      "cell_type": "code",
      "source": [
        "learn.unfreeze()\n",
        "learn.fit_one_cycle(cycles, slice(1e-3/(2.6**4),1e-3),\n",
        "                     cbs=[SaveModelCallback(every_epoch=False,fname='fastAI_final'),\n",
        "                                       EarlyStoppingCallback(monitor='valid_loss', patience=5)])"
      ],
      "metadata": {
        "id": "pSUDumj4bMWP",
        "outputId": "d32097c7-9daf-475d-eae6-f6d47df6cddf",
        "colab": {
          "base_uri": "https://localhost:8080/",
          "height": 450
        }
      },
      "execution_count": null,
      "outputs": [
        {
          "output_type": "display_data",
          "data": {
            "text/plain": [
              "<IPython.core.display.HTML object>"
            ],
            "text/html": [
              "\n",
              "<style>\n",
              "    /* Turns off some styling */\n",
              "    progress {\n",
              "        /* gets rid of default border in Firefox and Opera. */\n",
              "        border: none;\n",
              "        /* Needs to be in here for Safari polyfill so background images work as expected. */\n",
              "        background-size: auto;\n",
              "    }\n",
              "    .progress-bar-interrupted, .progress-bar-interrupted::-webkit-progress-bar {\n",
              "        background: #F44336;\n",
              "    }\n",
              "</style>\n"
            ]
          },
          "metadata": {}
        },
        {
          "output_type": "display_data",
          "data": {
            "text/plain": [
              "<IPython.core.display.HTML object>"
            ],
            "text/html": [
              "<table border=\"1\" class=\"dataframe\">\n",
              "  <thead>\n",
              "    <tr style=\"text-align: left;\">\n",
              "      <th>epoch</th>\n",
              "      <th>train_loss</th>\n",
              "      <th>valid_loss</th>\n",
              "      <th>mae</th>\n",
              "      <th>time</th>\n",
              "    </tr>\n",
              "  </thead>\n",
              "  <tbody>\n",
              "    <tr>\n",
              "      <td>0</td>\n",
              "      <td>4.068131</td>\n",
              "      <td>1.660407</td>\n",
              "      <td>1.001961</td>\n",
              "      <td>01:17</td>\n",
              "    </tr>\n",
              "    <tr>\n",
              "      <td>1</td>\n",
              "      <td>4.409080</td>\n",
              "      <td>1.653027</td>\n",
              "      <td>0.991417</td>\n",
              "      <td>01:17</td>\n",
              "    </tr>\n",
              "    <tr>\n",
              "      <td>2</td>\n",
              "      <td>4.107059</td>\n",
              "      <td>1.319602</td>\n",
              "      <td>0.853093</td>\n",
              "      <td>01:16</td>\n",
              "    </tr>\n",
              "    <tr>\n",
              "      <td>3</td>\n",
              "      <td>4.526675</td>\n",
              "      <td>1.442450</td>\n",
              "      <td>0.905141</td>\n",
              "      <td>01:17</td>\n",
              "    </tr>\n",
              "    <tr>\n",
              "      <td>4</td>\n",
              "      <td>3.690846</td>\n",
              "      <td>1.269259</td>\n",
              "      <td>0.826558</td>\n",
              "      <td>01:17</td>\n",
              "    </tr>\n",
              "    <tr>\n",
              "      <td>5</td>\n",
              "      <td>4.099947</td>\n",
              "      <td>1.743222</td>\n",
              "      <td>1.011880</td>\n",
              "      <td>01:16</td>\n",
              "    </tr>\n",
              "    <tr>\n",
              "      <td>6</td>\n",
              "      <td>3.460001</td>\n",
              "      <td>1.416874</td>\n",
              "      <td>0.879953</td>\n",
              "      <td>01:17</td>\n",
              "    </tr>\n",
              "    <tr>\n",
              "      <td>7</td>\n",
              "      <td>3.717012</td>\n",
              "      <td>1.303926</td>\n",
              "      <td>0.829704</td>\n",
              "      <td>01:17</td>\n",
              "    </tr>\n",
              "    <tr>\n",
              "      <td>8</td>\n",
              "      <td>4.492030</td>\n",
              "      <td>1.430927</td>\n",
              "      <td>0.866554</td>\n",
              "      <td>01:16</td>\n",
              "    </tr>\n",
              "    <tr>\n",
              "      <td>9</td>\n",
              "      <td>3.933269</td>\n",
              "      <td>1.426816</td>\n",
              "      <td>0.865864</td>\n",
              "      <td>01:17</td>\n",
              "    </tr>\n",
              "  </tbody>\n",
              "</table>"
            ]
          },
          "metadata": {}
        },
        {
          "output_type": "stream",
          "name": "stdout",
          "text": [
            "Better model found at epoch 0 with valid_loss value: 1.6604067087173462.\n",
            "Better model found at epoch 1 with valid_loss value: 1.653026819229126.\n",
            "Better model found at epoch 2 with valid_loss value: 1.319602131843567.\n",
            "Better model found at epoch 4 with valid_loss value: 1.2692593336105347.\n",
            "No improvement since epoch 4: early stopping\n"
          ]
        }
      ]
    },
    {
      "cell_type": "markdown",
      "source": [
        "### calculate the accuracy"
      ],
      "metadata": {
        "id": "6p2FeNvP0iJB"
      }
    },
    {
      "cell_type": "code",
      "source": [
        "test_names = ['X\\'s fish & chip shop', 'Yuru\\'s Pizza & Kebab', 'Yuru\\'s Chinese Takeaways','Yuru\\'s Sushi Takeaways','Yuru\\'s Sushi Restaurant','Yuru\\'s Cocktail Bar',\n",
        "                    'Cambridge Oven','Yo!Sushi','Starbucks','Vanderlyle']\n",
        "\n",
        "def name_cleaning(name):\n",
        "  name = rest_name_cleaning(name)\n",
        "  name = split_chars(name)\n",
        "  return name"
      ],
      "metadata": {
        "id": "U2KSyywdPB0m"
      },
      "execution_count": null,
      "outputs": []
    },
    {
      "cell_type": "code",
      "source": [
        "for name in test_names:\n",
        "  print(f'{name} -> predicted score {learn.predict(name_cleaning(name))[0]}')"
      ],
      "metadata": {
        "id": "0eDTaE8I0g-0",
        "outputId": "c7bdddaf-f88c-4a88-d73e-2a98f6373ed3",
        "colab": {
          "base_uri": "https://localhost:8080/",
          "height": 191
        }
      },
      "execution_count": null,
      "outputs": [
        {
          "output_type": "display_data",
          "data": {
            "text/plain": [
              "<IPython.core.display.HTML object>"
            ],
            "text/html": [
              "\n",
              "<style>\n",
              "    /* Turns off some styling */\n",
              "    progress {\n",
              "        /* gets rid of default border in Firefox and Opera. */\n",
              "        border: none;\n",
              "        /* Needs to be in here for Safari polyfill so background images work as expected. */\n",
              "        background-size: auto;\n",
              "    }\n",
              "    .progress-bar-interrupted, .progress-bar-interrupted::-webkit-progress-bar {\n",
              "        background: #F44336;\n",
              "    }\n",
              "</style>\n"
            ]
          },
          "metadata": {}
        },
        {
          "output_type": "display_data",
          "data": {
            "text/plain": [
              "<IPython.core.display.HTML object>"
            ],
            "text/html": [
              ""
            ]
          },
          "metadata": {}
        },
        {
          "output_type": "stream",
          "name": "stdout",
          "text": [
            "X's fish & chip shop -> predicted score (5.390451908111572,)\n"
          ]
        },
        {
          "output_type": "display_data",
          "data": {
            "text/plain": [
              "<IPython.core.display.HTML object>"
            ],
            "text/html": [
              "\n",
              "<style>\n",
              "    /* Turns off some styling */\n",
              "    progress {\n",
              "        /* gets rid of default border in Firefox and Opera. */\n",
              "        border: none;\n",
              "        /* Needs to be in here for Safari polyfill so background images work as expected. */\n",
              "        background-size: auto;\n",
              "    }\n",
              "    .progress-bar-interrupted, .progress-bar-interrupted::-webkit-progress-bar {\n",
              "        background: #F44336;\n",
              "    }\n",
              "</style>\n"
            ]
          },
          "metadata": {}
        },
        {
          "output_type": "display_data",
          "data": {
            "text/plain": [
              "<IPython.core.display.HTML object>"
            ],
            "text/html": [
              ""
            ]
          },
          "metadata": {}
        },
        {
          "output_type": "stream",
          "name": "stdout",
          "text": [
            "Yuru's Pizza & Kebab -> predicted score (5.252383232116699,)\n"
          ]
        },
        {
          "output_type": "display_data",
          "data": {
            "text/plain": [
              "<IPython.core.display.HTML object>"
            ],
            "text/html": [
              "\n",
              "<style>\n",
              "    /* Turns off some styling */\n",
              "    progress {\n",
              "        /* gets rid of default border in Firefox and Opera. */\n",
              "        border: none;\n",
              "        /* Needs to be in here for Safari polyfill so background images work as expected. */\n",
              "        background-size: auto;\n",
              "    }\n",
              "    .progress-bar-interrupted, .progress-bar-interrupted::-webkit-progress-bar {\n",
              "        background: #F44336;\n",
              "    }\n",
              "</style>\n"
            ]
          },
          "metadata": {}
        },
        {
          "output_type": "display_data",
          "data": {
            "text/plain": [
              "<IPython.core.display.HTML object>"
            ],
            "text/html": [
              ""
            ]
          },
          "metadata": {}
        },
        {
          "output_type": "stream",
          "name": "stdout",
          "text": [
            "Yuru's Chinese Takeaways -> predicted score (6.014825820922852,)\n"
          ]
        },
        {
          "output_type": "display_data",
          "data": {
            "text/plain": [
              "<IPython.core.display.HTML object>"
            ],
            "text/html": [
              "\n",
              "<style>\n",
              "    /* Turns off some styling */\n",
              "    progress {\n",
              "        /* gets rid of default border in Firefox and Opera. */\n",
              "        border: none;\n",
              "        /* Needs to be in here for Safari polyfill so background images work as expected. */\n",
              "        background-size: auto;\n",
              "    }\n",
              "    .progress-bar-interrupted, .progress-bar-interrupted::-webkit-progress-bar {\n",
              "        background: #F44336;\n",
              "    }\n",
              "</style>\n"
            ]
          },
          "metadata": {}
        },
        {
          "output_type": "display_data",
          "data": {
            "text/plain": [
              "<IPython.core.display.HTML object>"
            ],
            "text/html": [
              ""
            ]
          },
          "metadata": {}
        },
        {
          "output_type": "stream",
          "name": "stdout",
          "text": [
            "Yuru's Sushi Takeaways -> predicted score (7.606594562530518,)\n"
          ]
        },
        {
          "output_type": "display_data",
          "data": {
            "text/plain": [
              "<IPython.core.display.HTML object>"
            ],
            "text/html": [
              "\n",
              "<style>\n",
              "    /* Turns off some styling */\n",
              "    progress {\n",
              "        /* gets rid of default border in Firefox and Opera. */\n",
              "        border: none;\n",
              "        /* Needs to be in here for Safari polyfill so background images work as expected. */\n",
              "        background-size: auto;\n",
              "    }\n",
              "    .progress-bar-interrupted, .progress-bar-interrupted::-webkit-progress-bar {\n",
              "        background: #F44336;\n",
              "    }\n",
              "</style>\n"
            ]
          },
          "metadata": {}
        },
        {
          "output_type": "display_data",
          "data": {
            "text/plain": [
              "<IPython.core.display.HTML object>"
            ],
            "text/html": [
              ""
            ]
          },
          "metadata": {}
        },
        {
          "output_type": "stream",
          "name": "stdout",
          "text": [
            "Yuru's Sushi Restaurant -> predicted score (8.99078369140625,)\n"
          ]
        },
        {
          "output_type": "display_data",
          "data": {
            "text/plain": [
              "<IPython.core.display.HTML object>"
            ],
            "text/html": [
              "\n",
              "<style>\n",
              "    /* Turns off some styling */\n",
              "    progress {\n",
              "        /* gets rid of default border in Firefox and Opera. */\n",
              "        border: none;\n",
              "        /* Needs to be in here for Safari polyfill so background images work as expected. */\n",
              "        background-size: auto;\n",
              "    }\n",
              "    .progress-bar-interrupted, .progress-bar-interrupted::-webkit-progress-bar {\n",
              "        background: #F44336;\n",
              "    }\n",
              "</style>\n"
            ]
          },
          "metadata": {}
        },
        {
          "output_type": "display_data",
          "data": {
            "text/plain": [
              "<IPython.core.display.HTML object>"
            ],
            "text/html": [
              ""
            ]
          },
          "metadata": {}
        },
        {
          "output_type": "stream",
          "name": "stdout",
          "text": [
            "Yuru's Cocktail Bar -> predicted score (7.311500072479248,)\n"
          ]
        },
        {
          "output_type": "display_data",
          "data": {
            "text/plain": [
              "<IPython.core.display.HTML object>"
            ],
            "text/html": [
              "\n",
              "<style>\n",
              "    /* Turns off some styling */\n",
              "    progress {\n",
              "        /* gets rid of default border in Firefox and Opera. */\n",
              "        border: none;\n",
              "        /* Needs to be in here for Safari polyfill so background images work as expected. */\n",
              "        background-size: auto;\n",
              "    }\n",
              "    .progress-bar-interrupted, .progress-bar-interrupted::-webkit-progress-bar {\n",
              "        background: #F44336;\n",
              "    }\n",
              "</style>\n"
            ]
          },
          "metadata": {}
        },
        {
          "output_type": "display_data",
          "data": {
            "text/plain": [
              "<IPython.core.display.HTML object>"
            ],
            "text/html": [
              ""
            ]
          },
          "metadata": {}
        },
        {
          "output_type": "stream",
          "name": "stdout",
          "text": [
            "Cambridge Oven -> predicted score (7.615094184875488,)\n"
          ]
        },
        {
          "output_type": "display_data",
          "data": {
            "text/plain": [
              "<IPython.core.display.HTML object>"
            ],
            "text/html": [
              "\n",
              "<style>\n",
              "    /* Turns off some styling */\n",
              "    progress {\n",
              "        /* gets rid of default border in Firefox and Opera. */\n",
              "        border: none;\n",
              "        /* Needs to be in here for Safari polyfill so background images work as expected. */\n",
              "        background-size: auto;\n",
              "    }\n",
              "    .progress-bar-interrupted, .progress-bar-interrupted::-webkit-progress-bar {\n",
              "        background: #F44336;\n",
              "    }\n",
              "</style>\n"
            ]
          },
          "metadata": {}
        },
        {
          "output_type": "display_data",
          "data": {
            "text/plain": [
              "<IPython.core.display.HTML object>"
            ],
            "text/html": [
              ""
            ]
          },
          "metadata": {}
        },
        {
          "output_type": "stream",
          "name": "stdout",
          "text": [
            "Yo!Sushi -> predicted score (9.116042137145996,)\n"
          ]
        },
        {
          "output_type": "display_data",
          "data": {
            "text/plain": [
              "<IPython.core.display.HTML object>"
            ],
            "text/html": [
              "\n",
              "<style>\n",
              "    /* Turns off some styling */\n",
              "    progress {\n",
              "        /* gets rid of default border in Firefox and Opera. */\n",
              "        border: none;\n",
              "        /* Needs to be in here for Safari polyfill so background images work as expected. */\n",
              "        background-size: auto;\n",
              "    }\n",
              "    .progress-bar-interrupted, .progress-bar-interrupted::-webkit-progress-bar {\n",
              "        background: #F44336;\n",
              "    }\n",
              "</style>\n"
            ]
          },
          "metadata": {}
        },
        {
          "output_type": "display_data",
          "data": {
            "text/plain": [
              "<IPython.core.display.HTML object>"
            ],
            "text/html": [
              ""
            ]
          },
          "metadata": {}
        },
        {
          "output_type": "stream",
          "name": "stdout",
          "text": [
            "Starbucks -> predicted score (6.871275901794434,)\n"
          ]
        },
        {
          "output_type": "display_data",
          "data": {
            "text/plain": [
              "<IPython.core.display.HTML object>"
            ],
            "text/html": [
              "\n",
              "<style>\n",
              "    /* Turns off some styling */\n",
              "    progress {\n",
              "        /* gets rid of default border in Firefox and Opera. */\n",
              "        border: none;\n",
              "        /* Needs to be in here for Safari polyfill so background images work as expected. */\n",
              "        background-size: auto;\n",
              "    }\n",
              "    .progress-bar-interrupted, .progress-bar-interrupted::-webkit-progress-bar {\n",
              "        background: #F44336;\n",
              "    }\n",
              "</style>\n"
            ]
          },
          "metadata": {}
        },
        {
          "output_type": "display_data",
          "data": {
            "text/plain": [
              "<IPython.core.display.HTML object>"
            ],
            "text/html": [
              ""
            ]
          },
          "metadata": {}
        },
        {
          "output_type": "stream",
          "name": "stdout",
          "text": [
            "Vanderlyle -> predicted score (7.681985378265381,)\n"
          ]
        }
      ]
    },
    {
      "cell_type": "code",
      "source": [
        "# evaluate model\n",
        "preds,targs = learn.get_preds()"
      ],
      "metadata": {
        "id": "TCiEMnqAjFMi",
        "outputId": "f8aeac93-2f6e-4494-d479-c9bd3241bcc0",
        "colab": {
          "base_uri": "https://localhost:8080/",
          "height": 17
        }
      },
      "execution_count": null,
      "outputs": [
        {
          "output_type": "display_data",
          "data": {
            "text/plain": [
              "<IPython.core.display.HTML object>"
            ],
            "text/html": [
              "\n",
              "<style>\n",
              "    /* Turns off some styling */\n",
              "    progress {\n",
              "        /* gets rid of default border in Firefox and Opera. */\n",
              "        border: none;\n",
              "        /* Needs to be in here for Safari polyfill so background images work as expected. */\n",
              "        background-size: auto;\n",
              "    }\n",
              "    .progress-bar-interrupted, .progress-bar-interrupted::-webkit-progress-bar {\n",
              "        background: #F44336;\n",
              "    }\n",
              "</style>\n"
            ]
          },
          "metadata": {}
        },
        {
          "output_type": "display_data",
          "data": {
            "text/plain": [
              "<IPython.core.display.HTML object>"
            ],
            "text/html": [
              ""
            ]
          },
          "metadata": {}
        }
      ]
    },
    {
      "cell_type": "code",
      "source": [
        "import tensorflow as tf\n",
        "\n",
        "tf.squeeze(preds).shape, targs.shape"
      ],
      "metadata": {
        "id": "92jLDGSskBjY",
        "outputId": "f74f5ed0-7b19-4749-81be-57cb4216435f",
        "colab": {
          "base_uri": "https://localhost:8080/"
        }
      },
      "execution_count": null,
      "outputs": [
        {
          "output_type": "execute_result",
          "data": {
            "text/plain": [
              "(TensorShape([5458]), torch.Size([5458]))"
            ]
          },
          "metadata": {},
          "execution_count": 42
        }
      ]
    },
    {
      "cell_type": "code",
      "source": [
        "# how well does it perform on the test data\n",
        "from sklearn.metrics import mean_absolute_error\n",
        "preds_s = tf.squeeze(preds)\n",
        "mean_absolute_error(preds_s, targs)"
      ],
      "metadata": {
        "id": "3KxHLksokJRA",
        "outputId": "a4a6a98c-8fc6-4bdd-e281-72e8b77503b5",
        "colab": {
          "base_uri": "https://localhost:8080/"
        }
      },
      "execution_count": null,
      "outputs": [
        {
          "output_type": "execute_result",
          "data": {
            "text/plain": [
              "0.82655823"
            ]
          },
          "metadata": {},
          "execution_count": 43
        }
      ]
    },
    {
      "cell_type": "code",
      "source": [
        "learn.export('fastAI_final_220722.pkl')"
      ],
      "metadata": {
        "id": "DdGjGaeGlqAB"
      },
      "execution_count": null,
      "outputs": []
    },
    {
      "cell_type": "markdown",
      "source": [
        "# Make predictions with POI data"
      ],
      "metadata": {
        "id": "3qXldDo_m1H2"
      }
    },
    {
      "cell_type": "code",
      "source": [
        "# read in test data\n",
        "import rpy2.robjects as robjects\n",
        "from rpy2.robjects import pandas2ri\n",
        "readRDS = robjects.r['readRDS']\n",
        "poi = readRDS('food_outlets_os.rds')\n",
        "poi_df= pandas2ri.rpy2py_dataframe(poi)"
      ],
      "metadata": {
        "id": "Fa7fVI2km0VT"
      },
      "execution_count": null,
      "outputs": []
    },
    {
      "cell_type": "code",
      "source": [
        "poi_df.head()"
      ],
      "metadata": {
        "id": "QV92Jeo3uJyj",
        "outputId": "3fd04cbb-9ee2-4631-eba2-5b5c2658e7cf",
        "colab": {
          "base_uri": "https://localhost:8080/",
          "height": 543
        }
      },
      "execution_count": null,
      "outputs": [
        {
          "output_type": "execute_result",
          "data": {
            "text/plain": [
              "     ref_no                                   name pointx_class  \\\n",
              "1  18857205       Welcome Break (Charnock Richard)      1020043   \n",
              "2  20078819         Welcome Break (Hartshead Moor)      1020043   \n",
              "3  18857213  Welcome Break (Leicester Forest East)      1020043   \n",
              "4  18857223     Welcome Break (Warwick Northbound)      1020043   \n",
              "5  18857202               Welcome Break (Abington)      1020043   \n",
              "\n",
              "   feature_easting  feature_northing  pos_accuracy           uprn  \\\n",
              "1         354292.7          415048.2             1  9.881514e-313   \n",
              "2         416830.0          424112.0             1  -0.000000e+00   \n",
              "3         453839.0          302654.0             1  4.941265e-314   \n",
              "4         433887.1          257699.7             1  4.944190e-313   \n",
              "5         292990.0          625056.0             1  2.391880e-315   \n",
              "\n",
              "              topo_toid  topo_toid_version      usrn  ...  postcode  \\\n",
              "1     osgb1000037990682                  8   7401293  ...   PR7 5LR   \n",
              "2     osgb1000031997248                  5   5302432  ...   HD6 4JX   \n",
              "3  osgb5000005161729586                  1   2800041  ...   LE3 3GB   \n",
              "4     osgb1000017044508                 11  38303184  ...  CV35 0AA   \n",
              "5     osgb1000036194809                 14  48306610  ...  ML12 6RG   \n",
              "\n",
              "               admin_boundary telephone_number                     url  \\\n",
              "1            Chorley District             -0.0  www.welcomebreak.co.uk   \n",
              "2         Calderdale District             -0.0  www.welcomebreak.co.uk   \n",
              "3              Blaby District             -0.0  www.welcomebreak.co.uk   \n",
              "4  Stratford-on-Avon District             -0.0  www.welcomebreak.co.uk   \n",
              "5           South Lanarkshire             -0.0  www.welcomebreak.co.uk   \n",
              "\n",
              "           brand   qualifier_type qualifier_data               provenance  \\\n",
              "1  Welcome Break  Restaurant Type       Roadside  Welcome Break Group Ltd   \n",
              "2  Welcome Break  Restaurant Type       Roadside  Welcome Break Group Ltd   \n",
              "3  Welcome Break  Restaurant Type       Roadside  Welcome Break Group Ltd   \n",
              "4  Welcome Break  Restaurant Type       Roadside  Welcome Break Group Ltd   \n",
              "5  Welcome Break  Restaurant Type       Roadside  Welcome Break Group Ltd   \n",
              "\n",
              "   supply_date         type  \n",
              "1        18687  restaurants  \n",
              "2        18687  restaurants  \n",
              "3        18687  restaurants  \n",
              "4        18687  restaurants  \n",
              "5        18687  restaurants  \n",
              "\n",
              "[5 rows x 26 columns]"
            ],
            "text/html": [
              "\n",
              "  <div id=\"df-bc063499-965c-4d01-94ba-b965bbd23595\">\n",
              "    <div class=\"colab-df-container\">\n",
              "      <div>\n",
              "<style scoped>\n",
              "    .dataframe tbody tr th:only-of-type {\n",
              "        vertical-align: middle;\n",
              "    }\n",
              "\n",
              "    .dataframe tbody tr th {\n",
              "        vertical-align: top;\n",
              "    }\n",
              "\n",
              "    .dataframe thead th {\n",
              "        text-align: right;\n",
              "    }\n",
              "</style>\n",
              "<table border=\"1\" class=\"dataframe\">\n",
              "  <thead>\n",
              "    <tr style=\"text-align: right;\">\n",
              "      <th></th>\n",
              "      <th>ref_no</th>\n",
              "      <th>name</th>\n",
              "      <th>pointx_class</th>\n",
              "      <th>feature_easting</th>\n",
              "      <th>feature_northing</th>\n",
              "      <th>pos_accuracy</th>\n",
              "      <th>uprn</th>\n",
              "      <th>topo_toid</th>\n",
              "      <th>topo_toid_version</th>\n",
              "      <th>usrn</th>\n",
              "      <th>...</th>\n",
              "      <th>postcode</th>\n",
              "      <th>admin_boundary</th>\n",
              "      <th>telephone_number</th>\n",
              "      <th>url</th>\n",
              "      <th>brand</th>\n",
              "      <th>qualifier_type</th>\n",
              "      <th>qualifier_data</th>\n",
              "      <th>provenance</th>\n",
              "      <th>supply_date</th>\n",
              "      <th>type</th>\n",
              "    </tr>\n",
              "  </thead>\n",
              "  <tbody>\n",
              "    <tr>\n",
              "      <th>1</th>\n",
              "      <td>18857205</td>\n",
              "      <td>Welcome Break (Charnock Richard)</td>\n",
              "      <td>1020043</td>\n",
              "      <td>354292.7</td>\n",
              "      <td>415048.2</td>\n",
              "      <td>1</td>\n",
              "      <td>9.881514e-313</td>\n",
              "      <td>osgb1000037990682</td>\n",
              "      <td>8</td>\n",
              "      <td>7401293</td>\n",
              "      <td>...</td>\n",
              "      <td>PR7 5LR</td>\n",
              "      <td>Chorley District</td>\n",
              "      <td>-0.0</td>\n",
              "      <td>www.welcomebreak.co.uk</td>\n",
              "      <td>Welcome Break</td>\n",
              "      <td>Restaurant Type</td>\n",
              "      <td>Roadside</td>\n",
              "      <td>Welcome Break Group Ltd</td>\n",
              "      <td>18687</td>\n",
              "      <td>restaurants</td>\n",
              "    </tr>\n",
              "    <tr>\n",
              "      <th>2</th>\n",
              "      <td>20078819</td>\n",
              "      <td>Welcome Break (Hartshead Moor)</td>\n",
              "      <td>1020043</td>\n",
              "      <td>416830.0</td>\n",
              "      <td>424112.0</td>\n",
              "      <td>1</td>\n",
              "      <td>-0.000000e+00</td>\n",
              "      <td>osgb1000031997248</td>\n",
              "      <td>5</td>\n",
              "      <td>5302432</td>\n",
              "      <td>...</td>\n",
              "      <td>HD6 4JX</td>\n",
              "      <td>Calderdale District</td>\n",
              "      <td>-0.0</td>\n",
              "      <td>www.welcomebreak.co.uk</td>\n",
              "      <td>Welcome Break</td>\n",
              "      <td>Restaurant Type</td>\n",
              "      <td>Roadside</td>\n",
              "      <td>Welcome Break Group Ltd</td>\n",
              "      <td>18687</td>\n",
              "      <td>restaurants</td>\n",
              "    </tr>\n",
              "    <tr>\n",
              "      <th>3</th>\n",
              "      <td>18857213</td>\n",
              "      <td>Welcome Break (Leicester Forest East)</td>\n",
              "      <td>1020043</td>\n",
              "      <td>453839.0</td>\n",
              "      <td>302654.0</td>\n",
              "      <td>1</td>\n",
              "      <td>4.941265e-314</td>\n",
              "      <td>osgb5000005161729586</td>\n",
              "      <td>1</td>\n",
              "      <td>2800041</td>\n",
              "      <td>...</td>\n",
              "      <td>LE3 3GB</td>\n",
              "      <td>Blaby District</td>\n",
              "      <td>-0.0</td>\n",
              "      <td>www.welcomebreak.co.uk</td>\n",
              "      <td>Welcome Break</td>\n",
              "      <td>Restaurant Type</td>\n",
              "      <td>Roadside</td>\n",
              "      <td>Welcome Break Group Ltd</td>\n",
              "      <td>18687</td>\n",
              "      <td>restaurants</td>\n",
              "    </tr>\n",
              "    <tr>\n",
              "      <th>4</th>\n",
              "      <td>18857223</td>\n",
              "      <td>Welcome Break (Warwick Northbound)</td>\n",
              "      <td>1020043</td>\n",
              "      <td>433887.1</td>\n",
              "      <td>257699.7</td>\n",
              "      <td>1</td>\n",
              "      <td>4.944190e-313</td>\n",
              "      <td>osgb1000017044508</td>\n",
              "      <td>11</td>\n",
              "      <td>38303184</td>\n",
              "      <td>...</td>\n",
              "      <td>CV35 0AA</td>\n",
              "      <td>Stratford-on-Avon District</td>\n",
              "      <td>-0.0</td>\n",
              "      <td>www.welcomebreak.co.uk</td>\n",
              "      <td>Welcome Break</td>\n",
              "      <td>Restaurant Type</td>\n",
              "      <td>Roadside</td>\n",
              "      <td>Welcome Break Group Ltd</td>\n",
              "      <td>18687</td>\n",
              "      <td>restaurants</td>\n",
              "    </tr>\n",
              "    <tr>\n",
              "      <th>5</th>\n",
              "      <td>18857202</td>\n",
              "      <td>Welcome Break (Abington)</td>\n",
              "      <td>1020043</td>\n",
              "      <td>292990.0</td>\n",
              "      <td>625056.0</td>\n",
              "      <td>1</td>\n",
              "      <td>2.391880e-315</td>\n",
              "      <td>osgb1000036194809</td>\n",
              "      <td>14</td>\n",
              "      <td>48306610</td>\n",
              "      <td>...</td>\n",
              "      <td>ML12 6RG</td>\n",
              "      <td>South Lanarkshire</td>\n",
              "      <td>-0.0</td>\n",
              "      <td>www.welcomebreak.co.uk</td>\n",
              "      <td>Welcome Break</td>\n",
              "      <td>Restaurant Type</td>\n",
              "      <td>Roadside</td>\n",
              "      <td>Welcome Break Group Ltd</td>\n",
              "      <td>18687</td>\n",
              "      <td>restaurants</td>\n",
              "    </tr>\n",
              "  </tbody>\n",
              "</table>\n",
              "<p>5 rows × 26 columns</p>\n",
              "</div>\n",
              "      <button class=\"colab-df-convert\" onclick=\"convertToInteractive('df-bc063499-965c-4d01-94ba-b965bbd23595')\"\n",
              "              title=\"Convert this dataframe to an interactive table.\"\n",
              "              style=\"display:none;\">\n",
              "        \n",
              "  <svg xmlns=\"http://www.w3.org/2000/svg\" height=\"24px\"viewBox=\"0 0 24 24\"\n",
              "       width=\"24px\">\n",
              "    <path d=\"M0 0h24v24H0V0z\" fill=\"none\"/>\n",
              "    <path d=\"M18.56 5.44l.94 2.06.94-2.06 2.06-.94-2.06-.94-.94-2.06-.94 2.06-2.06.94zm-11 1L8.5 8.5l.94-2.06 2.06-.94-2.06-.94L8.5 2.5l-.94 2.06-2.06.94zm10 10l.94 2.06.94-2.06 2.06-.94-2.06-.94-.94-2.06-.94 2.06-2.06.94z\"/><path d=\"M17.41 7.96l-1.37-1.37c-.4-.4-.92-.59-1.43-.59-.52 0-1.04.2-1.43.59L10.3 9.45l-7.72 7.72c-.78.78-.78 2.05 0 2.83L4 21.41c.39.39.9.59 1.41.59.51 0 1.02-.2 1.41-.59l7.78-7.78 2.81-2.81c.8-.78.8-2.07 0-2.86zM5.41 20L4 18.59l7.72-7.72 1.47 1.35L5.41 20z\"/>\n",
              "  </svg>\n",
              "      </button>\n",
              "      \n",
              "  <style>\n",
              "    .colab-df-container {\n",
              "      display:flex;\n",
              "      flex-wrap:wrap;\n",
              "      gap: 12px;\n",
              "    }\n",
              "\n",
              "    .colab-df-convert {\n",
              "      background-color: #E8F0FE;\n",
              "      border: none;\n",
              "      border-radius: 50%;\n",
              "      cursor: pointer;\n",
              "      display: none;\n",
              "      fill: #1967D2;\n",
              "      height: 32px;\n",
              "      padding: 0 0 0 0;\n",
              "      width: 32px;\n",
              "    }\n",
              "\n",
              "    .colab-df-convert:hover {\n",
              "      background-color: #E2EBFA;\n",
              "      box-shadow: 0px 1px 2px rgba(60, 64, 67, 0.3), 0px 1px 3px 1px rgba(60, 64, 67, 0.15);\n",
              "      fill: #174EA6;\n",
              "    }\n",
              "\n",
              "    [theme=dark] .colab-df-convert {\n",
              "      background-color: #3B4455;\n",
              "      fill: #D2E3FC;\n",
              "    }\n",
              "\n",
              "    [theme=dark] .colab-df-convert:hover {\n",
              "      background-color: #434B5C;\n",
              "      box-shadow: 0px 1px 3px 1px rgba(0, 0, 0, 0.15);\n",
              "      filter: drop-shadow(0px 1px 2px rgba(0, 0, 0, 0.3));\n",
              "      fill: #FFFFFF;\n",
              "    }\n",
              "  </style>\n",
              "\n",
              "      <script>\n",
              "        const buttonEl =\n",
              "          document.querySelector('#df-bc063499-965c-4d01-94ba-b965bbd23595 button.colab-df-convert');\n",
              "        buttonEl.style.display =\n",
              "          google.colab.kernel.accessAllowed ? 'block' : 'none';\n",
              "\n",
              "        async function convertToInteractive(key) {\n",
              "          const element = document.querySelector('#df-bc063499-965c-4d01-94ba-b965bbd23595');\n",
              "          const dataTable =\n",
              "            await google.colab.kernel.invokeFunction('convertToInteractive',\n",
              "                                                     [key], {});\n",
              "          if (!dataTable) return;\n",
              "\n",
              "          const docLinkHtml = 'Like what you see? Visit the ' +\n",
              "            '<a target=\"_blank\" href=https://colab.research.google.com/notebooks/data_table.ipynb>data table notebook</a>'\n",
              "            + ' to learn more about interactive tables.';\n",
              "          element.innerHTML = '';\n",
              "          dataTable['output_type'] = 'display_data';\n",
              "          await google.colab.output.renderOutput(dataTable, element);\n",
              "          const docLink = document.createElement('div');\n",
              "          docLink.innerHTML = docLinkHtml;\n",
              "          element.appendChild(docLink);\n",
              "        }\n",
              "      </script>\n",
              "    </div>\n",
              "  </div>\n",
              "  "
            ]
          },
          "metadata": {},
          "execution_count": 65
        }
      ]
    },
    {
      "cell_type": "code",
      "source": [
        "poi_df['rest_name_space'] = poi_df.name.apply(rest_name_cleaning).apply(split_chars)"
      ],
      "metadata": {
        "id": "wowraCCXuGnV"
      },
      "execution_count": null,
      "outputs": []
    },
    {
      "cell_type": "code",
      "source": [
        "poi_df[['name','rest_name_space']].iloc[1,1]"
      ],
      "metadata": {
        "id": "jOZnDV0vv_TN",
        "outputId": "3a8f8272-57e2-465b-b2d9-aca6c0324923",
        "colab": {
          "base_uri": "https://localhost:8080/",
          "height": 35
        }
      },
      "execution_count": null,
      "outputs": [
        {
          "output_type": "execute_result",
          "data": {
            "text/plain": [
              "'w e l c o m e   b r e a k   ( h a r t s h e a d   m o o r )'"
            ],
            "application/vnd.google.colaboratory.intrinsic+json": {
              "type": "string"
            }
          },
          "metadata": {},
          "execution_count": 81
        }
      ]
    },
    {
      "cell_type": "code",
      "source": [
        "poi_df_for_pred = poi_df['rest_name_space']"
      ],
      "metadata": {
        "id": "wXJF0cBwuViO"
      },
      "execution_count": null,
      "outputs": []
    },
    {
      "cell_type": "code",
      "source": [
        "# load the data using the same dataloader\n",
        "def get_preds_from_series(s: pd.Series, learner: Learner):\n",
        "    # test_dl creates a new testing DataLoader\n",
        "    # using the pd.Series of text inputs\n",
        "    dl_test   = learner.dls.test_dl(s)\n",
        "    preds     = learner.get_preds(dl=dl_test)\n",
        "\n",
        "    return preds[0].numpy().flatten()"
      ],
      "metadata": {
        "id": "i7TPw2sUso8t"
      },
      "execution_count": null,
      "outputs": []
    },
    {
      "cell_type": "code",
      "source": [
        "poi_df['fastai_pred']= get_preds_from_series(poi_df_for_pred,learn)"
      ],
      "metadata": {
        "id": "YTeKJrFyuDjl",
        "outputId": "4f4425af-ef24-45b7-8477-1acac8ab159b",
        "colab": {
          "base_uri": "https://localhost:8080/",
          "height": 17
        }
      },
      "execution_count": null,
      "outputs": [
        {
          "output_type": "display_data",
          "data": {
            "text/plain": [
              "<IPython.core.display.HTML object>"
            ],
            "text/html": [
              "\n",
              "<style>\n",
              "    /* Turns off some styling */\n",
              "    progress {\n",
              "        /* gets rid of default border in Firefox and Opera. */\n",
              "        border: none;\n",
              "        /* Needs to be in here for Safari polyfill so background images work as expected. */\n",
              "        background-size: auto;\n",
              "    }\n",
              "    .progress-bar-interrupted, .progress-bar-interrupted::-webkit-progress-bar {\n",
              "        background: #F44336;\n",
              "    }\n",
              "</style>\n"
            ]
          },
          "metadata": {}
        },
        {
          "output_type": "display_data",
          "data": {
            "text/plain": [
              "<IPython.core.display.HTML object>"
            ],
            "text/html": [
              ""
            ]
          },
          "metadata": {}
        }
      ]
    },
    {
      "cell_type": "code",
      "source": [
        "poi_df[['name','rest_name_space','fastai_pred']].sample(n=5)"
      ],
      "metadata": {
        "id": "u5RvvUKKvmDl",
        "outputId": "01c4839c-63ce-453d-f9ec-6e672be53a6f",
        "colab": {
          "base_uri": "https://localhost:8080/",
          "height": 206
        }
      },
      "execution_count": null,
      "outputs": [
        {
          "output_type": "execute_result",
          "data": {
            "text/plain": [
              "                    name                  rest_name_space  fastai_pred\n",
              "133494      Dixy Chicken          d i x y   c h i c k e n     4.564578\n",
              "116562  Tattu Birmingham  t a t t u   b i r m i n g h a m     7.604459\n",
              "152779     Chicken World        c h i c k e n   w o r l d     5.379965\n",
              "90804            Arabica                    a r a b i c a     7.416022\n",
              "58732       T & 2 Sugars  t     a n d     2   s u g a r s     5.075953"
            ],
            "text/html": [
              "\n",
              "  <div id=\"df-00fb3f06-d802-4dde-818a-50dda60bc893\">\n",
              "    <div class=\"colab-df-container\">\n",
              "      <div>\n",
              "<style scoped>\n",
              "    .dataframe tbody tr th:only-of-type {\n",
              "        vertical-align: middle;\n",
              "    }\n",
              "\n",
              "    .dataframe tbody tr th {\n",
              "        vertical-align: top;\n",
              "    }\n",
              "\n",
              "    .dataframe thead th {\n",
              "        text-align: right;\n",
              "    }\n",
              "</style>\n",
              "<table border=\"1\" class=\"dataframe\">\n",
              "  <thead>\n",
              "    <tr style=\"text-align: right;\">\n",
              "      <th></th>\n",
              "      <th>name</th>\n",
              "      <th>rest_name_space</th>\n",
              "      <th>fastai_pred</th>\n",
              "    </tr>\n",
              "  </thead>\n",
              "  <tbody>\n",
              "    <tr>\n",
              "      <th>133494</th>\n",
              "      <td>Dixy Chicken</td>\n",
              "      <td>d i x y   c h i c k e n</td>\n",
              "      <td>4.564578</td>\n",
              "    </tr>\n",
              "    <tr>\n",
              "      <th>116562</th>\n",
              "      <td>Tattu Birmingham</td>\n",
              "      <td>t a t t u   b i r m i n g h a m</td>\n",
              "      <td>7.604459</td>\n",
              "    </tr>\n",
              "    <tr>\n",
              "      <th>152779</th>\n",
              "      <td>Chicken World</td>\n",
              "      <td>c h i c k e n   w o r l d</td>\n",
              "      <td>5.379965</td>\n",
              "    </tr>\n",
              "    <tr>\n",
              "      <th>90804</th>\n",
              "      <td>Arabica</td>\n",
              "      <td>a r a b i c a</td>\n",
              "      <td>7.416022</td>\n",
              "    </tr>\n",
              "    <tr>\n",
              "      <th>58732</th>\n",
              "      <td>T &amp; 2 Sugars</td>\n",
              "      <td>t     a n d     2   s u g a r s</td>\n",
              "      <td>5.075953</td>\n",
              "    </tr>\n",
              "  </tbody>\n",
              "</table>\n",
              "</div>\n",
              "      <button class=\"colab-df-convert\" onclick=\"convertToInteractive('df-00fb3f06-d802-4dde-818a-50dda60bc893')\"\n",
              "              title=\"Convert this dataframe to an interactive table.\"\n",
              "              style=\"display:none;\">\n",
              "        \n",
              "  <svg xmlns=\"http://www.w3.org/2000/svg\" height=\"24px\"viewBox=\"0 0 24 24\"\n",
              "       width=\"24px\">\n",
              "    <path d=\"M0 0h24v24H0V0z\" fill=\"none\"/>\n",
              "    <path d=\"M18.56 5.44l.94 2.06.94-2.06 2.06-.94-2.06-.94-.94-2.06-.94 2.06-2.06.94zm-11 1L8.5 8.5l.94-2.06 2.06-.94-2.06-.94L8.5 2.5l-.94 2.06-2.06.94zm10 10l.94 2.06.94-2.06 2.06-.94-2.06-.94-.94-2.06-.94 2.06-2.06.94z\"/><path d=\"M17.41 7.96l-1.37-1.37c-.4-.4-.92-.59-1.43-.59-.52 0-1.04.2-1.43.59L10.3 9.45l-7.72 7.72c-.78.78-.78 2.05 0 2.83L4 21.41c.39.39.9.59 1.41.59.51 0 1.02-.2 1.41-.59l7.78-7.78 2.81-2.81c.8-.78.8-2.07 0-2.86zM5.41 20L4 18.59l7.72-7.72 1.47 1.35L5.41 20z\"/>\n",
              "  </svg>\n",
              "      </button>\n",
              "      \n",
              "  <style>\n",
              "    .colab-df-container {\n",
              "      display:flex;\n",
              "      flex-wrap:wrap;\n",
              "      gap: 12px;\n",
              "    }\n",
              "\n",
              "    .colab-df-convert {\n",
              "      background-color: #E8F0FE;\n",
              "      border: none;\n",
              "      border-radius: 50%;\n",
              "      cursor: pointer;\n",
              "      display: none;\n",
              "      fill: #1967D2;\n",
              "      height: 32px;\n",
              "      padding: 0 0 0 0;\n",
              "      width: 32px;\n",
              "    }\n",
              "\n",
              "    .colab-df-convert:hover {\n",
              "      background-color: #E2EBFA;\n",
              "      box-shadow: 0px 1px 2px rgba(60, 64, 67, 0.3), 0px 1px 3px 1px rgba(60, 64, 67, 0.15);\n",
              "      fill: #174EA6;\n",
              "    }\n",
              "\n",
              "    [theme=dark] .colab-df-convert {\n",
              "      background-color: #3B4455;\n",
              "      fill: #D2E3FC;\n",
              "    }\n",
              "\n",
              "    [theme=dark] .colab-df-convert:hover {\n",
              "      background-color: #434B5C;\n",
              "      box-shadow: 0px 1px 3px 1px rgba(0, 0, 0, 0.15);\n",
              "      filter: drop-shadow(0px 1px 2px rgba(0, 0, 0, 0.3));\n",
              "      fill: #FFFFFF;\n",
              "    }\n",
              "  </style>\n",
              "\n",
              "      <script>\n",
              "        const buttonEl =\n",
              "          document.querySelector('#df-00fb3f06-d802-4dde-818a-50dda60bc893 button.colab-df-convert');\n",
              "        buttonEl.style.display =\n",
              "          google.colab.kernel.accessAllowed ? 'block' : 'none';\n",
              "\n",
              "        async function convertToInteractive(key) {\n",
              "          const element = document.querySelector('#df-00fb3f06-d802-4dde-818a-50dda60bc893');\n",
              "          const dataTable =\n",
              "            await google.colab.kernel.invokeFunction('convertToInteractive',\n",
              "                                                     [key], {});\n",
              "          if (!dataTable) return;\n",
              "\n",
              "          const docLinkHtml = 'Like what you see? Visit the ' +\n",
              "            '<a target=\"_blank\" href=https://colab.research.google.com/notebooks/data_table.ipynb>data table notebook</a>'\n",
              "            + ' to learn more about interactive tables.';\n",
              "          element.innerHTML = '';\n",
              "          dataTable['output_type'] = 'display_data';\n",
              "          await google.colab.output.renderOutput(dataTable, element);\n",
              "          const docLink = document.createElement('div');\n",
              "          docLink.innerHTML = docLinkHtml;\n",
              "          element.appendChild(docLink);\n",
              "        }\n",
              "      </script>\n",
              "    </div>\n",
              "  </div>\n",
              "  "
            ]
          },
          "metadata": {},
          "execution_count": 101
        }
      ]
    },
    {
      "cell_type": "code",
      "source": [
        "import seaborn as sns\n",
        "sns.histplot(poi_df['fastai_pred'])"
      ],
      "metadata": {
        "id": "jTBIBZ6qvJau",
        "outputId": "c9498f52-fd09-4cb2-80a8-5376056f4417",
        "colab": {
          "base_uri": "https://localhost:8080/",
          "height": 297
        }
      },
      "execution_count": null,
      "outputs": [
        {
          "output_type": "execute_result",
          "data": {
            "text/plain": [
              "<matplotlib.axes._subplots.AxesSubplot at 0x7f786844ef90>"
            ]
          },
          "metadata": {},
          "execution_count": 88
        },
        {
          "output_type": "display_data",
          "data": {
            "text/plain": [
              "<Figure size 432x288 with 1 Axes>"
            ],
            "image/png": "[encoded data removed]"
          },
          "metadata": {
            "needs_background": "light"
          }
        }
      ]
    },
    {
      "cell_type": "code",
      "source": [
        "poi = poi_df"
      ],
      "metadata": {
        "id": "5UA-WWNAyJzo"
      },
      "execution_count": null,
      "outputs": []
    },
    {
      "cell_type": "code",
      "source": [
        "poi['pointx_class'].unique()"
      ],
      "metadata": {
        "id": "a9ASpLm3yP1Z",
        "outputId": "5e6204f2-9ef5-4b67-d22f-c5d0e64b275c",
        "colab": {
          "base_uri": "https://localhost:8080/"
        }
      },
      "execution_count": null,
      "outputs": [
        {
          "output_type": "execute_result",
          "data": {
            "text/plain": [
              "array(['1020043', '1020013', '1020034', '1020018', '1020019', '1020020'],\n",
              "      dtype=object)"
            ]
          },
          "metadata": {},
          "execution_count": 104
        }
      ]
    },
    {
      "cell_type": "code",
      "source": [
        "poi['type'].head()"
      ],
      "metadata": {
        "id": "-tlK5XOQyXDB",
        "outputId": "daedfc19-5284-45fb-8203-2dbcfa15fa63",
        "colab": {
          "base_uri": "https://localhost:8080/"
        }
      },
      "execution_count": null,
      "outputs": [
        {
          "output_type": "execute_result",
          "data": {
            "text/plain": [
              "1    restaurants\n",
              "2    restaurants\n",
              "3    restaurants\n",
              "4    restaurants\n",
              "5    restaurants\n",
              "Name: type, dtype: category\n",
              "Categories (6, object): ['cafes, snack bars, and tea rooms', 'fast food and takeaway outlets',\n",
              "                         'fast food delivery services', 'fish and chip shops', 'pubs, bars, and inns',\n",
              "                         'restaurants']"
            ]
          },
          "metadata": {},
          "execution_count": 108
        }
      ]
    },
    {
      "cell_type": "code",
      "source": [
        "poi['type'] = poi['pointx_class'].map({'1020013':'Cafes and tea rooms',\n",
        "                                       '1020034':'Pubs, bars and inns',\n",
        "                                       '1020043': 'Restaurants',\n",
        "                                       '1020018':'Fast food and takeaways',\n",
        "                                       '1020019':'Fast food and takeaways',\n",
        "                                       '1020020':'Fast food and takeaways'})"
      ],
      "metadata": {
        "id": "LeqtT-7OyIC6"
      },
      "execution_count": null,
      "outputs": []
    },
    {
      "cell_type": "code",
      "source": [
        "poi.head()"
      ],
      "metadata": {
        "id": "ilMAzsiL04DE",
        "outputId": "985e0a63-a322-4697-f9ea-02d32e49121c",
        "colab": {
          "base_uri": "https://localhost:8080/",
          "height": 543
        }
      },
      "execution_count": null,
      "outputs": [
        {
          "output_type": "execute_result",
          "data": {
            "text/plain": [
              "     ref_no                                   name pointx_class  \\\n",
              "1  18857205       Welcome Break (Charnock Richard)      1020043   \n",
              "2  20078819         Welcome Break (Hartshead Moor)      1020043   \n",
              "3  18857213  Welcome Break (Leicester Forest East)      1020043   \n",
              "4  18857223     Welcome Break (Warwick Northbound)      1020043   \n",
              "5  18857202               Welcome Break (Abington)      1020043   \n",
              "\n",
              "   feature_easting  feature_northing  pos_accuracy           uprn  \\\n",
              "1         354292.7          415048.2             1  9.881514e-313   \n",
              "2         416830.0          424112.0             1  -0.000000e+00   \n",
              "3         453839.0          302654.0             1  4.941265e-314   \n",
              "4         433887.1          257699.7             1  4.944190e-313   \n",
              "5         292990.0          625056.0             1  2.391880e-315   \n",
              "\n",
              "              topo_toid  topo_toid_version      usrn  ...  telephone_number  \\\n",
              "1     osgb1000037990682                  8   7401293  ...              -0.0   \n",
              "2     osgb1000031997248                  5   5302432  ...              -0.0   \n",
              "3  osgb5000005161729586                  1   2800041  ...              -0.0   \n",
              "4     osgb1000017044508                 11  38303184  ...              -0.0   \n",
              "5     osgb1000036194809                 14  48306610  ...              -0.0   \n",
              "\n",
              "                      url          brand   qualifier_type qualifier_data  \\\n",
              "1  www.welcomebreak.co.uk  Welcome Break  Restaurant Type       Roadside   \n",
              "2  www.welcomebreak.co.uk  Welcome Break  Restaurant Type       Roadside   \n",
              "3  www.welcomebreak.co.uk  Welcome Break  Restaurant Type       Roadside   \n",
              "4  www.welcomebreak.co.uk  Welcome Break  Restaurant Type       Roadside   \n",
              "5  www.welcomebreak.co.uk  Welcome Break  Restaurant Type       Roadside   \n",
              "\n",
              "                provenance supply_date         type  \\\n",
              "1  Welcome Break Group Ltd       18687  Restaurants   \n",
              "2  Welcome Break Group Ltd       18687  Restaurants   \n",
              "3  Welcome Break Group Ltd       18687  Restaurants   \n",
              "4  Welcome Break Group Ltd       18687  Restaurants   \n",
              "5  Welcome Break Group Ltd       18687  Restaurants   \n",
              "\n",
              "                                                             rest_name_space  \\\n",
              "1            w e l c o m e   b r e a k   ( c h a r n o c k   r i c h a r d )   \n",
              "2                w e l c o m e   b r e a k   ( h a r t s h e a d   m o o r )   \n",
              "3  w e l c o m e   b r e a k   ( l e i c e s t e r   f o r e s t   e a s t )   \n",
              "4        w e l c o m e   b r e a k   ( w a r w i c k   n o r t h b o u n d )   \n",
              "5                            w e l c o m e   b r e a k   ( a b i n g t o n )   \n",
              "\n",
              "  fastai_pred  \n",
              "1    6.812756  \n",
              "2    6.461704  \n",
              "3    6.838035  \n",
              "4    6.845292  \n",
              "5    6.553871  \n",
              "\n",
              "[5 rows x 28 columns]"
            ],
            "text/html": [
              "\n",
              "  <div id=\"df-13891ac1-5e52-43cc-aee8-c4dae511d352\">\n",
              "    <div class=\"colab-df-container\">\n",
              "      <div>\n",
              "<style scoped>\n",
              "    .dataframe tbody tr th:only-of-type {\n",
              "        vertical-align: middle;\n",
              "    }\n",
              "\n",
              "    .dataframe tbody tr th {\n",
              "        vertical-align: top;\n",
              "    }\n",
              "\n",
              "    .dataframe thead th {\n",
              "        text-align: right;\n",
              "    }\n",
              "</style>\n",
              "<table border=\"1\" class=\"dataframe\">\n",
              "  <thead>\n",
              "    <tr style=\"text-align: right;\">\n",
              "      <th></th>\n",
              "      <th>ref_no</th>\n",
              "      <th>name</th>\n",
              "      <th>pointx_class</th>\n",
              "      <th>feature_easting</th>\n",
              "      <th>feature_northing</th>\n",
              "      <th>pos_accuracy</th>\n",
              "      <th>uprn</th>\n",
              "      <th>topo_toid</th>\n",
              "      <th>topo_toid_version</th>\n",
              "      <th>usrn</th>\n",
              "      <th>...</th>\n",
              "      <th>telephone_number</th>\n",
              "      <th>url</th>\n",
              "      <th>brand</th>\n",
              "      <th>qualifier_type</th>\n",
              "      <th>qualifier_data</th>\n",
              "      <th>provenance</th>\n",
              "      <th>supply_date</th>\n",
              "      <th>type</th>\n",
              "      <th>rest_name_space</th>\n",
              "      <th>fastai_pred</th>\n",
              "    </tr>\n",
              "  </thead>\n",
              "  <tbody>\n",
              "    <tr>\n",
              "      <th>1</th>\n",
              "      <td>18857205</td>\n",
              "      <td>Welcome Break (Charnock Richard)</td>\n",
              "      <td>1020043</td>\n",
              "      <td>354292.7</td>\n",
              "      <td>415048.2</td>\n",
              "      <td>1</td>\n",
              "      <td>9.881514e-313</td>\n",
              "      <td>osgb1000037990682</td>\n",
              "      <td>8</td>\n",
              "      <td>7401293</td>\n",
              "      <td>...</td>\n",
              "      <td>-0.0</td>\n",
              "      <td>www.welcomebreak.co.uk</td>\n",
              "      <td>Welcome Break</td>\n",
              "      <td>Restaurant Type</td>\n",
              "      <td>Roadside</td>\n",
              "      <td>Welcome Break Group Ltd</td>\n",
              "      <td>18687</td>\n",
              "      <td>Restaurants</td>\n",
              "      <td>w e l c o m e   b r e a k   ( c h a r n o c k   r i c h a r d )</td>\n",
              "      <td>6.812756</td>\n",
              "    </tr>\n",
              "    <tr>\n",
              "      <th>2</th>\n",
              "      <td>20078819</td>\n",
              "      <td>Welcome Break (Hartshead Moor)</td>\n",
              "      <td>1020043</td>\n",
              "      <td>416830.0</td>\n",
              "      <td>424112.0</td>\n",
              "      <td>1</td>\n",
              "      <td>-0.000000e+00</td>\n",
              "      <td>osgb1000031997248</td>\n",
              "      <td>5</td>\n",
              "      <td>5302432</td>\n",
              "      <td>...</td>\n",
              "      <td>-0.0</td>\n",
              "      <td>www.welcomebreak.co.uk</td>\n",
              "      <td>Welcome Break</td>\n",
              "      <td>Restaurant Type</td>\n",
              "      <td>Roadside</td>\n",
              "      <td>Welcome Break Group Ltd</td>\n",
              "      <td>18687</td>\n",
              "      <td>Restaurants</td>\n",
              "      <td>w e l c o m e   b r e a k   ( h a r t s h e a d   m o o r )</td>\n",
              "      <td>6.461704</td>\n",
              "    </tr>\n",
              "    <tr>\n",
              "      <th>3</th>\n",
              "      <td>18857213</td>\n",
              "      <td>Welcome Break (Leicester Forest East)</td>\n",
              "      <td>1020043</td>\n",
              "      <td>453839.0</td>\n",
              "      <td>302654.0</td>\n",
              "      <td>1</td>\n",
              "      <td>4.941265e-314</td>\n",
              "      <td>osgb5000005161729586</td>\n",
              "      <td>1</td>\n",
              "      <td>2800041</td>\n",
              "      <td>...</td>\n",
              "      <td>-0.0</td>\n",
              "      <td>www.welcomebreak.co.uk</td>\n",
              "      <td>Welcome Break</td>\n",
              "      <td>Restaurant Type</td>\n",
              "      <td>Roadside</td>\n",
              "      <td>Welcome Break Group Ltd</td>\n",
              "      <td>18687</td>\n",
              "      <td>Restaurants</td>\n",
              "      <td>w e l c o m e   b r e a k   ( l e i c e s t e r   f o r e s t   e a s t )</td>\n",
              "      <td>6.838035</td>\n",
              "    </tr>\n",
              "    <tr>\n",
              "      <th>4</th>\n",
              "      <td>18857223</td>\n",
              "      <td>Welcome Break (Warwick Northbound)</td>\n",
              "      <td>1020043</td>\n",
              "      <td>433887.1</td>\n",
              "      <td>257699.7</td>\n",
              "      <td>1</td>\n",
              "      <td>4.944190e-313</td>\n",
              "      <td>osgb1000017044508</td>\n",
              "      <td>11</td>\n",
              "      <td>38303184</td>\n",
              "      <td>...</td>\n",
              "      <td>-0.0</td>\n",
              "      <td>www.welcomebreak.co.uk</td>\n",
              "      <td>Welcome Break</td>\n",
              "      <td>Restaurant Type</td>\n",
              "      <td>Roadside</td>\n",
              "      <td>Welcome Break Group Ltd</td>\n",
              "      <td>18687</td>\n",
              "      <td>Restaurants</td>\n",
              "      <td>w e l c o m e   b r e a k   ( w a r w i c k   n o r t h b o u n d )</td>\n",
              "      <td>6.845292</td>\n",
              "    </tr>\n",
              "    <tr>\n",
              "      <th>5</th>\n",
              "      <td>18857202</td>\n",
              "      <td>Welcome Break (Abington)</td>\n",
              "      <td>1020043</td>\n",
              "      <td>292990.0</td>\n",
              "      <td>625056.0</td>\n",
              "      <td>1</td>\n",
              "      <td>2.391880e-315</td>\n",
              "      <td>osgb1000036194809</td>\n",
              "      <td>14</td>\n",
              "      <td>48306610</td>\n",
              "      <td>...</td>\n",
              "      <td>-0.0</td>\n",
              "      <td>www.welcomebreak.co.uk</td>\n",
              "      <td>Welcome Break</td>\n",
              "      <td>Restaurant Type</td>\n",
              "      <td>Roadside</td>\n",
              "      <td>Welcome Break Group Ltd</td>\n",
              "      <td>18687</td>\n",
              "      <td>Restaurants</td>\n",
              "      <td>w e l c o m e   b r e a k   ( a b i n g t o n )</td>\n",
              "      <td>6.553871</td>\n",
              "    </tr>\n",
              "  </tbody>\n",
              "</table>\n",
              "<p>5 rows × 28 columns</p>\n",
              "</div>\n",
              "      <button class=\"colab-df-convert\" onclick=\"convertToInteractive('df-13891ac1-5e52-43cc-aee8-c4dae511d352')\"\n",
              "              title=\"Convert this dataframe to an interactive table.\"\n",
              "              style=\"display:none;\">\n",
              "        \n",
              "  <svg xmlns=\"http://www.w3.org/2000/svg\" height=\"24px\"viewBox=\"0 0 24 24\"\n",
              "       width=\"24px\">\n",
              "    <path d=\"M0 0h24v24H0V0z\" fill=\"none\"/>\n",
              "    <path d=\"M18.56 5.44l.94 2.06.94-2.06 2.06-.94-2.06-.94-.94-2.06-.94 2.06-2.06.94zm-11 1L8.5 8.5l.94-2.06 2.06-.94-2.06-.94L8.5 2.5l-.94 2.06-2.06.94zm10 10l.94 2.06.94-2.06 2.06-.94-2.06-.94-.94-2.06-.94 2.06-2.06.94z\"/><path d=\"M17.41 7.96l-1.37-1.37c-.4-.4-.92-.59-1.43-.59-.52 0-1.04.2-1.43.59L10.3 9.45l-7.72 7.72c-.78.78-.78 2.05 0 2.83L4 21.41c.39.39.9.59 1.41.59.51 0 1.02-.2 1.41-.59l7.78-7.78 2.81-2.81c.8-.78.8-2.07 0-2.86zM5.41 20L4 18.59l7.72-7.72 1.47 1.35L5.41 20z\"/>\n",
              "  </svg>\n",
              "      </button>\n",
              "      \n",
              "  <style>\n",
              "    .colab-df-container {\n",
              "      display:flex;\n",
              "      flex-wrap:wrap;\n",
              "      gap: 12px;\n",
              "    }\n",
              "\n",
              "    .colab-df-convert {\n",
              "      background-color: #E8F0FE;\n",
              "      border: none;\n",
              "      border-radius: 50%;\n",
              "      cursor: pointer;\n",
              "      display: none;\n",
              "      fill: #1967D2;\n",
              "      height: 32px;\n",
              "      padding: 0 0 0 0;\n",
              "      width: 32px;\n",
              "    }\n",
              "\n",
              "    .colab-df-convert:hover {\n",
              "      background-color: #E2EBFA;\n",
              "      box-shadow: 0px 1px 2px rgba(60, 64, 67, 0.3), 0px 1px 3px 1px rgba(60, 64, 67, 0.15);\n",
              "      fill: #174EA6;\n",
              "    }\n",
              "\n",
              "    [theme=dark] .colab-df-convert {\n",
              "      background-color: #3B4455;\n",
              "      fill: #D2E3FC;\n",
              "    }\n",
              "\n",
              "    [theme=dark] .colab-df-convert:hover {\n",
              "      background-color: #434B5C;\n",
              "      box-shadow: 0px 1px 3px 1px rgba(0, 0, 0, 0.15);\n",
              "      filter: drop-shadow(0px 1px 2px rgba(0, 0, 0, 0.3));\n",
              "      fill: #FFFFFF;\n",
              "    }\n",
              "  </style>\n",
              "\n",
              "      <script>\n",
              "        const buttonEl =\n",
              "          document.querySelector('#df-13891ac1-5e52-43cc-aee8-c4dae511d352 button.colab-df-convert');\n",
              "        buttonEl.style.display =\n",
              "          google.colab.kernel.accessAllowed ? 'block' : 'none';\n",
              "\n",
              "        async function convertToInteractive(key) {\n",
              "          const element = document.querySelector('#df-13891ac1-5e52-43cc-aee8-c4dae511d352');\n",
              "          const dataTable =\n",
              "            await google.colab.kernel.invokeFunction('convertToInteractive',\n",
              "                                                     [key], {});\n",
              "          if (!dataTable) return;\n",
              "\n",
              "          const docLinkHtml = 'Like what you see? Visit the ' +\n",
              "            '<a target=\"_blank\" href=https://colab.research.google.com/notebooks/data_table.ipynb>data table notebook</a>'\n",
              "            + ' to learn more about interactive tables.';\n",
              "          element.innerHTML = '';\n",
              "          dataTable['output_type'] = 'display_data';\n",
              "          await google.colab.output.renderOutput(dataTable, element);\n",
              "          const docLink = document.createElement('div');\n",
              "          docLink.innerHTML = docLinkHtml;\n",
              "          element.appendChild(docLink);\n",
              "        }\n",
              "      </script>\n",
              "    </div>\n",
              "  </div>\n",
              "  "
            ]
          },
          "metadata": {},
          "execution_count": 117
        }
      ]
    },
    {
      "cell_type": "code",
      "source": [
        "# Draw a nested boxplot to show bills by day and time\n",
        "p = sns.violinplot(y=\"type\", x=\"fastai_pred\",scale='width',\n",
        "            data=poi, palette = \"Set2\", order=['Restaurants','Cafes and tea rooms',\n",
        "                                            'Pubs, bars and inns','Fast food and takeaways'],\n",
        "                    bw=0.4)\n",
        "#sns.despine(offset=10, trim=True)\n",
        "p.set_xlim(xmin=3, xmax=10)\n",
        "p.set(ylabel='', xlabel='Menu Healthiness Score')\n",
        "# plt.scatter(x='type',y='predicted_score',data= medians_to_add,color='red')\n",
        "sns.despine(offset=30)\n",
        "#plt.tight_layout()\n",
        "# plt.savefig('ViolinPlot_byType.png',dpi=300)\n",
        "# plt.xticks(rotation=15)\n",
        "# plt.text('Restaurants',7.0,'3.2', color='red')"
      ],
      "metadata": {
        "id": "wqE97n8q0gFO",
        "outputId": "b3b039b3-9e62-4f32-9674-bbe33afb43a8",
        "colab": {
          "base_uri": "https://localhost:8080/",
          "height": 309
        }
      },
      "execution_count": null,
      "outputs": [
        {
          "output_type": "display_data",
          "data": {
            "text/plain": [
              "<Figure size 432x288 with 1 Axes>"
            ],
            "image/png": "[encoded data removed]"
          },
          "metadata": {
            "needs_background": "light"
          }
        }
      ]
    },
    {
      "cell_type": "code",
      "source": [
        "medians_to_add = pd.DataFrame(poi.groupby(['type']).fastai_pred.median()).reset_index()\n",
        "medians_to_add = medians_to_add.sort_values('fastai_pred',ascending = False)\n",
        "print(medians_to_add)"
      ],
      "metadata": {
        "id": "C05Xwjaj1j6k",
        "outputId": "a582e98c-91cc-47dd-90d4-b994dd11dae2",
        "colab": {
          "base_uri": "https://localhost:8080/"
        }
      },
      "execution_count": null,
      "outputs": [
        {
          "output_type": "stream",
          "name": "stdout",
          "text": [
            "                      type  fastai_pred\n",
            "3              Restaurants     7.364476\n",
            "0      Cafes and tea rooms     6.951638\n",
            "2      Pubs, bars and inns     6.891444\n",
            "1  Fast food and takeaways     6.135065\n"
          ]
        }
      ]
    },
    {
      "cell_type": "code",
      "source": [
        "poi.to_csv('poi_fastai_220722.csv')"
      ],
      "metadata": {
        "id": "Ebf_wyA37Si6"
      },
      "execution_count": null,
      "outputs": []
    }
  ]
}