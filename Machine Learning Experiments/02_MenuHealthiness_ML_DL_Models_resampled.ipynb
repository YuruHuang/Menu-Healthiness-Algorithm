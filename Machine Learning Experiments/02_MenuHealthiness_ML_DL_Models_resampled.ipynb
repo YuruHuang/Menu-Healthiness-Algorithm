{
  "nbformat": 4,
  "nbformat_minor": 0,
  "metadata": {
    "colab": {
      "provenance": [],
      "toc_visible": true
    },
    "kernelspec": {
      "name": "python3",
      "display_name": "Python 3"
    },
    "language_info": {
      "name": "python"
    },
    "gpuClass": "standard"
  },
  "cells": [
    {
      "cell_type": "markdown",
      "source": [
        "In this notebook, I will run various machine learning experiments where I will use `rest_name` to predict expert `menu healthiness scores`. The best performing model will be saved for each experiment.\n",
        "\n",
        "Below is a summary of what I am going to do in this notebook:\n",
        "\n",
        "**Data Cleaning**\n",
        "- remove special characters, puncutuations\n",
        "- remove chain locations (did not end up doing)\n",
        "- split train test sets\n",
        "\n",
        "\n",
        "**ML/DL experiments**\n",
        "- **Model 0 (ML)**: Baseline model with only rest_name (Support Vector Regression, tf-idf)\n",
        "- **Model 1 (DL)**: LSTM model with word level tokenization\n",
        "- **Model 2 (DL)**: LSTM model with character level tokenization\n",
        "- **Model 3 (DL)**: GRU model with word level tokenization\n",
        "- **Model 4 (DL)**: GRU model with character level tokenization\n",
        "- **Model 5 (DL)**: CNN model with word level tokenization\n",
        "- **Model 6 (transfer learning)**: pre-trained embedding layer (ULM)\n",
        "- **Model 7 (transfer learning)**: pre-trained embedding layer and fine tuning.\n",
        "- **Model 8 (DL)**: GRU model with word level tokenization, added food hygiene rating\n",
        "- **Model 9 (DL)**: GRU model with character level tokenization, added food hygiene rating\n",
        "- **Model 10 (DL)**: GRU model with character level tokenization, added food hygiene rating, and changed the activation\n"
      ],
      "metadata": {
        "id": "xkI0ME9nXgsV"
      }
    },
    {
      "cell_type": "markdown",
      "source": [
        "## Data preprocessing"
      ],
      "metadata": {
        "id": "-8FPoAveaT7q"
      }
    },
    {
      "cell_type": "code",
      "source": [
        "## Import all the libraries\n",
        "# !pip install unidecode\n",
        "from unidecode import unidecode\n",
        "import string\n",
        "import pandas as pd\n",
        "from sklearn.model_selection import train_test_split\n",
        "import numpy as np\n",
        "import pandas as pd\n",
        "from sklearn.metrics import mean_absolute_error\n",
        "from sklearn.feature_extraction.text import TfidfVectorizer\n",
        "from sklearn.svm import SVR\n",
        "from sklearn.pipeline import Pipeline\n",
        "from sklearn.metrics import mean_absolute_error, f1_score, accuracy_score,classification_report,explained_variance_score, r2_score, mean_absolute_percentage_error\n",
        "import tensorflow as tf\n",
        "from tensorflow.keras import layers\n",
        "from tensorflow.keras.layers.experimental.preprocessing import TextVectorization\n",
        "from tensorflow.keras import layers\n",
        "from sklearn.model_selection import GridSearchCV\n",
        "import seaborn as sns\n",
        "#!pip install smogn\n",
        "from collections import Counter\n",
        "from joblib import dump, load"
      ],
      "metadata": {
        "id": "92BBb_qUbJqb",
        "colab": {
          "base_uri": "https://localhost:8080/"
        },
        "outputId": "d67ae969-1377-4359-bfee-15b0593dbeeb"
      },
      "execution_count": null,
      "outputs": [
        {
          "output_type": "stream",
          "name": "stdout",
          "text": [
            "Looking in indexes: https://pypi.org/simple, https://us-python.pkg.dev/colab-wheels/public/simple/\n",
            "Collecting unidecode\n",
            "  Downloading Unidecode-1.3.4-py3-none-any.whl (235 kB)\n",
            "\u001b[K     |████████████████████████████████| 235 kB 5.0 MB/s \n",
            "\u001b[?25hInstalling collected packages: unidecode\n",
            "Successfully installed unidecode-1.3.4\n"
          ]
        }
      ]
    },
    {
      "cell_type": "markdown",
      "source": [
        "## Examine the data"
      ],
      "metadata": {
        "id": "bos_G0c4a5Ku"
      }
    },
    {
      "cell_type": "code",
      "source": [
        "train_ds = pd.read_csv('train_smogn.csv')\n",
        "test_ds = pd.read_csv('test_smogn.csv')"
      ],
      "metadata": {
        "id": "_Dv61OhGbw5k"
      },
      "execution_count": null,
      "outputs": []
    },
    {
      "cell_type": "code",
      "source": [
        "train_ds.shape, test_ds.shape"
      ],
      "metadata": {
        "colab": {
          "base_uri": "https://localhost:8080/"
        },
        "id": "pFyW6uNFCs4T",
        "outputId": "1f9f6099-925b-42ce-f3bb-7f1d5803c710"
      },
      "execution_count": null,
      "outputs": [
        {
          "output_type": "execute_result",
          "data": {
            "text/plain": [
              "((56902, 25), (5458, 26))"
            ]
          },
          "metadata": {},
          "execution_count": 5
        }
      ]
    },
    {
      "cell_type": "code",
      "source": [
        "# 0-12 if over 12 then 12\n",
        "def clean_data(data):\n",
        "  data.loc[data['predict']>12, 'predict'] = 12\n",
        "  data.loc[data['predict']<0, 'predict'] = 0\n",
        "  return data"
      ],
      "metadata": {
        "id": "6BWQ-yb1c9YO"
      },
      "execution_count": null,
      "outputs": []
    },
    {
      "cell_type": "code",
      "source": [
        "train_ds = clean_data(train_ds)\n",
        "test_ds = clean_data(test_ds)"
      ],
      "metadata": {
        "id": "9WE1t1ilCw6T"
      },
      "execution_count": null,
      "outputs": []
    },
    {
      "cell_type": "code",
      "source": [
        "sns.histplot(train_ds.predict,kde=True)"
      ],
      "metadata": {
        "colab": {
          "base_uri": "https://localhost:8080/",
          "height": 300
        },
        "id": "xV62PgdPC1m9",
        "outputId": "52b09ce6-42b3-46b1-cb63-3f75a3186e67"
      },
      "execution_count": null,
      "outputs": [
        {
          "output_type": "execute_result",
          "data": {
            "text/plain": [
              "<matplotlib.axes._subplots.AxesSubplot at 0x7f14ba5d8750>"
            ]
          },
          "metadata": {},
          "execution_count": 17
        },
        {
          "output_type": "display_data",
          "data": {
            "text/plain": [
              "<Figure size 432x288 with 1 Axes>"
            ],
            "image/png": "[encoded data removed]"
          },
          "metadata": {
            "needs_background": "light"
          }
        }
      ]
    },
    {
      "cell_type": "code",
      "source": [
        "sns.histplot(justeat_menu.predict,kde=True)"
      ],
      "metadata": {
        "colab": {
          "base_uri": "https://localhost:8080/",
          "height": 296
        },
        "id": "vpxe79qVdCVP",
        "outputId": "847f12ab-172b-4e3d-dfd6-467f1c7d4fc1"
      },
      "execution_count": null,
      "outputs": [
        {
          "output_type": "execute_result",
          "data": {
            "text/plain": [
              "<matplotlib.axes._subplots.AxesSubplot at 0x7fd6a55aab10>"
            ]
          },
          "metadata": {},
          "execution_count": 18
        },
        {
          "output_type": "display_data",
          "data": {
            "text/plain": [
              "<Figure size 432x288 with 1 Axes>"
            ],
            "image/png": "[encoded data removed]"
          },
          "metadata": {
            "needs_background": "light"
          }
        }
      ]
    },
    {
      "cell_type": "markdown",
      "source": [
        "## Clean the data"
      ],
      "metadata": {
        "id": "wqIHdTsHbkZW"
      }
    },
    {
      "cell_type": "markdown",
      "source": [
        "### remove/replace punctuations\n"
      ],
      "metadata": {
        "id": "Y-0i8zuid15x"
      }
    },
    {
      "cell_type": "code",
      "execution_count": null,
      "metadata": {
        "id": "3WzSfRSVXcm-"
      },
      "outputs": [],
      "source": [
        "def rest_name_cleaning(rest_name):\n",
        "  '''\n",
        "  This function cleans the restaurant name string\n",
        "  '''\n",
        "  rest_name_clean = rest_name.lower()\n",
        "  rest_name_clean = rest_name_clean.strip()\n",
        "  ascii_name = unidecode(rest_name_clean)\n",
        "  ascii_name_fix = ascii_name.replace('`',\"'\")\n",
        "  ascii_name_fix = ascii_name_fix.replace('~',\" \")\n",
        "  ascii_name_fix = ascii_name_fix.replace(']',\" \")\n",
        "  ascii_name_fix = ascii_name_fix.replace('[',\" \")\n",
        "  ascii_name_fix = ascii_name_fix.replace('\\\\',\" \")\n",
        "  ascii_name_fix = ascii_name_fix.replace('%',\" \")\n",
        "  ascii_name_fix = ascii_name_fix.replace('*',\" \")\n",
        "  ascii_name_fix = ascii_name_fix.replace('+',\" and \")\n",
        "  ascii_name_fix = ascii_name_fix.replace('&',\" and \")\n",
        "  ascii_name_fix = ascii_name_fix.replace('/',\" \")\n",
        "\n",
        "  return ascii_name_fix"
      ]
    },
    {
      "cell_type": "code",
      "source": [
        "train_ds['ascii_name_fix'] = train_ds.rest_name.apply(lambda x: rest_name_cleaning(x))\n",
        "test_ds['ascii_name_fix'] = test_ds.rest_name.apply(lambda x: rest_name_cleaning(x))"
      ],
      "metadata": {
        "id": "dNvHyAh8exBj"
      },
      "execution_count": null,
      "outputs": []
    },
    {
      "cell_type": "code",
      "source": [
        "train_ds"
      ],
      "metadata": {
        "colab": {
          "base_uri": "https://localhost:8080/",
          "height": 505
        },
        "id": "KPTeh5MBDSNn",
        "outputId": "0f890452-8669-4182-e501-45c618a77c6d"
      },
      "execution_count": null,
      "outputs": [
        {
          "output_type": "execute_result",
          "data": {
            "text/plain": [
              "       Unnamed: 0  index  Restaurant ID  Desserts  Vegetables  Salads  Chips  \\\n",
              "0               0  21615          37196         1          18       4      1   \n",
              "1               1  21158          38498         1          18       4      2   \n",
              "2               2  20740          35972         2          17       5      2   \n",
              "3               3  25787          95230         0          17       2      0   \n",
              "4               4  26378          94912         0          16       3      0   \n",
              "...           ...    ...            ...       ...         ...     ...    ...   \n",
              "56897       11805  35652         136390         0           6       0     28   \n",
              "56898       11806  15334          93479         2           7       1     13   \n",
              "56899       11807  34316         105749        62           5       1      5   \n",
              "56900       11808  44254         104782         3           8       2     13   \n",
              "56901       11809   3123         134512        34           9       0     10   \n",
              "\n",
              "       Water  Milk  Special Offers  ... price_min   price_max postcode  \\\n",
              "0          0     0               3  ...  0.317419   44.105129  G12 8TN   \n",
              "1          0     0               3  ...  0.330876   44.440739  G12 8TN   \n",
              "2          0     0               3  ...  0.300338   44.254935  G12 8TN   \n",
              "3          0     0               4  ...  2.949059  120.214755  G12 8TN   \n",
              "4          0     0               4  ...  2.933776  119.953226  G12 8TN   \n",
              "...      ...   ...             ...  ...       ...         ...      ...   \n",
              "56897      0     0              20  ...  0.513422   24.900960  NE5 5BS   \n",
              "56898      0     0              12  ...  0.393716   36.147208  NE5 5BS   \n",
              "56899      0     0               1  ...  0.320822   13.762017  NE5 5BS   \n",
              "56900      0     0              11  ...  0.476740   20.117191  NE5 5BS   \n",
              "56901      0     0               0  ...  0.495421   14.842497  NE5 5BS   \n",
              "\n",
              "      postcode_district specialOffers  chips  salads   predict rating2  \\\n",
              "0                   G12             3      1       4  8.568073       3   \n",
              "1                   G12             3      1       4  8.556266       2   \n",
              "2                   G12             2      2       5  8.546312       3   \n",
              "3                   G12             4      0       2  8.555663       3   \n",
              "4                   G12             4      0       2  8.538543       3   \n",
              "...                 ...           ...    ...     ...       ...     ...   \n",
              "56897               NE5             9     14       0  4.446339       0   \n",
              "56898               NE5             9     12       1  4.515520       0   \n",
              "56899               NE5             0      4       1  3.321277       0   \n",
              "56900               NE5             9     12       2  4.576050       0   \n",
              "56901               NE5             0     10       0  4.559070       0   \n",
              "\n",
              "         ascii_name_fix  \n",
              "0      la vita spuntini  \n",
              "1      la vita spuntini  \n",
              "2      la vita spuntini  \n",
              "3      la vita spuntini  \n",
              "4      la vita spuntini  \n",
              "...                 ...  \n",
              "56897       sugar shack  \n",
              "56898       sugar shack  \n",
              "56899       sugar shack  \n",
              "56900       sugar shack  \n",
              "56901       sugar shack  \n",
              "\n",
              "[56902 rows x 26 columns]"
            ],
            "text/html": [
              "\n",
              "  <div id=\"df-1bdc45c8-d81c-4a1a-93a0-8cebaf91eb07\">\n",
              "    <div class=\"colab-df-container\">\n",
              "      <div>\n",
              "<style scoped>\n",
              "    .dataframe tbody tr th:only-of-type {\n",
              "        vertical-align: middle;\n",
              "    }\n",
              "\n",
              "    .dataframe tbody tr th {\n",
              "        vertical-align: top;\n",
              "    }\n",
              "\n",
              "    .dataframe thead th {\n",
              "        text-align: right;\n",
              "    }\n",
              "</style>\n",
              "<table border=\"1\" class=\"dataframe\">\n",
              "  <thead>\n",
              "    <tr style=\"text-align: right;\">\n",
              "      <th></th>\n",
              "      <th>Unnamed: 0</th>\n",
              "      <th>index</th>\n",
              "      <th>Restaurant ID</th>\n",
              "      <th>Desserts</th>\n",
              "      <th>Vegetables</th>\n",
              "      <th>Salads</th>\n",
              "      <th>Chips</th>\n",
              "      <th>Water</th>\n",
              "      <th>Milk</th>\n",
              "      <th>Special Offers</th>\n",
              "      <th>...</th>\n",
              "      <th>price_min</th>\n",
              "      <th>price_max</th>\n",
              "      <th>postcode</th>\n",
              "      <th>postcode_district</th>\n",
              "      <th>specialOffers</th>\n",
              "      <th>chips</th>\n",
              "      <th>salads</th>\n",
              "      <th>predict</th>\n",
              "      <th>rating2</th>\n",
              "      <th>ascii_name_fix</th>\n",
              "    </tr>\n",
              "  </thead>\n",
              "  <tbody>\n",
              "    <tr>\n",
              "      <th>0</th>\n",
              "      <td>0</td>\n",
              "      <td>21615</td>\n",
              "      <td>37196</td>\n",
              "      <td>1</td>\n",
              "      <td>18</td>\n",
              "      <td>4</td>\n",
              "      <td>1</td>\n",
              "      <td>0</td>\n",
              "      <td>0</td>\n",
              "      <td>3</td>\n",
              "      <td>...</td>\n",
              "      <td>0.317419</td>\n",
              "      <td>44.105129</td>\n",
              "      <td>G12 8TN</td>\n",
              "      <td>G12</td>\n",
              "      <td>3</td>\n",
              "      <td>1</td>\n",
              "      <td>4</td>\n",
              "      <td>8.568073</td>\n",
              "      <td>3</td>\n",
              "      <td>la vita spuntini</td>\n",
              "    </tr>\n",
              "    <tr>\n",
              "      <th>1</th>\n",
              "      <td>1</td>\n",
              "      <td>21158</td>\n",
              "      <td>38498</td>\n",
              "      <td>1</td>\n",
              "      <td>18</td>\n",
              "      <td>4</td>\n",
              "      <td>2</td>\n",
              "      <td>0</td>\n",
              "      <td>0</td>\n",
              "      <td>3</td>\n",
              "      <td>...</td>\n",
              "      <td>0.330876</td>\n",
              "      <td>44.440739</td>\n",
              "      <td>G12 8TN</td>\n",
              "      <td>G12</td>\n",
              "      <td>3</td>\n",
              "      <td>1</td>\n",
              "      <td>4</td>\n",
              "      <td>8.556266</td>\n",
              "      <td>2</td>\n",
              "      <td>la vita spuntini</td>\n",
              "    </tr>\n",
              "    <tr>\n",
              "      <th>2</th>\n",
              "      <td>2</td>\n",
              "      <td>20740</td>\n",
              "      <td>35972</td>\n",
              "      <td>2</td>\n",
              "      <td>17</td>\n",
              "      <td>5</td>\n",
              "      <td>2</td>\n",
              "      <td>0</td>\n",
              "      <td>0</td>\n",
              "      <td>3</td>\n",
              "      <td>...</td>\n",
              "      <td>0.300338</td>\n",
              "      <td>44.254935</td>\n",
              "      <td>G12 8TN</td>\n",
              "      <td>G12</td>\n",
              "      <td>2</td>\n",
              "      <td>2</td>\n",
              "      <td>5</td>\n",
              "      <td>8.546312</td>\n",
              "      <td>3</td>\n",
              "      <td>la vita spuntini</td>\n",
              "    </tr>\n",
              "    <tr>\n",
              "      <th>3</th>\n",
              "      <td>3</td>\n",
              "      <td>25787</td>\n",
              "      <td>95230</td>\n",
              "      <td>0</td>\n",
              "      <td>17</td>\n",
              "      <td>2</td>\n",
              "      <td>0</td>\n",
              "      <td>0</td>\n",
              "      <td>0</td>\n",
              "      <td>4</td>\n",
              "      <td>...</td>\n",
              "      <td>2.949059</td>\n",
              "      <td>120.214755</td>\n",
              "      <td>G12 8TN</td>\n",
              "      <td>G12</td>\n",
              "      <td>4</td>\n",
              "      <td>0</td>\n",
              "      <td>2</td>\n",
              "      <td>8.555663</td>\n",
              "      <td>3</td>\n",
              "      <td>la vita spuntini</td>\n",
              "    </tr>\n",
              "    <tr>\n",
              "      <th>4</th>\n",
              "      <td>4</td>\n",
              "      <td>26378</td>\n",
              "      <td>94912</td>\n",
              "      <td>0</td>\n",
              "      <td>16</td>\n",
              "      <td>3</td>\n",
              "      <td>0</td>\n",
              "      <td>0</td>\n",
              "      <td>0</td>\n",
              "      <td>4</td>\n",
              "      <td>...</td>\n",
              "      <td>2.933776</td>\n",
              "      <td>119.953226</td>\n",
              "      <td>G12 8TN</td>\n",
              "      <td>G12</td>\n",
              "      <td>4</td>\n",
              "      <td>0</td>\n",
              "      <td>2</td>\n",
              "      <td>8.538543</td>\n",
              "      <td>3</td>\n",
              "      <td>la vita spuntini</td>\n",
              "    </tr>\n",
              "    <tr>\n",
              "      <th>...</th>\n",
              "      <td>...</td>\n",
              "      <td>...</td>\n",
              "      <td>...</td>\n",
              "      <td>...</td>\n",
              "      <td>...</td>\n",
              "      <td>...</td>\n",
              "      <td>...</td>\n",
              "      <td>...</td>\n",
              "      <td>...</td>\n",
              "      <td>...</td>\n",
              "      <td>...</td>\n",
              "      <td>...</td>\n",
              "      <td>...</td>\n",
              "      <td>...</td>\n",
              "      <td>...</td>\n",
              "      <td>...</td>\n",
              "      <td>...</td>\n",
              "      <td>...</td>\n",
              "      <td>...</td>\n",
              "      <td>...</td>\n",
              "      <td>...</td>\n",
              "    </tr>\n",
              "    <tr>\n",
              "      <th>56897</th>\n",
              "      <td>11805</td>\n",
              "      <td>35652</td>\n",
              "      <td>136390</td>\n",
              "      <td>0</td>\n",
              "      <td>6</td>\n",
              "      <td>0</td>\n",
              "      <td>28</td>\n",
              "      <td>0</td>\n",
              "      <td>0</td>\n",
              "      <td>20</td>\n",
              "      <td>...</td>\n",
              "      <td>0.513422</td>\n",
              "      <td>24.900960</td>\n",
              "      <td>NE5 5BS</td>\n",
              "      <td>NE5</td>\n",
              "      <td>9</td>\n",
              "      <td>14</td>\n",
              "      <td>0</td>\n",
              "      <td>4.446339</td>\n",
              "      <td>0</td>\n",
              "      <td>sugar shack</td>\n",
              "    </tr>\n",
              "    <tr>\n",
              "      <th>56898</th>\n",
              "      <td>11806</td>\n",
              "      <td>15334</td>\n",
              "      <td>93479</td>\n",
              "      <td>2</td>\n",
              "      <td>7</td>\n",
              "      <td>1</td>\n",
              "      <td>13</td>\n",
              "      <td>0</td>\n",
              "      <td>0</td>\n",
              "      <td>12</td>\n",
              "      <td>...</td>\n",
              "      <td>0.393716</td>\n",
              "      <td>36.147208</td>\n",
              "      <td>NE5 5BS</td>\n",
              "      <td>NE5</td>\n",
              "      <td>9</td>\n",
              "      <td>12</td>\n",
              "      <td>1</td>\n",
              "      <td>4.515520</td>\n",
              "      <td>0</td>\n",
              "      <td>sugar shack</td>\n",
              "    </tr>\n",
              "    <tr>\n",
              "      <th>56899</th>\n",
              "      <td>11807</td>\n",
              "      <td>34316</td>\n",
              "      <td>105749</td>\n",
              "      <td>62</td>\n",
              "      <td>5</td>\n",
              "      <td>1</td>\n",
              "      <td>5</td>\n",
              "      <td>0</td>\n",
              "      <td>0</td>\n",
              "      <td>1</td>\n",
              "      <td>...</td>\n",
              "      <td>0.320822</td>\n",
              "      <td>13.762017</td>\n",
              "      <td>NE5 5BS</td>\n",
              "      <td>NE5</td>\n",
              "      <td>0</td>\n",
              "      <td>4</td>\n",
              "      <td>1</td>\n",
              "      <td>3.321277</td>\n",
              "      <td>0</td>\n",
              "      <td>sugar shack</td>\n",
              "    </tr>\n",
              "    <tr>\n",
              "      <th>56900</th>\n",
              "      <td>11808</td>\n",
              "      <td>44254</td>\n",
              "      <td>104782</td>\n",
              "      <td>3</td>\n",
              "      <td>8</td>\n",
              "      <td>2</td>\n",
              "      <td>13</td>\n",
              "      <td>0</td>\n",
              "      <td>0</td>\n",
              "      <td>11</td>\n",
              "      <td>...</td>\n",
              "      <td>0.476740</td>\n",
              "      <td>20.117191</td>\n",
              "      <td>NE5 5BS</td>\n",
              "      <td>NE5</td>\n",
              "      <td>9</td>\n",
              "      <td>12</td>\n",
              "      <td>2</td>\n",
              "      <td>4.576050</td>\n",
              "      <td>0</td>\n",
              "      <td>sugar shack</td>\n",
              "    </tr>\n",
              "    <tr>\n",
              "      <th>56901</th>\n",
              "      <td>11809</td>\n",
              "      <td>3123</td>\n",
              "      <td>134512</td>\n",
              "      <td>34</td>\n",
              "      <td>9</td>\n",
              "      <td>0</td>\n",
              "      <td>10</td>\n",
              "      <td>0</td>\n",
              "      <td>0</td>\n",
              "      <td>0</td>\n",
              "      <td>...</td>\n",
              "      <td>0.495421</td>\n",
              "      <td>14.842497</td>\n",
              "      <td>NE5 5BS</td>\n",
              "      <td>NE5</td>\n",
              "      <td>0</td>\n",
              "      <td>10</td>\n",
              "      <td>0</td>\n",
              "      <td>4.559070</td>\n",
              "      <td>0</td>\n",
              "      <td>sugar shack</td>\n",
              "    </tr>\n",
              "  </tbody>\n",
              "</table>\n",
              "<p>56902 rows × 26 columns</p>\n",
              "</div>\n",
              "      <button class=\"colab-df-convert\" onclick=\"convertToInteractive('df-1bdc45c8-d81c-4a1a-93a0-8cebaf91eb07')\"\n",
              "              title=\"Convert this dataframe to an interactive table.\"\n",
              "              style=\"display:none;\">\n",
              "        \n",
              "  <svg xmlns=\"http://www.w3.org/2000/svg\" height=\"24px\"viewBox=\"0 0 24 24\"\n",
              "       width=\"24px\">\n",
              "    <path d=\"M0 0h24v24H0V0z\" fill=\"none\"/>\n",
              "    <path d=\"M18.56 5.44l.94 2.06.94-2.06 2.06-.94-2.06-.94-.94-2.06-.94 2.06-2.06.94zm-11 1L8.5 8.5l.94-2.06 2.06-.94-2.06-.94L8.5 2.5l-.94 2.06-2.06.94zm10 10l.94 2.06.94-2.06 2.06-.94-2.06-.94-.94-2.06-.94 2.06-2.06.94z\"/><path d=\"M17.41 7.96l-1.37-1.37c-.4-.4-.92-.59-1.43-.59-.52 0-1.04.2-1.43.59L10.3 9.45l-7.72 7.72c-.78.78-.78 2.05 0 2.83L4 21.41c.39.39.9.59 1.41.59.51 0 1.02-.2 1.41-.59l7.78-7.78 2.81-2.81c.8-.78.8-2.07 0-2.86zM5.41 20L4 18.59l7.72-7.72 1.47 1.35L5.41 20z\"/>\n",
              "  </svg>\n",
              "      </button>\n",
              "      \n",
              "  <style>\n",
              "    .colab-df-container {\n",
              "      display:flex;\n",
              "      flex-wrap:wrap;\n",
              "      gap: 12px;\n",
              "    }\n",
              "\n",
              "    .colab-df-convert {\n",
              "      background-color: #E8F0FE;\n",
              "      border: none;\n",
              "      border-radius: 50%;\n",
              "      cursor: pointer;\n",
              "      display: none;\n",
              "      fill: #1967D2;\n",
              "      height: 32px;\n",
              "      padding: 0 0 0 0;\n",
              "      width: 32px;\n",
              "    }\n",
              "\n",
              "    .colab-df-convert:hover {\n",
              "      background-color: #E2EBFA;\n",
              "      box-shadow: 0px 1px 2px rgba(60, 64, 67, 0.3), 0px 1px 3px 1px rgba(60, 64, 67, 0.15);\n",
              "      fill: #174EA6;\n",
              "    }\n",
              "\n",
              "    [theme=dark] .colab-df-convert {\n",
              "      background-color: #3B4455;\n",
              "      fill: #D2E3FC;\n",
              "    }\n",
              "\n",
              "    [theme=dark] .colab-df-convert:hover {\n",
              "      background-color: #434B5C;\n",
              "      box-shadow: 0px 1px 3px 1px rgba(0, 0, 0, 0.15);\n",
              "      filter: drop-shadow(0px 1px 2px rgba(0, 0, 0, 0.3));\n",
              "      fill: #FFFFFF;\n",
              "    }\n",
              "  </style>\n",
              "\n",
              "      <script>\n",
              "        const buttonEl =\n",
              "          document.querySelector('#df-1bdc45c8-d81c-4a1a-93a0-8cebaf91eb07 button.colab-df-convert');\n",
              "        buttonEl.style.display =\n",
              "          google.colab.kernel.accessAllowed ? 'block' : 'none';\n",
              "\n",
              "        async function convertToInteractive(key) {\n",
              "          const element = document.querySelector('#df-1bdc45c8-d81c-4a1a-93a0-8cebaf91eb07');\n",
              "          const dataTable =\n",
              "            await google.colab.kernel.invokeFunction('convertToInteractive',\n",
              "                                                     [key], {});\n",
              "          if (!dataTable) return;\n",
              "\n",
              "          const docLinkHtml = 'Like what you see? Visit the ' +\n",
              "            '<a target=\"_blank\" href=https://colab.research.google.com/notebooks/data_table.ipynb>data table notebook</a>'\n",
              "            + ' to learn more about interactive tables.';\n",
              "          element.innerHTML = '';\n",
              "          dataTable['output_type'] = 'display_data';\n",
              "          await google.colab.output.renderOutput(dataTable, element);\n",
              "          const docLink = document.createElement('div');\n",
              "          docLink.innerHTML = docLinkHtml;\n",
              "          element.appendChild(docLink);\n",
              "        }\n",
              "      </script>\n",
              "    </div>\n",
              "  </div>\n",
              "  "
            ]
          },
          "metadata": {},
          "execution_count": 10
        }
      ]
    },
    {
      "cell_type": "code",
      "source": [
        "X_train = train_ds.ascii_name_fix\n",
        "y_train = train_ds.predict\n",
        "X_test_ = test_ds.ascii_name_fix\n",
        "y_test_ = test_ds.predict"
      ],
      "metadata": {
        "id": "sx6DAat8DzLc"
      },
      "execution_count": null,
      "outputs": []
    },
    {
      "cell_type": "code",
      "source": [
        "from sklearn.model_selection import train_test_split\n",
        "# now split the test and validation set (5% each, and 90% for training)\n",
        "X_test, X_val, y_test, y_val = train_test_split(X_test_, y_test_, random_state = 42, test_size = 0.5)"
      ],
      "metadata": {
        "id": "KDGcJqlRFEPQ"
      },
      "execution_count": null,
      "outputs": []
    },
    {
      "cell_type": "code",
      "source": [
        "X_train.shape, X_test.shape, X_val.shape"
      ],
      "metadata": {
        "colab": {
          "base_uri": "https://localhost:8080/"
        },
        "id": "nNWqhG19Pe26",
        "outputId": "bff93a8a-71e3-488c-a4dd-b67e92e8f4d8"
      },
      "execution_count": null,
      "outputs": [
        {
          "output_type": "execute_result",
          "data": {
            "text/plain": [
              "((56902,), (2729,), (2729,))"
            ]
          },
          "metadata": {},
          "execution_count": 13
        }
      ]
    },
    {
      "cell_type": "markdown",
      "source": [
        "# READY FOR MODEL TRAINING!!"
      ],
      "metadata": {
        "id": "zWxlc8iCJnbT"
      }
    },
    {
      "cell_type": "markdown",
      "source": [
        "## Model 0 (ML): Baseline model\n",
        "\n",
        "Using support vector regression (benchmark) only"
      ],
      "metadata": {
        "id": "Cmi1-Mi7Ju4y"
      }
    },
    {
      "cell_type": "code",
      "source": [
        "# Create tokenization and modelling pipeline\n",
        "model_0 = Pipeline([\n",
        "                    (\"tfidf\", TfidfVectorizer()), # convert words to numbers using tfidf\n",
        "                    (\"svr\", SVR()) # model the scores\n",
        "])\n",
        "\n",
        "# Fit the pipeline to the training data\n",
        "model_0.fit(X_train,y_train)"
      ],
      "metadata": {
        "id": "nsVU64IGJuIE"
      },
      "execution_count": 3,
      "outputs": []
    },
    {
      "cell_type": "code",
      "source": [
        "from joblib import dump\n",
        "dump(model_0, 'model_0_190722_resampled.joblib')"
      ],
      "metadata": {
        "colab": {
          "base_uri": "https://localhost:8080/"
        },
        "id": "KYxeacGiusb2",
        "outputId": "a8e5f42c-89b4-4928-c4bf-d7a1f93063db"
      },
      "execution_count": null,
      "outputs": [
        {
          "output_type": "execute_result",
          "data": {
            "text/plain": [
              "['model_0_190722_resampled.joblib']"
            ]
          },
          "metadata": {},
          "execution_count": 16
        }
      ]
    },
    {
      "cell_type": "code",
      "source": [
        "from joblib import load\n",
        "model_0 = load('model_0_190722_resampled.joblib')\n",
        "#-> model with average values from food outlets with the same name (should we?)"
      ],
      "metadata": {
        "id": "X4VL7ZznqvmE"
      },
      "execution_count": null,
      "outputs": []
    },
    {
      "cell_type": "markdown",
      "source": [
        "I have done hyperparameter tuning and the best performing model has the default parameters (In notebook `06_Applying_the_Model.ipynb`).\n",
        "\n",
        "> `Best parameter (CV score=0.409):\n",
        "{'svr__C': 1, 'svr__gamma': 'scale', 'svr__kernel': 'rbf'}`\n",
        "\n"
      ],
      "metadata": {
        "id": "raG0Z6j4LVEM"
      }
    },
    {
      "cell_type": "code",
      "source": [
        "# Evaluate the model performance on test set\n",
        "\n",
        "# set up model prediction and metrics\n",
        "def evaluate_preds(model_name, y_true, X_test):\n",
        "  # Make sure float32 (for metric calculations)\n",
        "  y_true = tf.cast(y_true, dtype=tf.float32)\n",
        "  y_pred = model_name.predict(X_test)\n",
        "  y_pred = tf.cast(y_pred, dtype=tf.float32)\n",
        "\n",
        "  # Calculate various metrics\n",
        "  mae = tf.keras.metrics.mean_absolute_error(y_true, y_pred)\n",
        "  mse = tf.keras.metrics.mean_squared_error(y_true, y_pred) # puts and emphasis on outliers (all errors get squared)\n",
        "  rmse = tf.sqrt(mse)\n",
        "  mape = tf.keras.metrics.mean_absolute_percentage_error(y_true, y_pred)\n",
        "\n",
        "  return {\"mae\": mae.numpy(),\n",
        "          \"mse\": mse.numpy(),\n",
        "          \"rmse\": rmse.numpy(),\n",
        "          \"mape\": mape.numpy()}\n"
      ],
      "metadata": {
        "id": "6PYKD1oWKxSX"
      },
      "execution_count": null,
      "outputs": []
    },
    {
      "cell_type": "code",
      "source": [
        "evaluate_preds(model_0, y_train, X_train)"
      ],
      "metadata": {
        "colab": {
          "base_uri": "https://localhost:8080/"
        },
        "id": "ZWk89N9gMLhn",
        "outputId": "4c30ee34-1802-4477-a6de-0b785f598cd9"
      },
      "execution_count": null,
      "outputs": [
        {
          "output_type": "execute_result",
          "data": {
            "text/plain": [
              "{'mae': 0.5939533, 'mape': 39683576.0, 'mse': 0.9335126, 'rmse': 0.96618456}"
            ]
          },
          "metadata": {},
          "execution_count": 18
        }
      ]
    },
    {
      "cell_type": "code",
      "source": [
        "evaluate_preds(model_0, y_test, X_test)"
      ],
      "metadata": {
        "colab": {
          "base_uri": "https://localhost:8080/"
        },
        "id": "-sMAZvXfK3AV",
        "outputId": "87c6382f-ea54-49bf-bc64-3e39542935d9"
      },
      "execution_count": null,
      "outputs": [
        {
          "output_type": "execute_result",
          "data": {
            "text/plain": [
              "{'mae': 0.86366796, 'mape': 10981583.0, 'mse': 1.4286658, 'rmse': 1.195268}"
            ]
          },
          "metadata": {},
          "execution_count": 16
        }
      ]
    },
    {
      "cell_type": "code",
      "source": [
        "# If we assume mean values for prediction, what would the outcome be?\n",
        "mean_absolute_error(y_test,[np.mean(y_train.to_list())]*len(y_test)) #if we assume mean values"
      ],
      "metadata": {
        "colab": {
          "base_uri": "https://localhost:8080/"
        },
        "id": "lpgXG__CK5lt",
        "outputId": "da1fd5b6-6ef0-46fd-f973-e568ddb80869"
      },
      "execution_count": null,
      "outputs": [
        {
          "output_type": "execute_result",
          "data": {
            "text/plain": [
              "1.1863973972209403"
            ]
          },
          "metadata": {},
          "execution_count": 20
        }
      ]
    },
    {
      "cell_type": "markdown",
      "source": [
        "### some prediction examples"
      ],
      "metadata": {
        "id": "8LPnvUYoLNNm"
      }
    },
    {
      "cell_type": "code",
      "source": [
        "# prediction examples\n",
        "names_to_predict = ['X\\'s fish & chip shop', 'Yuru\\'s Pizza & Kebab', 'Yuru\\'s Chinese Takeaways','Yuru\\'s Sushi Takeaways','Yuru\\'s Sushi Restaurant','Yuru\\'s Cocktail Bar',\n",
        "                    'Cambridge Oven','Yo!Sushi','Starbucks','Vanderlyle']\n",
        "names_to_predict2 = [rest_name_cleaning(name) for name in names_to_predict]\n",
        "pd.DataFrame(zip(names_to_predict,model_0.predict(names_to_predict2)),columns=['rest_name','predicted_score'])"
      ],
      "metadata": {
        "colab": {
          "base_uri": "https://localhost:8080/",
          "height": 363
        },
        "id": "g5ix1s3ALPe1",
        "outputId": "a0fc380e-b52a-4a52-d82a-86abe8ef39e7"
      },
      "execution_count": null,
      "outputs": [
        {
          "output_type": "execute_result",
          "data": {
            "text/plain": [
              "                  rest_name  predicted_score\n",
              "0      X's fish & chip shop         5.121290\n",
              "1      Yuru's Pizza & Kebab         4.941605\n",
              "2  Yuru's Chinese Takeaways         6.452868\n",
              "3    Yuru's Sushi Takeaways        10.234860\n",
              "4   Yuru's Sushi Restaurant        11.225519\n",
              "5       Yuru's Cocktail Bar         6.586805\n",
              "6            Cambridge Oven         7.005949\n",
              "7                  Yo!Sushi         9.475604\n",
              "8                 Starbucks         7.416714\n",
              "9                Vanderlyle         5.922581"
            ],
            "text/html": [
              "\n",
              "  <div id=\"df-9c04a539-07c7-414c-b0e7-647c8255ac33\">\n",
              "    <div class=\"colab-df-container\">\n",
              "      <div>\n",
              "<style scoped>\n",
              "    .dataframe tbody tr th:only-of-type {\n",
              "        vertical-align: middle;\n",
              "    }\n",
              "\n",
              "    .dataframe tbody tr th {\n",
              "        vertical-align: top;\n",
              "    }\n",
              "\n",
              "    .dataframe thead th {\n",
              "        text-align: right;\n",
              "    }\n",
              "</style>\n",
              "<table border=\"1\" class=\"dataframe\">\n",
              "  <thead>\n",
              "    <tr style=\"text-align: right;\">\n",
              "      <th></th>\n",
              "      <th>rest_name</th>\n",
              "      <th>predicted_score</th>\n",
              "    </tr>\n",
              "  </thead>\n",
              "  <tbody>\n",
              "    <tr>\n",
              "      <th>0</th>\n",
              "      <td>X's fish &amp; chip shop</td>\n",
              "      <td>5.121290</td>\n",
              "    </tr>\n",
              "    <tr>\n",
              "      <th>1</th>\n",
              "      <td>Yuru's Pizza &amp; Kebab</td>\n",
              "      <td>4.941605</td>\n",
              "    </tr>\n",
              "    <tr>\n",
              "      <th>2</th>\n",
              "      <td>Yuru's Chinese Takeaways</td>\n",
              "      <td>6.452868</td>\n",
              "    </tr>\n",
              "    <tr>\n",
              "      <th>3</th>\n",
              "      <td>Yuru's Sushi Takeaways</td>\n",
              "      <td>10.234860</td>\n",
              "    </tr>\n",
              "    <tr>\n",
              "      <th>4</th>\n",
              "      <td>Yuru's Sushi Restaurant</td>\n",
              "      <td>11.225519</td>\n",
              "    </tr>\n",
              "    <tr>\n",
              "      <th>5</th>\n",
              "      <td>Yuru's Cocktail Bar</td>\n",
              "      <td>6.586805</td>\n",
              "    </tr>\n",
              "    <tr>\n",
              "      <th>6</th>\n",
              "      <td>Cambridge Oven</td>\n",
              "      <td>7.005949</td>\n",
              "    </tr>\n",
              "    <tr>\n",
              "      <th>7</th>\n",
              "      <td>Yo!Sushi</td>\n",
              "      <td>9.475604</td>\n",
              "    </tr>\n",
              "    <tr>\n",
              "      <th>8</th>\n",
              "      <td>Starbucks</td>\n",
              "      <td>7.416714</td>\n",
              "    </tr>\n",
              "    <tr>\n",
              "      <th>9</th>\n",
              "      <td>Vanderlyle</td>\n",
              "      <td>5.922581</td>\n",
              "    </tr>\n",
              "  </tbody>\n",
              "</table>\n",
              "</div>\n",
              "      <button class=\"colab-df-convert\" onclick=\"convertToInteractive('df-9c04a539-07c7-414c-b0e7-647c8255ac33')\"\n",
              "              title=\"Convert this dataframe to an interactive table.\"\n",
              "              style=\"display:none;\">\n",
              "        \n",
              "  <svg xmlns=\"http://www.w3.org/2000/svg\" height=\"24px\"viewBox=\"0 0 24 24\"\n",
              "       width=\"24px\">\n",
              "    <path d=\"M0 0h24v24H0V0z\" fill=\"none\"/>\n",
              "    <path d=\"M18.56 5.44l.94 2.06.94-2.06 2.06-.94-2.06-.94-.94-2.06-.94 2.06-2.06.94zm-11 1L8.5 8.5l.94-2.06 2.06-.94-2.06-.94L8.5 2.5l-.94 2.06-2.06.94zm10 10l.94 2.06.94-2.06 2.06-.94-2.06-.94-.94-2.06-.94 2.06-2.06.94z\"/><path d=\"M17.41 7.96l-1.37-1.37c-.4-.4-.92-.59-1.43-.59-.52 0-1.04.2-1.43.59L10.3 9.45l-7.72 7.72c-.78.78-.78 2.05 0 2.83L4 21.41c.39.39.9.59 1.41.59.51 0 1.02-.2 1.41-.59l7.78-7.78 2.81-2.81c.8-.78.8-2.07 0-2.86zM5.41 20L4 18.59l7.72-7.72 1.47 1.35L5.41 20z\"/>\n",
              "  </svg>\n",
              "      </button>\n",
              "      \n",
              "  <style>\n",
              "    .colab-df-container {\n",
              "      display:flex;\n",
              "      flex-wrap:wrap;\n",
              "      gap: 12px;\n",
              "    }\n",
              "\n",
              "    .colab-df-convert {\n",
              "      background-color: #E8F0FE;\n",
              "      border: none;\n",
              "      border-radius: 50%;\n",
              "      cursor: pointer;\n",
              "      display: none;\n",
              "      fill: #1967D2;\n",
              "      height: 32px;\n",
              "      padding: 0 0 0 0;\n",
              "      width: 32px;\n",
              "    }\n",
              "\n",
              "    .colab-df-convert:hover {\n",
              "      background-color: #E2EBFA;\n",
              "      box-shadow: 0px 1px 2px rgba(60, 64, 67, 0.3), 0px 1px 3px 1px rgba(60, 64, 67, 0.15);\n",
              "      fill: #174EA6;\n",
              "    }\n",
              "\n",
              "    [theme=dark] .colab-df-convert {\n",
              "      background-color: #3B4455;\n",
              "      fill: #D2E3FC;\n",
              "    }\n",
              "\n",
              "    [theme=dark] .colab-df-convert:hover {\n",
              "      background-color: #434B5C;\n",
              "      box-shadow: 0px 1px 3px 1px rgba(0, 0, 0, 0.15);\n",
              "      filter: drop-shadow(0px 1px 2px rgba(0, 0, 0, 0.3));\n",
              "      fill: #FFFFFF;\n",
              "    }\n",
              "  </style>\n",
              "\n",
              "      <script>\n",
              "        const buttonEl =\n",
              "          document.querySelector('#df-9c04a539-07c7-414c-b0e7-647c8255ac33 button.colab-df-convert');\n",
              "        buttonEl.style.display =\n",
              "          google.colab.kernel.accessAllowed ? 'block' : 'none';\n",
              "\n",
              "        async function convertToInteractive(key) {\n",
              "          const element = document.querySelector('#df-9c04a539-07c7-414c-b0e7-647c8255ac33');\n",
              "          const dataTable =\n",
              "            await google.colab.kernel.invokeFunction('convertToInteractive',\n",
              "                                                     [key], {});\n",
              "          if (!dataTable) return;\n",
              "\n",
              "          const docLinkHtml = 'Like what you see? Visit the ' +\n",
              "            '<a target=\"_blank\" href=https://colab.research.google.com/notebooks/data_table.ipynb>data table notebook</a>'\n",
              "            + ' to learn more about interactive tables.';\n",
              "          element.innerHTML = '';\n",
              "          dataTable['output_type'] = 'display_data';\n",
              "          await google.colab.output.renderOutput(dataTable, element);\n",
              "          const docLink = document.createElement('div');\n",
              "          docLink.innerHTML = docLinkHtml;\n",
              "          element.appendChild(docLink);\n",
              "        }\n",
              "      </script>\n",
              "    </div>\n",
              "  </div>\n",
              "  "
            ]
          },
          "metadata": {},
          "execution_count": 17
        }
      ]
    },
    {
      "cell_type": "markdown",
      "source": [
        "### Set up model callbacks"
      ],
      "metadata": {
        "id": "5dvJE7NoQ0c5"
      }
    },
    {
      "cell_type": "markdown",
      "source": [
        "Create a small function to create a ModelCheckpoint callback which saves a model to specified filename. Because we are going to run multiple experiments, we will keep track of them (save the best model)"
      ],
      "metadata": {
        "id": "aJwdMVrTQ6kZ"
      }
    },
    {
      "cell_type": "code",
      "source": [
        "import os\n",
        "\n",
        "# Create a function to implement a ModelCheckpoint callback with a specific filename\n",
        "def create_model_checkpoint(model_name, save_path=\"model_experiments\"):\n",
        "  return tf.keras.callbacks.ModelCheckpoint(filepath=os.path.join(save_path, model_name), # create filepath to save model\n",
        "                                            save_best_only=True, verbose=0) # save only the best model to file\n",
        "\n",
        "# create a function for early stopping\n",
        "early_stopping = tf.keras.callbacks.EarlyStopping(monitor=\"val_loss\", # watch the val loss metric\n",
        "                                                  patience=3, restore_best_weights = True) # if val loss decreases for 3 epochs in a row, stop training"
      ],
      "metadata": {
        "id": "BcUCmTudR0il"
      },
      "execution_count": null,
      "outputs": []
    },
    {
      "cell_type": "markdown",
      "source": [
        "##Model 1 (DL): LSTM model, word level tokenization\n"
      ],
      "metadata": {
        "id": "KDRmeFfnQV6I"
      }
    },
    {
      "cell_type": "code",
      "source": [
        "# create tensorflow datasets for training\n",
        "X_train = tf.data.Dataset.from_tensor_slices(X_train)\n",
        "X_test = tf.data.Dataset.from_tensor_slices(X_test)\n",
        "X_val = tf.data.Dataset.from_tensor_slices(X_val)"
      ],
      "metadata": {
        "id": "YPSNAOtnWJTt"
      },
      "execution_count": null,
      "outputs": []
    },
    {
      "cell_type": "code",
      "source": [
        "y_train =tf.data.Dataset.from_tensor_slices(y_train)\n",
        "y_test =tf.data.Dataset.from_tensor_slices(y_test)\n",
        "y_val = tf.data.Dataset.from_tensor_slices(y_val)"
      ],
      "metadata": {
        "id": "-VyjXQzEWVVX"
      },
      "execution_count": null,
      "outputs": []
    },
    {
      "cell_type": "code",
      "source": [
        "train_ds_word =  tf.data.Dataset.zip((X_train,y_train))\n",
        "test_ds_word =  tf.data.Dataset.zip((X_test,y_test))\n",
        "val_ds_word =  tf.data.Dataset.zip((X_val,y_val))"
      ],
      "metadata": {
        "id": "Vx4llteuWXdk"
      },
      "execution_count": null,
      "outputs": []
    },
    {
      "cell_type": "code",
      "source": [
        "AUTOTUNE = tf.data.AUTOTUNE\n",
        "batch_size = 32\n",
        "train_ds_word = train_ds_word.shuffle(buffer_size=512).batch(batch_size, drop_remainder=True).cache().prefetch(buffer_size=AUTOTUNE)\n",
        "test_ds_word = test_ds_word.shuffle(buffer_size=512).batch(batch_size, drop_remainder=True).cache().prefetch(buffer_size=AUTOTUNE)\n",
        "val_ds_word =val_ds_word.shuffle(buffer_size=512).batch(batch_size, drop_remainder=True).cache().prefetch(buffer_size=AUTOTUNE)"
      ],
      "metadata": {
        "id": "HHKlQkbdW64W"
      },
      "execution_count": null,
      "outputs": []
    },
    {
      "cell_type": "markdown",
      "source": [
        "###Word level tokenization"
      ],
      "metadata": {
        "id": "U06EK8onQtdB"
      }
    },
    {
      "cell_type": "code",
      "source": [
        "max_vocab_length=20000\n",
        "max_length = 10 # max length our sequences will be (e.g. how many words from the restaurant name does our model see?)\n",
        "\n",
        "word_vectorizer = TextVectorization(output_mode=\"int\",\n",
        "                                    max_tokens = max_vocab_length,\n",
        "                                    split = \"whitespace\",\n",
        "                                    standardize =\"lower_and_strip_punctuation\",\n",
        "                                    output_sequence_length=max_length)"
      ],
      "metadata": {
        "id": "ZXuJUYwWQs0N"
      },
      "execution_count": null,
      "outputs": []
    },
    {
      "cell_type": "code",
      "source": [
        "# Find average number of tokens (words) in training restaurant names\n",
        "round(sum([len(i.split()) for i in X_train])/len(X_train)), max([len(i.split()) for i in X_train])"
      ],
      "metadata": {
        "colab": {
          "base_uri": "https://localhost:8080/"
        },
        "id": "t_jV9nkvSXm1",
        "outputId": "033aae81-19b4-418a-db54-01b70d2ead44"
      },
      "execution_count": null,
      "outputs": [
        {
          "output_type": "execute_result",
          "data": {
            "text/plain": [
              "(3, 10)"
            ]
          },
          "metadata": {},
          "execution_count": 25
        }
      ]
    },
    {
      "cell_type": "code",
      "source": [
        "# Fit the text vectorizer to the training text\n",
        "word_vectorizer.adapt(X_train)"
      ],
      "metadata": {
        "id": "KUoJ0JFYSirz"
      },
      "execution_count": null,
      "outputs": []
    },
    {
      "cell_type": "code",
      "source": [
        "# Get the unique words in the vocabulary\n",
        "words_in_vocab = word_vectorizer.get_vocabulary()\n",
        "top_10_words = words_in_vocab[:10] # most common tokens (notice the [UNK] token for \"unknown\" words)\n",
        "bottom_10_words = words_in_vocab[-10:] # least common tokens\n",
        "print(f\"Number of words in vocab: {len(words_in_vocab)}\")\n",
        "print(f\"Top 10 most common words: {top_10_words}\")\n",
        "print(f\"Bottom 10 least common words: {bottom_10_words}\")"
      ],
      "metadata": {
        "colab": {
          "base_uri": "https://localhost:8080/"
        },
        "id": "HAsj2HCcSm0a",
        "outputId": "40a6b45e-5049-4824-8e55-9ff6e5ad1258"
      },
      "execution_count": null,
      "outputs": [
        {
          "output_type": "stream",
          "name": "stdout",
          "text": [
            "Number of words in vocab: 14403\n",
            "Top 10 most common words: ['', '[UNK]', 'la', 'vita', 'spuntini', 'shack', 'sugar', 'and', 'pizza', 'the']\n",
            "Bottom 10 least common words: ['110118', '1093', '107', '1066', '106', '105', '102104', '1018a', '1016', '1012']\n"
          ]
        }
      ]
    },
    {
      "cell_type": "markdown",
      "source": [
        "### model 1 (in action)"
      ],
      "metadata": {
        "id": "KdF9SkFzSvku"
      }
    },
    {
      "cell_type": "code",
      "source": [
        "# Set random seed and create embedding layer (new embedding layer for each model)\n",
        "tf.random.set_seed(42)\n",
        "model_1_embedding = layers.Embedding(input_dim=max_vocab_length,\n",
        "                                     output_dim=64,\n",
        "                                     embeddings_initializer=\"uniform\",\n",
        "                                     input_length=max_length,\n",
        "                                     name=\"embedding_1\")\n",
        "\n",
        "\n",
        "# Create LSTM model\n",
        "inputs = layers.Input(shape=(1,), dtype=\"string\")\n",
        "x = word_vectorizer(inputs)\n",
        "x = model_1_embedding(x)\n",
        "print(x.shape)\n",
        "# x = layers.LSTM(64, return_sequences=True)(x) # return vector for each word in restaurant name (you can stack RNN cells as long as return_sequences=True)\n",
        "# x = tf.keras.layers.Dropout(.2)(x)\n",
        "x = layers.LSTM(64)(x) # return vector for whole sequence\n",
        "x = layers.Flatten()(x)\n",
        "x = tf.keras.layers.Dropout(.2)(x)\n",
        "x = layers.Dense(64, activation=\"relu\")(x)\n",
        "# x = layers.Dense(64, activation=\"relu\")(x)\n",
        "outputs = layers.Dense(1)(x)\n",
        "model_1 = tf.keras.Model(inputs, outputs, name=\"model_1_LSTM_word\")\n",
        "model_1.summary()"
      ],
      "metadata": {
        "colab": {
          "base_uri": "https://localhost:8080/"
        },
        "id": "U2CnnRPZSu97",
        "outputId": "bb22fbb0-2c37-4205-da5c-882202aff587"
      },
      "execution_count": null,
      "outputs": [
        {
          "output_type": "stream",
          "name": "stdout",
          "text": [
            "(None, 10, 64)\n",
            "Model: \"model_1_LSTM_word\"\n",
            "_________________________________________________________________\n",
            " Layer (type)                Output Shape              Param #   \n",
            "=================================================================\n",
            " input_2 (InputLayer)        [(None, 1)]               0         \n",
            "                                                                 \n",
            " text_vectorization (TextVec  (None, 10)               0         \n",
            " torization)                                                     \n",
            "                                                                 \n",
            " embedding_1 (Embedding)     (None, 10, 64)            1280000   \n",
            "                                                                 \n",
            " lstm (LSTM)                 (None, 64)                33024     \n",
            "                                                                 \n",
            " flatten_1 (Flatten)         (None, 64)                0         \n",
            "                                                                 \n",
            " dropout_1 (Dropout)         (None, 64)                0         \n",
            "                                                                 \n",
            " dense_5 (Dense)             (None, 64)                4160      \n",
            "                                                                 \n",
            " dense_6 (Dense)             (None, 1)                 65        \n",
            "                                                                 \n",
            "=================================================================\n",
            "Total params: 1,317,249\n",
            "Trainable params: 1,317,249\n",
            "Non-trainable params: 0\n",
            "_________________________________________________________________\n"
          ]
        }
      ]
    },
    {
      "cell_type": "code",
      "source": [
        "%%time\n",
        "\n",
        "model_1.compile(loss=\"mean_absolute_error\",\n",
        "                optimizer=tf.keras.optimizers.Adam())\n",
        "model_1_history = model_1.fit(train_ds_word, epochs=25, validation_data = val_ds_word,\n",
        "                              callbacks=[create_model_checkpoint(model_name='model_1_LSTM_word'),early_stopping])"
      ],
      "metadata": {
        "colab": {
          "base_uri": "https://localhost:8080/"
        },
        "id": "jY330sv1TC4k",
        "outputId": "c95d2201-f792-4d00-de76-9319f6e16ff1"
      },
      "execution_count": null,
      "outputs": [
        {
          "output_type": "stream",
          "name": "stdout",
          "text": [
            "Epoch 1/25\n",
            "1777/1778 [============================>.] - ETA: 0s - loss: 0.9622"
          ]
        },
        {
          "output_type": "stream",
          "name": "stderr",
          "text": [
            "WARNING:absl:Found untraced functions such as lstm_cell_18_layer_call_fn, lstm_cell_18_layer_call_and_return_conditional_losses while saving (showing 2 of 2). These functions will not be directly callable after loading.\n"
          ]
        },
        {
          "output_type": "stream",
          "name": "stdout",
          "text": [
            "INFO:tensorflow:Assets written to: model_experiments/model_1_LSTM_word/assets\n"
          ]
        },
        {
          "output_type": "stream",
          "name": "stderr",
          "text": [
            "INFO:tensorflow:Assets written to: model_experiments/model_1_LSTM_word/assets\n",
            "WARNING:absl:<keras.layers.recurrent.LSTMCell object at 0x7fdf47df0a90> has the same name 'LSTMCell' as a built-in Keras object. Consider renaming <class 'keras.layers.recurrent.LSTMCell'> to avoid naming conflicts when loading with `tf.keras.models.load_model`. If renaming is not possible, pass the object in the `custom_objects` parameter of the load function.\n"
          ]
        },
        {
          "output_type": "stream",
          "name": "stdout",
          "text": [
            "\b\b\b\b\b\b\b\b\b\b\b\b\b\b\b\b\b\b\b\b\b\b\b\b\b\b\b\b\b\b\b\b\b\b\b\b\b\b\b\b\b\b\b\b\b\b\b\b\b\b\b\b\b\b\b\b\b\b\b\b\b\b\b\b\b\b\b\r1778/1778 [==============================] - 15s 7ms/step - loss: 0.9620 - val_loss: 1.0194\n",
            "Epoch 2/25\n",
            "1778/1778 [==============================] - 8s 5ms/step - loss: 0.7076 - val_loss: 1.4471\n",
            "Epoch 3/25\n",
            "1778/1778 [==============================] - 8s 5ms/step - loss: 0.6059 - val_loss: 1.0855\n",
            "Epoch 4/25\n",
            "1772/1778 [============================>.] - ETA: 0s - loss: 0.5405"
          ]
        },
        {
          "output_type": "stream",
          "name": "stderr",
          "text": [
            "WARNING:absl:Found untraced functions such as lstm_cell_18_layer_call_fn, lstm_cell_18_layer_call_and_return_conditional_losses while saving (showing 2 of 2). These functions will not be directly callable after loading.\n"
          ]
        },
        {
          "output_type": "stream",
          "name": "stdout",
          "text": [
            "INFO:tensorflow:Assets written to: model_experiments/model_1_LSTM_word/assets\n"
          ]
        },
        {
          "output_type": "stream",
          "name": "stderr",
          "text": [
            "INFO:tensorflow:Assets written to: model_experiments/model_1_LSTM_word/assets\n",
            "WARNING:absl:<keras.layers.recurrent.LSTMCell object at 0x7fdf47df0a90> has the same name 'LSTMCell' as a built-in Keras object. Consider renaming <class 'keras.layers.recurrent.LSTMCell'> to avoid naming conflicts when loading with `tf.keras.models.load_model`. If renaming is not possible, pass the object in the `custom_objects` parameter of the load function.\n"
          ]
        },
        {
          "output_type": "stream",
          "name": "stdout",
          "text": [
            "\b\b\b\b\b\b\b\b\b\b\b\b\b\b\b\b\b\b\b\b\b\b\b\b\b\b\b\b\b\b\b\b\b\b\b\b\b\b\b\b\b\b\b\b\b\b\b\b\b\b\b\b\b\b\b\b\b\b\b\b\b\b\b\b\b\b\b\r1778/1778 [==============================] - 13s 7ms/step - loss: 0.5412 - val_loss: 0.8997\n",
            "Epoch 5/25\n",
            "1772/1778 [============================>.] - ETA: 0s - loss: 0.5023"
          ]
        },
        {
          "output_type": "stream",
          "name": "stderr",
          "text": [
            "WARNING:absl:Found untraced functions such as lstm_cell_18_layer_call_fn, lstm_cell_18_layer_call_and_return_conditional_losses while saving (showing 2 of 2). These functions will not be directly callable after loading.\n"
          ]
        },
        {
          "output_type": "stream",
          "name": "stdout",
          "text": [
            "INFO:tensorflow:Assets written to: model_experiments/model_1_LSTM_word/assets\n"
          ]
        },
        {
          "output_type": "stream",
          "name": "stderr",
          "text": [
            "INFO:tensorflow:Assets written to: model_experiments/model_1_LSTM_word/assets\n",
            "WARNING:absl:<keras.layers.recurrent.LSTMCell object at 0x7fdf47df0a90> has the same name 'LSTMCell' as a built-in Keras object. Consider renaming <class 'keras.layers.recurrent.LSTMCell'> to avoid naming conflicts when loading with `tf.keras.models.load_model`. If renaming is not possible, pass the object in the `custom_objects` parameter of the load function.\n"
          ]
        },
        {
          "output_type": "stream",
          "name": "stdout",
          "text": [
            "\b\b\b\b\b\b\b\b\b\b\b\b\b\b\b\b\b\b\b\b\b\b\b\b\b\b\b\b\b\b\b\b\b\b\b\b\b\b\b\b\b\b\b\b\b\b\b\b\b\b\b\b\b\b\b\b\b\b\b\b\b\b\b\b\b\b\b\r1778/1778 [==============================] - 13s 7ms/step - loss: 0.5031 - val_loss: 0.8874\n",
            "Epoch 6/25\n",
            "1778/1778 [==============================] - 9s 5ms/step - loss: 0.4845 - val_loss: 0.8950\n",
            "Epoch 7/25\n",
            "1778/1778 [==============================] - 8s 5ms/step - loss: 0.4700 - val_loss: 0.9059\n",
            "Epoch 8/25\n",
            "1767/1778 [============================>.] - ETA: 0s - loss: 0.4565"
          ]
        },
        {
          "output_type": "stream",
          "name": "stderr",
          "text": [
            "WARNING:absl:Found untraced functions such as lstm_cell_18_layer_call_fn, lstm_cell_18_layer_call_and_return_conditional_losses while saving (showing 2 of 2). These functions will not be directly callable after loading.\n"
          ]
        },
        {
          "output_type": "stream",
          "name": "stdout",
          "text": [
            "INFO:tensorflow:Assets written to: model_experiments/model_1_LSTM_word/assets\n"
          ]
        },
        {
          "output_type": "stream",
          "name": "stderr",
          "text": [
            "INFO:tensorflow:Assets written to: model_experiments/model_1_LSTM_word/assets\n",
            "WARNING:absl:<keras.layers.recurrent.LSTMCell object at 0x7fdf47df0a90> has the same name 'LSTMCell' as a built-in Keras object. Consider renaming <class 'keras.layers.recurrent.LSTMCell'> to avoid naming conflicts when loading with `tf.keras.models.load_model`. If renaming is not possible, pass the object in the `custom_objects` parameter of the load function.\n"
          ]
        },
        {
          "output_type": "stream",
          "name": "stdout",
          "text": [
            "\b\b\b\b\b\b\b\b\b\b\b\b\b\b\b\b\b\b\b\b\b\b\b\b\b\b\b\b\b\b\b\b\b\b\b\b\b\b\b\b\b\b\b\b\b\b\b\b\b\b\b\b\b\b\b\b\b\b\b\b\b\b\b\b\b\b\b\r1778/1778 [==============================] - 13s 8ms/step - loss: 0.4586 - val_loss: 0.8801\n",
            "Epoch 9/25\n",
            "1778/1778 [==============================] - 8s 5ms/step - loss: 0.4361 - val_loss: 0.8974\n",
            "Epoch 10/25\n",
            "1778/1778 [==============================] - 8s 5ms/step - loss: 0.4306 - val_loss: 0.8987\n",
            "Epoch 11/25\n",
            "1769/1778 [============================>.] - ETA: 0s - loss: 0.4243"
          ]
        },
        {
          "output_type": "stream",
          "name": "stderr",
          "text": [
            "WARNING:absl:Found untraced functions such as lstm_cell_18_layer_call_fn, lstm_cell_18_layer_call_and_return_conditional_losses while saving (showing 2 of 2). These functions will not be directly callable after loading.\n"
          ]
        },
        {
          "output_type": "stream",
          "name": "stdout",
          "text": [
            "INFO:tensorflow:Assets written to: model_experiments/model_1_LSTM_word/assets\n"
          ]
        },
        {
          "output_type": "stream",
          "name": "stderr",
          "text": [
            "INFO:tensorflow:Assets written to: model_experiments/model_1_LSTM_word/assets\n",
            "WARNING:absl:<keras.layers.recurrent.LSTMCell object at 0x7fdf47df0a90> has the same name 'LSTMCell' as a built-in Keras object. Consider renaming <class 'keras.layers.recurrent.LSTMCell'> to avoid naming conflicts when loading with `tf.keras.models.load_model`. If renaming is not possible, pass the object in the `custom_objects` parameter of the load function.\n"
          ]
        },
        {
          "output_type": "stream",
          "name": "stdout",
          "text": [
            "\b\b\b\b\b\b\b\b\b\b\b\b\b\b\b\b\b\b\b\b\b\b\b\b\b\b\b\b\b\b\b\b\b\b\b\b\b\b\b\b\b\b\b\b\b\b\b\b\b\b\b\b\b\b\b\b\b\b\b\b\b\b\b\b\b\b\b\r1778/1778 [==============================] - 13s 7ms/step - loss: 0.4262 - val_loss: 0.8796\n",
            "Epoch 12/25\n",
            "1775/1778 [============================>.] - ETA: 0s - loss: 0.4206"
          ]
        },
        {
          "output_type": "stream",
          "name": "stderr",
          "text": [
            "WARNING:absl:Found untraced functions such as lstm_cell_18_layer_call_fn, lstm_cell_18_layer_call_and_return_conditional_losses while saving (showing 2 of 2). These functions will not be directly callable after loading.\n"
          ]
        },
        {
          "output_type": "stream",
          "name": "stdout",
          "text": [
            "INFO:tensorflow:Assets written to: model_experiments/model_1_LSTM_word/assets\n"
          ]
        },
        {
          "output_type": "stream",
          "name": "stderr",
          "text": [
            "INFO:tensorflow:Assets written to: model_experiments/model_1_LSTM_word/assets\n",
            "WARNING:absl:<keras.layers.recurrent.LSTMCell object at 0x7fdf47df0a90> has the same name 'LSTMCell' as a built-in Keras object. Consider renaming <class 'keras.layers.recurrent.LSTMCell'> to avoid naming conflicts when loading with `tf.keras.models.load_model`. If renaming is not possible, pass the object in the `custom_objects` parameter of the load function.\n"
          ]
        },
        {
          "output_type": "stream",
          "name": "stdout",
          "text": [
            "\b\b\b\b\b\b\b\b\b\b\b\b\b\b\b\b\b\b\b\b\b\b\b\b\b\b\b\b\b\b\b\b\b\b\b\b\b\b\b\b\b\b\b\b\b\b\b\b\b\b\b\b\b\b\b\b\b\b\b\b\b\b\b\b\b\b\b\r1778/1778 [==============================] - 15s 8ms/step - loss: 0.4211 - val_loss: 0.8765\n",
            "Epoch 13/25\n",
            "1778/1778 [==============================] - 8s 5ms/step - loss: 0.4201 - val_loss: 0.8782\n",
            "Epoch 14/25\n",
            "1778/1778 [==============================] - 8s 5ms/step - loss: 0.4172 - val_loss: 0.8979\n",
            "Epoch 15/25\n",
            "1778/1778 [==============================] - 8s 5ms/step - loss: 0.4073 - val_loss: 0.9012\n",
            "CPU times: user 3min 4s, sys: 13.8 s, total: 3min 17s\n",
            "Wall time: 2min 55s\n"
          ]
        }
      ]
    },
    {
      "cell_type": "code",
      "source": [
        "import matplotlib.pyplot as plt\n",
        "def plot_loss(history):\n",
        "  plt.plot(history.history['loss'], label='loss')\n",
        "  plt.plot(history.history['val_loss'], label='val_loss')\n",
        "  plt.xlabel('Epoch')\n",
        "  plt.ylabel('Error [Menu Healthiness]')\n",
        "  plt.legend()\n",
        "  plt.grid(True)"
      ],
      "metadata": {
        "id": "x8JZrL4sazFT"
      },
      "execution_count": null,
      "outputs": []
    },
    {
      "cell_type": "code",
      "source": [
        "plot_loss(model_1_history)"
      ],
      "metadata": {
        "colab": {
          "base_uri": "https://localhost:8080/",
          "height": 279
        },
        "id": "wG72RhaJa_LP",
        "outputId": "2fb7378f-7ced-4b44-941c-c4db60e55bd7"
      },
      "execution_count": null,
      "outputs": [
        {
          "output_type": "display_data",
          "data": {
            "text/plain": [
              "<Figure size 432x288 with 1 Axes>"
            ],
            "image/png": "[encoded data removed]"
          },
          "metadata": {
            "needs_background": "light"
          }
        }
      ]
    },
    {
      "cell_type": "code",
      "source": [
        "from tensorflow.keras.utils import plot_model\n",
        "\n",
        "plot_model(model_1)"
      ],
      "metadata": {
        "colab": {
          "base_uri": "https://localhost:8080/",
          "height": 758
        },
        "id": "6nBAA6IseZ7L",
        "outputId": "f01db0bc-53c4-4fad-b949-b917c15f57bc"
      },
      "execution_count": null,
      "outputs": [
        {
          "output_type": "execute_result",
          "data": {
            "text/plain": [
              "<IPython.core.display.Image object>"
            ],
            "image/png": "[encoded data removed]"
          },
          "metadata": {},
          "execution_count": 40
        }
      ]
    },
    {
      "cell_type": "code",
      "source": [
        "# Evaluate model on validation data\n",
        "def model_evaluation(model_name):\n",
        "  model= tf.keras.models.load_model(f\"model_experiments/{model_name}\")\n",
        "  print('results from the training')\n",
        "  model.evaluate(train_ds_word)\n",
        "  print('results from the validation set')\n",
        "  model.evaluate(val_ds_word)\n",
        "  print('results from the test set')\n",
        "  model.evaluate(test_ds_word)"
      ],
      "metadata": {
        "id": "yG5qJGfWzyhX"
      },
      "execution_count": null,
      "outputs": []
    },
    {
      "cell_type": "code",
      "source": [
        "model_evaluation('model_1_LSTM_word')"
      ],
      "metadata": {
        "colab": {
          "base_uri": "https://localhost:8080/"
        },
        "id": "73qi8zKT1AME",
        "outputId": "e7856459-4b30-4b29-d22f-ca014be1c920"
      },
      "execution_count": null,
      "outputs": [
        {
          "output_type": "stream",
          "name": "stdout",
          "text": [
            "results from the training\n",
            "1778/1778 [==============================] - 9s 5ms/step - loss: 0.6555\n",
            "results from the validation set\n",
            "85/85 [==============================] - 1s 12ms/step - loss: 0.8765\n",
            "results from the test set\n",
            "85/85 [==============================] - 1s 12ms/step - loss: 0.8727\n"
          ]
        }
      ]
    },
    {
      "cell_type": "code",
      "source": [
        "pd.DataFrame(zip(names_to_predict,model_1.predict(names_to_predict2)),columns=['rest_name','predicted_score'])"
      ],
      "metadata": {
        "colab": {
          "base_uri": "https://localhost:8080/",
          "height": 363
        },
        "id": "U-jqHbmmdQvA",
        "outputId": "0da8d364-4de3-4b8e-a2ab-79c8b38f5338"
      },
      "execution_count": null,
      "outputs": [
        {
          "output_type": "execute_result",
          "data": {
            "text/plain": [
              "                  rest_name predicted_score\n",
              "0      X's fish & chip shop      [6.843343]\n",
              "1      Yuru's Pizza & Kebab     [5.6181097]\n",
              "2  Yuru's Chinese Takeaways     [6.8789444]\n",
              "3    Yuru's Sushi Takeaways     [8.5164995]\n",
              "4   Yuru's Sushi Restaurant     [8.7171755]\n",
              "5       Yuru's Cocktail Bar     [6.4798574]\n",
              "6            Cambridge Oven     [5.2081327]\n",
              "7                  Yo!Sushi      [6.886839]\n",
              "8                 Starbucks     [7.2835846]\n",
              "9                Vanderlyle      [6.886839]"
            ],
            "text/html": [
              "\n",
              "  <div id=\"df-c4e9ca08-b906-4988-83ef-9e93cda2495f\">\n",
              "    <div class=\"colab-df-container\">\n",
              "      <div>\n",
              "<style scoped>\n",
              "    .dataframe tbody tr th:only-of-type {\n",
              "        vertical-align: middle;\n",
              "    }\n",
              "\n",
              "    .dataframe tbody tr th {\n",
              "        vertical-align: top;\n",
              "    }\n",
              "\n",
              "    .dataframe thead th {\n",
              "        text-align: right;\n",
              "    }\n",
              "</style>\n",
              "<table border=\"1\" class=\"dataframe\">\n",
              "  <thead>\n",
              "    <tr style=\"text-align: right;\">\n",
              "      <th></th>\n",
              "      <th>rest_name</th>\n",
              "      <th>predicted_score</th>\n",
              "    </tr>\n",
              "  </thead>\n",
              "  <tbody>\n",
              "    <tr>\n",
              "      <th>0</th>\n",
              "      <td>X's fish &amp; chip shop</td>\n",
              "      <td>[6.843343]</td>\n",
              "    </tr>\n",
              "    <tr>\n",
              "      <th>1</th>\n",
              "      <td>Yuru's Pizza &amp; Kebab</td>\n",
              "      <td>[5.6181097]</td>\n",
              "    </tr>\n",
              "    <tr>\n",
              "      <th>2</th>\n",
              "      <td>Yuru's Chinese Takeaways</td>\n",
              "      <td>[6.8789444]</td>\n",
              "    </tr>\n",
              "    <tr>\n",
              "      <th>3</th>\n",
              "      <td>Yuru's Sushi Takeaways</td>\n",
              "      <td>[8.5164995]</td>\n",
              "    </tr>\n",
              "    <tr>\n",
              "      <th>4</th>\n",
              "      <td>Yuru's Sushi Restaurant</td>\n",
              "      <td>[8.7171755]</td>\n",
              "    </tr>\n",
              "    <tr>\n",
              "      <th>5</th>\n",
              "      <td>Yuru's Cocktail Bar</td>\n",
              "      <td>[6.4798574]</td>\n",
              "    </tr>\n",
              "    <tr>\n",
              "      <th>6</th>\n",
              "      <td>Cambridge Oven</td>\n",
              "      <td>[5.2081327]</td>\n",
              "    </tr>\n",
              "    <tr>\n",
              "      <th>7</th>\n",
              "      <td>Yo!Sushi</td>\n",
              "      <td>[6.886839]</td>\n",
              "    </tr>\n",
              "    <tr>\n",
              "      <th>8</th>\n",
              "      <td>Starbucks</td>\n",
              "      <td>[7.2835846]</td>\n",
              "    </tr>\n",
              "    <tr>\n",
              "      <th>9</th>\n",
              "      <td>Vanderlyle</td>\n",
              "      <td>[6.886839]</td>\n",
              "    </tr>\n",
              "  </tbody>\n",
              "</table>\n",
              "</div>\n",
              "      <button class=\"colab-df-convert\" onclick=\"convertToInteractive('df-c4e9ca08-b906-4988-83ef-9e93cda2495f')\"\n",
              "              title=\"Convert this dataframe to an interactive table.\"\n",
              "              style=\"display:none;\">\n",
              "        \n",
              "  <svg xmlns=\"http://www.w3.org/2000/svg\" height=\"24px\"viewBox=\"0 0 24 24\"\n",
              "       width=\"24px\">\n",
              "    <path d=\"M0 0h24v24H0V0z\" fill=\"none\"/>\n",
              "    <path d=\"M18.56 5.44l.94 2.06.94-2.06 2.06-.94-2.06-.94-.94-2.06-.94 2.06-2.06.94zm-11 1L8.5 8.5l.94-2.06 2.06-.94-2.06-.94L8.5 2.5l-.94 2.06-2.06.94zm10 10l.94 2.06.94-2.06 2.06-.94-2.06-.94-.94-2.06-.94 2.06-2.06.94z\"/><path d=\"M17.41 7.96l-1.37-1.37c-.4-.4-.92-.59-1.43-.59-.52 0-1.04.2-1.43.59L10.3 9.45l-7.72 7.72c-.78.78-.78 2.05 0 2.83L4 21.41c.39.39.9.59 1.41.59.51 0 1.02-.2 1.41-.59l7.78-7.78 2.81-2.81c.8-.78.8-2.07 0-2.86zM5.41 20L4 18.59l7.72-7.72 1.47 1.35L5.41 20z\"/>\n",
              "  </svg>\n",
              "      </button>\n",
              "      \n",
              "  <style>\n",
              "    .colab-df-container {\n",
              "      display:flex;\n",
              "      flex-wrap:wrap;\n",
              "      gap: 12px;\n",
              "    }\n",
              "\n",
              "    .colab-df-convert {\n",
              "      background-color: #E8F0FE;\n",
              "      border: none;\n",
              "      border-radius: 50%;\n",
              "      cursor: pointer;\n",
              "      display: none;\n",
              "      fill: #1967D2;\n",
              "      height: 32px;\n",
              "      padding: 0 0 0 0;\n",
              "      width: 32px;\n",
              "    }\n",
              "\n",
              "    .colab-df-convert:hover {\n",
              "      background-color: #E2EBFA;\n",
              "      box-shadow: 0px 1px 2px rgba(60, 64, 67, 0.3), 0px 1px 3px 1px rgba(60, 64, 67, 0.15);\n",
              "      fill: #174EA6;\n",
              "    }\n",
              "\n",
              "    [theme=dark] .colab-df-convert {\n",
              "      background-color: #3B4455;\n",
              "      fill: #D2E3FC;\n",
              "    }\n",
              "\n",
              "    [theme=dark] .colab-df-convert:hover {\n",
              "      background-color: #434B5C;\n",
              "      box-shadow: 0px 1px 3px 1px rgba(0, 0, 0, 0.15);\n",
              "      filter: drop-shadow(0px 1px 2px rgba(0, 0, 0, 0.3));\n",
              "      fill: #FFFFFF;\n",
              "    }\n",
              "  </style>\n",
              "\n",
              "      <script>\n",
              "        const buttonEl =\n",
              "          document.querySelector('#df-c4e9ca08-b906-4988-83ef-9e93cda2495f button.colab-df-convert');\n",
              "        buttonEl.style.display =\n",
              "          google.colab.kernel.accessAllowed ? 'block' : 'none';\n",
              "\n",
              "        async function convertToInteractive(key) {\n",
              "          const element = document.querySelector('#df-c4e9ca08-b906-4988-83ef-9e93cda2495f');\n",
              "          const dataTable =\n",
              "            await google.colab.kernel.invokeFunction('convertToInteractive',\n",
              "                                                     [key], {});\n",
              "          if (!dataTable) return;\n",
              "\n",
              "          const docLinkHtml = 'Like what you see? Visit the ' +\n",
              "            '<a target=\"_blank\" href=https://colab.research.google.com/notebooks/data_table.ipynb>data table notebook</a>'\n",
              "            + ' to learn more about interactive tables.';\n",
              "          element.innerHTML = '';\n",
              "          dataTable['output_type'] = 'display_data';\n",
              "          await google.colab.output.renderOutput(dataTable, element);\n",
              "          const docLink = document.createElement('div');\n",
              "          docLink.innerHTML = docLinkHtml;\n",
              "          element.appendChild(docLink);\n",
              "        }\n",
              "      </script>\n",
              "    </div>\n",
              "  </div>\n",
              "  "
            ]
          },
          "metadata": {},
          "execution_count": 161
        }
      ]
    },
    {
      "cell_type": "markdown",
      "source": [
        "## Model 2 (DL): LSTM model, character level tokenization"
      ],
      "metadata": {
        "id": "Czj8j3X4XeMO"
      }
    },
    {
      "cell_type": "markdown",
      "source": [
        "### character level tokenization"
      ],
      "metadata": {
        "id": "RpyO2wsFX5BY"
      }
    },
    {
      "cell_type": "code",
      "source": [
        "# set up character level tokenization\n",
        "max_features = 39          # Number of distinct chars\n",
        "sequence_length = 57       # Input sequence size\n",
        "\n",
        "def char_split(input_data):\n",
        "  return(tf.strings.unicode_split(input_data,'UTF-8'))\n",
        "\n",
        "vectorize_layer = TextVectorization(\n",
        "    max_tokens=max_features,\n",
        "    split=char_split, # word_split or char_split\n",
        "    output_mode=\"int\",\n",
        "    output_sequence_length=sequence_length,\n",
        ")"
      ],
      "metadata": {
        "id": "Kj40tmpgeHUz"
      },
      "execution_count": null,
      "outputs": []
    },
    {
      "cell_type": "code",
      "source": [
        "batch_size = 32\n",
        "vectorize_layer.adapt(X_train.batch(batch_size))"
      ],
      "metadata": {
        "id": "6FetmnC1ePNV"
      },
      "execution_count": null,
      "outputs": []
    },
    {
      "cell_type": "code",
      "source": [
        "# Average number of characters in the restaurant name\n",
        "round(sum([len(tf.strings.unicode_split(i,\"UTF-8\")) for i in X_train])/len(X_train))"
      ],
      "metadata": {
        "colab": {
          "base_uri": "https://localhost:8080/"
        },
        "id": "KcLpdbGf9b1t",
        "outputId": "762278f7-1ecf-44dd-abb7-ac6bb27427de"
      },
      "execution_count": null,
      "outputs": [
        {
          "output_type": "execute_result",
          "data": {
            "text/plain": [
              "16"
            ]
          },
          "metadata": {},
          "execution_count": 164
        }
      ]
    },
    {
      "cell_type": "code",
      "source": [
        "# Maximum number of characters in the restaurant name\n",
        "max([len(tf.strings.unicode_split(i,\"UTF-8\")) for i in X_train])"
      ],
      "metadata": {
        "id": "4qDKCeou9tbn"
      },
      "execution_count": null,
      "outputs": []
    },
    {
      "cell_type": "code",
      "source": [
        "def vectorize_text(text):\n",
        "  text = tf.expand_dims(text, -1)\n",
        "  return tf.squeeze(vectorize_layer(text))"
      ],
      "metadata": {
        "id": "-XObfusyPZJ9"
      },
      "execution_count": null,
      "outputs": []
    },
    {
      "cell_type": "code",
      "source": [
        "vectorize_text('Yuru chinese best')"
      ],
      "metadata": {
        "colab": {
          "base_uri": "https://localhost:8080/"
        },
        "id": "qh_FhY-oRKON",
        "outputId": "fb2e07b3-e170-4433-c159-2576b3d708ca"
      },
      "execution_count": null,
      "outputs": [
        {
          "output_type": "execute_result",
          "data": {
            "text/plain": [
              "<tf.Tensor: shape=(57,), dtype=int64, numpy=\n",
              "array([23, 10,  9, 10,  2, 13, 12,  4,  6,  8,  5,  8,  2, 20,  8,  5,  7,\n",
              "        0,  0,  0,  0,  0,  0,  0,  0,  0,  0,  0,  0,  0,  0,  0,  0,  0,\n",
              "        0,  0,  0,  0,  0,  0,  0,  0,  0,  0,  0,  0,  0,  0,  0,  0,  0,\n",
              "        0,  0,  0,  0,  0,  0])>"
            ]
          },
          "metadata": {},
          "execution_count": 168
        }
      ]
    },
    {
      "cell_type": "code",
      "source": [
        "# vectorize the training and test set for building the model\n",
        "X_train_char = X_train.map(vectorize_text)\n",
        "X_val_char = X_val.map(vectorize_text)\n",
        "X_test_char = X_test.map(vectorize_text)"
      ],
      "metadata": {
        "id": "sFaTM5p2O03k"
      },
      "execution_count": null,
      "outputs": []
    },
    {
      "cell_type": "code",
      "source": [
        "train_ds_char =  tf.data.Dataset.zip((X_train_char,y_train))\n",
        "AUTOTUNE = tf.data.AUTOTUNE\n",
        "train_ds_char = train_ds_char.shuffle(buffer_size=512).batch(batch_size, drop_remainder=True).cache().prefetch(buffer_size=AUTOTUNE)"
      ],
      "metadata": {
        "id": "-Rx1dC5qRfiq"
      },
      "execution_count": null,
      "outputs": []
    },
    {
      "cell_type": "code",
      "source": [
        "val_ds_char =  tf.data.Dataset.zip((X_val_char,y_val))\n",
        "val_ds_char = val_ds_char.shuffle(buffer_size=512).batch(batch_size, drop_remainder=True).cache().prefetch(buffer_size=AUTOTUNE)\n",
        "test_ds_char =  tf.data.Dataset.zip((X_test_char,y_val))\n",
        "test_ds_char = test_ds_char.shuffle(buffer_size=512).batch(batch_size, drop_remainder=True).cache().prefetch(buffer_size=AUTOTUNE)"
      ],
      "metadata": {
        "id": "4NduDCvMRw-j"
      },
      "execution_count": null,
      "outputs": []
    },
    {
      "cell_type": "code",
      "source": [
        "# Set random seed and create embedding layer (new embedding layer for each model)\n",
        "tf.random.set_seed(42)\n",
        "\n",
        "inputs = tf.keras.Input(shape=(sequence_length), dtype=\"int64\")\n",
        "\n",
        "x = layers.Embedding(max_features,output_dim=64,embeddings_initializer=\"uniform\",\n",
        "                                     name=\"embedding_2\")(inputs)\n",
        "\n",
        "x = layers.LSTM(64, return_sequences=True)(x)\n",
        "x = layers.Flatten()(x)\n",
        "x = tf.keras.layers.Dropout(.2)(x)\n",
        "#x = layers.Dense(64, activation=\"relu\")(x) # optional dense layer on top of output of LSTM cell\n",
        "# x = layers.Dense(64, activation=\"relu\")(x)\n",
        "outputs = layers.Dense(1)(x)\n",
        "model_2 = tf.keras.Model(inputs, outputs, name=\"model_2_LSTM_char\")\n",
        "model_2.summary()"
      ],
      "metadata": {
        "colab": {
          "base_uri": "https://localhost:8080/"
        },
        "id": "lk2fNIaKXdSK",
        "outputId": "5de59ee3-948a-4d89-c837-5562bc472946"
      },
      "execution_count": null,
      "outputs": [
        {
          "output_type": "stream",
          "name": "stdout",
          "text": [
            "Model: \"model_2_LSTM_char\"\n",
            "_________________________________________________________________\n",
            " Layer (type)                Output Shape              Param #   \n",
            "=================================================================\n",
            " input_24 (InputLayer)       [(None, 57)]              0         \n",
            "                                                                 \n",
            " embedding_2 (Embedding)     (None, 57, 64)            2496      \n",
            "                                                                 \n",
            " lstm_14 (LSTM)              (None, 57, 64)            33024     \n",
            "                                                                 \n",
            " flatten_12 (Flatten)        (None, 3648)              0         \n",
            "                                                                 \n",
            " dropout_11 (Dropout)        (None, 3648)              0         \n",
            "                                                                 \n",
            " dense_28 (Dense)            (None, 1)                 3649      \n",
            "                                                                 \n",
            "=================================================================\n",
            "Total params: 39,169\n",
            "Trainable params: 39,169\n",
            "Non-trainable params: 0\n",
            "_________________________________________________________________\n"
          ]
        }
      ]
    },
    {
      "cell_type": "code",
      "source": [
        "model_2.compile(loss=\"mean_absolute_error\",\n",
        "                optimizer=tf.keras.optimizers.Adam())\n",
        "model_2_history = model_2.fit(train_ds, epochs=25, validation_data =val_ds,\n",
        "                              callbacks=[create_model_checkpoint(model_name=model_2.name),early_stopping])"
      ],
      "metadata": {
        "id": "3iYKtj7YdWQn"
      },
      "execution_count": 1,
      "outputs": []
    },
    {
      "cell_type": "code",
      "source": [
        "plot_loss(model_2_history)"
      ],
      "metadata": {
        "id": "7MuDWKR1f6rf"
      },
      "execution_count": null,
      "outputs": []
    },
    {
      "cell_type": "code",
      "source": [
        "model_2 = tf.keras.models.load_model(\"model_experiments/model_2_LSTM_char\")"
      ],
      "metadata": {
        "id": "DFFOAuZ6133o"
      },
      "execution_count": null,
      "outputs": []
    },
    {
      "cell_type": "code",
      "source": [
        "model_2.evaluate(train_ds)"
      ],
      "metadata": {
        "id": "D-dolAuxUat6"
      },
      "execution_count": null,
      "outputs": []
    },
    {
      "cell_type": "code",
      "source": [
        "model_2.evaluate(val_ds)"
      ],
      "metadata": {
        "id": "c9DmFbFfUuRK"
      },
      "execution_count": null,
      "outputs": []
    },
    {
      "cell_type": "markdown",
      "source": [
        "##Model 3(DL): GRU, word level\n",
        "\n",
        "Another popular and effective RNN component is the GRU or gated recurrent unit.The GRU cell has similar features to an LSTM cell but has less parameters."
      ],
      "metadata": {
        "id": "8ySym8JNe049"
      }
    },
    {
      "cell_type": "code",
      "source": [
        "# Set random seed and create embedding layer (new embedding layer for each model)\n",
        "tf.random.set_seed(42)\n",
        "model_3_embedding = layers.Embedding(input_dim=max_vocab_length,\n",
        "                                     output_dim=64,\n",
        "                                     embeddings_initializer=\"uniform\",\n",
        "                                     input_length=max_length,\n",
        "                                     name=\"embedding_3\")\n",
        "\n",
        "# Build an RNN using the GRU cell\n",
        "inputs = layers.Input(shape=(1,), dtype=\"string\")\n",
        "x = word_vectorizer(inputs)\n",
        "x = model_3_embedding(x)\n",
        "x= layers.GRU(64)(x)\n",
        "x = layers.Flatten()(x)\n",
        "x = layers.Dropout(0.2)(x)\n",
        "# x = layers.GRU(64, return_sequences=True) # stacking recurrent cells requires return_sequences=True\n",
        "# x = layers.Dense(64, activation=\"relu\")(x) # optional dense layer after GRU cell\n",
        "outputs = layers.Dense(1)(x)\n",
        "model_3 = tf.keras.Model(inputs, outputs, name=\"model_3_GRU_word\")"
      ],
      "metadata": {
        "id": "XBR7xUD_fDE2"
      },
      "execution_count": null,
      "outputs": []
    },
    {
      "cell_type": "code",
      "source": [
        "model_3.summary()"
      ],
      "metadata": {
        "colab": {
          "base_uri": "https://localhost:8080/"
        },
        "id": "0WwxEgP4R63S",
        "outputId": "ba552bf6-0ba4-4a01-b5c5-53c3027fa797"
      },
      "execution_count": null,
      "outputs": [
        {
          "output_type": "stream",
          "name": "stdout",
          "text": [
            "Model: \"model_3_GRU_word\"\n",
            "_________________________________________________________________\n",
            " Layer (type)                Output Shape              Param #   \n",
            "=================================================================\n",
            " input_1 (InputLayer)        [(None, 1)]               0         \n",
            "                                                                 \n",
            " text_vectorization (TextVec  (None, 10)               0         \n",
            " torization)                                                     \n",
            "                                                                 \n",
            " embedding_3 (Embedding)     (None, 10, 64)            1280000   \n",
            "                                                                 \n",
            " gru_2 (GRU)                 (None, 64)                24960     \n",
            "                                                                 \n",
            " flatten (Flatten)           (None, 64)                0         \n",
            "                                                                 \n",
            " dropout (Dropout)           (None, 64)                0         \n",
            "                                                                 \n",
            " dense_4 (Dense)             (None, 1)                 65        \n",
            "                                                                 \n",
            "=================================================================\n",
            "Total params: 1,305,025\n",
            "Trainable params: 1,305,025\n",
            "Non-trainable params: 0\n",
            "_________________________________________________________________\n"
          ]
        }
      ]
    },
    {
      "cell_type": "code",
      "source": [
        "model_3.compile(loss=\"mean_absolute_error\",\n",
        "                optimizer=tf.keras.optimizers.Adam())\n",
        "model_3_history = model_3.fit(train_ds_word, epochs=25, validation_data = val_ds_word,\n",
        "                              callbacks=[create_model_checkpoint(model_name=model_3.name), early_stopping])"
      ],
      "metadata": {
        "id": "3Pww-8gsfL0F"
      },
      "execution_count": null,
      "outputs": []
    },
    {
      "cell_type": "code",
      "source": [
        "plot_loss(model_3_history)"
      ],
      "metadata": {
        "id": "9xpijpmGfQQs"
      },
      "execution_count": null,
      "outputs": []
    },
    {
      "cell_type": "code",
      "source": [
        "model_evaluation(\"model_3_GRU_word\")"
      ],
      "metadata": {
        "id": "rhHmIEgHA8Uh"
      },
      "execution_count": null,
      "outputs": []
    },
    {
      "cell_type": "code",
      "source": [
        "pd.DataFrame(zip(names_to_predict,model_3.predict(names_to_predict2)),columns=['rest_name','predicted_score'])"
      ],
      "metadata": {
        "id": "HyBcNH3Zj3gN"
      },
      "execution_count": null,
      "outputs": []
    },
    {
      "cell_type": "markdown",
      "source": [
        "## Model 4 (DL): GRU, character level"
      ],
      "metadata": {
        "id": "nLxjHedVgIou"
      }
    },
    {
      "cell_type": "code",
      "source": [
        "# Set random seed and create embedding layer (new embedding layer for each model)\n",
        "tf.random.set_seed(42)\n",
        "\n",
        "inputs = tf.keras.Input(shape=(sequence_length), dtype=\"int64\")\n",
        "\n",
        "x = layers.Embedding(max_features,output_dim=64,embeddings_initializer=\"uniform\",\n",
        "                                     name=\"embedding_4\")(inputs)\n",
        "\n",
        "x = layers.GRU(64, return_sequences=True)(x)\n",
        "x = layers.Flatten()(x)\n",
        "x= layers.Dropout(0.2)(x)\n",
        "#x = layers.Dense(64, activation=\"relu\")(x) # optional dense layer on top of output of LSTM cell\n",
        "outputs = layers.Dense(1)(x)\n",
        "model_4 = tf.keras.Model(inputs, outputs, name=\"model_4_GRU_char\")\n",
        "model_4.summary()"
      ],
      "metadata": {
        "id": "M9QT6CIlgMSX",
        "colab": {
          "base_uri": "https://localhost:8080/"
        },
        "outputId": "1be9feb5-df53-441a-cb6e-1e3c16bd0a10"
      },
      "execution_count": null,
      "outputs": [
        {
          "output_type": "stream",
          "name": "stdout",
          "text": [
            "Model: \"model_4_GRU_char\"\n",
            "_________________________________________________________________\n",
            " Layer (type)                Output Shape              Param #   \n",
            "=================================================================\n",
            " input_25 (InputLayer)       [(None, 57)]              0         \n",
            "                                                                 \n",
            " embedding_4 (Embedding)     (None, 57, 64)            2496      \n",
            "                                                                 \n",
            " gru_7 (GRU)                 (None, 57, 64)            24960     \n",
            "                                                                 \n",
            " flatten_13 (Flatten)        (None, 3648)              0         \n",
            "                                                                 \n",
            " dropout_12 (Dropout)        (None, 3648)              0         \n",
            "                                                                 \n",
            " dense_29 (Dense)            (None, 1)                 3649      \n",
            "                                                                 \n",
            "=================================================================\n",
            "Total params: 31,105\n",
            "Trainable params: 31,105\n",
            "Non-trainable params: 0\n",
            "_________________________________________________________________\n"
          ]
        }
      ]
    },
    {
      "cell_type": "code",
      "source": [
        "model_4.compile(loss=\"mean_absolute_error\",\n",
        "                optimizer=tf.keras.optimizers.Adam(),\n",
        "                metrics = ['mae'])\n",
        "\n",
        "model_4_history = model_4.fit(train_ds, epochs=25, validation_data = val_ds,\n",
        "                              callbacks=[create_model_checkpoint(model_name=model_4.name), early_stopping])"
      ],
      "metadata": {
        "colab": {
          "base_uri": "https://localhost:8080/"
        },
        "id": "1CdM_X4ngXZ-",
        "outputId": "23fdd312-9296-4145-be71-93eedd64b40d"
      },
      "execution_count": null,
      "outputs": [
        {
          "output_type": "stream",
          "name": "stdout",
          "text": [
            "Epoch 1/25\n",
            "1775/1778 [============================>.] - ETA: 0s - loss: 0.9630 - mae: 0.9630"
          ]
        },
        {
          "output_type": "stream",
          "name": "stderr",
          "text": [
            "WARNING:absl:Found untraced functions such as gru_cell_9_layer_call_fn, gru_cell_9_layer_call_and_return_conditional_losses while saving (showing 2 of 2). These functions will not be directly callable after loading.\n"
          ]
        },
        {
          "output_type": "stream",
          "name": "stdout",
          "text": [
            "INFO:tensorflow:Assets written to: model_experiments/model_4_GRU_char/assets\n"
          ]
        },
        {
          "output_type": "stream",
          "name": "stderr",
          "text": [
            "INFO:tensorflow:Assets written to: model_experiments/model_4_GRU_char/assets\n",
            "WARNING:absl:<keras.layers.recurrent.GRUCell object at 0x7fdee0643050> has the same name 'GRUCell' as a built-in Keras object. Consider renaming <class 'keras.layers.recurrent.GRUCell'> to avoid naming conflicts when loading with `tf.keras.models.load_model`. If renaming is not possible, pass the object in the `custom_objects` parameter of the load function.\n"
          ]
        },
        {
          "output_type": "stream",
          "name": "stdout",
          "text": [
            "\b\b\b\b\b\b\b\b\b\b\b\b\b\b\b\b\b\b\b\b\b\b\b\b\b\b\b\b\b\b\b\b\b\b\b\b\b\b\b\b\b\b\b\b\b\b\b\b\b\b\b\b\b\b\b\b\b\b\b\b\b\b\b\b\b\b\b\b\b\b\b\b\b\b\b\b\b\b\b\b\b\r1778/1778 [==============================] - 17s 9ms/step - loss: 0.9625 - mae: 0.9625 - val_loss: 1.1828 - val_mae: 1.1828\n",
            "Epoch 2/25\n",
            "1777/1778 [============================>.] - ETA: 0s - loss: 0.8549 - mae: 0.8549"
          ]
        },
        {
          "output_type": "stream",
          "name": "stderr",
          "text": [
            "WARNING:absl:Found untraced functions such as gru_cell_9_layer_call_fn, gru_cell_9_layer_call_and_return_conditional_losses while saving (showing 2 of 2). These functions will not be directly callable after loading.\n"
          ]
        },
        {
          "output_type": "stream",
          "name": "stdout",
          "text": [
            "INFO:tensorflow:Assets written to: model_experiments/model_4_GRU_char/assets\n"
          ]
        },
        {
          "output_type": "stream",
          "name": "stderr",
          "text": [
            "INFO:tensorflow:Assets written to: model_experiments/model_4_GRU_char/assets\n",
            "WARNING:absl:<keras.layers.recurrent.GRUCell object at 0x7fdee0643050> has the same name 'GRUCell' as a built-in Keras object. Consider renaming <class 'keras.layers.recurrent.GRUCell'> to avoid naming conflicts when loading with `tf.keras.models.load_model`. If renaming is not possible, pass the object in the `custom_objects` parameter of the load function.\n"
          ]
        },
        {
          "output_type": "stream",
          "name": "stdout",
          "text": [
            "\b\b\b\b\b\b\b\b\b\b\b\b\b\b\b\b\b\b\b\b\b\b\b\b\b\b\b\b\b\b\b\b\b\b\b\b\b\b\b\b\b\b\b\b\b\b\b\b\b\b\b\b\b\b\b\b\b\b\b\b\b\b\b\b\b\b\b\b\b\b\b\b\b\b\b\b\b\b\b\b\b\r1778/1778 [==============================] - 12s 7ms/step - loss: 0.8547 - mae: 0.8547 - val_loss: 1.0982 - val_mae: 1.0982\n",
            "Epoch 3/25\n",
            "1768/1778 [============================>.] - ETA: 0s - loss: 0.8268 - mae: 0.8268"
          ]
        },
        {
          "output_type": "stream",
          "name": "stderr",
          "text": [
            "WARNING:absl:Found untraced functions such as gru_cell_9_layer_call_fn, gru_cell_9_layer_call_and_return_conditional_losses while saving (showing 2 of 2). These functions will not be directly callable after loading.\n"
          ]
        },
        {
          "output_type": "stream",
          "name": "stdout",
          "text": [
            "INFO:tensorflow:Assets written to: model_experiments/model_4_GRU_char/assets\n"
          ]
        },
        {
          "output_type": "stream",
          "name": "stderr",
          "text": [
            "INFO:tensorflow:Assets written to: model_experiments/model_4_GRU_char/assets\n",
            "WARNING:absl:<keras.layers.recurrent.GRUCell object at 0x7fdee0643050> has the same name 'GRUCell' as a built-in Keras object. Consider renaming <class 'keras.layers.recurrent.GRUCell'> to avoid naming conflicts when loading with `tf.keras.models.load_model`. If renaming is not possible, pass the object in the `custom_objects` parameter of the load function.\n"
          ]
        },
        {
          "output_type": "stream",
          "name": "stdout",
          "text": [
            "\b\b\b\b\b\b\b\b\b\b\b\b\b\b\b\b\b\b\b\b\b\b\b\b\b\b\b\b\b\b\b\b\b\b\b\b\b\b\b\b\b\b\b\b\b\b\b\b\b\b\b\b\b\b\b\b\b\b\b\b\b\b\b\b\b\b\b\b\b\b\b\b\b\b\b\b\b\b\b\b\b\r1778/1778 [==============================] - 13s 7ms/step - loss: 0.8262 - mae: 0.8262 - val_loss: 1.0635 - val_mae: 1.0635\n",
            "Epoch 4/25\n",
            "1776/1778 [============================>.] - ETA: 0s - loss: 0.8047 - mae: 0.8047"
          ]
        },
        {
          "output_type": "stream",
          "name": "stderr",
          "text": [
            "WARNING:absl:Found untraced functions such as gru_cell_9_layer_call_fn, gru_cell_9_layer_call_and_return_conditional_losses while saving (showing 2 of 2). These functions will not be directly callable after loading.\n"
          ]
        },
        {
          "output_type": "stream",
          "name": "stdout",
          "text": [
            "INFO:tensorflow:Assets written to: model_experiments/model_4_GRU_char/assets\n"
          ]
        },
        {
          "output_type": "stream",
          "name": "stderr",
          "text": [
            "INFO:tensorflow:Assets written to: model_experiments/model_4_GRU_char/assets\n",
            "WARNING:absl:<keras.layers.recurrent.GRUCell object at 0x7fdee0643050> has the same name 'GRUCell' as a built-in Keras object. Consider renaming <class 'keras.layers.recurrent.GRUCell'> to avoid naming conflicts when loading with `tf.keras.models.load_model`. If renaming is not possible, pass the object in the `custom_objects` parameter of the load function.\n"
          ]
        },
        {
          "output_type": "stream",
          "name": "stdout",
          "text": [
            "\b\b\b\b\b\b\b\b\b\b\b\b\b\b\b\b\b\b\b\b\b\b\b\b\b\b\b\b\b\b\b\b\b\b\b\b\b\b\b\b\b\b\b\b\b\b\b\b\b\b\b\b\b\b\b\b\b\b\b\b\b\b\b\b\b\b\b\b\b\b\b\b\b\b\b\b\b\b\b\b\b\r1778/1778 [==============================] - 12s 7ms/step - loss: 0.8045 - mae: 0.8045 - val_loss: 1.0632 - val_mae: 1.0632\n",
            "Epoch 5/25\n",
            "1771/1778 [============================>.] - ETA: 0s - loss: 0.7842 - mae: 0.7842"
          ]
        },
        {
          "output_type": "stream",
          "name": "stderr",
          "text": [
            "WARNING:absl:Found untraced functions such as gru_cell_9_layer_call_fn, gru_cell_9_layer_call_and_return_conditional_losses while saving (showing 2 of 2). These functions will not be directly callable after loading.\n"
          ]
        },
        {
          "output_type": "stream",
          "name": "stdout",
          "text": [
            "INFO:tensorflow:Assets written to: model_experiments/model_4_GRU_char/assets\n"
          ]
        },
        {
          "output_type": "stream",
          "name": "stderr",
          "text": [
            "INFO:tensorflow:Assets written to: model_experiments/model_4_GRU_char/assets\n",
            "WARNING:absl:<keras.layers.recurrent.GRUCell object at 0x7fdee0643050> has the same name 'GRUCell' as a built-in Keras object. Consider renaming <class 'keras.layers.recurrent.GRUCell'> to avoid naming conflicts when loading with `tf.keras.models.load_model`. If renaming is not possible, pass the object in the `custom_objects` parameter of the load function.\n"
          ]
        },
        {
          "output_type": "stream",
          "name": "stdout",
          "text": [
            "\b\b\b\b\b\b\b\b\b\b\b\b\b\b\b\b\b\b\b\b\b\b\b\b\b\b\b\b\b\b\b\b\b\b\b\b\b\b\b\b\b\b\b\b\b\b\b\b\b\b\b\b\b\b\b\b\b\b\b\b\b\b\b\b\b\b\b\b\b\b\b\b\b\b\b\b\b\b\b\b\b\r1778/1778 [==============================] - 13s 7ms/step - loss: 0.7839 - mae: 0.7839 - val_loss: 1.0542 - val_mae: 1.0542\n",
            "Epoch 6/25\n",
            "1775/1778 [============================>.] - ETA: 0s - loss: 0.7659 - mae: 0.7659"
          ]
        },
        {
          "output_type": "stream",
          "name": "stderr",
          "text": [
            "WARNING:absl:Found untraced functions such as gru_cell_9_layer_call_fn, gru_cell_9_layer_call_and_return_conditional_losses while saving (showing 2 of 2). These functions will not be directly callable after loading.\n"
          ]
        },
        {
          "output_type": "stream",
          "name": "stdout",
          "text": [
            "INFO:tensorflow:Assets written to: model_experiments/model_4_GRU_char/assets\n"
          ]
        },
        {
          "output_type": "stream",
          "name": "stderr",
          "text": [
            "INFO:tensorflow:Assets written to: model_experiments/model_4_GRU_char/assets\n",
            "WARNING:absl:<keras.layers.recurrent.GRUCell object at 0x7fdee0643050> has the same name 'GRUCell' as a built-in Keras object. Consider renaming <class 'keras.layers.recurrent.GRUCell'> to avoid naming conflicts when loading with `tf.keras.models.load_model`. If renaming is not possible, pass the object in the `custom_objects` parameter of the load function.\n"
          ]
        },
        {
          "output_type": "stream",
          "name": "stdout",
          "text": [
            "\b\b\b\b\b\b\b\b\b\b\b\b\b\b\b\b\b\b\b\b\b\b\b\b\b\b\b\b\b\b\b\b\b\b\b\b\b\b\b\b\b\b\b\b\b\b\b\b\b\b\b\b\b\b\b\b\b\b\b\b\b\b\b\b\b\b\b\b\b\b\b\b\b\b\b\b\b\b\b\b\b\r1778/1778 [==============================] - 13s 7ms/step - loss: 0.7658 - mae: 0.7658 - val_loss: 1.0203 - val_mae: 1.0203\n",
            "Epoch 7/25\n",
            "1768/1778 [============================>.] - ETA: 0s - loss: 0.7496 - mae: 0.7496"
          ]
        },
        {
          "output_type": "stream",
          "name": "stderr",
          "text": [
            "WARNING:absl:Found untraced functions such as gru_cell_9_layer_call_fn, gru_cell_9_layer_call_and_return_conditional_losses while saving (showing 2 of 2). These functions will not be directly callable after loading.\n"
          ]
        },
        {
          "output_type": "stream",
          "name": "stdout",
          "text": [
            "INFO:tensorflow:Assets written to: model_experiments/model_4_GRU_char/assets\n"
          ]
        },
        {
          "output_type": "stream",
          "name": "stderr",
          "text": [
            "INFO:tensorflow:Assets written to: model_experiments/model_4_GRU_char/assets\n",
            "WARNING:absl:<keras.layers.recurrent.GRUCell object at 0x7fdee0643050> has the same name 'GRUCell' as a built-in Keras object. Consider renaming <class 'keras.layers.recurrent.GRUCell'> to avoid naming conflicts when loading with `tf.keras.models.load_model`. If renaming is not possible, pass the object in the `custom_objects` parameter of the load function.\n"
          ]
        },
        {
          "output_type": "stream",
          "name": "stdout",
          "text": [
            "\b\b\b\b\b\b\b\b\b\b\b\b\b\b\b\b\b\b\b\b\b\b\b\b\b\b\b\b\b\b\b\b\b\b\b\b\b\b\b\b\b\b\b\b\b\b\b\b\b\b\b\b\b\b\b\b\b\b\b\b\b\b\b\b\b\b\b\b\b\b\b\b\b\b\b\b\b\b\b\b\b\r1778/1778 [==============================] - 13s 7ms/step - loss: 0.7493 - mae: 0.7493 - val_loss: 0.9919 - val_mae: 0.9919\n",
            "Epoch 8/25\n",
            "1772/1778 [============================>.] - ETA: 0s - loss: 0.7383 - mae: 0.7383"
          ]
        },
        {
          "output_type": "stream",
          "name": "stderr",
          "text": [
            "WARNING:absl:Found untraced functions such as gru_cell_9_layer_call_fn, gru_cell_9_layer_call_and_return_conditional_losses while saving (showing 2 of 2). These functions will not be directly callable after loading.\n"
          ]
        },
        {
          "output_type": "stream",
          "name": "stdout",
          "text": [
            "INFO:tensorflow:Assets written to: model_experiments/model_4_GRU_char/assets\n"
          ]
        },
        {
          "output_type": "stream",
          "name": "stderr",
          "text": [
            "INFO:tensorflow:Assets written to: model_experiments/model_4_GRU_char/assets\n",
            "WARNING:absl:<keras.layers.recurrent.GRUCell object at 0x7fdee0643050> has the same name 'GRUCell' as a built-in Keras object. Consider renaming <class 'keras.layers.recurrent.GRUCell'> to avoid naming conflicts when loading with `tf.keras.models.load_model`. If renaming is not possible, pass the object in the `custom_objects` parameter of the load function.\n"
          ]
        },
        {
          "output_type": "stream",
          "name": "stdout",
          "text": [
            "\b\b\b\b\b\b\b\b\b\b\b\b\b\b\b\b\b\b\b\b\b\b\b\b\b\b\b\b\b\b\b\b\b\b\b\b\b\b\b\b\b\b\b\b\b\b\b\b\b\b\b\b\b\b\b\b\b\b\b\b\b\b\b\b\b\b\b\b\b\b\b\b\b\b\b\b\b\b\b\b\b\r1778/1778 [==============================] - 12s 7ms/step - loss: 0.7383 - mae: 0.7383 - val_loss: 0.9792 - val_mae: 0.9792\n",
            "Epoch 9/25\n",
            "1777/1778 [============================>.] - ETA: 0s - loss: 0.7268 - mae: 0.7268"
          ]
        },
        {
          "output_type": "stream",
          "name": "stderr",
          "text": [
            "WARNING:absl:Found untraced functions such as gru_cell_9_layer_call_fn, gru_cell_9_layer_call_and_return_conditional_losses while saving (showing 2 of 2). These functions will not be directly callable after loading.\n"
          ]
        },
        {
          "output_type": "stream",
          "name": "stdout",
          "text": [
            "INFO:tensorflow:Assets written to: model_experiments/model_4_GRU_char/assets\n"
          ]
        },
        {
          "output_type": "stream",
          "name": "stderr",
          "text": [
            "INFO:tensorflow:Assets written to: model_experiments/model_4_GRU_char/assets\n",
            "WARNING:absl:<keras.layers.recurrent.GRUCell object at 0x7fdee0643050> has the same name 'GRUCell' as a built-in Keras object. Consider renaming <class 'keras.layers.recurrent.GRUCell'> to avoid naming conflicts when loading with `tf.keras.models.load_model`. If renaming is not possible, pass the object in the `custom_objects` parameter of the load function.\n"
          ]
        },
        {
          "output_type": "stream",
          "name": "stdout",
          "text": [
            "\b\b\b\b\b\b\b\b\b\b\b\b\b\b\b\b\b\b\b\b\b\b\b\b\b\b\b\b\b\b\b\b\b\b\b\b\b\b\b\b\b\b\b\b\b\b\b\b\b\b\b\b\b\b\b\b\b\b\b\b\b\b\b\b\b\b\b\b\b\b\b\b\b\b\b\b\b\b\b\b\b\r1778/1778 [==============================] - 13s 7ms/step - loss: 0.7267 - mae: 0.7267 - val_loss: 0.9695 - val_mae: 0.9695\n",
            "Epoch 10/25\n",
            "1774/1778 [============================>.] - ETA: 0s - loss: 0.7153 - mae: 0.7153"
          ]
        },
        {
          "output_type": "stream",
          "name": "stderr",
          "text": [
            "WARNING:absl:Found untraced functions such as gru_cell_9_layer_call_fn, gru_cell_9_layer_call_and_return_conditional_losses while saving (showing 2 of 2). These functions will not be directly callable after loading.\n"
          ]
        },
        {
          "output_type": "stream",
          "name": "stdout",
          "text": [
            "INFO:tensorflow:Assets written to: model_experiments/model_4_GRU_char/assets\n"
          ]
        },
        {
          "output_type": "stream",
          "name": "stderr",
          "text": [
            "INFO:tensorflow:Assets written to: model_experiments/model_4_GRU_char/assets\n",
            "WARNING:absl:<keras.layers.recurrent.GRUCell object at 0x7fdee0643050> has the same name 'GRUCell' as a built-in Keras object. Consider renaming <class 'keras.layers.recurrent.GRUCell'> to avoid naming conflicts when loading with `tf.keras.models.load_model`. If renaming is not possible, pass the object in the `custom_objects` parameter of the load function.\n"
          ]
        },
        {
          "output_type": "stream",
          "name": "stdout",
          "text": [
            "\b\b\b\b\b\b\b\b\b\b\b\b\b\b\b\b\b\b\b\b\b\b\b\b\b\b\b\b\b\b\b\b\b\b\b\b\b\b\b\b\b\b\b\b\b\b\b\b\b\b\b\b\b\b\b\b\b\b\b\b\b\b\b\b\b\b\b\b\b\b\b\b\b\b\b\b\b\b\b\b\b\r1778/1778 [==============================] - 12s 7ms/step - loss: 0.7152 - mae: 0.7152 - val_loss: 0.9581 - val_mae: 0.9581\n",
            "Epoch 11/25\n",
            "1778/1778 [==============================] - 9s 5ms/step - loss: 0.7096 - mae: 0.7096 - val_loss: 0.9773 - val_mae: 0.9773\n",
            "Epoch 12/25\n",
            "1778/1778 [==============================] - 9s 5ms/step - loss: 0.7009 - mae: 0.7009 - val_loss: 0.9603 - val_mae: 0.9603\n",
            "Epoch 13/25\n",
            "1775/1778 [============================>.] - ETA: 0s - loss: 0.6946 - mae: 0.6946"
          ]
        },
        {
          "output_type": "stream",
          "name": "stderr",
          "text": [
            "WARNING:absl:Found untraced functions such as gru_cell_9_layer_call_fn, gru_cell_9_layer_call_and_return_conditional_losses while saving (showing 2 of 2). These functions will not be directly callable after loading.\n"
          ]
        },
        {
          "output_type": "stream",
          "name": "stdout",
          "text": [
            "INFO:tensorflow:Assets written to: model_experiments/model_4_GRU_char/assets\n"
          ]
        },
        {
          "output_type": "stream",
          "name": "stderr",
          "text": [
            "INFO:tensorflow:Assets written to: model_experiments/model_4_GRU_char/assets\n",
            "WARNING:absl:<keras.layers.recurrent.GRUCell object at 0x7fdee0643050> has the same name 'GRUCell' as a built-in Keras object. Consider renaming <class 'keras.layers.recurrent.GRUCell'> to avoid naming conflicts when loading with `tf.keras.models.load_model`. If renaming is not possible, pass the object in the `custom_objects` parameter of the load function.\n"
          ]
        },
        {
          "output_type": "stream",
          "name": "stdout",
          "text": [
            "\b\b\b\b\b\b\b\b\b\b\b\b\b\b\b\b\b\b\b\b\b\b\b\b\b\b\b\b\b\b\b\b\b\b\b\b\b\b\b\b\b\b\b\b\b\b\b\b\b\b\b\b\b\b\b\b\b\b\b\b\b\b\b\b\b\b\b\b\b\b\b\b\b\b\b\b\b\b\b\b\b\r1778/1778 [==============================] - 12s 7ms/step - loss: 0.6947 - mae: 0.6947 - val_loss: 0.9462 - val_mae: 0.9462\n",
            "Epoch 14/25\n",
            "1778/1778 [==============================] - 9s 5ms/step - loss: 0.6880 - mae: 0.6880 - val_loss: 0.9780 - val_mae: 0.9780\n",
            "Epoch 15/25\n",
            "1770/1778 [============================>.] - ETA: 0s - loss: 0.6801 - mae: 0.6801"
          ]
        },
        {
          "output_type": "stream",
          "name": "stderr",
          "text": [
            "WARNING:absl:Found untraced functions such as gru_cell_9_layer_call_fn, gru_cell_9_layer_call_and_return_conditional_losses while saving (showing 2 of 2). These functions will not be directly callable after loading.\n"
          ]
        },
        {
          "output_type": "stream",
          "name": "stdout",
          "text": [
            "INFO:tensorflow:Assets written to: model_experiments/model_4_GRU_char/assets\n"
          ]
        },
        {
          "output_type": "stream",
          "name": "stderr",
          "text": [
            "INFO:tensorflow:Assets written to: model_experiments/model_4_GRU_char/assets\n",
            "WARNING:absl:<keras.layers.recurrent.GRUCell object at 0x7fdee0643050> has the same name 'GRUCell' as a built-in Keras object. Consider renaming <class 'keras.layers.recurrent.GRUCell'> to avoid naming conflicts when loading with `tf.keras.models.load_model`. If renaming is not possible, pass the object in the `custom_objects` parameter of the load function.\n"
          ]
        },
        {
          "output_type": "stream",
          "name": "stdout",
          "text": [
            "\b\b\b\b\b\b\b\b\b\b\b\b\b\b\b\b\b\b\b\b\b\b\b\b\b\b\b\b\b\b\b\b\b\b\b\b\b\b\b\b\b\b\b\b\b\b\b\b\b\b\b\b\b\b\b\b\b\b\b\b\b\b\b\b\b\b\b\b\b\b\b\b\b\b\b\b\b\b\b\b\b\r1778/1778 [==============================] - 13s 7ms/step - loss: 0.6802 - mae: 0.6802 - val_loss: 0.9446 - val_mae: 0.9446\n",
            "Epoch 16/25\n",
            "1778/1778 [==============================] - 9s 5ms/step - loss: 0.6750 - mae: 0.6750 - val_loss: 0.9489 - val_mae: 0.9489\n",
            "Epoch 17/25\n",
            "1778/1778 [==============================] - ETA: 0s - loss: 0.6694 - mae: 0.6694"
          ]
        },
        {
          "output_type": "stream",
          "name": "stderr",
          "text": [
            "WARNING:absl:Found untraced functions such as gru_cell_9_layer_call_fn, gru_cell_9_layer_call_and_return_conditional_losses while saving (showing 2 of 2). These functions will not be directly callable after loading.\n"
          ]
        },
        {
          "output_type": "stream",
          "name": "stdout",
          "text": [
            "INFO:tensorflow:Assets written to: model_experiments/model_4_GRU_char/assets\n"
          ]
        },
        {
          "output_type": "stream",
          "name": "stderr",
          "text": [
            "INFO:tensorflow:Assets written to: model_experiments/model_4_GRU_char/assets\n",
            "WARNING:absl:<keras.layers.recurrent.GRUCell object at 0x7fdee0643050> has the same name 'GRUCell' as a built-in Keras object. Consider renaming <class 'keras.layers.recurrent.GRUCell'> to avoid naming conflicts when loading with `tf.keras.models.load_model`. If renaming is not possible, pass the object in the `custom_objects` parameter of the load function.\n"
          ]
        },
        {
          "output_type": "stream",
          "name": "stdout",
          "text": [
            "\b\b\b\b\b\b\b\b\b\b\b\b\b\b\b\b\b\b\b\b\b\b\b\b\b\b\b\b\b\b\b\b\b\b\b\b\b\b\b\b\b\b\b\b\b\b\b\b\b\b\b\b\b\b\b\b\b\b\b\b\b\b\b\b\b\b\b\b\b\b\b\b\b\b\b\b\b\b\b\b\b\r1778/1778 [==============================] - 12s 7ms/step - loss: 0.6694 - mae: 0.6694 - val_loss: 0.9372 - val_mae: 0.9372\n",
            "Epoch 18/25\n",
            "1778/1778 [==============================] - 9s 5ms/step - loss: 0.6651 - mae: 0.6651 - val_loss: 0.9671 - val_mae: 0.9671\n",
            "Epoch 19/25\n",
            "1778/1778 [==============================] - 9s 5ms/step - loss: 0.6586 - mae: 0.6586 - val_loss: 0.9576 - val_mae: 0.9576\n",
            "Epoch 20/25\n",
            "1772/1778 [============================>.] - ETA: 0s - loss: 0.6544 - mae: 0.6544"
          ]
        },
        {
          "output_type": "stream",
          "name": "stderr",
          "text": [
            "WARNING:absl:Found untraced functions such as gru_cell_9_layer_call_fn, gru_cell_9_layer_call_and_return_conditional_losses while saving (showing 2 of 2). These functions will not be directly callable after loading.\n"
          ]
        },
        {
          "output_type": "stream",
          "name": "stdout",
          "text": [
            "INFO:tensorflow:Assets written to: model_experiments/model_4_GRU_char/assets\n"
          ]
        },
        {
          "output_type": "stream",
          "name": "stderr",
          "text": [
            "INFO:tensorflow:Assets written to: model_experiments/model_4_GRU_char/assets\n",
            "WARNING:absl:<keras.layers.recurrent.GRUCell object at 0x7fdee0643050> has the same name 'GRUCell' as a built-in Keras object. Consider renaming <class 'keras.layers.recurrent.GRUCell'> to avoid naming conflicts when loading with `tf.keras.models.load_model`. If renaming is not possible, pass the object in the `custom_objects` parameter of the load function.\n"
          ]
        },
        {
          "output_type": "stream",
          "name": "stdout",
          "text": [
            "\b\b\b\b\b\b\b\b\b\b\b\b\b\b\b\b\b\b\b\b\b\b\b\b\b\b\b\b\b\b\b\b\b\b\b\b\b\b\b\b\b\b\b\b\b\b\b\b\b\b\b\b\b\b\b\b\b\b\b\b\b\b\b\b\b\b\b\b\b\b\b\b\b\b\b\b\b\b\b\b\b\r1778/1778 [==============================] - 12s 7ms/step - loss: 0.6546 - mae: 0.6546 - val_loss: 0.9154 - val_mae: 0.9154\n",
            "Epoch 21/25\n",
            "1770/1778 [============================>.] - ETA: 0s - loss: 0.6472 - mae: 0.6472"
          ]
        },
        {
          "output_type": "stream",
          "name": "stderr",
          "text": [
            "WARNING:absl:Found untraced functions such as gru_cell_9_layer_call_fn, gru_cell_9_layer_call_and_return_conditional_losses while saving (showing 2 of 2). These functions will not be directly callable after loading.\n"
          ]
        },
        {
          "output_type": "stream",
          "name": "stdout",
          "text": [
            "INFO:tensorflow:Assets written to: model_experiments/model_4_GRU_char/assets\n"
          ]
        },
        {
          "output_type": "stream",
          "name": "stderr",
          "text": [
            "INFO:tensorflow:Assets written to: model_experiments/model_4_GRU_char/assets\n",
            "WARNING:absl:<keras.layers.recurrent.GRUCell object at 0x7fdee0643050> has the same name 'GRUCell' as a built-in Keras object. Consider renaming <class 'keras.layers.recurrent.GRUCell'> to avoid naming conflicts when loading with `tf.keras.models.load_model`. If renaming is not possible, pass the object in the `custom_objects` parameter of the load function.\n"
          ]
        },
        {
          "output_type": "stream",
          "name": "stdout",
          "text": [
            "\b\b\b\b\b\b\b\b\b\b\b\b\b\b\b\b\b\b\b\b\b\b\b\b\b\b\b\b\b\b\b\b\b\b\b\b\b\b\b\b\b\b\b\b\b\b\b\b\b\b\b\b\b\b\b\b\b\b\b\b\b\b\b\b\b\b\b\b\b\b\b\b\b\b\b\b\b\b\b\b\b\r1778/1778 [==============================] - 12s 7ms/step - loss: 0.6474 - mae: 0.6474 - val_loss: 0.9112 - val_mae: 0.9112\n",
            "Epoch 22/25\n",
            "1778/1778 [==============================] - 9s 5ms/step - loss: 0.6453 - mae: 0.6453 - val_loss: 0.9200 - val_mae: 0.9200\n",
            "Epoch 23/25\n",
            "1778/1778 [==============================] - 9s 5ms/step - loss: 0.6398 - mae: 0.6398 - val_loss: 0.9463 - val_mae: 0.9463\n",
            "Epoch 24/25\n",
            "1778/1778 [==============================] - 9s 5ms/step - loss: 0.6362 - mae: 0.6362 - val_loss: 0.9368 - val_mae: 0.9368\n"
          ]
        }
      ]
    },
    {
      "cell_type": "code",
      "source": [
        "plot_loss(model_4_history)"
      ],
      "metadata": {
        "colab": {
          "base_uri": "https://localhost:8080/",
          "height": 280
        },
        "id": "8_3IvRYqg-qA",
        "outputId": "cab6f291-269a-49b9-8a2e-66a1aa6f746e"
      },
      "execution_count": null,
      "outputs": [
        {
          "output_type": "display_data",
          "data": {
            "text/plain": [
              "<Figure size 432x288 with 1 Axes>"
            ],
            "image/png": "[encoded data removed]"
          },
          "metadata": {
            "needs_background": "light"
          }
        }
      ]
    },
    {
      "cell_type": "code",
      "source": [
        "model_4 = tf.keras.models.load_model(\"model_experiments/model_4_GRU_char\")\n",
        "model_4.evaluate(val_ds)\n",
        "model_4.evaluate(train_ds)"
      ],
      "metadata": {
        "colab": {
          "base_uri": "https://localhost:8080/"
        },
        "id": "sjn4CCABFMvC",
        "outputId": "0aa9f176-c85e-4fba-e2b8-09bc8d7ed777"
      },
      "execution_count": null,
      "outputs": [
        {
          "output_type": "stream",
          "name": "stdout",
          "text": [
            "85/85 [==============================] - 1s 3ms/step - loss: 0.9112 - mae: 0.9112\n",
            "1778/1778 [==============================] - 5s 3ms/step - loss: 0.8183 - mae: 0.8183\n"
          ]
        },
        {
          "output_type": "execute_result",
          "data": {
            "text/plain": [
              "[0.8183445334434509, 0.8183445334434509]"
            ]
          },
          "metadata": {},
          "execution_count": 216
        }
      ]
    },
    {
      "cell_type": "markdown",
      "source": [
        "\n",
        "\n",
        "## Model 5 (DL): CNN, word level"
      ],
      "metadata": {
        "id": "7tSfzBHAhEiC"
      }
    },
    {
      "cell_type": "code",
      "source": [
        "# Set random seed and create embedding layer (new embedding layer for each model)\n",
        "model_5_embedding = layers.Embedding(input_dim=max_vocab_length,\n",
        "                                     output_dim=64,\n",
        "                                     embeddings_initializer=\"uniform\",\n",
        "                                     input_length=max_length,\n",
        "                                     name=\"embedding_5\")\n",
        "\n",
        "inputs = layers.Input(shape=(1,), dtype=\"string\")\n",
        "x = word_vectorizer(inputs)\n",
        "x = model_5_embedding(x)\n",
        "x = layers.Conv1D(filters=32, kernel_size=5, activation=\"relu\")(x)\n",
        "x = layers.GlobalMaxPool1D()(x)\n",
        "x= layers.Dropout(0.2)(x)\n",
        "# x = layers.Dense(64, activation=\"relu\")(x) # optional dense layer\n",
        "outputs = layers.Dense(1)(x)\n",
        "model_5 = tf.keras.Model(inputs, outputs, name=\"model_5_Conv1D_word\")"
      ],
      "metadata": {
        "id": "vCrgHLmYhJe-"
      },
      "execution_count": null,
      "outputs": []
    },
    {
      "cell_type": "code",
      "source": [
        "plot_model(model_5)"
      ],
      "metadata": {
        "colab": {
          "base_uri": "https://localhost:8080/",
          "height": 661
        },
        "id": "UG1h2L_vS-Ni",
        "outputId": "9628ed98-8284-4411-ca39-e8db97aca501"
      },
      "execution_count": null,
      "outputs": [
        {
          "output_type": "execute_result",
          "data": {
            "text/plain": [
              "<IPython.core.display.Image object>"
            ],
            "image/png": "[encoded data removed]"
          },
          "metadata": {},
          "execution_count": 43
        }
      ]
    },
    {
      "cell_type": "code",
      "source": [
        "model_5.compile(loss=\"mean_absolute_error\",\n",
        "                optimizer=tf.keras.optimizers.Adam())\n",
        "model_5_history = model_5.fit(train_ds_word, epochs=25, validation_data =val_ds_word,\n",
        "                              callbacks=[create_model_checkpoint(model_name=model_5.name), early_stopping])"
      ],
      "metadata": {
        "colab": {
          "base_uri": "https://localhost:8080/"
        },
        "id": "VW6NBpFShQA1",
        "outputId": "77ee2923-5afb-4892-f42b-02ffde75970d"
      },
      "execution_count": null,
      "outputs": [
        {
          "output_type": "stream",
          "name": "stdout",
          "text": [
            "Epoch 1/25\n",
            "1778/1778 [==============================] - ETA: 0s - loss: 1.3069INFO:tensorflow:Assets written to: model_experiments/model_5_Conv1D_word/assets\n"
          ]
        },
        {
          "output_type": "stream",
          "name": "stderr",
          "text": [
            "INFO:tensorflow:Assets written to: model_experiments/model_5_Conv1D_word/assets\n"
          ]
        },
        {
          "output_type": "stream",
          "name": "stdout",
          "text": [
            "\b\b\b\b\b\b\b\b\b\b\b\b\b\b\b\b\b\b\b\b\b\b\b\b\b\b\b\b\b\b\b\b\b\b\b\b\b\b\b\b\b\b\b\b\b\b\b\b\b\b\b\b\b\b\b\b\b\b\b\b\b\b\b\b\b\b\b\r1778/1778 [==============================] - 10s 5ms/step - loss: 1.3069 - val_loss: 1.2526\n",
            "Epoch 2/25\n",
            "1771/1778 [============================>.] - ETA: 0s - loss: 0.9912INFO:tensorflow:Assets written to: model_experiments/model_5_Conv1D_word/assets\n"
          ]
        },
        {
          "output_type": "stream",
          "name": "stderr",
          "text": [
            "INFO:tensorflow:Assets written to: model_experiments/model_5_Conv1D_word/assets\n"
          ]
        },
        {
          "output_type": "stream",
          "name": "stdout",
          "text": [
            "\b\b\b\b\b\b\b\b\b\b\b\b\b\b\b\b\b\b\b\b\b\b\b\b\b\b\b\b\b\b\b\b\b\b\b\b\b\b\b\b\b\b\b\b\b\b\b\b\b\b\b\b\b\b\b\b\b\b\b\b\b\b\b\b\b\b\b\r1778/1778 [==============================] - 7s 4ms/step - loss: 0.9906 - val_loss: 1.0690\n",
            "Epoch 3/25\n",
            "1775/1778 [============================>.] - ETA: 0s - loss: 0.9129INFO:tensorflow:Assets written to: model_experiments/model_5_Conv1D_word/assets\n"
          ]
        },
        {
          "output_type": "stream",
          "name": "stderr",
          "text": [
            "INFO:tensorflow:Assets written to: model_experiments/model_5_Conv1D_word/assets\n"
          ]
        },
        {
          "output_type": "stream",
          "name": "stdout",
          "text": [
            "\b\b\b\b\b\b\b\b\b\b\b\b\b\b\b\b\b\b\b\b\b\b\b\b\b\b\b\b\b\b\b\b\b\b\b\b\b\b\b\b\b\b\b\b\b\b\b\b\b\b\b\b\b\b\b\b\b\b\b\b\b\b\b\b\b\b\b\r1778/1778 [==============================] - 7s 4ms/step - loss: 0.9125 - val_loss: 1.0165\n",
            "Epoch 4/25\n",
            "1772/1778 [============================>.] - ETA: 0s - loss: 0.8387INFO:tensorflow:Assets written to: model_experiments/model_5_Conv1D_word/assets\n"
          ]
        },
        {
          "output_type": "stream",
          "name": "stderr",
          "text": [
            "INFO:tensorflow:Assets written to: model_experiments/model_5_Conv1D_word/assets\n"
          ]
        },
        {
          "output_type": "stream",
          "name": "stdout",
          "text": [
            "\b\b\b\b\b\b\b\b\b\b\b\b\b\b\b\b\b\b\b\b\b\b\b\b\b\b\b\b\b\b\b\b\b\b\b\b\b\b\b\b\b\b\b\b\b\b\b\b\b\b\b\b\b\b\b\b\b\b\b\b\b\b\b\b\b\b\b\r1778/1778 [==============================] - 10s 5ms/step - loss: 0.8387 - val_loss: 0.9764\n",
            "Epoch 5/25\n",
            "1771/1778 [============================>.] - ETA: 0s - loss: 0.7825INFO:tensorflow:Assets written to: model_experiments/model_5_Conv1D_word/assets\n"
          ]
        },
        {
          "output_type": "stream",
          "name": "stderr",
          "text": [
            "INFO:tensorflow:Assets written to: model_experiments/model_5_Conv1D_word/assets\n"
          ]
        },
        {
          "output_type": "stream",
          "name": "stdout",
          "text": [
            "\b\b\b\b\b\b\b\b\b\b\b\b\b\b\b\b\b\b\b\b\b\b\b\b\b\b\b\b\b\b\b\b\b\b\b\b\b\b\b\b\b\b\b\b\b\b\b\b\b\b\b\b\b\b\b\b\b\b\b\b\b\b\b\b\b\b\b\r1778/1778 [==============================] - 12s 6ms/step - loss: 0.7824 - val_loss: 0.9644\n",
            "Epoch 6/25\n",
            "1778/1778 [==============================] - 11s 6ms/step - loss: 0.7349 - val_loss: 1.0064\n",
            "Epoch 7/25\n",
            "1778/1778 [==============================] - 6s 4ms/step - loss: 0.7075 - val_loss: 1.0013\n",
            "Epoch 8/25\n",
            "1778/1778 [==============================] - 7s 4ms/step - loss: 0.6380 - val_loss: 0.9878\n"
          ]
        }
      ]
    },
    {
      "cell_type": "code",
      "source": [
        "plot_loss(model_5_history)"
      ],
      "metadata": {
        "colab": {
          "base_uri": "https://localhost:8080/",
          "height": 279
        },
        "id": "s4wN6V4dh73n",
        "outputId": "7cd7e00e-0c67-4ce7-c5a9-8a7e0a3675d0"
      },
      "execution_count": null,
      "outputs": [
        {
          "output_type": "display_data",
          "data": {
            "text/plain": [
              "<Figure size 432x288 with 1 Axes>"
            ],
            "image/png": "[encoded data removed]"
          },
          "metadata": {
            "needs_background": "light"
          }
        }
      ]
    },
    {
      "cell_type": "code",
      "source": [
        "model_evaluation(\"model_5_Conv1D_word\")"
      ],
      "metadata": {
        "colab": {
          "base_uri": "https://localhost:8080/"
        },
        "id": "vY-d7iYSGbil",
        "outputId": "c7d6bf7a-e8e6-4851-c6c8-b0eceaae03e2"
      },
      "execution_count": null,
      "outputs": [
        {
          "output_type": "stream",
          "name": "stdout",
          "text": [
            "results from the training\n",
            "1778/1778 [==============================] - 4s 2ms/step - loss: 0.7364\n",
            "results from the validation set\n",
            "85/85 [==============================] - 0s 2ms/step - loss: 0.9644\n",
            "results from the test set\n",
            "85/85 [==============================] - 0s 2ms/step - loss: 0.9665\n"
          ]
        }
      ]
    },
    {
      "cell_type": "markdown",
      "source": [
        "## Model 6: CNN character level"
      ],
      "metadata": {
        "id": "msxEczasXTRf"
      }
    },
    {
      "cell_type": "code",
      "source": [
        "# Set random seed and create embedding layer (new embedding layer for each model)\n",
        "tf.random.set_seed(42)\n",
        "\n",
        "inputs = tf.keras.Input(shape=(sequence_length), dtype=\"int64\")\n",
        "\n",
        "x = layers.Embedding(max_features,output_dim=64,embeddings_initializer=\"uniform\",\n",
        "                                     name=\"embedding_6\")(inputs)\n",
        "\n",
        "x = layers.Conv1D(filters=32, kernel_size=5, activation=\"relu\")(x)\n",
        "x = layers.GlobalMaxPool1D()(x)\n",
        "x = layers.Dropout(0.2)(x)\n",
        "#x = layers.Dense(64, activation=\"relu\")(x) # optional dense layer on top of output of LSTM cell\n",
        "outputs = layers.Dense(1)(x)\n",
        "model_6 = tf.keras.Model(inputs, outputs, name=\"model_6_CNN_char\")\n",
        "model_6.summary()"
      ],
      "metadata": {
        "colab": {
          "base_uri": "https://localhost:8080/"
        },
        "id": "pMWYtOfYXWT-",
        "outputId": "3673e680-1289-424d-a4d4-1198d9bb8239"
      },
      "execution_count": null,
      "outputs": [
        {
          "output_type": "stream",
          "name": "stdout",
          "text": [
            "Model: \"model_6_CNN_char\"\n",
            "_________________________________________________________________\n",
            " Layer (type)                Output Shape              Param #   \n",
            "=================================================================\n",
            " input_28 (InputLayer)       [(None, 57)]              0         \n",
            "                                                                 \n",
            " embedding_6 (Embedding)     (None, 57, 64)            2496      \n",
            "                                                                 \n",
            " conv1d_2 (Conv1D)           (None, 53, 32)            10272     \n",
            "                                                                 \n",
            " global_max_pooling1d_2 (Glo  (None, 32)               0         \n",
            " balMaxPooling1D)                                                \n",
            "                                                                 \n",
            " dropout_14 (Dropout)        (None, 32)                0         \n",
            "                                                                 \n",
            " dense_32 (Dense)            (None, 1)                 33        \n",
            "                                                                 \n",
            "=================================================================\n",
            "Total params: 12,801\n",
            "Trainable params: 12,801\n",
            "Non-trainable params: 0\n",
            "_________________________________________________________________\n"
          ]
        }
      ]
    },
    {
      "cell_type": "code",
      "source": [
        "model_6.compile(loss=\"mean_absolute_error\",\n",
        "                optimizer=tf.keras.optimizers.Adam())\n",
        "model_6_history = model_6.fit(train_ds, epochs=25, validation_data = val_ds,\n",
        "                              callbacks=[create_model_checkpoint(model_name=model_6.name), early_stopping])"
      ],
      "metadata": {
        "colab": {
          "base_uri": "https://localhost:8080/"
        },
        "id": "9ACW2Pt-Xo0B",
        "outputId": "cdff6db2-6bf8-4bff-ce0c-e6dd2f1ac4a2"
      },
      "execution_count": null,
      "outputs": [
        {
          "output_type": "stream",
          "name": "stdout",
          "text": [
            "Epoch 1/25\n",
            "1777/1778 [============================>.] - ETA: 0s - loss: 1.3928INFO:tensorflow:Assets written to: model_experiments/model_6_CNN_char/assets\n"
          ]
        },
        {
          "output_type": "stream",
          "name": "stderr",
          "text": [
            "INFO:tensorflow:Assets written to: model_experiments/model_6_CNN_char/assets\n"
          ]
        },
        {
          "output_type": "stream",
          "name": "stdout",
          "text": [
            "\b\b\b\b\b\b\b\b\b\b\b\b\b\b\b\b\b\b\b\b\b\b\b\b\b\b\b\b\b\b\b\b\b\b\b\b\b\b\b\b\b\b\b\b\b\b\b\b\b\b\b\b\b\b\b\b\b\b\b\b\b\b\b\b\b\b\b\r1778/1778 [==============================] - 6s 3ms/step - loss: 1.3924 - val_loss: 1.4018\n",
            "Epoch 2/25\n",
            "1768/1778 [============================>.] - ETA: 0s - loss: 1.1142INFO:tensorflow:Assets written to: model_experiments/model_6_CNN_char/assets\n"
          ]
        },
        {
          "output_type": "stream",
          "name": "stderr",
          "text": [
            "INFO:tensorflow:Assets written to: model_experiments/model_6_CNN_char/assets\n"
          ]
        },
        {
          "output_type": "stream",
          "name": "stdout",
          "text": [
            "\b\b\b\b\b\b\b\b\b\b\b\b\b\b\b\b\b\b\b\b\b\b\b\b\b\b\b\b\b\b\b\b\b\b\b\b\b\b\b\b\b\b\b\b\b\b\b\b\b\b\b\b\b\b\b\b\b\b\b\b\b\b\b\b\b\b\b\r1778/1778 [==============================] - 6s 3ms/step - loss: 1.1124 - val_loss: 1.2432\n",
            "Epoch 3/25\n",
            "1778/1778 [==============================] - 5s 3ms/step - loss: 1.0622 - val_loss: 1.3555\n",
            "Epoch 4/25\n",
            "1773/1778 [============================>.] - ETA: 0s - loss: 1.0194INFO:tensorflow:Assets written to: model_experiments/model_6_CNN_char/assets\n"
          ]
        },
        {
          "output_type": "stream",
          "name": "stderr",
          "text": [
            "INFO:tensorflow:Assets written to: model_experiments/model_6_CNN_char/assets\n"
          ]
        },
        {
          "output_type": "stream",
          "name": "stdout",
          "text": [
            "\b\b\b\b\b\b\b\b\b\b\b\b\b\b\b\b\b\b\b\b\b\b\b\b\b\b\b\b\b\b\b\b\b\b\b\b\b\b\b\b\b\b\b\b\b\b\b\b\b\b\b\b\b\b\b\b\b\b\b\b\b\b\b\b\b\b\b\r1778/1778 [==============================] - 6s 3ms/step - loss: 1.0186 - val_loss: 1.0957\n",
            "Epoch 5/25\n",
            "1778/1778 [==============================] - 5s 3ms/step - loss: 0.9963 - val_loss: 1.1292\n",
            "Epoch 6/25\n",
            "1766/1778 [============================>.] - ETA: 0s - loss: 1.0967INFO:tensorflow:Assets written to: model_experiments/model_6_CNN_char/assets\n"
          ]
        },
        {
          "output_type": "stream",
          "name": "stderr",
          "text": [
            "INFO:tensorflow:Assets written to: model_experiments/model_6_CNN_char/assets\n"
          ]
        },
        {
          "output_type": "stream",
          "name": "stdout",
          "text": [
            "\b\b\b\b\b\b\b\b\b\b\b\b\b\b\b\b\b\b\b\b\b\b\b\b\b\b\b\b\b\b\b\b\b\b\b\b\b\b\b\b\b\b\b\b\b\b\b\b\b\b\b\b\b\b\b\b\b\b\b\b\b\b\b\b\b\b\b\r1778/1778 [==============================] - 6s 3ms/step - loss: 1.0963 - val_loss: 0.9875\n",
            "Epoch 7/25\n",
            "1770/1778 [============================>.] - ETA: 0s - loss: 0.9928INFO:tensorflow:Assets written to: model_experiments/model_6_CNN_char/assets\n"
          ]
        },
        {
          "output_type": "stream",
          "name": "stderr",
          "text": [
            "INFO:tensorflow:Assets written to: model_experiments/model_6_CNN_char/assets\n"
          ]
        },
        {
          "output_type": "stream",
          "name": "stdout",
          "text": [
            "\b\b\b\b\b\b\b\b\b\b\b\b\b\b\b\b\b\b\b\b\b\b\b\b\b\b\b\b\b\b\b\b\b\b\b\b\b\b\b\b\b\b\b\b\b\b\b\b\b\b\b\b\b\b\b\b\b\b\b\b\b\b\b\b\b\b\b\r1778/1778 [==============================] - 6s 3ms/step - loss: 0.9919 - val_loss: 0.9500\n",
            "Epoch 8/25\n",
            "1778/1778 [==============================] - 5s 3ms/step - loss: 0.8789 - val_loss: 0.9672\n",
            "Epoch 9/25\n",
            "1767/1778 [============================>.] - ETA: 0s - loss: 0.9275INFO:tensorflow:Assets written to: model_experiments/model_6_CNN_char/assets\n"
          ]
        },
        {
          "output_type": "stream",
          "name": "stderr",
          "text": [
            "INFO:tensorflow:Assets written to: model_experiments/model_6_CNN_char/assets\n"
          ]
        },
        {
          "output_type": "stream",
          "name": "stdout",
          "text": [
            "\b\b\b\b\b\b\b\b\b\b\b\b\b\b\b\b\b\b\b\b\b\b\b\b\b\b\b\b\b\b\b\b\b\b\b\b\b\b\b\b\b\b\b\b\b\b\b\b\b\b\b\b\b\b\b\b\b\b\b\b\b\b\b\b\b\b\b\r1778/1778 [==============================] - 6s 4ms/step - loss: 0.9259 - val_loss: 0.9336\n",
            "Epoch 10/25\n",
            "1778/1778 [==============================] - 5s 3ms/step - loss: 0.8974 - val_loss: 0.9411\n",
            "Epoch 11/25\n",
            "1778/1778 [==============================] - 5s 3ms/step - loss: 0.9157 - val_loss: 0.9563\n",
            "Epoch 12/25\n",
            "1778/1778 [==============================] - 5s 3ms/step - loss: 0.9103 - val_loss: 0.9419\n"
          ]
        }
      ]
    },
    {
      "cell_type": "code",
      "source": [
        "plot_loss(model_6_history)"
      ],
      "metadata": {
        "colab": {
          "base_uri": "https://localhost:8080/",
          "height": 279
        },
        "id": "iHErwmcNXzNA",
        "outputId": "417bcb9d-c4a6-45f6-a08b-e8eb1ef87208"
      },
      "execution_count": null,
      "outputs": [
        {
          "output_type": "display_data",
          "data": {
            "text/plain": [
              "<Figure size 432x288 with 1 Axes>"
            ],
            "image/png": "[encoded data removed]"
          },
          "metadata": {
            "needs_background": "light"
          }
        }
      ]
    },
    {
      "cell_type": "code",
      "source": [
        "model_6 = tf.keras.models.load_model(\"model_experiments/model_6_CNN_char\")\n",
        "model_6.evaluate(val_ds)\n",
        "model_6.evaluate(train_ds)"
      ],
      "metadata": {
        "colab": {
          "base_uri": "https://localhost:8080/"
        },
        "id": "mbtHp6T2ZQO6",
        "outputId": "06ecded3-05bb-4775-e8f8-d97743759807"
      },
      "execution_count": null,
      "outputs": [
        {
          "output_type": "stream",
          "name": "stdout",
          "text": [
            "85/85 [==============================] - 0s 2ms/step - loss: 0.9336\n",
            "1778/1778 [==============================] - 3s 2ms/step - loss: 0.8879\n"
          ]
        },
        {
          "output_type": "execute_result",
          "data": {
            "text/plain": [
              "0.8879064321517944"
            ]
          },
          "metadata": {},
          "execution_count": 227
        }
      ]
    },
    {
      "cell_type": "markdown",
      "source": [
        "## Model 7 (DL): Transfer learning ULM"
      ],
      "metadata": {
        "id": "rFxgwlLPjx4I"
      }
    },
    {
      "cell_type": "code",
      "source": [
        "import tensorflow as tf\n",
        "import tensorflow_hub as hub\n",
        "# !pip install tensorflow_text\n",
        "import tensorflow_text as text"
      ],
      "metadata": {
        "id": "NRH7TUUYJRYB"
      },
      "execution_count": null,
      "outputs": []
    },
    {
      "cell_type": "code",
      "source": [
        "ulmfit = hub.load('https://tfhub.dev/edrone/ulmfit/en/sp35k_uncased/1')\n",
        "encoder = hub.KerasLayer(ulmfit.signatures['string_encoder'], trainable= False, name = \"universal_language_model\")"
      ],
      "metadata": {
        "id": "AFqcef0d-WPd"
      },
      "execution_count": null,
      "outputs": []
    },
    {
      "cell_type": "code",
      "source": [
        "input_layer = tf.keras.layers.Input(shape=(), dtype=tf.string)\n",
        "enc_out = encoder(input_layer) # the output is a dict of tensors with keys 'output_rows' and 'output_flat'\n",
        "enc_out_ragged = tf.RaggedTensor.from_row_splits(enc_out['output_flat'],   # converting to RaggedTensor\n",
        "                                                 enc_out['output_rows'])\n",
        "vector_average = tf.reduce_mean(enc_out_ragged, axis=1) # rather than use the last hidden state, we take the average\n",
        "                                                        # value of each dimension in a sequence\n",
        "dense = tf.keras.layers.Dense(64, activation='relu')(vector_average)\n",
        "dense = tf.keras.layers.Dense(64,activation=\"relu\")(dense)\n",
        "dense = tf.keras.layers.Dense(1)(dense)\n",
        "model_7 = tf.keras.models.Model(inputs=encoder.input, outputs=dense,name=\"Model_7_ulmfit\")\n",
        "model_7.summary()"
      ],
      "metadata": {
        "id": "45_lFXB-2LJ2",
        "colab": {
          "base_uri": "https://localhost:8080/"
        },
        "outputId": "c2435da8-7e55-45f2-ef10-83a88d49cd41"
      },
      "execution_count": null,
      "outputs": [
        {
          "output_type": "stream",
          "name": "stdout",
          "text": [
            "Model: \"Model_7_ulmfit\"\n",
            "__________________________________________________________________________________________________\n",
            " Layer (type)                   Output Shape         Param #     Connected to                     \n",
            "==================================================================================================\n",
            " input_7 (InputLayer)           [(None,)]            0           []                               \n",
            "                                                                                                  \n",
            " universal_language_model (Kera  {'output_rows': (No  34262464   ['input_7[0][0]']                \n",
            " sLayer)                        ne,),                                                             \n",
            "                                 'output_flat': (No                                               \n",
            "                                ne, 400)}                                                         \n",
            "                                                                                                  \n",
            " tf.RaggedTensor.from_row_split  (None, None, 400)   0           ['universal_language_model[0][0]'\n",
            " s_6 (ClassMethod)                                               , 'universal_language_model[0][1]\n",
            "                                                                 ']                               \n",
            "                                                                                                  \n",
            " tf.math.reduce_mean_6 (TFOpLam  (None, 400)         0           ['tf.RaggedTensor.from_row_splits\n",
            " bda)                                                            _6[0][0]']                       \n",
            "                                                                                                  \n",
            " dense_18 (Dense)               (None, 64)           25664       ['tf.math.reduce_mean_6[0][0]']  \n",
            "                                                                                                  \n",
            " dense_19 (Dense)               (None, 64)           4160        ['dense_18[0][0]']               \n",
            "                                                                                                  \n",
            " dense_20 (Dense)               (None, 1)            65          ['dense_19[0][0]']               \n",
            "                                                                                                  \n",
            "==================================================================================================\n",
            "Total params: 34,292,353\n",
            "Trainable params: 29,889\n",
            "Non-trainable params: 34,262,464\n",
            "__________________________________________________________________________________________________\n"
          ]
        }
      ]
    },
    {
      "cell_type": "code",
      "source": [
        "checkpoint_path = \"model_7/cp.ckpt\"\n",
        "checkpoint_dir = os.path.dirname(checkpoint_path)\n",
        "\n",
        "create_model_checkpoint2=tf.keras.callbacks.ModelCheckpoint(filepath=checkpoint_path, # create filepath to save model\n",
        "                                                            save_best_only=True, verbose=0,\n",
        "                                                            save_weights_only=True,\n",
        "                                                            monitor = 'val_loss') # save only the best model to file\n"
      ],
      "metadata": {
        "id": "P18wAJKvUUd9"
      },
      "execution_count": null,
      "outputs": []
    },
    {
      "cell_type": "code",
      "source": [
        "model_7.compile(loss=\"mean_absolute_error\",\n",
        "                optimizer=tf.keras.optimizers.Adam())\n",
        "\n",
        "initial_epochs = 25\n",
        "model_7_history = model_7.fit(x=X_train, y=y_train,\n",
        "                              epochs=initial_epochs,validation_data=(X_val, y_val),\n",
        "                                                                     callbacks=[create_model_checkpoint2('Model_7_ULMFit_word'),early_stopping])"
      ],
      "metadata": {
        "colab": {
          "base_uri": "https://localhost:8080/"
        },
        "id": "z0AWJFQAHPxu",
        "outputId": "11adce63-cb4a-4140-ebe1-a2b6682ef660"
      },
      "execution_count": null,
      "outputs": [
        {
          "output_type": "stream",
          "name": "stdout",
          "text": [
            "Epoch 1/25\n"
          ]
        },
        {
          "output_type": "stream",
          "name": "stderr",
          "text": [
            "/usr/local/lib/python3.7/dist-packages/tensorflow/python/framework/indexed_slices.py:446: UserWarning: Converting sparse IndexedSlices(IndexedSlices(indices=Tensor(\"gradients/model_2/AWD_RNN1/RaggedToTensor/RaggedTensorToTensor_grad/boolean_mask_1/GatherV2:0\", shape=(None,), dtype=int32), values=Tensor(\"gradients/model_2/AWD_RNN1/RaggedToTensor/RaggedTensorToTensor_grad/boolean_mask/GatherV2:0\", shape=(None, 400), dtype=float32), dense_shape=Tensor(\"gradients/model_2/AWD_RNN1/RaggedToTensor/RaggedTensorToTensor_grad/Shape:0\", shape=(2,), dtype=int32))) to a dense Tensor of unknown shape. This may consume a large amount of memory.\n",
            "  \"shape. This may consume a large amount of memory.\" % value)\n"
          ]
        },
        {
          "output_type": "stream",
          "name": "stdout",
          "text": [
            "1779/1779 [==============================] - 126s 66ms/step - loss: 1.0756 - val_loss: 1.0521\n",
            "Epoch 2/25\n",
            "1779/1779 [==============================] - 115s 65ms/step - loss: 0.9569 - val_loss: 1.0168\n",
            "Epoch 3/25\n",
            "1779/1779 [==============================] - 125s 71ms/step - loss: 0.9378 - val_loss: 1.0143\n",
            "Epoch 4/25\n",
            "1779/1779 [==============================] - 110s 62ms/step - loss: 0.9182 - val_loss: 0.9786\n",
            "Epoch 5/25\n",
            "1779/1779 [==============================] - 110s 62ms/step - loss: 0.9113 - val_loss: 0.9710\n",
            "Epoch 6/25\n",
            "1779/1779 [==============================] - 109s 61ms/step - loss: 0.8989 - val_loss: 0.9643\n",
            "Epoch 7/25\n",
            "1779/1779 [==============================] - 109s 61ms/step - loss: 0.8913 - val_loss: 0.9695\n",
            "Epoch 8/25\n",
            "1779/1779 [==============================] - 109s 61ms/step - loss: 0.8828 - val_loss: 0.9589\n",
            "Epoch 9/25\n",
            "1779/1779 [==============================] - 109s 61ms/step - loss: 0.8768 - val_loss: 0.9524\n",
            "Epoch 10/25\n",
            "1779/1779 [==============================] - 131s 74ms/step - loss: 0.8694 - val_loss: 0.9543\n",
            "Epoch 11/25\n",
            "1779/1779 [==============================] - 112s 63ms/step - loss: 0.8640 - val_loss: 0.9586\n",
            "Epoch 12/25\n",
            "1779/1779 [==============================] - 130s 73ms/step - loss: 0.8578 - val_loss: 0.9793\n"
          ]
        }
      ]
    },
    {
      "cell_type": "code",
      "source": [
        "model_7.evaluate(X_test,y_test)"
      ],
      "metadata": {
        "colab": {
          "base_uri": "https://localhost:8080/"
        },
        "id": "75adL8D6pwd7",
        "outputId": "d0e0f264-22cd-4806-aeaf-f0bd57cce9b9"
      },
      "execution_count": null,
      "outputs": [
        {
          "output_type": "stream",
          "name": "stdout",
          "text": [
            "86/86 [==============================] - 3s 38ms/step - loss: 0.9743\n"
          ]
        },
        {
          "output_type": "execute_result",
          "data": {
            "text/plain": [
              "0.9743375182151794"
            ]
          },
          "metadata": {},
          "execution_count": 73
        }
      ]
    },
    {
      "cell_type": "code",
      "source": [
        "model_7.evaluate(X_train, y_train)"
      ],
      "metadata": {
        "colab": {
          "base_uri": "https://localhost:8080/"
        },
        "id": "N8B1cHH4d3Km",
        "outputId": "f9558da5-5266-43e6-a1df-335321db799e"
      },
      "execution_count": null,
      "outputs": [
        {
          "output_type": "stream",
          "name": "stdout",
          "text": [
            "1779/1779 [==============================] - 43s 24ms/step - loss: 0.8597\n"
          ]
        },
        {
          "output_type": "execute_result",
          "data": {
            "text/plain": [
              "0.8597214818000793"
            ]
          },
          "metadata": {},
          "execution_count": 74
        }
      ]
    },
    {
      "cell_type": "code",
      "source": [
        "# fine tuning the model\n",
        "\n",
        "fine_tune_epochs = initial_epochs + 25\n",
        "\n",
        "model_7.trainable = True\n",
        "\n",
        "model_7.compile(loss=\"mean_absolute_error\",\n",
        "                optimizer=tf.keras.optimizers.Adam(learning_rate = 0.0001))\n",
        "\n",
        "model_7_finetune_history = model_7.fit(x=X_train, y=y_train, epochs=fine_tune_epochs,\n",
        "                                       initial_epoch = model_7_history.epoch[-1], validation_data=(X_val, y_val),\n",
        "                                       callbacks=[create_model_checkpoint2])"
      ],
      "metadata": {
        "colab": {
          "base_uri": "https://localhost:8080/",
          "height": 1000
        },
        "id": "rBuXS1mVS5Bw",
        "outputId": "46e5b4d6-9b79-48ac-aee9-e507215d35a9"
      },
      "execution_count": null,
      "outputs": [
        {
          "output_type": "stream",
          "name": "stdout",
          "text": [
            "Epoch 12/50\n",
            "1779/1779 [==============================] - 267s 148ms/step - loss: 0.8571 - val_loss: 0.8732\n",
            "Epoch 13/50\n",
            "1779/1779 [==============================] - 260s 146ms/step - loss: 0.7847 - val_loss: 0.8486\n",
            "Epoch 14/50\n",
            "1779/1779 [==============================] - 236s 132ms/step - loss: 0.7404 - val_loss: 0.8473\n",
            "Epoch 15/50\n",
            "1779/1779 [==============================] - 232s 131ms/step - loss: 0.7030 - val_loss: 0.8608\n",
            "Epoch 16/50\n",
            "1779/1779 [==============================] - 231s 130ms/step - loss: 0.6682 - val_loss: 0.8466\n",
            "Epoch 17/50\n",
            "1779/1779 [==============================] - 233s 131ms/step - loss: 0.6385 - val_loss: 0.8416\n",
            "Epoch 18/50\n",
            "1779/1779 [==============================] - 232s 130ms/step - loss: 0.6133 - val_loss: 0.8468\n",
            "Epoch 19/50\n",
            "1779/1779 [==============================] - 232s 131ms/step - loss: 0.5893 - val_loss: 0.8462\n",
            "Epoch 20/50\n",
            "1779/1779 [==============================] - 232s 130ms/step - loss: 0.5721 - val_loss: 0.8551\n",
            "Epoch 21/50\n",
            "1779/1779 [==============================] - 231s 130ms/step - loss: 0.5559 - val_loss: 0.8702\n",
            "Epoch 22/50\n",
            "1779/1779 [==============================] - 234s 131ms/step - loss: 0.5402 - val_loss: 0.8598\n",
            "Epoch 23/50\n",
            "1779/1779 [==============================] - 233s 131ms/step - loss: 0.5274 - val_loss: 0.8433\n",
            "Epoch 24/50\n",
            "1779/1779 [==============================] - 235s 132ms/step - loss: 0.5166 - val_loss: 0.8553\n",
            "Epoch 25/50\n",
            "1779/1779 [==============================] - 233s 131ms/step - loss: 0.5056 - val_loss: 0.8553\n",
            "Epoch 26/50\n",
            "1779/1779 [==============================] - 236s 133ms/step - loss: 0.4980 - val_loss: 0.8572\n",
            "Epoch 27/50\n",
            "1779/1779 [==============================] - 232s 130ms/step - loss: 0.4907 - val_loss: 0.8657\n",
            "Epoch 28/50\n",
            "1779/1779 [==============================] - 231s 130ms/step - loss: 0.4819 - val_loss: 0.8721\n",
            "Epoch 29/50\n",
            "1779/1779 [==============================] - 230s 129ms/step - loss: 0.4774 - val_loss: 0.8592\n",
            "Epoch 30/50\n",
            "  25/1779 [..............................] - ETA: 3:43 - loss: 0.4661"
          ]
        },
        {
          "output_type": "error",
          "ename": "KeyboardInterrupt",
          "evalue": "ignored",
          "traceback": [
            "\u001b[0;31m---------------------------------------------------------------------------\u001b[0m",
            "\u001b[0;31mKeyboardInterrupt\u001b[0m                         Traceback (most recent call last)",
            "\u001b[0;32m<ipython-input-83-4e6fed555083>\u001b[0m in \u001b[0;36m<module>\u001b[0;34m()\u001b[0m\n\u001b[1;32m     10\u001b[0m model_7_finetune_history = model_7.fit(x=X_train, y=y_train, epochs=fine_tune_epochs,\n\u001b[1;32m     11\u001b[0m                                        \u001b[0minitial_epoch\u001b[0m \u001b[0;34m=\u001b[0m \u001b[0mmodel_7_history\u001b[0m\u001b[0;34m.\u001b[0m\u001b[0mepoch\u001b[0m\u001b[0;34m[\u001b[0m\u001b[0;34m-\u001b[0m\u001b[0;36m1\u001b[0m\u001b[0;34m]\u001b[0m\u001b[0;34m,\u001b[0m \u001b[0mvalidation_data\u001b[0m\u001b[0;34m=\u001b[0m\u001b[0;34m(\u001b[0m\u001b[0mX_val\u001b[0m\u001b[0;34m,\u001b[0m \u001b[0my_val\u001b[0m\u001b[0;34m)\u001b[0m\u001b[0;34m,\u001b[0m\u001b[0;34m\u001b[0m\u001b[0;34m\u001b[0m\u001b[0m\n\u001b[0;32m---> 12\u001b[0;31m                                        callbacks=[create_model_checkpoint2])\n\u001b[0m",
            "\u001b[0;32m/usr/local/lib/python3.7/dist-packages/keras/utils/traceback_utils.py\u001b[0m in \u001b[0;36merror_handler\u001b[0;34m(*args, **kwargs)\u001b[0m\n\u001b[1;32m     62\u001b[0m     \u001b[0mfiltered_tb\u001b[0m \u001b[0;34m=\u001b[0m \u001b[0;32mNone\u001b[0m\u001b[0;34m\u001b[0m\u001b[0;34m\u001b[0m\u001b[0m\n\u001b[1;32m     63\u001b[0m     \u001b[0;32mtry\u001b[0m\u001b[0;34m:\u001b[0m\u001b[0;34m\u001b[0m\u001b[0;34m\u001b[0m\u001b[0m\n\u001b[0;32m---> 64\u001b[0;31m       \u001b[0;32mreturn\u001b[0m \u001b[0mfn\u001b[0m\u001b[0;34m(\u001b[0m\u001b[0;34m*\u001b[0m\u001b[0margs\u001b[0m\u001b[0;34m,\u001b[0m \u001b[0;34m**\u001b[0m\u001b[0mkwargs\u001b[0m\u001b[0;34m)\u001b[0m\u001b[0;34m\u001b[0m\u001b[0;34m\u001b[0m\u001b[0m\n\u001b[0m\u001b[1;32m     65\u001b[0m     \u001b[0;32mexcept\u001b[0m \u001b[0mException\u001b[0m \u001b[0;32mas\u001b[0m \u001b[0me\u001b[0m\u001b[0;34m:\u001b[0m  \u001b[0;31m# pylint: disable=broad-except\u001b[0m\u001b[0;34m\u001b[0m\u001b[0;34m\u001b[0m\u001b[0m\n\u001b[1;32m     66\u001b[0m       \u001b[0mfiltered_tb\u001b[0m \u001b[0;34m=\u001b[0m \u001b[0m_process_traceback_frames\u001b[0m\u001b[0;34m(\u001b[0m\u001b[0me\u001b[0m\u001b[0;34m.\u001b[0m\u001b[0m__traceback__\u001b[0m\u001b[0;34m)\u001b[0m\u001b[0;34m\u001b[0m\u001b[0;34m\u001b[0m\u001b[0m\n",
            "\u001b[0;32m/usr/local/lib/python3.7/dist-packages/keras/engine/training.py\u001b[0m in \u001b[0;36mfit\u001b[0;34m(self, x, y, batch_size, epochs, verbose, callbacks, validation_split, validation_data, shuffle, class_weight, sample_weight, initial_epoch, steps_per_epoch, validation_steps, validation_batch_size, validation_freq, max_queue_size, workers, use_multiprocessing)\u001b[0m\n\u001b[1;32m   1407\u001b[0m                 _r=1):\n\u001b[1;32m   1408\u001b[0m               \u001b[0mcallbacks\u001b[0m\u001b[0;34m.\u001b[0m\u001b[0mon_train_batch_begin\u001b[0m\u001b[0;34m(\u001b[0m\u001b[0mstep\u001b[0m\u001b[0;34m)\u001b[0m\u001b[0;34m\u001b[0m\u001b[0;34m\u001b[0m\u001b[0m\n\u001b[0;32m-> 1409\u001b[0;31m               \u001b[0mtmp_logs\u001b[0m \u001b[0;34m=\u001b[0m \u001b[0mself\u001b[0m\u001b[0;34m.\u001b[0m\u001b[0mtrain_function\u001b[0m\u001b[0;34m(\u001b[0m\u001b[0miterator\u001b[0m\u001b[0;34m)\u001b[0m\u001b[0;34m\u001b[0m\u001b[0;34m\u001b[0m\u001b[0m\n\u001b[0m\u001b[1;32m   1410\u001b[0m               \u001b[0;32mif\u001b[0m \u001b[0mdata_handler\u001b[0m\u001b[0;34m.\u001b[0m\u001b[0mshould_sync\u001b[0m\u001b[0;34m:\u001b[0m\u001b[0;34m\u001b[0m\u001b[0;34m\u001b[0m\u001b[0m\n\u001b[1;32m   1411\u001b[0m                 \u001b[0mcontext\u001b[0m\u001b[0;34m.\u001b[0m\u001b[0masync_wait\u001b[0m\u001b[0;34m(\u001b[0m\u001b[0;34m)\u001b[0m\u001b[0;34m\u001b[0m\u001b[0;34m\u001b[0m\u001b[0m\n",
            "\u001b[0;32m/usr/local/lib/python3.7/dist-packages/tensorflow/python/util/traceback_utils.py\u001b[0m in \u001b[0;36merror_handler\u001b[0;34m(*args, **kwargs)\u001b[0m\n\u001b[1;32m    148\u001b[0m     \u001b[0mfiltered_tb\u001b[0m \u001b[0;34m=\u001b[0m \u001b[0;32mNone\u001b[0m\u001b[0;34m\u001b[0m\u001b[0;34m\u001b[0m\u001b[0m\n\u001b[1;32m    149\u001b[0m     \u001b[0;32mtry\u001b[0m\u001b[0;34m:\u001b[0m\u001b[0;34m\u001b[0m\u001b[0;34m\u001b[0m\u001b[0m\n\u001b[0;32m--> 150\u001b[0;31m       \u001b[0;32mreturn\u001b[0m \u001b[0mfn\u001b[0m\u001b[0;34m(\u001b[0m\u001b[0;34m*\u001b[0m\u001b[0margs\u001b[0m\u001b[0;34m,\u001b[0m \u001b[0;34m**\u001b[0m\u001b[0mkwargs\u001b[0m\u001b[0;34m)\u001b[0m\u001b[0;34m\u001b[0m\u001b[0;34m\u001b[0m\u001b[0m\n\u001b[0m\u001b[1;32m    151\u001b[0m     \u001b[0;32mexcept\u001b[0m \u001b[0mException\u001b[0m \u001b[0;32mas\u001b[0m \u001b[0me\u001b[0m\u001b[0;34m:\u001b[0m\u001b[0;34m\u001b[0m\u001b[0;34m\u001b[0m\u001b[0m\n\u001b[1;32m    152\u001b[0m       \u001b[0mfiltered_tb\u001b[0m \u001b[0;34m=\u001b[0m \u001b[0m_process_traceback_frames\u001b[0m\u001b[0;34m(\u001b[0m\u001b[0me\u001b[0m\u001b[0;34m.\u001b[0m\u001b[0m__traceback__\u001b[0m\u001b[0;34m)\u001b[0m\u001b[0;34m\u001b[0m\u001b[0;34m\u001b[0m\u001b[0m\n",
            "\u001b[0;32m/usr/local/lib/python3.7/dist-packages/tensorflow/python/eager/def_function.py\u001b[0m in \u001b[0;36m__call__\u001b[0;34m(self, *args, **kwds)\u001b[0m\n\u001b[1;32m    913\u001b[0m \u001b[0;34m\u001b[0m\u001b[0m\n\u001b[1;32m    914\u001b[0m       \u001b[0;32mwith\u001b[0m \u001b[0mOptionalXlaContext\u001b[0m\u001b[0;34m(\u001b[0m\u001b[0mself\u001b[0m\u001b[0;34m.\u001b[0m\u001b[0m_jit_compile\u001b[0m\u001b[0;34m)\u001b[0m\u001b[0;34m:\u001b[0m\u001b[0;34m\u001b[0m\u001b[0;34m\u001b[0m\u001b[0m\n\u001b[0;32m--> 915\u001b[0;31m         \u001b[0mresult\u001b[0m \u001b[0;34m=\u001b[0m \u001b[0mself\u001b[0m\u001b[0;34m.\u001b[0m\u001b[0m_call\u001b[0m\u001b[0;34m(\u001b[0m\u001b[0;34m*\u001b[0m\u001b[0margs\u001b[0m\u001b[0;34m,\u001b[0m \u001b[0;34m**\u001b[0m\u001b[0mkwds\u001b[0m\u001b[0;34m)\u001b[0m\u001b[0;34m\u001b[0m\u001b[0;34m\u001b[0m\u001b[0m\n\u001b[0m\u001b[1;32m    916\u001b[0m \u001b[0;34m\u001b[0m\u001b[0m\n\u001b[1;32m    917\u001b[0m       \u001b[0mnew_tracing_count\u001b[0m \u001b[0;34m=\u001b[0m \u001b[0mself\u001b[0m\u001b[0;34m.\u001b[0m\u001b[0mexperimental_get_tracing_count\u001b[0m\u001b[0;34m(\u001b[0m\u001b[0;34m)\u001b[0m\u001b[0;34m\u001b[0m\u001b[0;34m\u001b[0m\u001b[0m\n",
            "\u001b[0;32m/usr/local/lib/python3.7/dist-packages/tensorflow/python/eager/def_function.py\u001b[0m in \u001b[0;36m_call\u001b[0;34m(self, *args, **kwds)\u001b[0m\n\u001b[1;32m    945\u001b[0m       \u001b[0;31m# In this case we have created variables on the first call, so we run the\u001b[0m\u001b[0;34m\u001b[0m\u001b[0;34m\u001b[0m\u001b[0;34m\u001b[0m\u001b[0m\n\u001b[1;32m    946\u001b[0m       \u001b[0;31m# defunned version which is guaranteed to never create variables.\u001b[0m\u001b[0;34m\u001b[0m\u001b[0;34m\u001b[0m\u001b[0;34m\u001b[0m\u001b[0m\n\u001b[0;32m--> 947\u001b[0;31m       \u001b[0;32mreturn\u001b[0m \u001b[0mself\u001b[0m\u001b[0;34m.\u001b[0m\u001b[0m_stateless_fn\u001b[0m\u001b[0;34m(\u001b[0m\u001b[0;34m*\u001b[0m\u001b[0margs\u001b[0m\u001b[0;34m,\u001b[0m \u001b[0;34m**\u001b[0m\u001b[0mkwds\u001b[0m\u001b[0;34m)\u001b[0m  \u001b[0;31m# pylint: disable=not-callable\u001b[0m\u001b[0;34m\u001b[0m\u001b[0;34m\u001b[0m\u001b[0m\n\u001b[0m\u001b[1;32m    948\u001b[0m     \u001b[0;32melif\u001b[0m \u001b[0mself\u001b[0m\u001b[0;34m.\u001b[0m\u001b[0m_stateful_fn\u001b[0m \u001b[0;32mis\u001b[0m \u001b[0;32mnot\u001b[0m \u001b[0;32mNone\u001b[0m\u001b[0;34m:\u001b[0m\u001b[0;34m\u001b[0m\u001b[0;34m\u001b[0m\u001b[0m\n\u001b[1;32m    949\u001b[0m       \u001b[0;31m# Release the lock early so that multiple threads can perform the call\u001b[0m\u001b[0;34m\u001b[0m\u001b[0;34m\u001b[0m\u001b[0;34m\u001b[0m\u001b[0m\n",
            "\u001b[0;32m/usr/local/lib/python3.7/dist-packages/tensorflow/python/eager/function.py\u001b[0m in \u001b[0;36m__call__\u001b[0;34m(self, *args, **kwargs)\u001b[0m\n\u001b[1;32m   2452\u001b[0m        filtered_flat_args) = self._maybe_define_function(args, kwargs)\n\u001b[1;32m   2453\u001b[0m     return graph_function._call_flat(\n\u001b[0;32m-> 2454\u001b[0;31m         filtered_flat_args, captured_inputs=graph_function.captured_inputs)  # pylint: disable=protected-access\n\u001b[0m\u001b[1;32m   2455\u001b[0m \u001b[0;34m\u001b[0m\u001b[0m\n\u001b[1;32m   2456\u001b[0m   \u001b[0;34m@\u001b[0m\u001b[0mproperty\u001b[0m\u001b[0;34m\u001b[0m\u001b[0;34m\u001b[0m\u001b[0m\n",
            "\u001b[0;32m/usr/local/lib/python3.7/dist-packages/tensorflow/python/eager/function.py\u001b[0m in \u001b[0;36m_call_flat\u001b[0;34m(self, args, captured_inputs, cancellation_manager)\u001b[0m\n\u001b[1;32m   1859\u001b[0m       \u001b[0;31m# No tape is watching; skip to running the function.\u001b[0m\u001b[0;34m\u001b[0m\u001b[0;34m\u001b[0m\u001b[0;34m\u001b[0m\u001b[0m\n\u001b[1;32m   1860\u001b[0m       return self._build_call_outputs(self._inference_function.call(\n\u001b[0;32m-> 1861\u001b[0;31m           ctx, args, cancellation_manager=cancellation_manager))\n\u001b[0m\u001b[1;32m   1862\u001b[0m     forward_backward = self._select_forward_and_backward_functions(\n\u001b[1;32m   1863\u001b[0m         \u001b[0margs\u001b[0m\u001b[0;34m,\u001b[0m\u001b[0;34m\u001b[0m\u001b[0;34m\u001b[0m\u001b[0m\n",
            "\u001b[0;32m/usr/local/lib/python3.7/dist-packages/tensorflow/python/eager/function.py\u001b[0m in \u001b[0;36mcall\u001b[0;34m(self, ctx, args, cancellation_manager)\u001b[0m\n\u001b[1;32m    500\u001b[0m               \u001b[0minputs\u001b[0m\u001b[0;34m=\u001b[0m\u001b[0margs\u001b[0m\u001b[0;34m,\u001b[0m\u001b[0;34m\u001b[0m\u001b[0;34m\u001b[0m\u001b[0m\n\u001b[1;32m    501\u001b[0m               \u001b[0mattrs\u001b[0m\u001b[0;34m=\u001b[0m\u001b[0mattrs\u001b[0m\u001b[0;34m,\u001b[0m\u001b[0;34m\u001b[0m\u001b[0;34m\u001b[0m\u001b[0m\n\u001b[0;32m--> 502\u001b[0;31m               ctx=ctx)\n\u001b[0m\u001b[1;32m    503\u001b[0m         \u001b[0;32melse\u001b[0m\u001b[0;34m:\u001b[0m\u001b[0;34m\u001b[0m\u001b[0;34m\u001b[0m\u001b[0m\n\u001b[1;32m    504\u001b[0m           outputs = execute.execute_with_cancellation(\n",
            "\u001b[0;32m/usr/local/lib/python3.7/dist-packages/tensorflow/python/eager/execute.py\u001b[0m in \u001b[0;36mquick_execute\u001b[0;34m(op_name, num_outputs, inputs, attrs, ctx, name)\u001b[0m\n\u001b[1;32m     53\u001b[0m     \u001b[0mctx\u001b[0m\u001b[0;34m.\u001b[0m\u001b[0mensure_initialized\u001b[0m\u001b[0;34m(\u001b[0m\u001b[0;34m)\u001b[0m\u001b[0;34m\u001b[0m\u001b[0;34m\u001b[0m\u001b[0m\n\u001b[1;32m     54\u001b[0m     tensors = pywrap_tfe.TFE_Py_Execute(ctx._handle, device_name, op_name,\n\u001b[0;32m---> 55\u001b[0;31m                                         inputs, attrs, num_outputs)\n\u001b[0m\u001b[1;32m     56\u001b[0m   \u001b[0;32mexcept\u001b[0m \u001b[0mcore\u001b[0m\u001b[0;34m.\u001b[0m\u001b[0m_NotOkStatusException\u001b[0m \u001b[0;32mas\u001b[0m \u001b[0me\u001b[0m\u001b[0;34m:\u001b[0m\u001b[0;34m\u001b[0m\u001b[0;34m\u001b[0m\u001b[0m\n\u001b[1;32m     57\u001b[0m     \u001b[0;32mif\u001b[0m \u001b[0mname\u001b[0m \u001b[0;32mis\u001b[0m \u001b[0;32mnot\u001b[0m \u001b[0;32mNone\u001b[0m\u001b[0;34m:\u001b[0m\u001b[0;34m\u001b[0m\u001b[0;34m\u001b[0m\u001b[0m\n",
            "\u001b[0;31mKeyboardInterrupt\u001b[0m: "
          ]
        }
      ]
    },
    {
      "cell_type": "code",
      "source": [
        "model_7.load_weights('model_7/cp.ckpt')"
      ],
      "metadata": {
        "colab": {
          "base_uri": "https://localhost:8080/"
        },
        "id": "dG1mo1j20Jrq",
        "outputId": "8b739fc0-118e-440b-bd4c-66bdd3ba7d8e"
      },
      "execution_count": null,
      "outputs": [
        {
          "output_type": "execute_result",
          "data": {
            "text/plain": [
              "<tensorflow.python.training.tracking.util.CheckpointLoadStatus at 0x7f1479c37590>"
            ]
          },
          "metadata": {},
          "execution_count": 85
        }
      ]
    },
    {
      "cell_type": "code",
      "source": [
        "model_7.evaluate(X_test,y_test)"
      ],
      "metadata": {
        "colab": {
          "base_uri": "https://localhost:8080/"
        },
        "id": "TME4e-O4DC7D",
        "outputId": "21de11dc-2212-429b-9dfa-ae957f140809"
      },
      "execution_count": null,
      "outputs": [
        {
          "output_type": "stream",
          "name": "stdout",
          "text": [
            "86/86 [==============================] - 4s 42ms/step - loss: 0.8577\n"
          ]
        },
        {
          "output_type": "execute_result",
          "data": {
            "text/plain": [
              "0.8577132225036621"
            ]
          },
          "metadata": {},
          "execution_count": 86
        }
      ]
    },
    {
      "cell_type": "code",
      "source": [
        "model_7.evaluate(X_train,y_train)"
      ],
      "metadata": {
        "colab": {
          "base_uri": "https://localhost:8080/"
        },
        "id": "9RupBMj9DGFM",
        "outputId": "b269673a-d6d8-430c-9fc6-816704109b45"
      },
      "execution_count": null,
      "outputs": [
        {
          "output_type": "stream",
          "name": "stdout",
          "text": [
            "1779/1779 [==============================] - 57s 32ms/step - loss: 0.6025\n"
          ]
        },
        {
          "output_type": "execute_result",
          "data": {
            "text/plain": [
              "0.6025400757789612"
            ]
          },
          "metadata": {},
          "execution_count": 87
        }
      ]
    },
    {
      "cell_type": "code",
      "source": [
        "pd.DataFrame(zip(names_to_predict,model_7.predict(names_to_predict2)),columns=['rest_name','predicted_score'])"
      ],
      "metadata": {
        "colab": {
          "base_uri": "https://localhost:8080/",
          "height": 380
        },
        "id": "itb7H6s_DKY1",
        "outputId": "d28ab7e9-5dc3-4c71-af8f-a0525c4fb562"
      },
      "execution_count": null,
      "outputs": [
        {
          "output_type": "stream",
          "name": "stdout",
          "text": [
            "1/1 [==============================] - 1s 616ms/step\n"
          ]
        },
        {
          "output_type": "execute_result",
          "data": {
            "text/plain": [
              "                  rest_name predicted_score\n",
              "0      X's fish & chip shop      [5.371912]\n",
              "1      Yuru's Pizza & Kebab      [5.280836]\n",
              "2  Yuru's Chinese Takeaways     [6.7427893]\n",
              "3    Yuru's Sushi Takeaways     [7.0998163]\n",
              "4   Yuru's Sushi Restaurant      [8.079787]\n",
              "5       Yuru's Cocktail Bar      [6.366557]\n",
              "6            Cambridge Oven     [6.6594915]\n",
              "7                  Yo!Sushi      [8.812287]\n",
              "8                 Starbucks      [7.135051]\n",
              "9                Vanderlyle     [6.4684916]"
            ],
            "text/html": [
              "\n",
              "  <div id=\"df-65b7a011-c2b1-4d94-9952-14b77e08aef4\">\n",
              "    <div class=\"colab-df-container\">\n",
              "      <div>\n",
              "<style scoped>\n",
              "    .dataframe tbody tr th:only-of-type {\n",
              "        vertical-align: middle;\n",
              "    }\n",
              "\n",
              "    .dataframe tbody tr th {\n",
              "        vertical-align: top;\n",
              "    }\n",
              "\n",
              "    .dataframe thead th {\n",
              "        text-align: right;\n",
              "    }\n",
              "</style>\n",
              "<table border=\"1\" class=\"dataframe\">\n",
              "  <thead>\n",
              "    <tr style=\"text-align: right;\">\n",
              "      <th></th>\n",
              "      <th>rest_name</th>\n",
              "      <th>predicted_score</th>\n",
              "    </tr>\n",
              "  </thead>\n",
              "  <tbody>\n",
              "    <tr>\n",
              "      <th>0</th>\n",
              "      <td>X's fish &amp; chip shop</td>\n",
              "      <td>[5.371912]</td>\n",
              "    </tr>\n",
              "    <tr>\n",
              "      <th>1</th>\n",
              "      <td>Yuru's Pizza &amp; Kebab</td>\n",
              "      <td>[5.280836]</td>\n",
              "    </tr>\n",
              "    <tr>\n",
              "      <th>2</th>\n",
              "      <td>Yuru's Chinese Takeaways</td>\n",
              "      <td>[6.7427893]</td>\n",
              "    </tr>\n",
              "    <tr>\n",
              "      <th>3</th>\n",
              "      <td>Yuru's Sushi Takeaways</td>\n",
              "      <td>[7.0998163]</td>\n",
              "    </tr>\n",
              "    <tr>\n",
              "      <th>4</th>\n",
              "      <td>Yuru's Sushi Restaurant</td>\n",
              "      <td>[8.079787]</td>\n",
              "    </tr>\n",
              "    <tr>\n",
              "      <th>5</th>\n",
              "      <td>Yuru's Cocktail Bar</td>\n",
              "      <td>[6.366557]</td>\n",
              "    </tr>\n",
              "    <tr>\n",
              "      <th>6</th>\n",
              "      <td>Cambridge Oven</td>\n",
              "      <td>[6.6594915]</td>\n",
              "    </tr>\n",
              "    <tr>\n",
              "      <th>7</th>\n",
              "      <td>Yo!Sushi</td>\n",
              "      <td>[8.812287]</td>\n",
              "    </tr>\n",
              "    <tr>\n",
              "      <th>8</th>\n",
              "      <td>Starbucks</td>\n",
              "      <td>[7.135051]</td>\n",
              "    </tr>\n",
              "    <tr>\n",
              "      <th>9</th>\n",
              "      <td>Vanderlyle</td>\n",
              "      <td>[6.4684916]</td>\n",
              "    </tr>\n",
              "  </tbody>\n",
              "</table>\n",
              "</div>\n",
              "      <button class=\"colab-df-convert\" onclick=\"convertToInteractive('df-65b7a011-c2b1-4d94-9952-14b77e08aef4')\"\n",
              "              title=\"Convert this dataframe to an interactive table.\"\n",
              "              style=\"display:none;\">\n",
              "        \n",
              "  <svg xmlns=\"http://www.w3.org/2000/svg\" height=\"24px\"viewBox=\"0 0 24 24\"\n",
              "       width=\"24px\">\n",
              "    <path d=\"M0 0h24v24H0V0z\" fill=\"none\"/>\n",
              "    <path d=\"M18.56 5.44l.94 2.06.94-2.06 2.06-.94-2.06-.94-.94-2.06-.94 2.06-2.06.94zm-11 1L8.5 8.5l.94-2.06 2.06-.94-2.06-.94L8.5 2.5l-.94 2.06-2.06.94zm10 10l.94 2.06.94-2.06 2.06-.94-2.06-.94-.94-2.06-.94 2.06-2.06.94z\"/><path d=\"M17.41 7.96l-1.37-1.37c-.4-.4-.92-.59-1.43-.59-.52 0-1.04.2-1.43.59L10.3 9.45l-7.72 7.72c-.78.78-.78 2.05 0 2.83L4 21.41c.39.39.9.59 1.41.59.51 0 1.02-.2 1.41-.59l7.78-7.78 2.81-2.81c.8-.78.8-2.07 0-2.86zM5.41 20L4 18.59l7.72-7.72 1.47 1.35L5.41 20z\"/>\n",
              "  </svg>\n",
              "      </button>\n",
              "      \n",
              "  <style>\n",
              "    .colab-df-container {\n",
              "      display:flex;\n",
              "      flex-wrap:wrap;\n",
              "      gap: 12px;\n",
              "    }\n",
              "\n",
              "    .colab-df-convert {\n",
              "      background-color: #E8F0FE;\n",
              "      border: none;\n",
              "      border-radius: 50%;\n",
              "      cursor: pointer;\n",
              "      display: none;\n",
              "      fill: #1967D2;\n",
              "      height: 32px;\n",
              "      padding: 0 0 0 0;\n",
              "      width: 32px;\n",
              "    }\n",
              "\n",
              "    .colab-df-convert:hover {\n",
              "      background-color: #E2EBFA;\n",
              "      box-shadow: 0px 1px 2px rgba(60, 64, 67, 0.3), 0px 1px 3px 1px rgba(60, 64, 67, 0.15);\n",
              "      fill: #174EA6;\n",
              "    }\n",
              "\n",
              "    [theme=dark] .colab-df-convert {\n",
              "      background-color: #3B4455;\n",
              "      fill: #D2E3FC;\n",
              "    }\n",
              "\n",
              "    [theme=dark] .colab-df-convert:hover {\n",
              "      background-color: #434B5C;\n",
              "      box-shadow: 0px 1px 3px 1px rgba(0, 0, 0, 0.15);\n",
              "      filter: drop-shadow(0px 1px 2px rgba(0, 0, 0, 0.3));\n",
              "      fill: #FFFFFF;\n",
              "    }\n",
              "  </style>\n",
              "\n",
              "      <script>\n",
              "        const buttonEl =\n",
              "          document.querySelector('#df-65b7a011-c2b1-4d94-9952-14b77e08aef4 button.colab-df-convert');\n",
              "        buttonEl.style.display =\n",
              "          google.colab.kernel.accessAllowed ? 'block' : 'none';\n",
              "\n",
              "        async function convertToInteractive(key) {\n",
              "          const element = document.querySelector('#df-65b7a011-c2b1-4d94-9952-14b77e08aef4');\n",
              "          const dataTable =\n",
              "            await google.colab.kernel.invokeFunction('convertToInteractive',\n",
              "                                                     [key], {});\n",
              "          if (!dataTable) return;\n",
              "\n",
              "          const docLinkHtml = 'Like what you see? Visit the ' +\n",
              "            '<a target=\"_blank\" href=https://colab.research.google.com/notebooks/data_table.ipynb>data table notebook</a>'\n",
              "            + ' to learn more about interactive tables.';\n",
              "          element.innerHTML = '';\n",
              "          dataTable['output_type'] = 'display_data';\n",
              "          await google.colab.output.renderOutput(dataTable, element);\n",
              "          const docLink = document.createElement('div');\n",
              "          docLink.innerHTML = docLinkHtml;\n",
              "          element.appendChild(docLink);\n",
              "        }\n",
              "      </script>\n",
              "    </div>\n",
              "  </div>\n",
              "  "
            ]
          },
          "metadata": {},
          "execution_count": 90
        }
      ]
    },
    {
      "cell_type": "markdown",
      "source": [
        "## Model 8 (DL): Adding hygine ratings"
      ],
      "metadata": {
        "id": "pKg2EhKh-UB-"
      }
    },
    {
      "cell_type": "code",
      "source": [
        "train_ds_hr = clean_data(pd.read_csv('train_smogn_whr.csv'))\n",
        "test_ds_hr = clean_data(pd.read_csv('test_smogn_whr.csv'))"
      ],
      "metadata": {
        "id": "2uHxKSI4HTlT"
      },
      "execution_count": null,
      "outputs": []
    },
    {
      "cell_type": "code",
      "source": [
        "test_ds_hr, val_ds_hr = train_test_split(test_ds_hr, test_size = 0.5, random_state=42)"
      ],
      "metadata": {
        "id": "EOr1gznDJyaC"
      },
      "execution_count": null,
      "outputs": []
    },
    {
      "cell_type": "code",
      "source": [
        "train_ds_hr.columns"
      ],
      "metadata": {
        "colab": {
          "base_uri": "https://localhost:8080/"
        },
        "id": "0Vswg7MbImUh",
        "outputId": "1e5ef0bc-a5b1-4624-9548-d27b1544ab99"
      },
      "execution_count": null,
      "outputs": [
        {
          "output_type": "execute_result",
          "data": {
            "text/plain": [
              "Index(['Unnamed: 0', 'index', 'Restaurant ID', 'Desserts', 'Vegetables',\n",
              "       'Salads', 'Chips', 'Water', 'Milk', 'Special Offers', 'rest_name',\n",
              "       'address', 'cuisines', 'url', 'rating_review', 'price_avg', 'price_min',\n",
              "       'price_max', 'postcode', 'postcode_district', 'specialOffers', 'chips',\n",
              "       'salads', 'predict', 'rating2', 'hr'],\n",
              "      dtype='object')"
            ]
          },
          "metadata": {},
          "execution_count": 9
        }
      ]
    },
    {
      "cell_type": "code",
      "source": [
        "# focus on England only: restaurants with hyginene ratings\n",
        "\n",
        "def clean_data_hr(data):\n",
        " data = data[data['hr'].notnull() & data['hr'].str.contains('0|1|2|3|4|5')]\n",
        " data['hr_rating'] = data.hr.astype(\"float32\")\n",
        " data['ascii_name_fix'] = data.rest_name.apply(lambda x: rest_name_cleaning(x))\n",
        " return data[['ascii_name_fix', 'hr_rating']], data.predict"
      ],
      "metadata": {
        "id": "5rBd2Vm0DdqV"
      },
      "execution_count": null,
      "outputs": []
    },
    {
      "cell_type": "code",
      "source": [
        "X_train_hr, y_train_hr = clean_data_hr(train_ds_hr)\n",
        "X_val_hr, y_val_hr = clean_data_hr(val_ds_hr)\n",
        "X_test_hr, y_test_hr = clean_data_hr(test_ds_hr)"
      ],
      "metadata": {
        "colab": {
          "base_uri": "https://localhost:8080/"
        },
        "id": "VuIfi7gjIu_3",
        "outputId": "0a0308aa-c1de-4351-acdd-bd91a69e71b8"
      },
      "execution_count": null,
      "outputs": [
        {
          "output_type": "stream",
          "name": "stderr",
          "text": [
            "/usr/local/lib/python3.7/dist-packages/ipykernel_launcher.py:5: SettingWithCopyWarning: \n",
            "A value is trying to be set on a copy of a slice from a DataFrame.\n",
            "Try using .loc[row_indexer,col_indexer] = value instead\n",
            "\n",
            "See the caveats in the documentation: https://pandas.pydata.org/pandas-docs/stable/user_guide/indexing.html#returning-a-view-versus-a-copy\n",
            "  \"\"\"\n",
            "/usr/local/lib/python3.7/dist-packages/ipykernel_launcher.py:6: SettingWithCopyWarning: \n",
            "A value is trying to be set on a copy of a slice from a DataFrame.\n",
            "Try using .loc[row_indexer,col_indexer] = value instead\n",
            "\n",
            "See the caveats in the documentation: https://pandas.pydata.org/pandas-docs/stable/user_guide/indexing.html#returning-a-view-versus-a-copy\n",
            "  \n"
          ]
        }
      ]
    },
    {
      "cell_type": "markdown",
      "source": [
        "word vectorization"
      ],
      "metadata": {
        "id": "1pcsg4cRGCxX"
      }
    },
    {
      "cell_type": "code",
      "source": [
        "import tensorflow as tf\n",
        "from tensorflow.keras.layers import TextVectorization\n",
        "# Setup text vectorization with custom variables\n",
        "max_vocab_length=20000\n",
        "max_length = 10 # max length our sequences will be (e.g. how many words from the restaurant name does our model see?)\n",
        "\n",
        "word_vectorizer = TextVectorization(output_mode=\"int\",\n",
        "                                    max_tokens = max_vocab_length,\n",
        "                                    split = \"whitespace\",\n",
        "                                    standardize =\"lower_and_strip_punctuation\",\n",
        "                                    output_sequence_length=max_length)\n",
        "word_vectorizer.adapt(X_train_hr['ascii_name_fix'])"
      ],
      "metadata": {
        "id": "Ayxg3hYsFtYz"
      },
      "execution_count": null,
      "outputs": []
    },
    {
      "cell_type": "code",
      "source": [
        "from collections import Counter\n",
        "Counter(X_train_hr['hr_rating'])"
      ],
      "metadata": {
        "colab": {
          "base_uri": "https://localhost:8080/"
        },
        "id": "UR6msrmgInav",
        "outputId": "80e35aef-f4d4-4542-e746-65f68c4ae95d"
      },
      "execution_count": null,
      "outputs": [
        {
          "output_type": "execute_result",
          "data": {
            "text/plain": [
              "Counter({0.0: 34, 1.0: 614, 2.0: 719, 3.0: 4116, 4.0: 6020, 5.0: 14167})"
            ]
          },
          "metadata": {},
          "execution_count": 13
        }
      ]
    },
    {
      "cell_type": "code",
      "source": [
        "X_train_hr"
      ],
      "metadata": {
        "colab": {
          "base_uri": "https://localhost:8080/",
          "height": 424
        },
        "id": "6u2rL1lhIwHD",
        "outputId": "b65c407d-9410-4120-b6e9-3c90b8e6f81e"
      },
      "execution_count": null,
      "outputs": [
        {
          "output_type": "execute_result",
          "data": {
            "text/plain": [
              "                  ascii_name_fix  hr_rating\n",
              "12347                       tj's        4.0\n",
              "12348  lady tee's nigerian foods        4.0\n",
              "12349   proper burger experience        4.0\n",
              "12350                    nelly's        5.0\n",
              "12351           karma restaurant        4.0\n",
              "...                          ...        ...\n",
              "45086           the star of sall        5.0\n",
              "45087          bigmouths kitchen        5.0\n",
              "45088          ayesha's tandoori        3.0\n",
              "45089      aroma indian takeaway        5.0\n",
              "45091           maryland chicken        4.0\n",
              "\n",
              "[25670 rows x 2 columns]"
            ],
            "text/html": [
              "\n",
              "  <div id=\"df-293f4e60-f00e-415d-b63f-e47b715034dc\">\n",
              "    <div class=\"colab-df-container\">\n",
              "      <div>\n",
              "<style scoped>\n",
              "    .dataframe tbody tr th:only-of-type {\n",
              "        vertical-align: middle;\n",
              "    }\n",
              "\n",
              "    .dataframe tbody tr th {\n",
              "        vertical-align: top;\n",
              "    }\n",
              "\n",
              "    .dataframe thead th {\n",
              "        text-align: right;\n",
              "    }\n",
              "</style>\n",
              "<table border=\"1\" class=\"dataframe\">\n",
              "  <thead>\n",
              "    <tr style=\"text-align: right;\">\n",
              "      <th></th>\n",
              "      <th>ascii_name_fix</th>\n",
              "      <th>hr_rating</th>\n",
              "    </tr>\n",
              "  </thead>\n",
              "  <tbody>\n",
              "    <tr>\n",
              "      <th>12347</th>\n",
              "      <td>tj's</td>\n",
              "      <td>4.0</td>\n",
              "    </tr>\n",
              "    <tr>\n",
              "      <th>12348</th>\n",
              "      <td>lady tee's nigerian foods</td>\n",
              "      <td>4.0</td>\n",
              "    </tr>\n",
              "    <tr>\n",
              "      <th>12349</th>\n",
              "      <td>proper burger experience</td>\n",
              "      <td>4.0</td>\n",
              "    </tr>\n",
              "    <tr>\n",
              "      <th>12350</th>\n",
              "      <td>nelly's</td>\n",
              "      <td>5.0</td>\n",
              "    </tr>\n",
              "    <tr>\n",
              "      <th>12351</th>\n",
              "      <td>karma restaurant</td>\n",
              "      <td>4.0</td>\n",
              "    </tr>\n",
              "    <tr>\n",
              "      <th>...</th>\n",
              "      <td>...</td>\n",
              "      <td>...</td>\n",
              "    </tr>\n",
              "    <tr>\n",
              "      <th>45086</th>\n",
              "      <td>the star of sall</td>\n",
              "      <td>5.0</td>\n",
              "    </tr>\n",
              "    <tr>\n",
              "      <th>45087</th>\n",
              "      <td>bigmouths kitchen</td>\n",
              "      <td>5.0</td>\n",
              "    </tr>\n",
              "    <tr>\n",
              "      <th>45088</th>\n",
              "      <td>ayesha's tandoori</td>\n",
              "      <td>3.0</td>\n",
              "    </tr>\n",
              "    <tr>\n",
              "      <th>45089</th>\n",
              "      <td>aroma indian takeaway</td>\n",
              "      <td>5.0</td>\n",
              "    </tr>\n",
              "    <tr>\n",
              "      <th>45091</th>\n",
              "      <td>maryland chicken</td>\n",
              "      <td>4.0</td>\n",
              "    </tr>\n",
              "  </tbody>\n",
              "</table>\n",
              "<p>25670 rows × 2 columns</p>\n",
              "</div>\n",
              "      <button class=\"colab-df-convert\" onclick=\"convertToInteractive('df-293f4e60-f00e-415d-b63f-e47b715034dc')\"\n",
              "              title=\"Convert this dataframe to an interactive table.\"\n",
              "              style=\"display:none;\">\n",
              "        \n",
              "  <svg xmlns=\"http://www.w3.org/2000/svg\" height=\"24px\"viewBox=\"0 0 24 24\"\n",
              "       width=\"24px\">\n",
              "    <path d=\"M0 0h24v24H0V0z\" fill=\"none\"/>\n",
              "    <path d=\"M18.56 5.44l.94 2.06.94-2.06 2.06-.94-2.06-.94-.94-2.06-.94 2.06-2.06.94zm-11 1L8.5 8.5l.94-2.06 2.06-.94-2.06-.94L8.5 2.5l-.94 2.06-2.06.94zm10 10l.94 2.06.94-2.06 2.06-.94-2.06-.94-.94-2.06-.94 2.06-2.06.94z\"/><path d=\"M17.41 7.96l-1.37-1.37c-.4-.4-.92-.59-1.43-.59-.52 0-1.04.2-1.43.59L10.3 9.45l-7.72 7.72c-.78.78-.78 2.05 0 2.83L4 21.41c.39.39.9.59 1.41.59.51 0 1.02-.2 1.41-.59l7.78-7.78 2.81-2.81c.8-.78.8-2.07 0-2.86zM5.41 20L4 18.59l7.72-7.72 1.47 1.35L5.41 20z\"/>\n",
              "  </svg>\n",
              "      </button>\n",
              "      \n",
              "  <style>\n",
              "    .colab-df-container {\n",
              "      display:flex;\n",
              "      flex-wrap:wrap;\n",
              "      gap: 12px;\n",
              "    }\n",
              "\n",
              "    .colab-df-convert {\n",
              "      background-color: #E8F0FE;\n",
              "      border: none;\n",
              "      border-radius: 50%;\n",
              "      cursor: pointer;\n",
              "      display: none;\n",
              "      fill: #1967D2;\n",
              "      height: 32px;\n",
              "      padding: 0 0 0 0;\n",
              "      width: 32px;\n",
              "    }\n",
              "\n",
              "    .colab-df-convert:hover {\n",
              "      background-color: #E2EBFA;\n",
              "      box-shadow: 0px 1px 2px rgba(60, 64, 67, 0.3), 0px 1px 3px 1px rgba(60, 64, 67, 0.15);\n",
              "      fill: #174EA6;\n",
              "    }\n",
              "\n",
              "    [theme=dark] .colab-df-convert {\n",
              "      background-color: #3B4455;\n",
              "      fill: #D2E3FC;\n",
              "    }\n",
              "\n",
              "    [theme=dark] .colab-df-convert:hover {\n",
              "      background-color: #434B5C;\n",
              "      box-shadow: 0px 1px 3px 1px rgba(0, 0, 0, 0.15);\n",
              "      filter: drop-shadow(0px 1px 2px rgba(0, 0, 0, 0.3));\n",
              "      fill: #FFFFFF;\n",
              "    }\n",
              "  </style>\n",
              "\n",
              "      <script>\n",
              "        const buttonEl =\n",
              "          document.querySelector('#df-293f4e60-f00e-415d-b63f-e47b715034dc button.colab-df-convert');\n",
              "        buttonEl.style.display =\n",
              "          google.colab.kernel.accessAllowed ? 'block' : 'none';\n",
              "\n",
              "        async function convertToInteractive(key) {\n",
              "          const element = document.querySelector('#df-293f4e60-f00e-415d-b63f-e47b715034dc');\n",
              "          const dataTable =\n",
              "            await google.colab.kernel.invokeFunction('convertToInteractive',\n",
              "                                                     [key], {});\n",
              "          if (!dataTable) return;\n",
              "\n",
              "          const docLinkHtml = 'Like what you see? Visit the ' +\n",
              "            '<a target=\"_blank\" href=https://colab.research.google.com/notebooks/data_table.ipynb>data table notebook</a>'\n",
              "            + ' to learn more about interactive tables.';\n",
              "          element.innerHTML = '';\n",
              "          dataTable['output_type'] = 'display_data';\n",
              "          await google.colab.output.renderOutput(dataTable, element);\n",
              "          const docLink = document.createElement('div');\n",
              "          docLink.innerHTML = docLinkHtml;\n",
              "          element.appendChild(docLink);\n",
              "        }\n",
              "      </script>\n",
              "    </div>\n",
              "  </div>\n",
              "  "
            ]
          },
          "metadata": {},
          "execution_count": 14
        }
      ]
    },
    {
      "cell_type": "code",
      "source": [
        "#import tensorflow as tf\n",
        "#from tensorflow.keras import layers\n",
        "\n",
        "# Set random seed and create embedding layer (new embedding layer for each model)\n",
        "tf.random.set_seed(42)\n",
        "\n",
        "nlp_input = tf.keras.Input(shape=(10,), name='nlp_input')\n",
        "#nlp_token = word_vectorizer(nlp_input)\n",
        "hygiene_input = tf.keras.Input(shape=(1,), name='hygiene_input')\n",
        "#hygiene_out = layers.Dense(64, activation = 'relu')(hygiene_input)\n",
        "emb = layers.Embedding(output_dim=64, input_dim=max_vocab_length, input_length=max_length)(nlp_input)\n",
        "nlp_out = layers.GRU(64)(emb)\n",
        "x = tf.concat([nlp_out, hygiene_input],1)\n",
        "x = layers.Dense(64, activation='relu')(x)\n",
        "x = layers.Dense(1)(x)\n",
        "model_8 = tf.keras.Model(inputs=[nlp_input , hygiene_input], outputs=[x],name ='Model_8_hr_word_GRU')"
      ],
      "metadata": {
        "id": "qHY39rmDGOCN"
      },
      "execution_count": null,
      "outputs": []
    },
    {
      "cell_type": "code",
      "source": [
        "model_8.compile(loss=\"mean_absolute_error\",\n",
        "                optimizer=tf.keras.optimizers.Adam())\n",
        "\n",
        "model_8.summary()"
      ],
      "metadata": {
        "colab": {
          "base_uri": "https://localhost:8080/"
        },
        "id": "_NmO-zdxIBo0",
        "outputId": "655913c6-082b-400c-a182-a961edc48edd"
      },
      "execution_count": null,
      "outputs": [
        {
          "output_type": "stream",
          "name": "stdout",
          "text": [
            "Model: \"Model_8_hr_word_GRU\"\n",
            "__________________________________________________________________________________________________\n",
            " Layer (type)                   Output Shape         Param #     Connected to                     \n",
            "==================================================================================================\n",
            " nlp_input (InputLayer)         [(None, 10)]         0           []                               \n",
            "                                                                                                  \n",
            " embedding (Embedding)          (None, 10, 64)       1280000     ['nlp_input[0][0]']              \n",
            "                                                                                                  \n",
            " gru (GRU)                      (None, 64)           24960       ['embedding[0][0]']              \n",
            "                                                                                                  \n",
            " hygiene_input (InputLayer)     [(None, 1)]          0           []                               \n",
            "                                                                                                  \n",
            " tf.concat (TFOpLambda)         (None, 65)           0           ['gru[0][0]',                    \n",
            "                                                                  'hygiene_input[0][0]']          \n",
            "                                                                                                  \n",
            " dense (Dense)                  (None, 64)           4224        ['tf.concat[0][0]']              \n",
            "                                                                                                  \n",
            " dense_1 (Dense)                (None, 1)            65          ['dense[0][0]']                  \n",
            "                                                                                                  \n",
            "==================================================================================================\n",
            "Total params: 1,309,249\n",
            "Trainable params: 1,309,249\n",
            "Non-trainable params: 0\n",
            "__________________________________________________________________________________________________\n"
          ]
        }
      ]
    },
    {
      "cell_type": "code",
      "source": [
        "X_train_hr_name = word_vectorizer(tf.convert_to_tensor(X_train_hr['ascii_name_fix'].values))\n",
        "print(X_train_hr_name.shape)\n",
        "\n",
        "X_val_hr_name = word_vectorizer(tf.convert_to_tensor(X_val_hr['ascii_name_fix'].values))\n",
        "print(X_val_hr_name.shape)\n",
        "\n",
        "X_test_hr_name = word_vectorizer(tf.convert_to_tensor(X_test_hr['ascii_name_fix'].values))\n",
        "print(X_test_hr_name.shape)"
      ],
      "metadata": {
        "colab": {
          "base_uri": "https://localhost:8080/"
        },
        "id": "8gFEHzwdJI2b",
        "outputId": "5456dc56-64e6-47a1-cd6a-272144548f97"
      },
      "execution_count": null,
      "outputs": [
        {
          "output_type": "stream",
          "name": "stdout",
          "text": [
            "(25670, 10)\n",
            "(2108, 10)\n",
            "(2132, 10)\n"
          ]
        }
      ]
    },
    {
      "cell_type": "code",
      "source": [
        "X_train_hr_hr = X_train_hr['hr_rating'].values\n",
        "print(X_train_hr_hr.shape)\n",
        "\n",
        "X_val_hr_hr = X_val_hr['hr_rating'].values\n",
        "print(X_val_hr_hr.shape)\n",
        "\n",
        "\n",
        "X_test_hr_hr = X_test_hr['hr_rating'].values\n",
        "print(X_test_hr_hr.shape)"
      ],
      "metadata": {
        "colab": {
          "base_uri": "https://localhost:8080/"
        },
        "id": "lWzOqIPpJQ5N",
        "outputId": "a06058a1-224c-4d92-cead-b72c59607d78"
      },
      "execution_count": null,
      "outputs": [
        {
          "output_type": "stream",
          "name": "stdout",
          "text": [
            "(25670,)\n",
            "(2108,)\n",
            "(2132,)\n"
          ]
        }
      ]
    },
    {
      "cell_type": "code",
      "source": [
        "model_8_history = model_8.fit([X_train_hr_name,X_train_hr_hr], y_train_hr, epochs=25,\n",
        "                              validation_data = ([X_val_hr_name,X_val_hr_hr], y_val_hr),\n",
        "                              callbacks=[create_model_checkpoint(model_name=model_8.name),early_stopping])"
      ],
      "metadata": {
        "colab": {
          "base_uri": "https://localhost:8080/"
        },
        "id": "8TI51gZoJn4i",
        "outputId": "01964e64-73d9-406f-c094-4ad9db7f730d"
      },
      "execution_count": null,
      "outputs": [
        {
          "output_type": "stream",
          "name": "stdout",
          "text": [
            "Epoch 1/25\n",
            "802/803 [============================>.] - ETA: 0s - loss: 1.2277"
          ]
        },
        {
          "output_type": "stream",
          "name": "stderr",
          "text": [
            "WARNING:absl:Found untraced functions such as gru_cell_layer_call_fn, gru_cell_layer_call_and_return_conditional_losses while saving (showing 2 of 2). These functions will not be directly callable after loading.\n"
          ]
        },
        {
          "output_type": "stream",
          "name": "stdout",
          "text": [
            "INFO:tensorflow:Assets written to: model_experiments/Model_8_hr_word_GRU/assets\n"
          ]
        },
        {
          "output_type": "stream",
          "name": "stderr",
          "text": [
            "INFO:tensorflow:Assets written to: model_experiments/Model_8_hr_word_GRU/assets\n",
            "WARNING:absl:<keras.layers.recurrent.GRUCell object at 0x7fcc03672790> has the same name 'GRUCell' as a built-in Keras object. Consider renaming <class 'keras.layers.recurrent.GRUCell'> to avoid naming conflicts when loading with `tf.keras.models.load_model`. If renaming is not possible, pass the object in the `custom_objects` parameter of the load function.\n"
          ]
        },
        {
          "output_type": "stream",
          "name": "stdout",
          "text": [
            "\b\b\b\b\b\b\b\b\b\b\b\b\b\b\b\b\b\b\b\b\b\b\b\b\b\b\b\b\b\b\b\b\b\b\b\b\b\b\b\b\b\b\b\b\b\b\b\b\b\b\b\b\b\b\b\b\b\b\b\b\b\b\b\b\b\r803/803 [==============================] - 35s 40ms/step - loss: 1.2278 - val_loss: 0.8862\n",
            "Epoch 2/25\n",
            "801/803 [============================>.] - ETA: 0s - loss: 0.8831"
          ]
        },
        {
          "output_type": "stream",
          "name": "stderr",
          "text": [
            "WARNING:absl:Found untraced functions such as gru_cell_layer_call_fn, gru_cell_layer_call_and_return_conditional_losses while saving (showing 2 of 2). These functions will not be directly callable after loading.\n"
          ]
        },
        {
          "output_type": "stream",
          "name": "stdout",
          "text": [
            "INFO:tensorflow:Assets written to: model_experiments/Model_8_hr_word_GRU/assets\n"
          ]
        },
        {
          "output_type": "stream",
          "name": "stderr",
          "text": [
            "INFO:tensorflow:Assets written to: model_experiments/Model_8_hr_word_GRU/assets\n",
            "WARNING:absl:<keras.layers.recurrent.GRUCell object at 0x7fcc03672790> has the same name 'GRUCell' as a built-in Keras object. Consider renaming <class 'keras.layers.recurrent.GRUCell'> to avoid naming conflicts when loading with `tf.keras.models.load_model`. If renaming is not possible, pass the object in the `custom_objects` parameter of the load function.\n"
          ]
        },
        {
          "output_type": "stream",
          "name": "stdout",
          "text": [
            "\b\b\b\b\b\b\b\b\b\b\b\b\b\b\b\b\b\b\b\b\b\b\b\b\b\b\b\b\b\b\b\b\b\b\b\b\b\b\b\b\b\b\b\b\b\b\b\b\b\b\b\b\b\b\b\b\b\b\b\b\b\b\b\b\b\r803/803 [==============================] - 32s 40ms/step - loss: 0.8832 - val_loss: 0.8640\n",
            "Epoch 3/25\n",
            "802/803 [============================>.] - ETA: 0s - loss: 0.7764"
          ]
        },
        {
          "output_type": "stream",
          "name": "stderr",
          "text": [
            "WARNING:absl:Found untraced functions such as gru_cell_layer_call_fn, gru_cell_layer_call_and_return_conditional_losses while saving (showing 2 of 2). These functions will not be directly callable after loading.\n"
          ]
        },
        {
          "output_type": "stream",
          "name": "stdout",
          "text": [
            "INFO:tensorflow:Assets written to: model_experiments/Model_8_hr_word_GRU/assets\n"
          ]
        },
        {
          "output_type": "stream",
          "name": "stderr",
          "text": [
            "INFO:tensorflow:Assets written to: model_experiments/Model_8_hr_word_GRU/assets\n",
            "WARNING:absl:<keras.layers.recurrent.GRUCell object at 0x7fcc03672790> has the same name 'GRUCell' as a built-in Keras object. Consider renaming <class 'keras.layers.recurrent.GRUCell'> to avoid naming conflicts when loading with `tf.keras.models.load_model`. If renaming is not possible, pass the object in the `custom_objects` parameter of the load function.\n"
          ]
        },
        {
          "output_type": "stream",
          "name": "stdout",
          "text": [
            "\b\b\b\b\b\b\b\b\b\b\b\b\b\b\b\b\b\b\b\b\b\b\b\b\b\b\b\b\b\b\b\b\b\b\b\b\b\b\b\b\b\b\b\b\b\b\b\b\b\b\b\b\b\b\b\b\b\b\b\b\b\b\b\b\b\r803/803 [==============================] - 23s 29ms/step - loss: 0.7766 - val_loss: 0.8467\n",
            "Epoch 4/25\n",
            "803/803 [==============================] - 18s 22ms/step - loss: 0.6978 - val_loss: 0.8507\n",
            "Epoch 5/25\n",
            "803/803 [==============================] - 17s 21ms/step - loss: 0.6415 - val_loss: 0.8513\n",
            "Epoch 6/25\n",
            "803/803 [==============================] - 17s 21ms/step - loss: 0.6034 - val_loss: 0.8746\n"
          ]
        }
      ]
    },
    {
      "cell_type": "code",
      "source": [
        "# load the best performing model and then evaluate the performance\n",
        "model_8 = tf.keras.models.load_model(\"/content/model_experiments/Model_8_hr_word_GRU\")"
      ],
      "metadata": {
        "id": "FAIhG1WoKgxO"
      },
      "execution_count": null,
      "outputs": []
    },
    {
      "cell_type": "code",
      "source": [
        "model_8.evaluate([X_train_hr_name,X_train_hr_hr], y_train_hr)"
      ],
      "metadata": {
        "colab": {
          "base_uri": "https://localhost:8080/"
        },
        "id": "eviHCbO5NxFQ",
        "outputId": "e55d0ccc-45f0-49c9-ceb5-31464820c8b7"
      },
      "execution_count": null,
      "outputs": [
        {
          "output_type": "stream",
          "name": "stdout",
          "text": [
            "803/803 [==============================] - 3s 3ms/step - loss: 0.6773\n"
          ]
        },
        {
          "output_type": "execute_result",
          "data": {
            "text/plain": [
              "0.6773425340652466"
            ]
          },
          "metadata": {},
          "execution_count": 23
        }
      ]
    },
    {
      "cell_type": "code",
      "source": [
        "model_8.evaluate([X_test_hr_name,X_test_hr_hr], y_test_hr)"
      ],
      "metadata": {
        "colab": {
          "base_uri": "https://localhost:8080/"
        },
        "id": "C_n31_U7OPRw",
        "outputId": "f3c473bc-74ee-4b8b-a2a5-5276038f4e98"
      },
      "execution_count": null,
      "outputs": [
        {
          "output_type": "stream",
          "name": "stdout",
          "text": [
            "67/67 [==============================] - 0s 4ms/step - loss: 0.8459\n"
          ]
        },
        {
          "output_type": "execute_result",
          "data": {
            "text/plain": [
              "0.8458724021911621"
            ]
          },
          "metadata": {},
          "execution_count": 25
        }
      ]
    },
    {
      "cell_type": "markdown",
      "source": [
        "## Model 9: add hygiene rating, character level GRU"
      ],
      "metadata": {
        "id": "fo54PmUQLxfV"
      }
    },
    {
      "cell_type": "code",
      "source": [
        "# set up character level tokenization\n",
        "max_features = 39          # Number of distinct chars\n",
        "sequence_length = 57       # Input sequence size\n",
        "\n",
        "def char_split(input_data):\n",
        "  return(tf.strings.unicode_split(input_data,'UTF-8'))\n",
        "\n",
        "vectorize_layer = TextVectorization(\n",
        "    max_tokens=max_features,\n",
        "    split=char_split, # word_split or char_split\n",
        "    output_mode=\"int\",\n",
        "    output_sequence_length=sequence_length,\n",
        ")"
      ],
      "metadata": {
        "id": "BucV_HKkO7sg"
      },
      "execution_count": null,
      "outputs": []
    },
    {
      "cell_type": "code",
      "source": [
        "vectorize_layer.adapt(X_train_hr.ascii_name_fix)"
      ],
      "metadata": {
        "id": "TkvaxwK-PBHP"
      },
      "execution_count": null,
      "outputs": []
    },
    {
      "cell_type": "code",
      "source": [
        "X_train_hr_name_char = vectorize_layer(tf.convert_to_tensor(X_train_hr['ascii_name_fix'].values))\n",
        "X_val_hr_name_char = vectorize_layer(tf.convert_to_tensor(X_val_hr['ascii_name_fix'].values))\n",
        "X_test_hr_name_char = vectorize_layer(tf.convert_to_tensor(X_test_hr['ascii_name_fix'].values))"
      ],
      "metadata": {
        "id": "UqY2AsJyPpTQ"
      },
      "execution_count": null,
      "outputs": []
    },
    {
      "cell_type": "code",
      "source": [
        "nlp_input = tf.keras.Input(shape=(sequence_length,), name='nlp_input')\n",
        "#nlp_token = word_vectorizer(nlp_input)\n",
        "hygiene_input = tf.keras.Input(shape=(1,), name='hygiene_input')\n",
        "#hygiene_out = layers.Dense(64, activation = 'relu')(hygiene_input)\n",
        "emb = layers.Embedding(output_dim=64, input_dim = max_features)(nlp_input)\n",
        "nlp_out = layers.GRU(64)(emb)\n",
        "x = tf.concat([nlp_out, hygiene_input],1)\n",
        "x = layers.Dense(64, activation='relu')(x)\n",
        "x = layers.Dense(1)(x)\n",
        "model_9 = tf.keras.Model(inputs=[nlp_input , hygiene_input], outputs=[x], name = 'Model_9_hr_char_GRU')"
      ],
      "metadata": {
        "id": "UAgwVE6RL2ET"
      },
      "execution_count": null,
      "outputs": []
    },
    {
      "cell_type": "code",
      "source": [
        "model_9.compile(loss=\"mean_absolute_error\",\n",
        "                optimizer=tf.keras.optimizers.Adam(),\n",
        "                metrics = ['mae','mean_absolute_percentage_error'])\n",
        "\n",
        "model_9.summary()"
      ],
      "metadata": {
        "colab": {
          "base_uri": "https://localhost:8080/"
        },
        "id": "S2cpchkoQtLU",
        "outputId": "cdcba132-ab1a-45c8-d8ce-71bf7644a661"
      },
      "execution_count": null,
      "outputs": [
        {
          "output_type": "stream",
          "name": "stdout",
          "text": [
            "Model: \"Model_9_hr_char_GRU\"\n",
            "__________________________________________________________________________________________________\n",
            " Layer (type)                   Output Shape         Param #     Connected to                     \n",
            "==================================================================================================\n",
            " nlp_input (InputLayer)         [(None, 57)]         0           []                               \n",
            "                                                                                                  \n",
            " embedding_1 (Embedding)        (None, 57, 64)       2496        ['nlp_input[0][0]']              \n",
            "                                                                                                  \n",
            " gru_1 (GRU)                    (None, 64)           24960       ['embedding_1[0][0]']            \n",
            "                                                                                                  \n",
            " hygiene_input (InputLayer)     [(None, 1)]          0           []                               \n",
            "                                                                                                  \n",
            " tf.concat_1 (TFOpLambda)       (None, 65)           0           ['gru_1[0][0]',                  \n",
            "                                                                  'hygiene_input[0][0]']          \n",
            "                                                                                                  \n",
            " dense_2 (Dense)                (None, 64)           4224        ['tf.concat_1[0][0]']            \n",
            "                                                                                                  \n",
            " dense_3 (Dense)                (None, 1)            65          ['dense_2[0][0]']                \n",
            "                                                                                                  \n",
            "==================================================================================================\n",
            "Total params: 31,745\n",
            "Trainable params: 31,745\n",
            "Non-trainable params: 0\n",
            "__________________________________________________________________________________________________\n"
          ]
        }
      ]
    },
    {
      "cell_type": "code",
      "source": [
        "model_9_history = model_9.fit([X_train_hr_name_char,X_train_hr.hr_rating], y_train_hr, epochs=25,\n",
        "                              validation_data = ([X_val_hr_name_char,X_val_hr.hr_rating], y_val_hr),\n",
        "                              callbacks=[create_model_checkpoint(model_name=model_9.name),early_stopping])"
      ],
      "metadata": {
        "colab": {
          "base_uri": "https://localhost:8080/"
        },
        "id": "X43V0ZvOQ1nm",
        "outputId": "fb0cf319-e0e0-47ee-ce1c-35b5b6fac3c8"
      },
      "execution_count": null,
      "outputs": [
        {
          "output_type": "stream",
          "name": "stdout",
          "text": [
            "Epoch 1/25\n",
            "802/803 [============================>.] - ETA: 0s - loss: 1.4483 - mae: 1.4483 - mean_absolute_percentage_error: 22209816.0000"
          ]
        },
        {
          "output_type": "stream",
          "name": "stderr",
          "text": [
            "WARNING:absl:Found untraced functions such as gru_cell_2_layer_call_fn, gru_cell_2_layer_call_and_return_conditional_losses while saving (showing 2 of 2). These functions will not be directly callable after loading.\n"
          ]
        },
        {
          "output_type": "stream",
          "name": "stdout",
          "text": [
            "INFO:tensorflow:Assets written to: model_experiments/Model_9_hr_char_GRU/assets\n"
          ]
        },
        {
          "output_type": "stream",
          "name": "stderr",
          "text": [
            "INFO:tensorflow:Assets written to: model_experiments/Model_9_hr_char_GRU/assets\n",
            "WARNING:absl:<keras.layers.recurrent.GRUCell object at 0x7fcc03ca13d0> has the same name 'GRUCell' as a built-in Keras object. Consider renaming <class 'keras.layers.recurrent.GRUCell'> to avoid naming conflicts when loading with `tf.keras.models.load_model`. If renaming is not possible, pass the object in the `custom_objects` parameter of the load function.\n"
          ]
        },
        {
          "output_type": "stream",
          "name": "stdout",
          "text": [
            "\b\b\b\b\b\b\b\b\b\b\b\b\b\b\b\b\b\b\b\b\b\b\b\b\b\b\b\b\b\b\b\b\b\b\b\b\b\b\b\b\b\b\b\b\b\b\b\b\b\b\b\b\b\b\b\b\b\b\b\b\b\b\b\b\b\b\b\b\b\b\b\b\b\b\b\b\b\b\b\b\b\b\b\b\b\b\b\b\b\b\b\b\b\b\b\b\b\b\b\b\b\b\b\b\b\b\b\b\b\b\b\b\b\b\b\b\b\b\b\b\b\b\b\b\b\b\b\r803/803 [==============================] - 65s 74ms/step - loss: 1.4483 - mae: 1.4483 - mean_absolute_percentage_error: 22204626.0000 - val_loss: 1.0645 - val_mae: 1.0645 - val_mean_absolute_percentage_error: 14909514.0000\n",
            "Epoch 2/25\n",
            "803/803 [==============================] - ETA: 0s - loss: 1.1904 - mae: 1.1904 - mean_absolute_percentage_error: 21903424.0000"
          ]
        },
        {
          "output_type": "stream",
          "name": "stderr",
          "text": [
            "WARNING:absl:Found untraced functions such as gru_cell_2_layer_call_fn, gru_cell_2_layer_call_and_return_conditional_losses while saving (showing 2 of 2). These functions will not be directly callable after loading.\n"
          ]
        },
        {
          "output_type": "stream",
          "name": "stdout",
          "text": [
            "INFO:tensorflow:Assets written to: model_experiments/Model_9_hr_char_GRU/assets\n"
          ]
        },
        {
          "output_type": "stream",
          "name": "stderr",
          "text": [
            "INFO:tensorflow:Assets written to: model_experiments/Model_9_hr_char_GRU/assets\n",
            "WARNING:absl:<keras.layers.recurrent.GRUCell object at 0x7fcc03ca13d0> has the same name 'GRUCell' as a built-in Keras object. Consider renaming <class 'keras.layers.recurrent.GRUCell'> to avoid naming conflicts when loading with `tf.keras.models.load_model`. If renaming is not possible, pass the object in the `custom_objects` parameter of the load function.\n"
          ]
        },
        {
          "output_type": "stream",
          "name": "stdout",
          "text": [
            "\b\b\b\b\b\b\b\b\b\b\b\b\b\b\b\b\b\b\b\b\b\b\b\b\b\b\b\b\b\b\b\b\b\b\b\b\b\b\b\b\b\b\b\b\b\b\b\b\b\b\b\b\b\b\b\b\b\b\b\b\b\b\b\b\b\b\b\b\b\b\b\b\b\b\b\b\b\b\b\b\b\b\b\b\b\b\b\b\b\b\b\b\b\b\b\b\b\b\b\b\b\b\b\b\b\b\b\b\b\b\b\b\b\b\b\b\b\b\b\b\b\b\b\b\b\b\b\r803/803 [==============================] - 50s 62ms/step - loss: 1.1904 - mae: 1.1904 - mean_absolute_percentage_error: 21903424.0000 - val_loss: 1.0268 - val_mae: 1.0268 - val_mean_absolute_percentage_error: 14242718.0000\n",
            "Epoch 3/25\n",
            "803/803 [==============================] - ETA: 0s - loss: 1.1498 - mae: 1.1498 - mean_absolute_percentage_error: 21036894.0000"
          ]
        },
        {
          "output_type": "stream",
          "name": "stderr",
          "text": [
            "WARNING:absl:Found untraced functions such as gru_cell_2_layer_call_fn, gru_cell_2_layer_call_and_return_conditional_losses while saving (showing 2 of 2). These functions will not be directly callable after loading.\n"
          ]
        },
        {
          "output_type": "stream",
          "name": "stdout",
          "text": [
            "INFO:tensorflow:Assets written to: model_experiments/Model_9_hr_char_GRU/assets\n"
          ]
        },
        {
          "output_type": "stream",
          "name": "stderr",
          "text": [
            "INFO:tensorflow:Assets written to: model_experiments/Model_9_hr_char_GRU/assets\n",
            "WARNING:absl:<keras.layers.recurrent.GRUCell object at 0x7fcc03ca13d0> has the same name 'GRUCell' as a built-in Keras object. Consider renaming <class 'keras.layers.recurrent.GRUCell'> to avoid naming conflicts when loading with `tf.keras.models.load_model`. If renaming is not possible, pass the object in the `custom_objects` parameter of the load function.\n"
          ]
        },
        {
          "output_type": "stream",
          "name": "stdout",
          "text": [
            "\b\b\b\b\b\b\b\b\b\b\b\b\b\b\b\b\b\b\b\b\b\b\b\b\b\b\b\b\b\b\b\b\b\b\b\b\b\b\b\b\b\b\b\b\b\b\b\b\b\b\b\b\b\b\b\b\b\b\b\b\b\b\b\b\b\b\b\b\b\b\b\b\b\b\b\b\b\b\b\b\b\b\b\b\b\b\b\b\b\b\b\b\b\b\b\b\b\b\b\b\b\b\b\b\b\b\b\b\b\b\b\b\b\b\b\b\b\b\b\b\b\b\b\b\b\b\b\r803/803 [==============================] - 34s 43ms/step - loss: 1.1498 - mae: 1.1498 - mean_absolute_percentage_error: 21036894.0000 - val_loss: 0.9847 - val_mae: 0.9847 - val_mean_absolute_percentage_error: 14178095.0000\n",
            "Epoch 4/25\n",
            "803/803 [==============================] - 29s 36ms/step - loss: 1.1087 - mae: 1.1087 - mean_absolute_percentage_error: 20272106.0000 - val_loss: 0.9891 - val_mae: 0.9891 - val_mean_absolute_percentage_error: 14379782.0000\n",
            "Epoch 5/25\n",
            "803/803 [==============================] - ETA: 0s - loss: 1.0739 - mae: 1.0739 - mean_absolute_percentage_error: 19168034.0000"
          ]
        },
        {
          "output_type": "stream",
          "name": "stderr",
          "text": [
            "WARNING:absl:Found untraced functions such as gru_cell_2_layer_call_fn, gru_cell_2_layer_call_and_return_conditional_losses while saving (showing 2 of 2). These functions will not be directly callable after loading.\n"
          ]
        },
        {
          "output_type": "stream",
          "name": "stdout",
          "text": [
            "INFO:tensorflow:Assets written to: model_experiments/Model_9_hr_char_GRU/assets\n"
          ]
        },
        {
          "output_type": "stream",
          "name": "stderr",
          "text": [
            "INFO:tensorflow:Assets written to: model_experiments/Model_9_hr_char_GRU/assets\n",
            "WARNING:absl:<keras.layers.recurrent.GRUCell object at 0x7fcc03ca13d0> has the same name 'GRUCell' as a built-in Keras object. Consider renaming <class 'keras.layers.recurrent.GRUCell'> to avoid naming conflicts when loading with `tf.keras.models.load_model`. If renaming is not possible, pass the object in the `custom_objects` parameter of the load function.\n"
          ]
        },
        {
          "output_type": "stream",
          "name": "stdout",
          "text": [
            "\b\b\b\b\b\b\b\b\b\b\b\b\b\b\b\b\b\b\b\b\b\b\b\b\b\b\b\b\b\b\b\b\b\b\b\b\b\b\b\b\b\b\b\b\b\b\b\b\b\b\b\b\b\b\b\b\b\b\b\b\b\b\b\b\b\b\b\b\b\b\b\b\b\b\b\b\b\b\b\b\b\b\b\b\b\b\b\b\b\b\b\b\b\b\b\b\b\b\b\b\b\b\b\b\b\b\b\b\b\b\b\b\b\b\b\b\b\b\b\b\b\b\b\b\b\b\b\r803/803 [==============================] - 36s 44ms/step - loss: 1.0739 - mae: 1.0739 - mean_absolute_percentage_error: 19168034.0000 - val_loss: 0.9439 - val_mae: 0.9439 - val_mean_absolute_percentage_error: 12619416.0000\n",
            "Epoch 6/25\n",
            "803/803 [==============================] - 29s 37ms/step - loss: 1.0452 - mae: 1.0452 - mean_absolute_percentage_error: 17956110.0000 - val_loss: 0.9584 - val_mae: 0.9584 - val_mean_absolute_percentage_error: 12814822.0000\n",
            "Epoch 7/25\n",
            "802/803 [============================>.] - ETA: 0s - loss: 1.0229 - mae: 1.0229 - mean_absolute_percentage_error: 16966238.0000"
          ]
        },
        {
          "output_type": "stream",
          "name": "stderr",
          "text": [
            "WARNING:absl:Found untraced functions such as gru_cell_2_layer_call_fn, gru_cell_2_layer_call_and_return_conditional_losses while saving (showing 2 of 2). These functions will not be directly callable after loading.\n"
          ]
        },
        {
          "output_type": "stream",
          "name": "stdout",
          "text": [
            "INFO:tensorflow:Assets written to: model_experiments/Model_9_hr_char_GRU/assets\n"
          ]
        },
        {
          "output_type": "stream",
          "name": "stderr",
          "text": [
            "INFO:tensorflow:Assets written to: model_experiments/Model_9_hr_char_GRU/assets\n",
            "WARNING:absl:<keras.layers.recurrent.GRUCell object at 0x7fcc03ca13d0> has the same name 'GRUCell' as a built-in Keras object. Consider renaming <class 'keras.layers.recurrent.GRUCell'> to avoid naming conflicts when loading with `tf.keras.models.load_model`. If renaming is not possible, pass the object in the `custom_objects` parameter of the load function.\n"
          ]
        },
        {
          "output_type": "stream",
          "name": "stdout",
          "text": [
            "\b\b\b\b\b\b\b\b\b\b\b\b\b\b\b\b\b\b\b\b\b\b\b\b\b\b\b\b\b\b\b\b\b\b\b\b\b\b\b\b\b\b\b\b\b\b\b\b\b\b\b\b\b\b\b\b\b\b\b\b\b\b\b\b\b\b\b\b\b\b\b\b\b\b\b\b\b\b\b\b\b\b\b\b\b\b\b\b\b\b\b\b\b\b\b\b\b\b\b\b\b\b\b\b\b\b\b\b\b\b\b\b\b\b\b\b\b\b\b\b\b\b\b\b\b\b\b\r803/803 [==============================] - 34s 43ms/step - loss: 1.0229 - mae: 1.0229 - mean_absolute_percentage_error: 16962272.0000 - val_loss: 0.8972 - val_mae: 0.8972 - val_mean_absolute_percentage_error: 12246195.0000\n",
            "Epoch 8/25\n",
            "803/803 [==============================] - ETA: 0s - loss: 1.0002 - mae: 1.0002 - mean_absolute_percentage_error: 16750754.0000"
          ]
        },
        {
          "output_type": "stream",
          "name": "stderr",
          "text": [
            "WARNING:absl:Found untraced functions such as gru_cell_2_layer_call_fn, gru_cell_2_layer_call_and_return_conditional_losses while saving (showing 2 of 2). These functions will not be directly callable after loading.\n"
          ]
        },
        {
          "output_type": "stream",
          "name": "stdout",
          "text": [
            "INFO:tensorflow:Assets written to: model_experiments/Model_9_hr_char_GRU/assets\n"
          ]
        },
        {
          "output_type": "stream",
          "name": "stderr",
          "text": [
            "INFO:tensorflow:Assets written to: model_experiments/Model_9_hr_char_GRU/assets\n",
            "WARNING:absl:<keras.layers.recurrent.GRUCell object at 0x7fcc03ca13d0> has the same name 'GRUCell' as a built-in Keras object. Consider renaming <class 'keras.layers.recurrent.GRUCell'> to avoid naming conflicts when loading with `tf.keras.models.load_model`. If renaming is not possible, pass the object in the `custom_objects` parameter of the load function.\n"
          ]
        },
        {
          "output_type": "stream",
          "name": "stdout",
          "text": [
            "\b\b\b\b\b\b\b\b\b\b\b\b\b\b\b\b\b\b\b\b\b\b\b\b\b\b\b\b\b\b\b\b\b\b\b\b\b\b\b\b\b\b\b\b\b\b\b\b\b\b\b\b\b\b\b\b\b\b\b\b\b\b\b\b\b\b\b\b\b\b\b\b\b\b\b\b\b\b\b\b\b\b\b\b\b\b\b\b\b\b\b\b\b\b\b\b\b\b\b\b\b\b\b\b\b\b\b\b\b\b\b\b\b\b\b\b\b\b\b\b\b\b\b\b\b\b\b\r803/803 [==============================] - 35s 43ms/step - loss: 1.0002 - mae: 1.0002 - mean_absolute_percentage_error: 16750754.0000 - val_loss: 0.8891 - val_mae: 0.8891 - val_mean_absolute_percentage_error: 11937499.0000\n",
            "Epoch 9/25\n",
            "802/803 [============================>.] - ETA: 0s - loss: 0.9796 - mae: 0.9796 - mean_absolute_percentage_error: 16717521.0000"
          ]
        },
        {
          "output_type": "stream",
          "name": "stderr",
          "text": [
            "WARNING:absl:Found untraced functions such as gru_cell_2_layer_call_fn, gru_cell_2_layer_call_and_return_conditional_losses while saving (showing 2 of 2). These functions will not be directly callable after loading.\n"
          ]
        },
        {
          "output_type": "stream",
          "name": "stdout",
          "text": [
            "INFO:tensorflow:Assets written to: model_experiments/Model_9_hr_char_GRU/assets\n"
          ]
        },
        {
          "output_type": "stream",
          "name": "stderr",
          "text": [
            "INFO:tensorflow:Assets written to: model_experiments/Model_9_hr_char_GRU/assets\n",
            "WARNING:absl:<keras.layers.recurrent.GRUCell object at 0x7fcc03ca13d0> has the same name 'GRUCell' as a built-in Keras object. Consider renaming <class 'keras.layers.recurrent.GRUCell'> to avoid naming conflicts when loading with `tf.keras.models.load_model`. If renaming is not possible, pass the object in the `custom_objects` parameter of the load function.\n"
          ]
        },
        {
          "output_type": "stream",
          "name": "stdout",
          "text": [
            "\b\b\b\b\b\b\b\b\b\b\b\b\b\b\b\b\b\b\b\b\b\b\b\b\b\b\b\b\b\b\b\b\b\b\b\b\b\b\b\b\b\b\b\b\b\b\b\b\b\b\b\b\b\b\b\b\b\b\b\b\b\b\b\b\b\b\b\b\b\b\b\b\b\b\b\b\b\b\b\b\b\b\b\b\b\b\b\b\b\b\b\b\b\b\b\b\b\b\b\b\b\b\b\b\b\b\b\b\b\b\b\b\b\b\b\b\b\b\b\b\b\b\b\b\b\b\b\r803/803 [==============================] - 38s 47ms/step - loss: 0.9795 - mae: 0.9795 - mean_absolute_percentage_error: 16713614.0000 - val_loss: 0.8888 - val_mae: 0.8888 - val_mean_absolute_percentage_error: 11710315.0000\n",
            "Epoch 10/25\n",
            "803/803 [==============================] - ETA: 0s - loss: 0.9626 - mae: 0.9626 - mean_absolute_percentage_error: 16705172.0000"
          ]
        },
        {
          "output_type": "stream",
          "name": "stderr",
          "text": [
            "WARNING:absl:Found untraced functions such as gru_cell_2_layer_call_fn, gru_cell_2_layer_call_and_return_conditional_losses while saving (showing 2 of 2). These functions will not be directly callable after loading.\n"
          ]
        },
        {
          "output_type": "stream",
          "name": "stdout",
          "text": [
            "INFO:tensorflow:Assets written to: model_experiments/Model_9_hr_char_GRU/assets\n"
          ]
        },
        {
          "output_type": "stream",
          "name": "stderr",
          "text": [
            "INFO:tensorflow:Assets written to: model_experiments/Model_9_hr_char_GRU/assets\n",
            "WARNING:absl:<keras.layers.recurrent.GRUCell object at 0x7fcc03ca13d0> has the same name 'GRUCell' as a built-in Keras object. Consider renaming <class 'keras.layers.recurrent.GRUCell'> to avoid naming conflicts when loading with `tf.keras.models.load_model`. If renaming is not possible, pass the object in the `custom_objects` parameter of the load function.\n"
          ]
        },
        {
          "output_type": "stream",
          "name": "stdout",
          "text": [
            "\b\b\b\b\b\b\b\b\b\b\b\b\b\b\b\b\b\b\b\b\b\b\b\b\b\b\b\b\b\b\b\b\b\b\b\b\b\b\b\b\b\b\b\b\b\b\b\b\b\b\b\b\b\b\b\b\b\b\b\b\b\b\b\b\b\b\b\b\b\b\b\b\b\b\b\b\b\b\b\b\b\b\b\b\b\b\b\b\b\b\b\b\b\b\b\b\b\b\b\b\b\b\b\b\b\b\b\b\b\b\b\b\b\b\b\b\b\b\b\b\b\b\b\b\b\b\b\r803/803 [==============================] - 34s 42ms/step - loss: 0.9626 - mae: 0.9626 - mean_absolute_percentage_error: 16705172.0000 - val_loss: 0.8762 - val_mae: 0.8762 - val_mean_absolute_percentage_error: 11738171.0000\n",
            "Epoch 11/25\n",
            "803/803 [==============================] - 29s 37ms/step - loss: 0.9479 - mae: 0.9479 - mean_absolute_percentage_error: 16358446.0000 - val_loss: 0.9019 - val_mae: 0.9019 - val_mean_absolute_percentage_error: 11864054.0000\n",
            "Epoch 12/25\n",
            "803/803 [==============================] - ETA: 0s - loss: 0.9289 - mae: 0.9289 - mean_absolute_percentage_error: 16323571.0000"
          ]
        },
        {
          "output_type": "stream",
          "name": "stderr",
          "text": [
            "WARNING:absl:Found untraced functions such as gru_cell_2_layer_call_fn, gru_cell_2_layer_call_and_return_conditional_losses while saving (showing 2 of 2). These functions will not be directly callable after loading.\n"
          ]
        },
        {
          "output_type": "stream",
          "name": "stdout",
          "text": [
            "INFO:tensorflow:Assets written to: model_experiments/Model_9_hr_char_GRU/assets\n"
          ]
        },
        {
          "output_type": "stream",
          "name": "stderr",
          "text": [
            "INFO:tensorflow:Assets written to: model_experiments/Model_9_hr_char_GRU/assets\n",
            "WARNING:absl:<keras.layers.recurrent.GRUCell object at 0x7fcc03ca13d0> has the same name 'GRUCell' as a built-in Keras object. Consider renaming <class 'keras.layers.recurrent.GRUCell'> to avoid naming conflicts when loading with `tf.keras.models.load_model`. If renaming is not possible, pass the object in the `custom_objects` parameter of the load function.\n"
          ]
        },
        {
          "output_type": "stream",
          "name": "stdout",
          "text": [
            "\b\b\b\b\b\b\b\b\b\b\b\b\b\b\b\b\b\b\b\b\b\b\b\b\b\b\b\b\b\b\b\b\b\b\b\b\b\b\b\b\b\b\b\b\b\b\b\b\b\b\b\b\b\b\b\b\b\b\b\b\b\b\b\b\b\b\b\b\b\b\b\b\b\b\b\b\b\b\b\b\b\b\b\b\b\b\b\b\b\b\b\b\b\b\b\b\b\b\b\b\b\b\b\b\b\b\b\b\b\b\b\b\b\b\b\b\b\b\b\b\b\b\b\b\b\b\b\r803/803 [==============================] - 36s 44ms/step - loss: 0.9289 - mae: 0.9289 - mean_absolute_percentage_error: 16323571.0000 - val_loss: 0.8438 - val_mae: 0.8438 - val_mean_absolute_percentage_error: 10822085.0000\n",
            "Epoch 13/25\n",
            "803/803 [==============================] - 31s 39ms/step - loss: 0.9152 - mae: 0.9152 - mean_absolute_percentage_error: 16137572.0000 - val_loss: 0.8443 - val_mae: 0.8443 - val_mean_absolute_percentage_error: 10860880.0000\n",
            "Epoch 14/25\n",
            "803/803 [==============================] - 29s 37ms/step - loss: 0.9050 - mae: 0.9050 - mean_absolute_percentage_error: 15845345.0000 - val_loss: 0.8551 - val_mae: 0.8551 - val_mean_absolute_percentage_error: 11169121.0000\n",
            "Epoch 15/25\n",
            "803/803 [==============================] - 29s 36ms/step - loss: 0.8926 - mae: 0.8926 - mean_absolute_percentage_error: 15705995.0000 - val_loss: 0.8462 - val_mae: 0.8462 - val_mean_absolute_percentage_error: 11448603.0000\n"
          ]
        }
      ]
    },
    {
      "cell_type": "code",
      "source": [
        "# load the best performing model and then evaluate the performance\n",
        "model_9 = tf.keras.models.load_model(\"/content/model_experiments/Model_9_hr_char_GRU\")"
      ],
      "metadata": {
        "id": "jyCve3PtSWWe"
      },
      "execution_count": null,
      "outputs": []
    },
    {
      "cell_type": "code",
      "source": [
        "model_9.evaluate([X_train_hr_name_char,X_train_hr_hr], y_train_hr)"
      ],
      "metadata": {
        "colab": {
          "base_uri": "https://localhost:8080/"
        },
        "id": "gW3y0xYlSao8",
        "outputId": "91983e12-8a8e-46ae-e3a9-68dd0aba529c"
      },
      "execution_count": null,
      "outputs": [
        {
          "output_type": "stream",
          "name": "stdout",
          "text": [
            "803/803 [==============================] - 8s 10ms/step - loss: 0.8976 - mae: 0.8976 - mean_absolute_percentage_error: 15354120.0000\n"
          ]
        },
        {
          "output_type": "execute_result",
          "data": {
            "text/plain": [
              "[0.8976129293441772, 0.8976129293441772, 15354120.0]"
            ]
          },
          "metadata": {},
          "execution_count": 33
        }
      ]
    },
    {
      "cell_type": "code",
      "source": [
        "model_9.evaluate([X_test_hr_name_char,X_test_hr_hr], y_test_hr)"
      ],
      "metadata": {
        "colab": {
          "base_uri": "https://localhost:8080/"
        },
        "id": "AstWqcmcSvIO",
        "outputId": "4b73b0f1-b2ea-410c-e2fd-bf9ef3950f09"
      },
      "execution_count": null,
      "outputs": [
        {
          "output_type": "stream",
          "name": "stdout",
          "text": [
            "67/67 [==============================] - 1s 10ms/step - loss: 0.8738 - mae: 0.8738 - mean_absolute_percentage_error: 8607817.0000\n"
          ]
        },
        {
          "output_type": "execute_result",
          "data": {
            "text/plain": [
              "[0.8738011121749878, 0.8738011121749878, 8607817.0]"
            ]
          },
          "metadata": {},
          "execution_count": 34
        }
      ]
    },
    {
      "cell_type": "markdown",
      "source": [
        "## Model 10: restaurant name only, combining character and word level\n",
        "\n",
        "reference: https://github.com/mrdbourke/tensorflow-deep-learning/blob/main/09_SkimLit_nlp_milestone_project_2.ipynb"
      ],
      "metadata": {
        "id": "2uKjJBXmUCS0"
      }
    },
    {
      "cell_type": "code",
      "source": [
        "# Download pretrained TensorFlow Hub USE\n",
        "import tensorflow_hub as hub\n",
        "tf_hub_embedding_layer = hub.KerasLayer(\"https://tfhub.dev/google/universal-sentence-encoder/4\",\n",
        "                                        trainable=False,\n",
        "                                        name=\"universal_sentence_encoder\")"
      ],
      "metadata": {
        "id": "K7Ca1S_FUUhK"
      },
      "execution_count": null,
      "outputs": []
    },
    {
      "cell_type": "code",
      "source": [
        "# Make function to split sentences into characters\n",
        "def split_chars(text):\n",
        "  return \" \".join(list(text))"
      ],
      "metadata": {
        "id": "sAe_CVWhU_T0"
      },
      "execution_count": null,
      "outputs": []
    },
    {
      "cell_type": "code",
      "source": [
        "train_chars = [split_chars(sentence) for sentence in X_train]\n",
        "val_chars = [split_chars(sentence) for sentence in X_val]\n",
        "test_chars = [split_chars(sentence) for sentence in X_test]"
      ],
      "metadata": {
        "id": "RlAh--qgVCkn"
      },
      "execution_count": 2,
      "outputs": []
    },
    {
      "cell_type": "code",
      "source": [
        "NUM_CHAR_TOKENS = 39\n",
        "output_seq_char_len = 57\n",
        "\n",
        "char_vectorizer = TextVectorization(max_tokens=NUM_CHAR_TOKENS,\n",
        "                                    output_sequence_length=output_seq_char_len,\n",
        "                                    standardize=\"lower_and_strip_punctuation\",\n",
        "                                    name=\"char_vectorizer\")\n",
        "\n",
        "# Adapt character vectorizer to training characters\n",
        "char_vectorizer.adapt(train_chars)"
      ],
      "metadata": {
        "id": "jLknfhgLUe6f"
      },
      "execution_count": null,
      "outputs": []
    },
    {
      "cell_type": "code",
      "source": [
        "# Create char embedding layer\n",
        "char_embed = layers.Embedding(input_dim=NUM_CHAR_TOKENS, # number of different characters\n",
        "                              output_dim=25, # embedding dimension of each character (same as Figure 1 in https://arxiv.org/pdf/1612.05251.pdf)\n",
        "                              mask_zero=False, # don't use masks (this messes up model_5 if set to True)\n",
        "                              name=\"char_embed\")"
      ],
      "metadata": {
        "id": "XUK04Ij1VO1I"
      },
      "execution_count": null,
      "outputs": []
    },
    {
      "cell_type": "code",
      "source": [
        "# 1. Setup token inputs/model\n",
        "token_inputs = layers.Input(shape=[], dtype=tf.string, name=\"token_input\")\n",
        "token_embeddings = tf_hub_embedding_layer(token_inputs)\n",
        "token_output = layers.Dense(128, activation=\"relu\")(token_embeddings)\n",
        "token_model = tf.keras.Model(inputs=token_inputs,\n",
        "                             outputs=token_output)\n",
        "\n",
        "# 2. Setup char inputs/model\n",
        "char_inputs = layers.Input(shape=(1,), dtype=tf.string, name=\"char_input\")\n",
        "char_vectors = char_vectorizer(char_inputs)\n",
        "char_embeddings = char_embed(char_vectors)\n",
        "char_bi_lstm = layers.Bidirectional(layers.LSTM(25))(char_embeddings) # bi-LSTM shown in Figure 1 of https://arxiv.org/pdf/1612.05251.pdf\n",
        "char_model = tf.keras.Model(inputs=char_inputs,\n",
        "                            outputs=char_bi_lstm)\n",
        "\n",
        "# 3. Concatenate token and char inputs (create hybrid token embedding)\n",
        "token_char_concat = layers.Concatenate(name=\"token_char_hybrid\")([token_model.output,\n",
        "                                                                  char_model.output])\n",
        "\n",
        "# 4. Create output layers - addition of dropout discussed in 4.2 of https://arxiv.org/pdf/1612.05251.pdf\n",
        "combined_dropout = layers.Dropout(0.5)(token_char_concat)\n",
        "combined_dense = layers.Dense(200, activation=\"relu\")(combined_dropout) # slightly different to Figure 1 due to different shapes of token/char embedding layers\n",
        "final_dropout = layers.Dropout(0.5)(combined_dense)\n",
        "output_layer = layers.Dense(1)(final_dropout)\n",
        "\n",
        "# 5. Construct model with char and token inputs\n",
        "model_10 = tf.keras.Model(inputs=[token_model.input, char_model.input],\n",
        "                         outputs=output_layer,\n",
        "                         name=\"model_10_token_and_char_embeddings\")"
      ],
      "metadata": {
        "id": "TpmjsaPZUJIE"
      },
      "execution_count": null,
      "outputs": []
    },
    {
      "cell_type": "code",
      "source": [
        "# Compile token char model\n",
        "model_10.compile(loss=\"mae\",\n",
        "                optimizer=tf.keras.optimizers.Adam())"
      ],
      "metadata": {
        "id": "AJ6AWkj4VZcL"
      },
      "execution_count": null,
      "outputs": []
    },
    {
      "cell_type": "code",
      "source": [
        "# Combine chars and tokens into a dataset\n",
        "train_char_token_data = tf.data.Dataset.from_tensor_slices((X_train, train_chars)) # make data\n",
        "train_char_token_labels = tf.data.Dataset.from_tensor_slices(y_train) # make labels\n",
        "train_char_token_dataset = tf.data.Dataset.zip((train_char_token_data, train_char_token_labels)) # combine data and labels\n",
        "\n",
        "# Prefetch and batch train data\n",
        "train_char_token_dataset = train_char_token_dataset.batch(32).prefetch(tf.data.AUTOTUNE)\n",
        "\n",
        "# Repeat same steps validation data\n",
        "val_char_token_data = tf.data.Dataset.from_tensor_slices((X_val, val_chars))\n",
        "val_char_token_labels = tf.data.Dataset.from_tensor_slices(y_val)\n",
        "val_char_token_dataset = tf.data.Dataset.zip((val_char_token_data, val_char_token_labels))\n",
        "val_char_token_dataset = val_char_token_dataset.batch(32).prefetch(tf.data.AUTOTUNE)\n",
        "\n",
        "# Repeat same steps validation data\n",
        "test_char_token_data = tf.data.Dataset.from_tensor_slices((X_test, test_chars))\n",
        "test_char_token_labels = tf.data.Dataset.from_tensor_slices(y_test)\n",
        "test_char_token_dataset = tf.data.Dataset.zip((test_char_token_data, test_char_token_labels))\n",
        "test_char_token_dataset = val_char_token_dataset.batch(32).prefetch(tf.data.AUTOTUNE)"
      ],
      "metadata": {
        "id": "BDcgxw7UVgrj"
      },
      "execution_count": null,
      "outputs": []
    },
    {
      "cell_type": "code",
      "source": [
        "# Check out training char and token embedding dataset\n",
        "train_char_token_dataset, val_char_token_dataset, test_char_token_dataset"
      ],
      "metadata": {
        "colab": {
          "base_uri": "https://localhost:8080/"
        },
        "id": "x6F2Ie2iWFi-",
        "outputId": "76195466-47ba-4f31-e57e-018f7f3ee50c"
      },
      "execution_count": null,
      "outputs": [
        {
          "output_type": "execute_result",
          "data": {
            "text/plain": [
              "(<PrefetchDataset element_spec=((TensorSpec(shape=(None,), dtype=tf.string, name=None), TensorSpec(shape=(None,), dtype=tf.string, name=None)), TensorSpec(shape=(None,), dtype=tf.float64, name=None))>,\n",
              " <PrefetchDataset element_spec=((TensorSpec(shape=(None,), dtype=tf.string, name=None), TensorSpec(shape=(None,), dtype=tf.string, name=None)), TensorSpec(shape=(None,), dtype=tf.float64, name=None))>,\n",
              " <PrefetchDataset element_spec=((TensorSpec(shape=(None, None), dtype=tf.string, name=None), TensorSpec(shape=(None, None), dtype=tf.string, name=None)), TensorSpec(shape=(None, None), dtype=tf.float64, name=None))>)"
            ]
          },
          "metadata": {},
          "execution_count": 22
        }
      ]
    },
    {
      "cell_type": "code",
      "source": [
        "# Fit the model on tokens and chars\n",
        "model_10_history = model_10.fit(train_char_token_dataset, # train on dataset of token and characters\n",
        "                              epochs=25,\n",
        "                              validation_data=val_char_token_dataset,\n",
        "                              callbacks=[create_model_checkpoint(model_name=model_10.name), early_stopping])"
      ],
      "metadata": {
        "colab": {
          "base_uri": "https://localhost:8080/"
        },
        "id": "Wn-9Sb2RWIRi",
        "outputId": "5d26d2a4-599f-43ee-a4f3-9951d35a1baf"
      },
      "execution_count": null,
      "outputs": [
        {
          "output_type": "stream",
          "name": "stdout",
          "text": [
            "Epoch 1/25\n",
            "1779/1779 [==============================] - ETA: 0s - loss: 1.2383"
          ]
        },
        {
          "output_type": "stream",
          "name": "stderr",
          "text": [
            "WARNING:absl:Found untraced functions such as lstm_cell_1_layer_call_fn, lstm_cell_1_layer_call_and_return_conditional_losses, lstm_cell_2_layer_call_fn, lstm_cell_2_layer_call_and_return_conditional_losses while saving (showing 4 of 4). These functions will not be directly callable after loading.\n"
          ]
        },
        {
          "output_type": "stream",
          "name": "stdout",
          "text": [
            "INFO:tensorflow:Assets written to: model_experiments/model_10_token_and_char_embeddings/assets\n"
          ]
        },
        {
          "output_type": "stream",
          "name": "stderr",
          "text": [
            "INFO:tensorflow:Assets written to: model_experiments/model_10_token_and_char_embeddings/assets\n",
            "WARNING:absl:<keras.layers.recurrent.LSTMCell object at 0x7f6f14e08590> has the same name 'LSTMCell' as a built-in Keras object. Consider renaming <class 'keras.layers.recurrent.LSTMCell'> to avoid naming conflicts when loading with `tf.keras.models.load_model`. If renaming is not possible, pass the object in the `custom_objects` parameter of the load function.\n",
            "WARNING:absl:<keras.layers.recurrent.LSTMCell object at 0x7f6f14ead150> has the same name 'LSTMCell' as a built-in Keras object. Consider renaming <class 'keras.layers.recurrent.LSTMCell'> to avoid naming conflicts when loading with `tf.keras.models.load_model`. If renaming is not possible, pass the object in the `custom_objects` parameter of the load function.\n"
          ]
        },
        {
          "output_type": "stream",
          "name": "stdout",
          "text": [
            "\b\b\b\b\b\b\b\b\b\b\b\b\b\b\b\b\b\b\b\b\b\b\b\b\b\b\b\b\b\b\b\b\b\b\b\b\b\b\b\b\b\b\b\b\b\b\b\b\b\b\b\b\b\b\b\b\b\b\b\b\b\b\b\b\b\b\b\r1779/1779 [==============================] - 73s 35ms/step - loss: 1.2383 - val_loss: 1.9037\n",
            "Epoch 2/25\n",
            "1779/1779 [==============================] - 28s 16ms/step - loss: 0.9830 - val_loss: 2.0022\n",
            "Epoch 3/25\n",
            "1778/1779 [============================>.] - ETA: 0s - loss: 0.9722"
          ]
        },
        {
          "output_type": "stream",
          "name": "stderr",
          "text": [
            "WARNING:absl:Found untraced functions such as lstm_cell_1_layer_call_fn, lstm_cell_1_layer_call_and_return_conditional_losses, lstm_cell_2_layer_call_fn, lstm_cell_2_layer_call_and_return_conditional_losses while saving (showing 4 of 4). These functions will not be directly callable after loading.\n"
          ]
        },
        {
          "output_type": "stream",
          "name": "stdout",
          "text": [
            "INFO:tensorflow:Assets written to: model_experiments/model_10_token_and_char_embeddings/assets\n"
          ]
        },
        {
          "output_type": "stream",
          "name": "stderr",
          "text": [
            "INFO:tensorflow:Assets written to: model_experiments/model_10_token_and_char_embeddings/assets\n",
            "WARNING:absl:<keras.layers.recurrent.LSTMCell object at 0x7f6f14e08590> has the same name 'LSTMCell' as a built-in Keras object. Consider renaming <class 'keras.layers.recurrent.LSTMCell'> to avoid naming conflicts when loading with `tf.keras.models.load_model`. If renaming is not possible, pass the object in the `custom_objects` parameter of the load function.\n",
            "WARNING:absl:<keras.layers.recurrent.LSTMCell object at 0x7f6f14ead150> has the same name 'LSTMCell' as a built-in Keras object. Consider renaming <class 'keras.layers.recurrent.LSTMCell'> to avoid naming conflicts when loading with `tf.keras.models.load_model`. If renaming is not possible, pass the object in the `custom_objects` parameter of the load function.\n"
          ]
        },
        {
          "output_type": "stream",
          "name": "stdout",
          "text": [
            "\b\b\b\b\b\b\b\b\b\b\b\b\b\b\b\b\b\b\b\b\b\b\b\b\b\b\b\b\b\b\b\b\b\b\b\b\b\b\b\b\b\b\b\b\b\b\b\b\b\b\b\b\b\b\b\b\b\b\b\b\b\b\b\b\b\b\b\r1779/1779 [==============================] - 50s 28ms/step - loss: 0.9721 - val_loss: 1.8052\n",
            "Epoch 4/25\n",
            "1778/1779 [============================>.] - ETA: 0s - loss: 0.9275"
          ]
        },
        {
          "output_type": "stream",
          "name": "stderr",
          "text": [
            "WARNING:absl:Found untraced functions such as lstm_cell_1_layer_call_fn, lstm_cell_1_layer_call_and_return_conditional_losses, lstm_cell_2_layer_call_fn, lstm_cell_2_layer_call_and_return_conditional_losses while saving (showing 4 of 4). These functions will not be directly callable after loading.\n"
          ]
        },
        {
          "output_type": "stream",
          "name": "stdout",
          "text": [
            "INFO:tensorflow:Assets written to: model_experiments/model_10_token_and_char_embeddings/assets\n"
          ]
        },
        {
          "output_type": "stream",
          "name": "stderr",
          "text": [
            "INFO:tensorflow:Assets written to: model_experiments/model_10_token_and_char_embeddings/assets\n",
            "WARNING:absl:<keras.layers.recurrent.LSTMCell object at 0x7f6f14e08590> has the same name 'LSTMCell' as a built-in Keras object. Consider renaming <class 'keras.layers.recurrent.LSTMCell'> to avoid naming conflicts when loading with `tf.keras.models.load_model`. If renaming is not possible, pass the object in the `custom_objects` parameter of the load function.\n",
            "WARNING:absl:<keras.layers.recurrent.LSTMCell object at 0x7f6f14ead150> has the same name 'LSTMCell' as a built-in Keras object. Consider renaming <class 'keras.layers.recurrent.LSTMCell'> to avoid naming conflicts when loading with `tf.keras.models.load_model`. If renaming is not possible, pass the object in the `custom_objects` parameter of the load function.\n"
          ]
        },
        {
          "output_type": "stream",
          "name": "stdout",
          "text": [
            "\b\b\b\b\b\b\b\b\b\b\b\b\b\b\b\b\b\b\b\b\b\b\b\b\b\b\b\b\b\b\b\b\b\b\b\b\b\b\b\b\b\b\b\b\b\b\b\b\b\b\b\b\b\b\b\b\b\b\b\b\b\b\b\b\b\b\b\r1779/1779 [==============================] - 62s 35ms/step - loss: 0.9275 - val_loss: 1.7819\n",
            "Epoch 5/25\n",
            "1778/1779 [============================>.] - ETA: 0s - loss: 0.9246"
          ]
        },
        {
          "output_type": "stream",
          "name": "stderr",
          "text": [
            "WARNING:absl:Found untraced functions such as lstm_cell_1_layer_call_fn, lstm_cell_1_layer_call_and_return_conditional_losses, lstm_cell_2_layer_call_fn, lstm_cell_2_layer_call_and_return_conditional_losses while saving (showing 4 of 4). These functions will not be directly callable after loading.\n"
          ]
        },
        {
          "output_type": "stream",
          "name": "stdout",
          "text": [
            "INFO:tensorflow:Assets written to: model_experiments/model_10_token_and_char_embeddings/assets\n"
          ]
        },
        {
          "output_type": "stream",
          "name": "stderr",
          "text": [
            "INFO:tensorflow:Assets written to: model_experiments/model_10_token_and_char_embeddings/assets\n",
            "WARNING:absl:<keras.layers.recurrent.LSTMCell object at 0x7f6f14e08590> has the same name 'LSTMCell' as a built-in Keras object. Consider renaming <class 'keras.layers.recurrent.LSTMCell'> to avoid naming conflicts when loading with `tf.keras.models.load_model`. If renaming is not possible, pass the object in the `custom_objects` parameter of the load function.\n",
            "WARNING:absl:<keras.layers.recurrent.LSTMCell object at 0x7f6f14ead150> has the same name 'LSTMCell' as a built-in Keras object. Consider renaming <class 'keras.layers.recurrent.LSTMCell'> to avoid naming conflicts when loading with `tf.keras.models.load_model`. If renaming is not possible, pass the object in the `custom_objects` parameter of the load function.\n"
          ]
        },
        {
          "output_type": "stream",
          "name": "stdout",
          "text": [
            "\b\b\b\b\b\b\b\b\b\b\b\b\b\b\b\b\b\b\b\b\b\b\b\b\b\b\b\b\b\b\b\b\b\b\b\b\b\b\b\b\b\b\b\b\b\b\b\b\b\b\b\b\b\b\b\b\b\b\b\b\b\b\b\b\b\b\b\r1779/1779 [==============================] - 49s 27ms/step - loss: 0.9246 - val_loss: 1.5559\n",
            "Epoch 6/25\n",
            "1779/1779 [==============================] - 29s 16ms/step - loss: 0.8819 - val_loss: 1.8058\n",
            "Epoch 7/25\n",
            "1779/1779 [==============================] - 28s 16ms/step - loss: 0.8814 - val_loss: 1.7461\n",
            "Epoch 8/25\n",
            "1779/1779 [==============================] - 31s 17ms/step - loss: 0.8685 - val_loss: 1.5857\n"
          ]
        }
      ]
    },
    {
      "cell_type": "code",
      "source": [
        "model_10 = tf.keras.models.load_model(\"/content/model_experiments/model_10_token_and_char_embeddings\")"
      ],
      "metadata": {
        "id": "JL6DVxn_Yy51"
      },
      "execution_count": null,
      "outputs": []
    },
    {
      "cell_type": "code",
      "source": [
        "model_10.evaluate(train_char_token_dataset)"
      ],
      "metadata": {
        "colab": {
          "base_uri": "https://localhost:8080/"
        },
        "id": "q0ZOPmauXdIT",
        "outputId": "327141f5-95fb-4c40-de21-e2d07c21b7d1"
      },
      "execution_count": null,
      "outputs": [
        {
          "output_type": "stream",
          "name": "stdout",
          "text": [
            "1779/1779 [==============================] - 21s 11ms/step - loss: 1.9308\n"
          ]
        },
        {
          "output_type": "execute_result",
          "data": {
            "text/plain": [
              "1.9308134317398071"
            ]
          },
          "metadata": {},
          "execution_count": 27
        }
      ]
    },
    {
      "cell_type": "code",
      "source": [
        "plot_model(model_10)"
      ],
      "metadata": {
        "colab": {
          "base_uri": "https://localhost:8080/",
          "height": 165
        },
        "id": "z4u1ovElTnsp",
        "outputId": "894d621d-9962-46b0-8e44-ed7f92091fdd"
      },
      "execution_count": null,
      "outputs": [
        {
          "output_type": "error",
          "ename": "NameError",
          "evalue": "ignored",
          "traceback": [
            "\u001b[0;31m---------------------------------------------------------------------------\u001b[0m",
            "\u001b[0;31mNameError\u001b[0m                                 Traceback (most recent call last)",
            "\u001b[0;32m<ipython-input-50-19ae4ccbf245>\u001b[0m in \u001b[0;36m<module>\u001b[0;34m()\u001b[0m\n\u001b[0;32m----> 1\u001b[0;31m \u001b[0mplot_model\u001b[0m\u001b[0;34m(\u001b[0m\u001b[0mmodel_10\u001b[0m\u001b[0;34m)\u001b[0m\u001b[0;34m\u001b[0m\u001b[0;34m\u001b[0m\u001b[0m\n\u001b[0m",
            "\u001b[0;31mNameError\u001b[0m: name 'model_10' is not defined"
          ]
        }
      ]
    },
    {
      "cell_type": "code",
      "source": [
        "test_char_token_data = tf.data.Dataset.from_tensor_slices((X_test, test_chars))\n",
        "test_char_token_labels = tf.data.Dataset.from_tensor_slices(y_test)\n",
        "test_char_token_dataset = tf.data.Dataset.zip((test_char_token_data, test_char_token_labels))\n",
        "test_char_token_dataset = test_char_token_dataset.batch(32).prefetch(tf.data.AUTOTUNE)"
      ],
      "metadata": {
        "id": "px_owqz7pOuA"
      },
      "execution_count": null,
      "outputs": []
    },
    {
      "cell_type": "code",
      "source": [
        "model_10.evaluate(test_char_token_dataset)"
      ],
      "metadata": {
        "colab": {
          "base_uri": "https://localhost:8080/"
        },
        "id": "cHQ7zYsAasec",
        "outputId": "4dea36e6-495e-4a47-94ba-f2093d2a3089"
      },
      "execution_count": null,
      "outputs": [
        {
          "output_type": "stream",
          "name": "stdout",
          "text": [
            "86/86 [==============================] - 3s 19ms/step - loss: 1.5824\n"
          ]
        },
        {
          "output_type": "execute_result",
          "data": {
            "text/plain": [
              "1.5823695659637451"
            ]
          },
          "metadata": {},
          "execution_count": 40
        }
      ]
    },
    {
      "cell_type": "markdown",
      "source": [
        "### now start fine tuning"
      ],
      "metadata": {
        "id": "kflOE5bepe1f"
      }
    },
    {
      "cell_type": "code",
      "source": [
        "for layer in model_10.layers:\n",
        "  print(layer.name, layer.trainable)"
      ],
      "metadata": {
        "id": "zbDleCprpemT",
        "colab": {
          "base_uri": "https://localhost:8080/"
        },
        "outputId": "baf7b141-0df1-44fa-8d5c-f9a3bd32a092"
      },
      "execution_count": null,
      "outputs": [
        {
          "output_type": "stream",
          "name": "stdout",
          "text": [
            "char_input True\n",
            "token_input True\n",
            "char_vectorizer True\n",
            "universal_sentence_encoder False\n",
            "char_embed True\n",
            "dense True\n",
            "bidirectional True\n",
            "token_char_hybrid True\n",
            "dropout True\n",
            "dense_1 True\n",
            "dropout_1 True\n",
            "dense_2 True\n"
          ]
        }
      ]
    },
    {
      "cell_type": "code",
      "source": [
        "# make the whole model trainable\n",
        "model_10.trainable = True"
      ],
      "metadata": {
        "id": "hJo8u0vdD6sa"
      },
      "execution_count": null,
      "outputs": []
    },
    {
      "cell_type": "code",
      "source": [
        "for layer in model_10.layers:\n",
        "  print(layer.name, layer.trainable)"
      ],
      "metadata": {
        "colab": {
          "base_uri": "https://localhost:8080/"
        },
        "id": "rVyJEGSkEALN",
        "outputId": "faa74431-cf44-4420-e8d3-6863542beb3a"
      },
      "execution_count": null,
      "outputs": [
        {
          "output_type": "stream",
          "name": "stdout",
          "text": [
            "char_input True\n",
            "token_input True\n",
            "char_vectorizer True\n",
            "universal_sentence_encoder True\n",
            "char_embed True\n",
            "dense True\n",
            "bidirectional True\n",
            "token_char_hybrid True\n",
            "dropout True\n",
            "dense_1 True\n",
            "dropout_1 True\n",
            "dense_2 True\n"
          ]
        }
      ]
    },
    {
      "cell_type": "code",
      "source": [
        "# recompile the model\n",
        "model_10.compile(loss=\"mae\",\n",
        "                optimizer=tf.keras.optimizers.Adam(learning_rate=0.0001))"
      ],
      "metadata": {
        "colab": {
          "base_uri": "https://localhost:8080/"
        },
        "id": "bw3OpDEGEwCo",
        "outputId": "74db2dcd-c4ea-4b78-f911-c1dfde6dbb3e"
      },
      "execution_count": null,
      "outputs": [
        {
          "output_type": "stream",
          "name": "stderr",
          "text": [
            "/usr/local/lib/python3.7/dist-packages/keras/optimizer_v2/adam.py:105: UserWarning: The `lr` argument is deprecated, use `learning_rate` instead.\n",
            "  super(Adam, self).__init__(name, **kwargs)\n"
          ]
        }
      ]
    },
    {
      "cell_type": "code",
      "source": [
        "fine_tune_epochs = 8 + 25\n",
        "\n",
        "history_fine_model_10 = model_10.fit(train_char_token_dataset, epochs = fine_tune_epochs,\n",
        "                                     validation_data = test_char_token_dataset,\n",
        "                                     initial_epoch = model_10_history.epoch[-1],\n",
        "                                     callbacks =[create_model_checkpoint(model_name=model_10.name), early_stopping] )"
      ],
      "metadata": {
        "colab": {
          "base_uri": "https://localhost:8080/"
        },
        "id": "e3gAfWMTECru",
        "outputId": "cac48492-1131-4e27-9ecd-d72f777c87f8"
      },
      "execution_count": null,
      "outputs": [
        {
          "output_type": "stream",
          "name": "stdout",
          "text": [
            "Epoch 8/33\n",
            "1779/1779 [==============================] - ETA: 0s - loss: 0.9364"
          ]
        },
        {
          "output_type": "stream",
          "name": "stderr",
          "text": [
            "WARNING:absl:Found untraced functions such as lstm_cell_7_layer_call_fn, lstm_cell_7_layer_call_and_return_conditional_losses, lstm_cell_8_layer_call_fn, lstm_cell_8_layer_call_and_return_conditional_losses while saving (showing 4 of 4). These functions will not be directly callable after loading.\n"
          ]
        },
        {
          "output_type": "stream",
          "name": "stdout",
          "text": [
            "INFO:tensorflow:Assets written to: model_experiments/model_10_token_and_char_embeddings/assets\n"
          ]
        },
        {
          "output_type": "stream",
          "name": "stderr",
          "text": [
            "INFO:tensorflow:Assets written to: model_experiments/model_10_token_and_char_embeddings/assets\n",
            "WARNING:absl:<keras.layers.recurrent.LSTMCell object at 0x7f6e93d1e390> has the same name 'LSTMCell' as a built-in Keras object. Consider renaming <class 'keras.layers.recurrent.LSTMCell'> to avoid naming conflicts when loading with `tf.keras.models.load_model`. If renaming is not possible, pass the object in the `custom_objects` parameter of the load function.\n",
            "WARNING:absl:<keras.layers.recurrent.LSTMCell object at 0x7f6e93d1ef50> has the same name 'LSTMCell' as a built-in Keras object. Consider renaming <class 'keras.layers.recurrent.LSTMCell'> to avoid naming conflicts when loading with `tf.keras.models.load_model`. If renaming is not possible, pass the object in the `custom_objects` parameter of the load function.\n"
          ]
        },
        {
          "output_type": "stream",
          "name": "stdout",
          "text": [
            "\b\b\b\b\b\b\b\b\b\b\b\b\b\b\b\b\b\b\b\b\b\b\b\b\b\b\b\b\b\b\b\b\b\b\b\b\b\b\b\b\b\b\b\b\b\b\b\b\b\b\b\b\b\b\b\b\b\b\b\b\b\b\b\b\b\b\b\r1779/1779 [==============================] - 322s 176ms/step - loss: 0.9364 - val_loss: 1.3503\n",
            "Epoch 9/33\n",
            "1779/1779 [==============================] - 278s 156ms/step - loss: 0.8884 - val_loss: 1.3801\n",
            "Epoch 10/33\n",
            "1779/1779 [==============================] - 277s 156ms/step - loss: 0.8699 - val_loss: 2.6421\n",
            "Epoch 11/33\n",
            "1779/1779 [==============================] - ETA: 0s - loss: 0.8254"
          ]
        },
        {
          "output_type": "stream",
          "name": "stderr",
          "text": [
            "WARNING:absl:Found untraced functions such as lstm_cell_7_layer_call_fn, lstm_cell_7_layer_call_and_return_conditional_losses, lstm_cell_8_layer_call_fn, lstm_cell_8_layer_call_and_return_conditional_losses while saving (showing 4 of 4). These functions will not be directly callable after loading.\n"
          ]
        },
        {
          "output_type": "stream",
          "name": "stdout",
          "text": [
            "INFO:tensorflow:Assets written to: model_experiments/model_10_token_and_char_embeddings/assets\n"
          ]
        },
        {
          "output_type": "stream",
          "name": "stderr",
          "text": [
            "INFO:tensorflow:Assets written to: model_experiments/model_10_token_and_char_embeddings/assets\n",
            "WARNING:absl:<keras.layers.recurrent.LSTMCell object at 0x7f6e93d1e390> has the same name 'LSTMCell' as a built-in Keras object. Consider renaming <class 'keras.layers.recurrent.LSTMCell'> to avoid naming conflicts when loading with `tf.keras.models.load_model`. If renaming is not possible, pass the object in the `custom_objects` parameter of the load function.\n",
            "WARNING:absl:<keras.layers.recurrent.LSTMCell object at 0x7f6e93d1ef50> has the same name 'LSTMCell' as a built-in Keras object. Consider renaming <class 'keras.layers.recurrent.LSTMCell'> to avoid naming conflicts when loading with `tf.keras.models.load_model`. If renaming is not possible, pass the object in the `custom_objects` parameter of the load function.\n"
          ]
        },
        {
          "output_type": "stream",
          "name": "stdout",
          "text": [
            "\b\b\b\b\b\b\b\b\b\b\b\b\b\b\b\b\b\b\b\b\b\b\b\b\b\b\b\b\b\b\b\b\b\b\b\b\b\b\b\b\b\b\b\b\b\b\b\b\b\b\b\b\b\b\b\b\b\b\b\b\b\b\b\b\b\b\b\r1779/1779 [==============================] - 309s 174ms/step - loss: 0.8254 - val_loss: 1.2013\n",
            "Epoch 12/33\n",
            "1779/1779 [==============================] - 276s 155ms/step - loss: 0.7859 - val_loss: 1.2563\n",
            "Epoch 13/33\n",
            "1779/1779 [==============================] - 277s 155ms/step - loss: 0.7762 - val_loss: 1.8819\n",
            "Epoch 14/33\n",
            "1779/1779 [==============================] - 276s 155ms/step - loss: 0.7479 - val_loss: 1.4682\n"
          ]
        }
      ]
    },
    {
      "cell_type": "code",
      "source": [
        "model_10 = tf.keras.models.load_model(\"/content/model_experiments/model_10_token_and_char_embeddings\")"
      ],
      "metadata": {
        "id": "fUTp8H9ZPLNs"
      },
      "execution_count": null,
      "outputs": []
    },
    {
      "cell_type": "code",
      "source": [
        "model_10.evaluate(train_char_token_dataset)"
      ],
      "metadata": {
        "colab": {
          "base_uri": "https://localhost:8080/"
        },
        "id": "A3kTk4ooOvk8",
        "outputId": "3bcec5fd-884f-4185-baa4-1dbd289676db"
      },
      "execution_count": null,
      "outputs": [
        {
          "output_type": "stream",
          "name": "stdout",
          "text": [
            "1779/1779 [==============================] - 23s 12ms/step - loss: 1.2918\n"
          ]
        },
        {
          "output_type": "execute_result",
          "data": {
            "text/plain": [
              "1.2917646169662476"
            ]
          },
          "metadata": {},
          "execution_count": 49
        }
      ]
    },
    {
      "cell_type": "code",
      "source": [
        "model_10.evaluate(test_char_token_dataset)"
      ],
      "metadata": {
        "colab": {
          "base_uri": "https://localhost:8080/"
        },
        "id": "4HIffcFnOyGL",
        "outputId": "2ce01b45-37fd-4fa1-d9d8-fbb1385b1626"
      },
      "execution_count": null,
      "outputs": [
        {
          "output_type": "stream",
          "name": "stdout",
          "text": [
            "86/86 [==============================] - 1s 12ms/step - loss: 1.2013\n"
          ]
        },
        {
          "output_type": "execute_result",
          "data": {
            "text/plain": [
              "1.2012683153152466"
            ]
          },
          "metadata": {},
          "execution_count": 50
        }
      ]
    },
    {
      "cell_type": "code",
      "source": [
        "plot_model(model_8)"
      ],
      "metadata": {
        "colab": {
          "base_uri": "https://localhost:8080/",
          "height": 564
        },
        "id": "mf19j3wHUMTI",
        "outputId": "572f697d-512e-4aec-fa3d-948199ee7d52"
      },
      "execution_count": null,
      "outputs": [
        {
          "output_type": "execute_result",
          "data": {
            "text/plain": [
              "<IPython.core.display.Image object>"
            ],
            "image/png": "[encoded data removed]"
          },
          "metadata": {},
          "execution_count": 52
        }
      ]
    },
    {
      "cell_type": "code",
      "source": [
        "plot_model(model_9)"
      ],
      "metadata": {
        "colab": {
          "base_uri": "https://localhost:8080/",
          "height": 564
        },
        "id": "LRQCJKBNUOh1",
        "outputId": "a1d56877-4297-42a7-c093-983ef90ac32f"
      },
      "execution_count": null,
      "outputs": [
        {
          "output_type": "execute_result",
          "data": {
            "text/plain": [
              "<IPython.core.display.Image object>"
            ],
            "image/png": "[encoded data removed]"
          },
          "metadata": {},
          "execution_count": 53
        }
      ]
    }
  ]
}