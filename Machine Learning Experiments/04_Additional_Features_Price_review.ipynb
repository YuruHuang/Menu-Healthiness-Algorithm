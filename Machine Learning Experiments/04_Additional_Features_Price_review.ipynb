{
  "nbformat": 4,
  "nbformat_minor": 0,
  "metadata": {
    "colab": {
      "name": "04_Additional_Features_Price_review.ipynb",
      "provenance": [],
      "authorship_tag": "ABX9TyN5Hepi6Isg//e52X/vhW/K",
      "include_colab_link": true
    },
    "kernelspec": {
      "name": "python3",
      "display_name": "Python 3"
    },
    "language_info": {
      "name": "python"
    },
    "accelerator": "GPU"
  },
  "cells": [
    {
      "cell_type": "markdown",
      "metadata": {
        "id": "view-in-github",
        "colab_type": "text"
      },
      "source": [
        "<a href=\"https://colab.research.google.com/github/YuruHuang/deep-learning-menu-healthiness/blob/main/04_Additional_Features_Price_review.ipynb\" target=\"_parent\"><img src=\"https://colab.research.google.com/assets/colab-badge.svg\" alt=\"Open In Colab\"/></a>"
      ]
    },
    {
      "cell_type": "markdown",
      "metadata": {
        "id": "wOL2SwbUeEE0"
      },
      "source": [
        "In this notebook, I will\n",
        "\n",
        "* Add new features (i.e., median price, average reviews) to see if the model performance can improve on the validation set - and yes it can!"
      ]
    },
    {
      "cell_type": "code",
      "metadata": {
        "colab": {
          "base_uri": "https://localhost:8080/",
          "height": 511
        },
        "id": "BPZRXecZikR7",
        "outputId": "92111346-c63f-4c02-cbf6-d9ff6352e2a1"
      },
      "source": [
        "import pandas as pd\n",
        "from sklearn.model_selection import train_test_split\n",
        "justeat_menu = pd.read_csv('JustEat_extracted_211021.csv')\n",
        "justeat_menu.head()"
      ],
      "execution_count": 1,
      "outputs": [
        {
          "output_type": "execute_result",
          "data": {
            "text/html": [
              "\n",
              "  <div id=\"df-729c20bb-5361-43f8-916d-ab3229d8d42e\">\n",
              "    <div class=\"colab-df-container\">\n",
              "      <div>\n",
              "<style scoped>\n",
              "    .dataframe tbody tr th:only-of-type {\n",
              "        vertical-align: middle;\n",
              "    }\n",
              "\n",
              "    .dataframe tbody tr th {\n",
              "        vertical-align: top;\n",
              "    }\n",
              "\n",
              "    .dataframe thead th {\n",
              "        text-align: right;\n",
              "    }\n",
              "</style>\n",
              "<table border=\"1\" class=\"dataframe\">\n",
              "  <thead>\n",
              "    <tr style=\"text-align: right;\">\n",
              "      <th></th>\n",
              "      <th>Restaurant ID</th>\n",
              "      <th>Desserts</th>\n",
              "      <th>Vegetables</th>\n",
              "      <th>Salads</th>\n",
              "      <th>Chips</th>\n",
              "      <th>Water</th>\n",
              "      <th>Milk</th>\n",
              "      <th>Special Offers</th>\n",
              "      <th>rest_name</th>\n",
              "      <th>n_reviews</th>\n",
              "      <th>average_review</th>\n",
              "      <th>item_price_mean</th>\n",
              "      <th>item_price_median</th>\n",
              "      <th>n_items</th>\n",
              "      <th>url</th>\n",
              "      <th>cuisine</th>\n",
              "      <th>address</th>\n",
              "      <th>postcode</th>\n",
              "      <th>postcode_district</th>\n",
              "      <th>specialOffers</th>\n",
              "      <th>chips</th>\n",
              "      <th>salads</th>\n",
              "      <th>predict</th>\n",
              "      <th>rating2</th>\n",
              "      <th>review</th>\n",
              "    </tr>\n",
              "  </thead>\n",
              "  <tbody>\n",
              "    <tr>\n",
              "      <th>0</th>\n",
              "      <td>80603</td>\n",
              "      <td>0</td>\n",
              "      <td>5</td>\n",
              "      <td>2</td>\n",
              "      <td>11</td>\n",
              "      <td>1</td>\n",
              "      <td>0</td>\n",
              "      <td>5</td>\n",
              "      <td>Pasha Kebabs &amp; Pizzas</td>\n",
              "      <td>View 551 reviews</td>\n",
              "      <td>5.06 stars out of 6.</td>\n",
              "      <td>6.037634</td>\n",
              "      <td>7.000</td>\n",
              "      <td>93</td>\n",
              "      <td>URL</td>\n",
              "      <td>Kebab,Pizza,Halal</td>\n",
              "      <td>25 Windmill Brae, Aberdeen, AB11 6HU</td>\n",
              "      <td>AB11 6HU</td>\n",
              "      <td>AB11</td>\n",
              "      <td>5</td>\n",
              "      <td>11</td>\n",
              "      <td>2</td>\n",
              "      <td>5.504342</td>\n",
              "      <td>1</td>\n",
              "      <td>551.0</td>\n",
              "    </tr>\n",
              "    <tr>\n",
              "      <th>1</th>\n",
              "      <td>71703</td>\n",
              "      <td>7</td>\n",
              "      <td>10</td>\n",
              "      <td>2</td>\n",
              "      <td>14</td>\n",
              "      <td>0</td>\n",
              "      <td>0</td>\n",
              "      <td>4</td>\n",
              "      <td>Paco's Tacos</td>\n",
              "      <td>View 2314 reviews</td>\n",
              "      <td>4.65 stars out of 6.</td>\n",
              "      <td>5.431358</td>\n",
              "      <td>4.450</td>\n",
              "      <td>162</td>\n",
              "      <td>URL</td>\n",
              "      <td>Mexican,American</td>\n",
              "      <td>42-44 Market Street, Aberdeenshire, AB11 5PL</td>\n",
              "      <td>AB11 5PL</td>\n",
              "      <td>AB11</td>\n",
              "      <td>4</td>\n",
              "      <td>14</td>\n",
              "      <td>2</td>\n",
              "      <td>5.010865</td>\n",
              "      <td>0</td>\n",
              "      <td>2314.0</td>\n",
              "    </tr>\n",
              "    <tr>\n",
              "      <th>2</th>\n",
              "      <td>6885</td>\n",
              "      <td>0</td>\n",
              "      <td>16</td>\n",
              "      <td>12</td>\n",
              "      <td>1</td>\n",
              "      <td>0</td>\n",
              "      <td>0</td>\n",
              "      <td>2</td>\n",
              "      <td>Dil Se</td>\n",
              "      <td>View 1392 reviews</td>\n",
              "      <td>5.19 stars out of 6.</td>\n",
              "      <td>7.473418</td>\n",
              "      <td>8.225</td>\n",
              "      <td>158</td>\n",
              "      <td>URL</td>\n",
              "      <td>Indian,Curry</td>\n",
              "      <td>Unit 8, The Green Berrymuir Road, Portlethen, ...</td>\n",
              "      <td>AB12 4UN</td>\n",
              "      <td>AB12</td>\n",
              "      <td>2</td>\n",
              "      <td>1</td>\n",
              "      <td>12</td>\n",
              "      <td>9.355489</td>\n",
              "      <td>4</td>\n",
              "      <td>1392.0</td>\n",
              "    </tr>\n",
              "    <tr>\n",
              "      <th>3</th>\n",
              "      <td>122605</td>\n",
              "      <td>5</td>\n",
              "      <td>10</td>\n",
              "      <td>6</td>\n",
              "      <td>44</td>\n",
              "      <td>0</td>\n",
              "      <td>0</td>\n",
              "      <td>1</td>\n",
              "      <td>Mannofield Pizza Grill and Kebab</td>\n",
              "      <td>View 386 reviews</td>\n",
              "      <td>5.16 stars out of 6.</td>\n",
              "      <td>8.069737</td>\n",
              "      <td>7.700</td>\n",
              "      <td>152</td>\n",
              "      <td>URL</td>\n",
              "      <td>Pizza,Kebab</td>\n",
              "      <td>483a Great Western Road, Aberdeen, AB10 6NN</td>\n",
              "      <td>AB10 6NN</td>\n",
              "      <td>AB10</td>\n",
              "      <td>1</td>\n",
              "      <td>15</td>\n",
              "      <td>6</td>\n",
              "      <td>5.642945</td>\n",
              "      <td>1</td>\n",
              "      <td>386.0</td>\n",
              "    </tr>\n",
              "    <tr>\n",
              "      <th>4</th>\n",
              "      <td>44832</td>\n",
              "      <td>0</td>\n",
              "      <td>16</td>\n",
              "      <td>2</td>\n",
              "      <td>1</td>\n",
              "      <td>0</td>\n",
              "      <td>0</td>\n",
              "      <td>2</td>\n",
              "      <td>Lasan Healthy Indian Brasserie</td>\n",
              "      <td>View 595 reviews</td>\n",
              "      <td>5.04 stars out of 6.</td>\n",
              "      <td>6.877143</td>\n",
              "      <td>4.500</td>\n",
              "      <td>105</td>\n",
              "      <td>URL</td>\n",
              "      <td>Indian,Healthy</td>\n",
              "      <td>Unit 2 Westhill Drive, Westhill, Aberdeenshire...</td>\n",
              "      <td>AB32 6FS</td>\n",
              "      <td>AB32</td>\n",
              "      <td>2</td>\n",
              "      <td>1</td>\n",
              "      <td>2</td>\n",
              "      <td>8.357649</td>\n",
              "      <td>3</td>\n",
              "      <td>595.0</td>\n",
              "    </tr>\n",
              "  </tbody>\n",
              "</table>\n",
              "</div>\n",
              "      <button class=\"colab-df-convert\" onclick=\"convertToInteractive('df-729c20bb-5361-43f8-916d-ab3229d8d42e')\"\n",
              "              title=\"Convert this dataframe to an interactive table.\"\n",
              "              style=\"display:none;\">\n",
              "        \n",
              "  <svg xmlns=\"http://www.w3.org/2000/svg\" height=\"24px\"viewBox=\"0 0 24 24\"\n",
              "       width=\"24px\">\n",
              "    <path d=\"M0 0h24v24H0V0z\" fill=\"none\"/>\n",
              "    <path d=\"M18.56 5.44l.94 2.06.94-2.06 2.06-.94-2.06-.94-.94-2.06-.94 2.06-2.06.94zm-11 1L8.5 8.5l.94-2.06 2.06-.94-2.06-.94L8.5 2.5l-.94 2.06-2.06.94zm10 10l.94 2.06.94-2.06 2.06-.94-2.06-.94-.94-2.06-.94 2.06-2.06.94z\"/><path d=\"M17.41 7.96l-1.37-1.37c-.4-.4-.92-.59-1.43-.59-.52 0-1.04.2-1.43.59L10.3 9.45l-7.72 7.72c-.78.78-.78 2.05 0 2.83L4 21.41c.39.39.9.59 1.41.59.51 0 1.02-.2 1.41-.59l7.78-7.78 2.81-2.81c.8-.78.8-2.07 0-2.86zM5.41 20L4 18.59l7.72-7.72 1.47 1.35L5.41 20z\"/>\n",
              "  </svg>\n",
              "      </button>\n",
              "      \n",
              "  <style>\n",
              "    .colab-df-container {\n",
              "      display:flex;\n",
              "      flex-wrap:wrap;\n",
              "      gap: 12px;\n",
              "    }\n",
              "\n",
              "    .colab-df-convert {\n",
              "      background-color: #E8F0FE;\n",
              "      border: none;\n",
              "      border-radius: 50%;\n",
              "      cursor: pointer;\n",
              "      display: none;\n",
              "      fill: #1967D2;\n",
              "      height: 32px;\n",
              "      padding: 0 0 0 0;\n",
              "      width: 32px;\n",
              "    }\n",
              "\n",
              "    .colab-df-convert:hover {\n",
              "      background-color: #E2EBFA;\n",
              "      box-shadow: 0px 1px 2px rgba(60, 64, 67, 0.3), 0px 1px 3px 1px rgba(60, 64, 67, 0.15);\n",
              "      fill: #174EA6;\n",
              "    }\n",
              "\n",
              "    [theme=dark] .colab-df-convert {\n",
              "      background-color: #3B4455;\n",
              "      fill: #D2E3FC;\n",
              "    }\n",
              "\n",
              "    [theme=dark] .colab-df-convert:hover {\n",
              "      background-color: #434B5C;\n",
              "      box-shadow: 0px 1px 3px 1px rgba(0, 0, 0, 0.15);\n",
              "      filter: drop-shadow(0px 1px 2px rgba(0, 0, 0, 0.3));\n",
              "      fill: #FFFFFF;\n",
              "    }\n",
              "  </style>\n",
              "\n",
              "      <script>\n",
              "        const buttonEl =\n",
              "          document.querySelector('#df-729c20bb-5361-43f8-916d-ab3229d8d42e button.colab-df-convert');\n",
              "        buttonEl.style.display =\n",
              "          google.colab.kernel.accessAllowed ? 'block' : 'none';\n",
              "\n",
              "        async function convertToInteractive(key) {\n",
              "          const element = document.querySelector('#df-729c20bb-5361-43f8-916d-ab3229d8d42e');\n",
              "          const dataTable =\n",
              "            await google.colab.kernel.invokeFunction('convertToInteractive',\n",
              "                                                     [key], {});\n",
              "          if (!dataTable) return;\n",
              "\n",
              "          const docLinkHtml = 'Like what you see? Visit the ' +\n",
              "            '<a target=\"_blank\" href=https://colab.research.google.com/notebooks/data_table.ipynb>data table notebook</a>'\n",
              "            + ' to learn more about interactive tables.';\n",
              "          element.innerHTML = '';\n",
              "          dataTable['output_type'] = 'display_data';\n",
              "          await google.colab.output.renderOutput(dataTable, element);\n",
              "          const docLink = document.createElement('div');\n",
              "          docLink.innerHTML = docLinkHtml;\n",
              "          element.appendChild(docLink);\n",
              "        }\n",
              "      </script>\n",
              "    </div>\n",
              "  </div>\n",
              "  "
            ],
            "text/plain": [
              "   Restaurant ID  Desserts  Vegetables  ...   predict  rating2  review\n",
              "0          80603         0           5  ...  5.504342        1   551.0\n",
              "1          71703         7          10  ...  5.010865        0  2314.0\n",
              "2           6885         0          16  ...  9.355489        4  1392.0\n",
              "3         122605         5          10  ...  5.642945        1   386.0\n",
              "4          44832         0          16  ...  8.357649        3   595.0\n",
              "\n",
              "[5 rows x 25 columns]"
            ]
          },
          "metadata": {},
          "execution_count": 1
        }
      ]
    },
    {
      "cell_type": "code",
      "metadata": {
        "colab": {
          "base_uri": "https://localhost:8080/"
        },
        "id": "BZMNfPADiwrL",
        "outputId": "7965b502-f31f-413d-8e11-b7398e424e76"
      },
      "source": [
        "ratings = pd.read_csv('ratings.csv')\n",
        "ratings.head()\n",
        "justeat_menu['hyginene'] = ratings.iloc[:,1]\n",
        "# focus on England only: restaurants with hyginene ratings\n",
        "justeat_hr = justeat_menu[justeat_menu['hyginene'].notnull()]\n",
        "justeat_eng = justeat_hr[justeat_hr['hyginene'].str.contains('0|1|2|3|4|5')]\n",
        "justeat_eng['hg_rating'] = justeat_eng.hyginene.astype(\"float64\")\n",
        "justeat_eng['rest_name'] = justeat_eng.rest_name.astype(\"string\")"
      ],
      "execution_count": 2,
      "outputs": [
        {
          "output_type": "stream",
          "name": "stderr",
          "text": [
            "/usr/local/lib/python3.7/dist-packages/ipykernel_launcher.py:7: SettingWithCopyWarning: \n",
            "A value is trying to be set on a copy of a slice from a DataFrame.\n",
            "Try using .loc[row_indexer,col_indexer] = value instead\n",
            "\n",
            "See the caveats in the documentation: https://pandas.pydata.org/pandas-docs/stable/user_guide/indexing.html#returning-a-view-versus-a-copy\n",
            "  import sys\n",
            "/usr/local/lib/python3.7/dist-packages/ipykernel_launcher.py:8: SettingWithCopyWarning: \n",
            "A value is trying to be set on a copy of a slice from a DataFrame.\n",
            "Try using .loc[row_indexer,col_indexer] = value instead\n",
            "\n",
            "See the caveats in the documentation: https://pandas.pydata.org/pandas-docs/stable/user_guide/indexing.html#returning-a-view-versus-a-copy\n",
            "  \n"
          ]
        }
      ]
    },
    {
      "cell_type": "code",
      "metadata": {
        "colab": {
          "base_uri": "https://localhost:8080/"
        },
        "id": "dhOHVlLci6wg",
        "outputId": "8c33ff6b-00ab-4676-f4a8-306df6e06263"
      },
      "source": [
        "justeat_eng['average_review_n']=justeat_eng.average_review.str.findall(\"\\d+\\.\\d+\").str[0].astype('float64')"
      ],
      "execution_count": 3,
      "outputs": [
        {
          "output_type": "stream",
          "name": "stderr",
          "text": [
            "/usr/local/lib/python3.7/dist-packages/ipykernel_launcher.py:1: SettingWithCopyWarning: \n",
            "A value is trying to be set on a copy of a slice from a DataFrame.\n",
            "Try using .loc[row_indexer,col_indexer] = value instead\n",
            "\n",
            "See the caveats in the documentation: https://pandas.pydata.org/pandas-docs/stable/user_guide/indexing.html#returning-a-view-versus-a-copy\n",
            "  \"\"\"Entry point for launching an IPython kernel.\n"
          ]
        }
      ]
    },
    {
      "cell_type": "code",
      "metadata": {
        "colab": {
          "base_uri": "https://localhost:8080/"
        },
        "id": "99R5IzXui9g8",
        "outputId": "74876472-92a5-4f17-f74b-7ba5ad21f80e"
      },
      "source": [
        "# delete the records with NAs \n",
        "justeat_eng_na = justeat_eng.dropna()\n",
        "justeat_eng_na.shape"
      ],
      "execution_count": 4,
      "outputs": [
        {
          "output_type": "execute_result",
          "data": {
            "text/plain": [
              "(40316, 28)"
            ]
          },
          "metadata": {},
          "execution_count": 4
        }
      ]
    },
    {
      "cell_type": "code",
      "metadata": {
        "id": "nVtSobEijASO"
      },
      "source": [
        "# Train test split \n",
        "# Use train_test_split to split training data into training and test sets\n",
        "train_data_all, test_data_all, train_label_all, test_label_all = train_test_split(justeat_eng_na[[\"item_price_median\",'n_items','review','average_review_n','rest_name']],\n",
        "                                                                  justeat_eng_na['predict'],\n",
        "                                                                  test_size=0.1, # dedicate 10% of samples to test set\n",
        "                                                                  random_state=42) # random state for repr"
      ],
      "execution_count": 5,
      "outputs": []
    },
    {
      "cell_type": "code",
      "metadata": {
        "id": "IsjZEnk2jDlG"
      },
      "source": [
        "# Train validation Split \n",
        "X_train_hr_all, X_val_hr_all, y_train_hr_all, y_val_hr_all = train_test_split(train_data_all,train_label_all,test_size=0.1, random_state=42)"
      ],
      "execution_count": 6,
      "outputs": []
    },
    {
      "cell_type": "code",
      "metadata": {
        "id": "EUNj71DIjU27"
      },
      "source": [
        "from tensorflow.keras.layers import TextVectorization\n",
        "import tensorflow as tf\n",
        "\n",
        "# set up character level tokenization\n",
        "max_length_char = 25 # max length our sequences will be (e.g. how many characters from the restaurant name does our model see?)\n",
        "max_char_length = 50\n",
        "\n",
        "def char_split(input_data):\n",
        "  return(tf.strings.unicode_split(input_data,'UTF-8'))\n",
        "\n",
        "char_vectorizer = TextVectorization(max_tokens = max_char_length, \n",
        "                                    output_mode=\"int\",\n",
        "                                    split = char_split,\n",
        "                                    standardize =\"lower_and_strip_punctuation\",\n",
        "                                    output_sequence_length=max_length_char)"
      ],
      "execution_count": 7,
      "outputs": []
    },
    {
      "cell_type": "code",
      "metadata": {
        "colab": {
          "base_uri": "https://localhost:8080/"
        },
        "id": "5n7ATjmKjeDk",
        "outputId": "f10660d2-52ce-4c65-bccc-864bcdeeeee0"
      },
      "source": [
        "char_vectorizer.adapt(X_train_hr_all['rest_name'])\n",
        "\n",
        "X_train_hr_name_char_all = char_vectorizer(tf.convert_to_tensor(X_train_hr_all['rest_name'].values))\n",
        "print(X_train_hr_name_char_all.shape)\n",
        "\n",
        "X_val_hr_name_char_all = char_vectorizer(tf.convert_to_tensor(X_val_hr_all['rest_name'].values))\n",
        "print(X_val_hr_name_char_all.shape)"
      ],
      "execution_count": 8,
      "outputs": [
        {
          "output_type": "stream",
          "name": "stdout",
          "text": [
            "(32655, 25)\n",
            "(3629, 25)\n"
          ]
        }
      ]
    },
    {
      "cell_type": "code",
      "metadata": {
        "id": "tnnHC8lUju6C"
      },
      "source": [
        "X_numeric_train_all = X_train_hr_all[[\"item_price_median\",'n_items','review','average_review_n']].values \n",
        "X_numeric_val_all = X_val_hr_all[[\"item_price_median\",'n_items','review','average_review_n']].values "
      ],
      "execution_count": 9,
      "outputs": []
    },
    {
      "cell_type": "code",
      "metadata": {
        "colab": {
          "base_uri": "https://localhost:8080/"
        },
        "id": "3jYtLkploIYt",
        "outputId": "d1546c55-f49b-4959-daed-29a3e7eea849"
      },
      "source": [
        "X_numeric_train_all"
      ],
      "execution_count": null,
      "outputs": [
        {
          "output_type": "execute_result",
          "data": {
            "text/plain": [
              "array([[  4.5 , 142.  , 166.  ,   4.73],\n",
              "       [  2.25,  33.  ,  13.  ,   5.49],\n",
              "       [  5.  , 113.  , 585.  ,   5.15],\n",
              "       ...,\n",
              "       [  3.49,  57.  ,   9.  ,   4.33],\n",
              "       [  7.45, 130.  , 931.  ,   5.21],\n",
              "       [  4.6 , 124.  , 946.  ,   4.82]])"
            ]
          },
          "metadata": {},
          "execution_count": 48
        }
      ]
    },
    {
      "cell_type": "code",
      "metadata": {
        "id": "Sbb7pO6smMcz"
      },
      "source": [
        "from tensorflow.keras.layers import Normalization\n",
        "import numpy as np\n",
        "\n",
        "layer = tf.keras.layers.Normalization(axis=1)\n",
        "layer.adapt(X_numeric_train_all)\n",
        "X_numeric_input_train = layer(X_numeric_train_all)\n",
        "X_numeric_input_val = layer(X_numeric_val_all)"
      ],
      "execution_count": 10,
      "outputs": []
    },
    {
      "cell_type": "markdown",
      "metadata": {
        "id": "reJrD9Nag4dM"
      },
      "source": [
        "# Add new features"
      ]
    },
    {
      "cell_type": "code",
      "metadata": {
        "id": "3m9hjm3Cb_ar"
      },
      "source": [
        "from tensorflow.keras import layers\n",
        "\n",
        "nlp_input = tf.keras.Input(shape=(25,), name='nlp_input')\n",
        "#nlp_token = word_vectorizer(nlp_input)\n",
        "numeric_input = tf.keras.Input(shape=(4,), name='numeric_input')\n",
        "#hygiene_out = layers.Dense(64, activation = 'relu')(hygiene_input)\n",
        "#numeric_output = layers.Dense(64, activation='relu')(numeric_input)\n",
        "emb = layers.Embedding(output_dim=64, input_dim=max_char_length, input_length=max_length_char)(nlp_input)\n",
        "nlp_out = layers.GRU(64)(emb)\n",
        "x = tf.concat([nlp_out, numeric_input],1)\n",
        "x = layers.Dense(64, activation='relu')(x)\n",
        "x = layers.Dense(32, activation='relu')(x)\n",
        "x = layers.Dense(1)(x)\n",
        "model_10 = tf.keras.Model(inputs=[nlp_input , numeric_input], outputs=[x])"
      ],
      "execution_count": 11,
      "outputs": []
    },
    {
      "cell_type": "code",
      "metadata": {
        "id": "AquHTdxYkKvB"
      },
      "source": [
        "model_10.compile(loss=\"mean_absolute_error\",\n",
        "                optimizer=tf.keras.optimizers.Adam())"
      ],
      "execution_count": 12,
      "outputs": []
    },
    {
      "cell_type": "code",
      "metadata": {
        "colab": {
          "base_uri": "https://localhost:8080/",
          "height": 419
        },
        "id": "xyCY4ftAmuxG",
        "outputId": "a4e5134c-e10c-45e4-ea0c-aa171dd34556"
      },
      "source": [
        "X_train_hr_all[[\"item_price_median\",'n_items','review','average_review_n']]"
      ],
      "execution_count": 13,
      "outputs": [
        {
          "output_type": "execute_result",
          "data": {
            "text/html": [
              "\n",
              "  <div id=\"df-5f0d873c-0099-4610-b052-d7613664cfc2\">\n",
              "    <div class=\"colab-df-container\">\n",
              "      <div>\n",
              "<style scoped>\n",
              "    .dataframe tbody tr th:only-of-type {\n",
              "        vertical-align: middle;\n",
              "    }\n",
              "\n",
              "    .dataframe tbody tr th {\n",
              "        vertical-align: top;\n",
              "    }\n",
              "\n",
              "    .dataframe thead th {\n",
              "        text-align: right;\n",
              "    }\n",
              "</style>\n",
              "<table border=\"1\" class=\"dataframe\">\n",
              "  <thead>\n",
              "    <tr style=\"text-align: right;\">\n",
              "      <th></th>\n",
              "      <th>item_price_median</th>\n",
              "      <th>n_items</th>\n",
              "      <th>review</th>\n",
              "      <th>average_review_n</th>\n",
              "    </tr>\n",
              "  </thead>\n",
              "  <tbody>\n",
              "    <tr>\n",
              "      <th>6894</th>\n",
              "      <td>4.50</td>\n",
              "      <td>142</td>\n",
              "      <td>166.0</td>\n",
              "      <td>4.73</td>\n",
              "    </tr>\n",
              "    <tr>\n",
              "      <th>7283</th>\n",
              "      <td>2.25</td>\n",
              "      <td>33</td>\n",
              "      <td>13.0</td>\n",
              "      <td>5.49</td>\n",
              "    </tr>\n",
              "    <tr>\n",
              "      <th>9417</th>\n",
              "      <td>5.00</td>\n",
              "      <td>113</td>\n",
              "      <td>585.0</td>\n",
              "      <td>5.15</td>\n",
              "    </tr>\n",
              "    <tr>\n",
              "      <th>43865</th>\n",
              "      <td>4.99</td>\n",
              "      <td>72</td>\n",
              "      <td>85.0</td>\n",
              "      <td>4.22</td>\n",
              "    </tr>\n",
              "    <tr>\n",
              "      <th>27494</th>\n",
              "      <td>4.19</td>\n",
              "      <td>43</td>\n",
              "      <td>297.0</td>\n",
              "      <td>3.94</td>\n",
              "    </tr>\n",
              "    <tr>\n",
              "      <th>...</th>\n",
              "      <td>...</td>\n",
              "      <td>...</td>\n",
              "      <td>...</td>\n",
              "      <td>...</td>\n",
              "    </tr>\n",
              "    <tr>\n",
              "      <th>42489</th>\n",
              "      <td>6.10</td>\n",
              "      <td>220</td>\n",
              "      <td>997.0</td>\n",
              "      <td>5.33</td>\n",
              "    </tr>\n",
              "    <tr>\n",
              "      <th>35420</th>\n",
              "      <td>7.50</td>\n",
              "      <td>89</td>\n",
              "      <td>55.0</td>\n",
              "      <td>4.87</td>\n",
              "    </tr>\n",
              "    <tr>\n",
              "      <th>46543</th>\n",
              "      <td>3.49</td>\n",
              "      <td>57</td>\n",
              "      <td>9.0</td>\n",
              "      <td>4.33</td>\n",
              "    </tr>\n",
              "    <tr>\n",
              "      <th>11413</th>\n",
              "      <td>7.45</td>\n",
              "      <td>130</td>\n",
              "      <td>931.0</td>\n",
              "      <td>5.21</td>\n",
              "    </tr>\n",
              "    <tr>\n",
              "      <th>17881</th>\n",
              "      <td>4.60</td>\n",
              "      <td>124</td>\n",
              "      <td>946.0</td>\n",
              "      <td>4.82</td>\n",
              "    </tr>\n",
              "  </tbody>\n",
              "</table>\n",
              "<p>32655 rows × 4 columns</p>\n",
              "</div>\n",
              "      <button class=\"colab-df-convert\" onclick=\"convertToInteractive('df-5f0d873c-0099-4610-b052-d7613664cfc2')\"\n",
              "              title=\"Convert this dataframe to an interactive table.\"\n",
              "              style=\"display:none;\">\n",
              "        \n",
              "  <svg xmlns=\"http://www.w3.org/2000/svg\" height=\"24px\"viewBox=\"0 0 24 24\"\n",
              "       width=\"24px\">\n",
              "    <path d=\"M0 0h24v24H0V0z\" fill=\"none\"/>\n",
              "    <path d=\"M18.56 5.44l.94 2.06.94-2.06 2.06-.94-2.06-.94-.94-2.06-.94 2.06-2.06.94zm-11 1L8.5 8.5l.94-2.06 2.06-.94-2.06-.94L8.5 2.5l-.94 2.06-2.06.94zm10 10l.94 2.06.94-2.06 2.06-.94-2.06-.94-.94-2.06-.94 2.06-2.06.94z\"/><path d=\"M17.41 7.96l-1.37-1.37c-.4-.4-.92-.59-1.43-.59-.52 0-1.04.2-1.43.59L10.3 9.45l-7.72 7.72c-.78.78-.78 2.05 0 2.83L4 21.41c.39.39.9.59 1.41.59.51 0 1.02-.2 1.41-.59l7.78-7.78 2.81-2.81c.8-.78.8-2.07 0-2.86zM5.41 20L4 18.59l7.72-7.72 1.47 1.35L5.41 20z\"/>\n",
              "  </svg>\n",
              "      </button>\n",
              "      \n",
              "  <style>\n",
              "    .colab-df-container {\n",
              "      display:flex;\n",
              "      flex-wrap:wrap;\n",
              "      gap: 12px;\n",
              "    }\n",
              "\n",
              "    .colab-df-convert {\n",
              "      background-color: #E8F0FE;\n",
              "      border: none;\n",
              "      border-radius: 50%;\n",
              "      cursor: pointer;\n",
              "      display: none;\n",
              "      fill: #1967D2;\n",
              "      height: 32px;\n",
              "      padding: 0 0 0 0;\n",
              "      width: 32px;\n",
              "    }\n",
              "\n",
              "    .colab-df-convert:hover {\n",
              "      background-color: #E2EBFA;\n",
              "      box-shadow: 0px 1px 2px rgba(60, 64, 67, 0.3), 0px 1px 3px 1px rgba(60, 64, 67, 0.15);\n",
              "      fill: #174EA6;\n",
              "    }\n",
              "\n",
              "    [theme=dark] .colab-df-convert {\n",
              "      background-color: #3B4455;\n",
              "      fill: #D2E3FC;\n",
              "    }\n",
              "\n",
              "    [theme=dark] .colab-df-convert:hover {\n",
              "      background-color: #434B5C;\n",
              "      box-shadow: 0px 1px 3px 1px rgba(0, 0, 0, 0.15);\n",
              "      filter: drop-shadow(0px 1px 2px rgba(0, 0, 0, 0.3));\n",
              "      fill: #FFFFFF;\n",
              "    }\n",
              "  </style>\n",
              "\n",
              "      <script>\n",
              "        const buttonEl =\n",
              "          document.querySelector('#df-5f0d873c-0099-4610-b052-d7613664cfc2 button.colab-df-convert');\n",
              "        buttonEl.style.display =\n",
              "          google.colab.kernel.accessAllowed ? 'block' : 'none';\n",
              "\n",
              "        async function convertToInteractive(key) {\n",
              "          const element = document.querySelector('#df-5f0d873c-0099-4610-b052-d7613664cfc2');\n",
              "          const dataTable =\n",
              "            await google.colab.kernel.invokeFunction('convertToInteractive',\n",
              "                                                     [key], {});\n",
              "          if (!dataTable) return;\n",
              "\n",
              "          const docLinkHtml = 'Like what you see? Visit the ' +\n",
              "            '<a target=\"_blank\" href=https://colab.research.google.com/notebooks/data_table.ipynb>data table notebook</a>'\n",
              "            + ' to learn more about interactive tables.';\n",
              "          element.innerHTML = '';\n",
              "          dataTable['output_type'] = 'display_data';\n",
              "          await google.colab.output.renderOutput(dataTable, element);\n",
              "          const docLink = document.createElement('div');\n",
              "          docLink.innerHTML = docLinkHtml;\n",
              "          element.appendChild(docLink);\n",
              "        }\n",
              "      </script>\n",
              "    </div>\n",
              "  </div>\n",
              "  "
            ],
            "text/plain": [
              "       item_price_median  n_items  review  average_review_n\n",
              "6894                4.50      142   166.0              4.73\n",
              "7283                2.25       33    13.0              5.49\n",
              "9417                5.00      113   585.0              5.15\n",
              "43865               4.99       72    85.0              4.22\n",
              "27494               4.19       43   297.0              3.94\n",
              "...                  ...      ...     ...               ...\n",
              "42489               6.10      220   997.0              5.33\n",
              "35420               7.50       89    55.0              4.87\n",
              "46543               3.49       57     9.0              4.33\n",
              "11413               7.45      130   931.0              5.21\n",
              "17881               4.60      124   946.0              4.82\n",
              "\n",
              "[32655 rows x 4 columns]"
            ]
          },
          "metadata": {},
          "execution_count": 13
        }
      ]
    },
    {
      "cell_type": "code",
      "metadata": {
        "colab": {
          "base_uri": "https://localhost:8080/"
        },
        "id": "zT3ht7m8kZBu",
        "outputId": "66ce8056-7271-4c62-f897-887332f32bb6"
      },
      "source": [
        "model_10_history = model_10.fit([X_train_hr_name_char_all,X_numeric_input_train],y_train_hr_all, epochs=25,\n",
        "                                validation_data = ([X_val_hr_name_char_all,X_numeric_input_val], y_val_hr_all))"
      ],
      "execution_count": 14,
      "outputs": [
        {
          "output_type": "stream",
          "name": "stdout",
          "text": [
            "Epoch 1/25\n",
            "1021/1021 [==============================] - 20s 12ms/step - loss: 1.1194 - val_loss: 0.9423\n",
            "Epoch 2/25\n",
            "1021/1021 [==============================] - 10s 10ms/step - loss: 0.9496 - val_loss: 0.9353\n",
            "Epoch 3/25\n",
            "1021/1021 [==============================] - 10s 10ms/step - loss: 0.9158 - val_loss: 0.8948\n",
            "Epoch 4/25\n",
            "1021/1021 [==============================] - 10s 10ms/step - loss: 0.8901 - val_loss: 0.8813\n",
            "Epoch 5/25\n",
            "1021/1021 [==============================] - 10s 10ms/step - loss: 0.8667 - val_loss: 0.8454\n",
            "Epoch 6/25\n",
            "1021/1021 [==============================] - 10s 10ms/step - loss: 0.8512 - val_loss: 0.8355\n",
            "Epoch 7/25\n",
            "1021/1021 [==============================] - 11s 11ms/step - loss: 0.8314 - val_loss: 0.8270\n",
            "Epoch 8/25\n",
            "1021/1021 [==============================] - 10s 10ms/step - loss: 0.8106 - val_loss: 0.8170\n",
            "Epoch 9/25\n",
            "1021/1021 [==============================] - 10s 10ms/step - loss: 0.7900 - val_loss: 0.8188\n",
            "Epoch 10/25\n",
            "1021/1021 [==============================] - 10s 10ms/step - loss: 0.7770 - val_loss: 0.7975\n",
            "Epoch 11/25\n",
            "1021/1021 [==============================] - 10s 10ms/step - loss: 0.7650 - val_loss: 0.7741\n",
            "Epoch 12/25\n",
            "1021/1021 [==============================] - 10s 10ms/step - loss: 0.7497 - val_loss: 0.7678\n",
            "Epoch 13/25\n",
            "1021/1021 [==============================] - 10s 10ms/step - loss: 0.7402 - val_loss: 0.7617\n",
            "Epoch 14/25\n",
            "1021/1021 [==============================] - 10s 10ms/step - loss: 0.7300 - val_loss: 0.7500\n",
            "Epoch 15/25\n",
            "1021/1021 [==============================] - 10s 10ms/step - loss: 0.7227 - val_loss: 0.7576\n",
            "Epoch 16/25\n",
            "1021/1021 [==============================] - 10s 10ms/step - loss: 0.7165 - val_loss: 0.7570\n",
            "Epoch 17/25\n",
            "1021/1021 [==============================] - 10s 10ms/step - loss: 0.7030 - val_loss: 0.7418\n",
            "Epoch 18/25\n",
            "1021/1021 [==============================] - 10s 10ms/step - loss: 0.6969 - val_loss: 0.7390\n",
            "Epoch 19/25\n",
            "1021/1021 [==============================] - 10s 10ms/step - loss: 0.6894 - val_loss: 0.7495\n",
            "Epoch 20/25\n",
            "1021/1021 [==============================] - 10s 10ms/step - loss: 0.6803 - val_loss: 0.7387\n",
            "Epoch 21/25\n",
            "1021/1021 [==============================] - 10s 10ms/step - loss: 0.6759 - val_loss: 0.7376\n",
            "Epoch 22/25\n",
            "1021/1021 [==============================] - 10s 10ms/step - loss: 0.6675 - val_loss: 0.7423\n",
            "Epoch 23/25\n",
            "1021/1021 [==============================] - 10s 10ms/step - loss: 0.6624 - val_loss: 0.7422\n",
            "Epoch 24/25\n",
            "1021/1021 [==============================] - 10s 10ms/step - loss: 0.6519 - val_loss: 0.7403\n",
            "Epoch 25/25\n",
            "1021/1021 [==============================] - 10s 10ms/step - loss: 0.6451 - val_loss: 0.7326\n"
          ]
        }
      ]
    },
    {
      "cell_type": "code",
      "metadata": {
        "colab": {
          "base_uri": "https://localhost:8080/",
          "height": 279
        },
        "id": "QevQslb0ujOg",
        "outputId": "01bf38ff-385b-4c73-cb34-3a4ee734d085"
      },
      "source": [
        "# plot the loss \n",
        "import matplotlib.pyplot as plt\n",
        "def plot_loss(history):\n",
        "  plt.plot(history.history['loss'], label='loss')\n",
        "  plt.plot(history.history['val_loss'], label='val_loss')\n",
        "  plt.xlabel('Epoch')\n",
        "  plt.ylabel('Error [Menu Healthiness]')\n",
        "  plt.legend()\n",
        "  plt.grid(True)\n",
        "\n",
        "plot_loss(model_10_history)"
      ],
      "execution_count": 15,
      "outputs": [
        {
          "output_type": "display_data",
          "data": {
            "image/png": "[encoded data removed]",
            "text/plain": [
              "<Figure size 432x288 with 1 Axes>"
            ]
          },
          "metadata": {
            "needs_background": "light"
          }
        }
      ]
    },
    {
      "cell_type": "markdown",
      "metadata": {
        "id": "W92L0lMnsk3N"
      },
      "source": [
        "# With only restaurant name and food hyginene, character level\n",
        "\n",
        "Normalize the data before feeding into the neural networks (Model 8, but normalize the hygiene rating first)"
      ]
    },
    {
      "cell_type": "code",
      "metadata": {
        "id": "a8WvM9Cgsrq2"
      },
      "source": [
        "# Train test split \n",
        "\n",
        "# Use train_test_split to split training data into training and test sets\n",
        "train_data, test_data, train_label, test_label = train_test_split(justeat_eng[[\"rest_name\",'hg_rating']],\n",
        "                                                                            justeat_eng[\"predict\"],\n",
        "                                                                            test_size=0.1, # dedicate 10% of samples to test set\n",
        "                                                                            random_state=42) # random state for reproducibility"
      ],
      "execution_count": null,
      "outputs": []
    },
    {
      "cell_type": "code",
      "metadata": {
        "id": "66Ww2yuYt8Cl"
      },
      "source": [
        "# Train validation Split \n",
        "X_train_hr, X_val_hr, y_train_hr, y_val_hr = train_test_split(train_data,train_label,test_size=0.1, random_state=42)"
      ],
      "execution_count": null,
      "outputs": []
    },
    {
      "cell_type": "code",
      "metadata": {
        "id": "yqPRjRiOwQoR"
      },
      "source": [
        "from tensorflow.keras.layers import TextVectorization\n",
        "import tensorflow as tf\n",
        "\n",
        "# set up character level tokenization\n",
        "max_length_char = 25 # max length our sequences will be (e.g. how many characters from the restaurant name does our model see?)\n",
        "max_char_length = 50\n",
        "\n",
        "def char_split(input_data):\n",
        "  return(tf.strings.unicode_split(input_data,'UTF-8'))\n",
        "\n",
        "char_vectorizer = TextVectorization(max_tokens = max_char_length, \n",
        "                                    output_mode=\"int\",\n",
        "                                    split = char_split,\n",
        "                                    standardize =\"lower_and_strip_punctuation\",\n",
        "                                    output_sequence_length=max_length_char)"
      ],
      "execution_count": null,
      "outputs": []
    },
    {
      "cell_type": "code",
      "metadata": {
        "colab": {
          "base_uri": "https://localhost:8080/"
        },
        "id": "7y_9UE59wX86",
        "outputId": "f2571900-32ab-47fb-938c-bb8bcf4ec511"
      },
      "source": [
        "char_vectorizer.adapt(X_train_hr['rest_name'])\n",
        "\n",
        "X_train_hr_name_char = char_vectorizer(tf.convert_to_tensor(X_train_hr['rest_name'].values))\n",
        "print(X_train_hr_name_char.shape)\n",
        "\n",
        "X_val_hr_name_char = char_vectorizer(tf.convert_to_tensor(X_val_hr['rest_name'].values))\n",
        "print(X_val_hr_name_char.shape)"
      ],
      "execution_count": null,
      "outputs": [
        {
          "output_type": "stream",
          "name": "stdout",
          "text": [
            "(34634, 25)\n",
            "(3849, 25)\n"
          ]
        }
      ]
    },
    {
      "cell_type": "code",
      "metadata": {
        "id": "Hhxp2zGCt-Z4"
      },
      "source": [
        "#import tensorflow as tf\n",
        "#from tensorflow.keras import layers\n",
        "nlp_input = tf.keras.Input(shape=(25,), name='nlp_input')\n",
        "#nlp_token = word_vectorizer(nlp_input)\n",
        "hygiene_input = tf.keras.Input(shape=(1,), name='hygiene_input')\n",
        "#hygiene_out = layers.Dense(64, activation = 'relu')(hygiene_input)\n",
        "emb = layers.Embedding(output_dim=64, input_dim=max_char_length, input_length=max_length_char)(nlp_input)\n",
        "nlp_out = layers.GRU(64)(emb)\n",
        "x = tf.concat([nlp_out, hygiene_input],1)\n",
        "x = layers.Dense(64, activation='relu')(x)\n",
        "x = layers.Dense(1)(x)\n",
        "model_8 = tf.keras.Model(inputs=[nlp_input , hygiene_input], outputs=[x])"
      ],
      "execution_count": null,
      "outputs": []
    },
    {
      "cell_type": "code",
      "metadata": {
        "id": "ndNZ4Ku8u7Zf"
      },
      "source": [
        "from tensorflow.keras.layers import Normalization\n",
        "import numpy as np\n",
        "\n",
        "layer_hr = tf.keras.layers.Normalization(axis=None)\n",
        "layer_hr.adapt(X_train_hr['hg_rating'].values)\n",
        "X_numeric_input_train_hr = layer_hr(X_train_hr['hg_rating'].values)\n",
        "X_numeric_input_val_hr = layer_hr(X_val_hr['hg_rating'].values)"
      ],
      "execution_count": null,
      "outputs": []
    },
    {
      "cell_type": "code",
      "metadata": {
        "colab": {
          "base_uri": "https://localhost:8080/"
        },
        "id": "oGVQ4aZfvUlv",
        "outputId": "9d8e87be-6930-4014-eacb-a519ec2a43ba"
      },
      "source": [
        "model_8.compile(loss=\"mean_absolute_error\",\n",
        "                optimizer=tf.keras.optimizers.Adam())\n",
        "\n",
        "model_8.summary()"
      ],
      "execution_count": null,
      "outputs": [
        {
          "output_type": "stream",
          "name": "stdout",
          "text": [
            "Model: \"model_4\"\n",
            "__________________________________________________________________________________________________\n",
            " Layer (type)                   Output Shape         Param #     Connected to                     \n",
            "==================================================================================================\n",
            " nlp_input (InputLayer)         [(None, 25)]         0           []                               \n",
            "                                                                                                  \n",
            " embedding_4 (Embedding)        (None, 25, 64)       3200        ['nlp_input[0][0]']              \n",
            "                                                                                                  \n",
            " gru_4 (GRU)                    (None, 64)           24960       ['embedding_4[0][0]']            \n",
            "                                                                                                  \n",
            " hygiene_input (InputLayer)     [(None, 1)]          0           []                               \n",
            "                                                                                                  \n",
            " tf.concat_4 (TFOpLambda)       (None, 65)           0           ['gru_4[0][0]',                  \n",
            "                                                                  'hygiene_input[0][0]']          \n",
            "                                                                                                  \n",
            " dense_10 (Dense)               (None, 64)           4224        ['tf.concat_4[0][0]']            \n",
            "                                                                                                  \n",
            " dense_11 (Dense)               (None, 1)            65          ['dense_10[0][0]']               \n",
            "                                                                                                  \n",
            "==================================================================================================\n",
            "Total params: 32,449\n",
            "Trainable params: 32,449\n",
            "Non-trainable params: 0\n",
            "__________________________________________________________________________________________________\n"
          ]
        }
      ]
    },
    {
      "cell_type": "code",
      "metadata": {
        "colab": {
          "base_uri": "https://localhost:8080/"
        },
        "id": "YPIr3y8LvkXp",
        "outputId": "160e0996-bfa8-49f1-a2d1-64b36cfb8516"
      },
      "source": [
        "model_8_history = model_8.fit([X_train_hr_name_char,X_numeric_input_train_hr], y_train_hr, epochs=30,\n",
        "                              validation_data = ([X_val_hr_name_char,X_numeric_input_val_hr], y_val_hr))"
      ],
      "execution_count": null,
      "outputs": [
        {
          "output_type": "stream",
          "name": "stdout",
          "text": [
            "Epoch 1/30\n",
            "1083/1083 [==============================] - 13s 10ms/step - loss: 0.8356 - val_loss: 0.8655\n",
            "Epoch 2/30\n",
            "1083/1083 [==============================] - 11s 10ms/step - loss: 0.8212 - val_loss: 0.8310\n",
            "Epoch 3/30\n",
            "1083/1083 [==============================] - 11s 10ms/step - loss: 0.8106 - val_loss: 0.8307\n",
            "Epoch 4/30\n",
            "1083/1083 [==============================] - 11s 10ms/step - loss: 0.7985 - val_loss: 0.8275\n",
            "Epoch 5/30\n",
            "1083/1083 [==============================] - 11s 10ms/step - loss: 0.7904 - val_loss: 0.8181\n",
            "Epoch 6/30\n",
            "1083/1083 [==============================] - 11s 10ms/step - loss: 0.7838 - val_loss: 0.8102\n",
            "Epoch 7/30\n",
            "1083/1083 [==============================] - 11s 10ms/step - loss: 0.7754 - val_loss: 0.8093\n",
            "Epoch 8/30\n",
            "1083/1083 [==============================] - 11s 10ms/step - loss: 0.7666 - val_loss: 0.8042\n",
            "Epoch 9/30\n",
            "1083/1083 [==============================] - 11s 10ms/step - loss: 0.7572 - val_loss: 0.7978\n",
            "Epoch 10/30\n",
            "1083/1083 [==============================] - 11s 10ms/step - loss: 0.7501 - val_loss: 0.7962\n",
            "Epoch 11/30\n",
            "1083/1083 [==============================] - 11s 10ms/step - loss: 0.7424 - val_loss: 0.8043\n",
            "Epoch 12/30\n",
            "1083/1083 [==============================] - 11s 10ms/step - loss: 0.7361 - val_loss: 0.7945\n",
            "Epoch 13/30\n",
            "1083/1083 [==============================] - 11s 10ms/step - loss: 0.7299 - val_loss: 0.8030\n",
            "Epoch 14/30\n",
            "1083/1083 [==============================] - 11s 10ms/step - loss: 0.7213 - val_loss: 0.7959\n",
            "Epoch 15/30\n",
            "1083/1083 [==============================] - 11s 10ms/step - loss: 0.7119 - val_loss: 0.7960\n",
            "Epoch 16/30\n",
            "1083/1083 [==============================] - 10s 10ms/step - loss: 0.7078 - val_loss: 0.8023\n",
            "Epoch 17/30\n",
            "1083/1083 [==============================] - 11s 10ms/step - loss: 0.6993 - val_loss: 0.7942\n",
            "Epoch 18/30\n",
            "1083/1083 [==============================] - 11s 10ms/step - loss: 0.6915 - val_loss: 0.7982\n",
            "Epoch 19/30\n",
            "1083/1083 [==============================] - 11s 10ms/step - loss: 0.6861 - val_loss: 0.7945\n",
            "Epoch 20/30\n",
            "1083/1083 [==============================] - 11s 10ms/step - loss: 0.6799 - val_loss: 0.7906\n",
            "Epoch 21/30\n",
            "1083/1083 [==============================] - 11s 10ms/step - loss: 0.6748 - val_loss: 0.7980\n",
            "Epoch 22/30\n",
            "1083/1083 [==============================] - 11s 10ms/step - loss: 0.6665 - val_loss: 0.7931\n",
            "Epoch 23/30\n",
            "1083/1083 [==============================] - 10s 10ms/step - loss: 0.6604 - val_loss: 0.8162\n",
            "Epoch 24/30\n",
            "1083/1083 [==============================] - 11s 10ms/step - loss: 0.6552 - val_loss: 0.7930\n",
            "Epoch 25/30\n",
            "1083/1083 [==============================] - 11s 10ms/step - loss: 0.6492 - val_loss: 0.8174\n",
            "Epoch 26/30\n",
            "1083/1083 [==============================] - 11s 10ms/step - loss: 0.6440 - val_loss: 0.7967\n",
            "Epoch 27/30\n",
            "1083/1083 [==============================] - 11s 10ms/step - loss: 0.6389 - val_loss: 0.7982\n",
            "Epoch 28/30\n",
            "1083/1083 [==============================] - 11s 10ms/step - loss: 0.6357 - val_loss: 0.8021\n",
            "Epoch 29/30\n",
            "1083/1083 [==============================] - 11s 10ms/step - loss: 0.6291 - val_loss: 0.8093\n",
            "Epoch 30/30\n",
            "1083/1083 [==============================] - 11s 10ms/step - loss: 0.6232 - val_loss: 0.7969\n"
          ]
        }
      ]
    },
    {
      "cell_type": "code",
      "metadata": {
        "id": "FOGiV9YKzJ3v",
        "colab": {
          "base_uri": "https://localhost:8080/",
          "height": 279
        },
        "outputId": "dc8b86ee-4b9a-4303-fc6c-0d9b79fc46fd"
      },
      "source": [
        "plot_loss(model_8_history)"
      ],
      "execution_count": null,
      "outputs": [
        {
          "output_type": "display_data",
          "data": {
            "image/png": "[encoded data removed]",
            "text/plain": [
              "<Figure size 432x288 with 1 Axes>"
            ]
          },
          "metadata": {
            "needs_background": "light"
          }
        }
      ]
    }
  ]
}