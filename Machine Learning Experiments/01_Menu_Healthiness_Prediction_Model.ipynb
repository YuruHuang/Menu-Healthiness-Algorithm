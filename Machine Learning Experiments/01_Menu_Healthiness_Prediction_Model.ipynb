{
  "nbformat": 4,
  "nbformat_minor": 0,
  "metadata": {
    "accelerator": "GPU",
    "colab": {
      "name": "01_Menu_Healthiness_Prediction_Model.ipynb",
      "provenance": [],
      "toc_visible": true,
      "mount_file_id": "1VN6KqJEnV831xoLFITBsK_CHvCZGEN-A",
      "authorship_tag": "ABX9TyMpOVqAgCyTsribUm+sTAW4",
      "include_colab_link": true
    },
    "kernelspec": {
      "display_name": "Python 3",
      "name": "python3"
    },
    "language_info": {
      "name": "python"
    }
  },
  "cells": [
    {
      "cell_type": "markdown",
      "metadata": {
        "id": "view-in-github",
        "colab_type": "text"
      },
      "source": [
        "<a href=\"https://colab.research.google.com/github/YuruHuang/deep-learning-menu-healthiness/blob/main/01_Menu_Healthiness_Prediction_Model.ipynb\" target=\"_parent\"><img src=\"https://colab.research.google.com/assets/colab-badge.svg\" alt=\"Open In Colab\"/></a>"
      ]
    },
    {
      "cell_type": "markdown",
      "metadata": {
        "id": "g9miH-9Eh961"
      },
      "source": [
        "This is a notebook for developing menu healthiness prediction models. In this notebook, I will conduct the following experiments👩🏻‍🍳, using `rest_name` only!\n",
        "\n",
        "* **Model 0** (Machine Learning Model): Baseline model with only `rest_name` (Support Vector Regression, tf-idf)\n",
        "* **Model 1** (Deep Learning Model): LSTM model with word level tokenization \n",
        "* **Model 2** (Deep Learning Model): LSTM model with character level tokenization \n",
        "* **Model 3** (Deep Learning Model): GRU model with word level tokenization \n",
        "* **Model 4** (Deep Learning Model): GRU model with character level tokenization \n",
        "* **Model 5** (Deep Learning Model): CNN model with word level tokenization \n",
        "* **Model 6** (Deep Learning Model): GRU model with word level tokenization, added food hygiene rating\n",
        "* **Model 7** (Deep Learning Model): GRU model with character level tokenization, added food hygiene rating \n",
        "* **Model 8** (Deep Learning Model): GRU model with character level tokenization, added food hygiene rating, and changed the activation function\n",
        "\n",
        "\n"
      ]
    },
    {
      "cell_type": "markdown",
      "metadata": {
        "id": "otznk2pOvKnd"
      },
      "source": [
        "## Data Preprocessing "
      ]
    },
    {
      "cell_type": "code",
      "metadata": {
        "colab": {
          "base_uri": "https://localhost:8080/",
          "height": 511
        },
        "id": "SMs-0ol4h4vl",
        "outputId": "93bfebdc-3cf1-4e7b-f27c-01440e2d5324"
      },
      "source": [
        "import pandas as pd\n",
        "from sklearn.model_selection import train_test_split\n",
        "justeat_menu = pd.read_csv('JustEat_extracted_211021.csv')\n",
        "justeat_menu.head()"
      ],
      "execution_count": null,
      "outputs": [
        {
          "output_type": "execute_result",
          "data": {
            "text/html": [
              "\n",
              "  <div id=\"df-997e8ab2-474c-419f-8f7a-9670ac239e48\">\n",
              "    <div class=\"colab-df-container\">\n",
              "      <div>\n",
              "<style scoped>\n",
              "    .dataframe tbody tr th:only-of-type {\n",
              "        vertical-align: middle;\n",
              "    }\n",
              "\n",
              "    .dataframe tbody tr th {\n",
              "        vertical-align: top;\n",
              "    }\n",
              "\n",
              "    .dataframe thead th {\n",
              "        text-align: right;\n",
              "    }\n",
              "</style>\n",
              "<table border=\"1\" class=\"dataframe\">\n",
              "  <thead>\n",
              "    <tr style=\"text-align: right;\">\n",
              "      <th></th>\n",
              "      <th>Restaurant ID</th>\n",
              "      <th>Desserts</th>\n",
              "      <th>Vegetables</th>\n",
              "      <th>Salads</th>\n",
              "      <th>Chips</th>\n",
              "      <th>Water</th>\n",
              "      <th>Milk</th>\n",
              "      <th>Special Offers</th>\n",
              "      <th>rest_name</th>\n",
              "      <th>n_reviews</th>\n",
              "      <th>average_review</th>\n",
              "      <th>item_price_mean</th>\n",
              "      <th>item_price_median</th>\n",
              "      <th>n_items</th>\n",
              "      <th>url</th>\n",
              "      <th>cuisine</th>\n",
              "      <th>address</th>\n",
              "      <th>postcode</th>\n",
              "      <th>postcode_district</th>\n",
              "      <th>specialOffers</th>\n",
              "      <th>chips</th>\n",
              "      <th>salads</th>\n",
              "      <th>predict</th>\n",
              "      <th>rating2</th>\n",
              "      <th>review</th>\n",
              "    </tr>\n",
              "  </thead>\n",
              "  <tbody>\n",
              "    <tr>\n",
              "      <th>0</th>\n",
              "      <td>80603</td>\n",
              "      <td>0</td>\n",
              "      <td>5</td>\n",
              "      <td>2</td>\n",
              "      <td>11</td>\n",
              "      <td>1</td>\n",
              "      <td>0</td>\n",
              "      <td>5</td>\n",
              "      <td>Pasha Kebabs &amp; Pizzas</td>\n",
              "      <td>View 551 reviews</td>\n",
              "      <td>5.06 stars out of 6.</td>\n",
              "      <td>6.037634</td>\n",
              "      <td>7.000</td>\n",
              "      <td>93</td>\n",
              "      <td>URL</td>\n",
              "      <td>Kebab,Pizza,Halal</td>\n",
              "      <td>25 Windmill Brae, Aberdeen, AB11 6HU</td>\n",
              "      <td>AB11 6HU</td>\n",
              "      <td>AB11</td>\n",
              "      <td>5</td>\n",
              "      <td>11</td>\n",
              "      <td>2</td>\n",
              "      <td>5.504342</td>\n",
              "      <td>1</td>\n",
              "      <td>551.0</td>\n",
              "    </tr>\n",
              "    <tr>\n",
              "      <th>1</th>\n",
              "      <td>71703</td>\n",
              "      <td>7</td>\n",
              "      <td>10</td>\n",
              "      <td>2</td>\n",
              "      <td>14</td>\n",
              "      <td>0</td>\n",
              "      <td>0</td>\n",
              "      <td>4</td>\n",
              "      <td>Paco's Tacos</td>\n",
              "      <td>View 2314 reviews</td>\n",
              "      <td>4.65 stars out of 6.</td>\n",
              "      <td>5.431358</td>\n",
              "      <td>4.450</td>\n",
              "      <td>162</td>\n",
              "      <td>URL</td>\n",
              "      <td>Mexican,American</td>\n",
              "      <td>42-44 Market Street, Aberdeenshire, AB11 5PL</td>\n",
              "      <td>AB11 5PL</td>\n",
              "      <td>AB11</td>\n",
              "      <td>4</td>\n",
              "      <td>14</td>\n",
              "      <td>2</td>\n",
              "      <td>5.010865</td>\n",
              "      <td>0</td>\n",
              "      <td>2314.0</td>\n",
              "    </tr>\n",
              "    <tr>\n",
              "      <th>2</th>\n",
              "      <td>6885</td>\n",
              "      <td>0</td>\n",
              "      <td>16</td>\n",
              "      <td>12</td>\n",
              "      <td>1</td>\n",
              "      <td>0</td>\n",
              "      <td>0</td>\n",
              "      <td>2</td>\n",
              "      <td>Dil Se</td>\n",
              "      <td>View 1392 reviews</td>\n",
              "      <td>5.19 stars out of 6.</td>\n",
              "      <td>7.473418</td>\n",
              "      <td>8.225</td>\n",
              "      <td>158</td>\n",
              "      <td>URL</td>\n",
              "      <td>Indian,Curry</td>\n",
              "      <td>Unit 8, The Green Berrymuir Road, Portlethen, ...</td>\n",
              "      <td>AB12 4UN</td>\n",
              "      <td>AB12</td>\n",
              "      <td>2</td>\n",
              "      <td>1</td>\n",
              "      <td>12</td>\n",
              "      <td>9.355489</td>\n",
              "      <td>4</td>\n",
              "      <td>1392.0</td>\n",
              "    </tr>\n",
              "    <tr>\n",
              "      <th>3</th>\n",
              "      <td>122605</td>\n",
              "      <td>5</td>\n",
              "      <td>10</td>\n",
              "      <td>6</td>\n",
              "      <td>44</td>\n",
              "      <td>0</td>\n",
              "      <td>0</td>\n",
              "      <td>1</td>\n",
              "      <td>Mannofield Pizza Grill and Kebab</td>\n",
              "      <td>View 386 reviews</td>\n",
              "      <td>5.16 stars out of 6.</td>\n",
              "      <td>8.069737</td>\n",
              "      <td>7.700</td>\n",
              "      <td>152</td>\n",
              "      <td>URL</td>\n",
              "      <td>Pizza,Kebab</td>\n",
              "      <td>483a Great Western Road, Aberdeen, AB10 6NN</td>\n",
              "      <td>AB10 6NN</td>\n",
              "      <td>AB10</td>\n",
              "      <td>1</td>\n",
              "      <td>15</td>\n",
              "      <td>6</td>\n",
              "      <td>5.642945</td>\n",
              "      <td>1</td>\n",
              "      <td>386.0</td>\n",
              "    </tr>\n",
              "    <tr>\n",
              "      <th>4</th>\n",
              "      <td>44832</td>\n",
              "      <td>0</td>\n",
              "      <td>16</td>\n",
              "      <td>2</td>\n",
              "      <td>1</td>\n",
              "      <td>0</td>\n",
              "      <td>0</td>\n",
              "      <td>2</td>\n",
              "      <td>Lasan Healthy Indian Brasserie</td>\n",
              "      <td>View 595 reviews</td>\n",
              "      <td>5.04 stars out of 6.</td>\n",
              "      <td>6.877143</td>\n",
              "      <td>4.500</td>\n",
              "      <td>105</td>\n",
              "      <td>URL</td>\n",
              "      <td>Indian,Healthy</td>\n",
              "      <td>Unit 2 Westhill Drive, Westhill, Aberdeenshire...</td>\n",
              "      <td>AB32 6FS</td>\n",
              "      <td>AB32</td>\n",
              "      <td>2</td>\n",
              "      <td>1</td>\n",
              "      <td>2</td>\n",
              "      <td>8.357649</td>\n",
              "      <td>3</td>\n",
              "      <td>595.0</td>\n",
              "    </tr>\n",
              "  </tbody>\n",
              "</table>\n",
              "</div>\n",
              "      <button class=\"colab-df-convert\" onclick=\"convertToInteractive('df-997e8ab2-474c-419f-8f7a-9670ac239e48')\"\n",
              "              title=\"Convert this dataframe to an interactive table.\"\n",
              "              style=\"display:none;\">\n",
              "        \n",
              "  <svg xmlns=\"http://www.w3.org/2000/svg\" height=\"24px\"viewBox=\"0 0 24 24\"\n",
              "       width=\"24px\">\n",
              "    <path d=\"M0 0h24v24H0V0z\" fill=\"none\"/>\n",
              "    <path d=\"M18.56 5.44l.94 2.06.94-2.06 2.06-.94-2.06-.94-.94-2.06-.94 2.06-2.06.94zm-11 1L8.5 8.5l.94-2.06 2.06-.94-2.06-.94L8.5 2.5l-.94 2.06-2.06.94zm10 10l.94 2.06.94-2.06 2.06-.94-2.06-.94-.94-2.06-.94 2.06-2.06.94z\"/><path d=\"M17.41 7.96l-1.37-1.37c-.4-.4-.92-.59-1.43-.59-.52 0-1.04.2-1.43.59L10.3 9.45l-7.72 7.72c-.78.78-.78 2.05 0 2.83L4 21.41c.39.39.9.59 1.41.59.51 0 1.02-.2 1.41-.59l7.78-7.78 2.81-2.81c.8-.78.8-2.07 0-2.86zM5.41 20L4 18.59l7.72-7.72 1.47 1.35L5.41 20z\"/>\n",
              "  </svg>\n",
              "      </button>\n",
              "      \n",
              "  <style>\n",
              "    .colab-df-container {\n",
              "      display:flex;\n",
              "      flex-wrap:wrap;\n",
              "      gap: 12px;\n",
              "    }\n",
              "\n",
              "    .colab-df-convert {\n",
              "      background-color: #E8F0FE;\n",
              "      border: none;\n",
              "      border-radius: 50%;\n",
              "      cursor: pointer;\n",
              "      display: none;\n",
              "      fill: #1967D2;\n",
              "      height: 32px;\n",
              "      padding: 0 0 0 0;\n",
              "      width: 32px;\n",
              "    }\n",
              "\n",
              "    .colab-df-convert:hover {\n",
              "      background-color: #E2EBFA;\n",
              "      box-shadow: 0px 1px 2px rgba(60, 64, 67, 0.3), 0px 1px 3px 1px rgba(60, 64, 67, 0.15);\n",
              "      fill: #174EA6;\n",
              "    }\n",
              "\n",
              "    [theme=dark] .colab-df-convert {\n",
              "      background-color: #3B4455;\n",
              "      fill: #D2E3FC;\n",
              "    }\n",
              "\n",
              "    [theme=dark] .colab-df-convert:hover {\n",
              "      background-color: #434B5C;\n",
              "      box-shadow: 0px 1px 3px 1px rgba(0, 0, 0, 0.15);\n",
              "      filter: drop-shadow(0px 1px 2px rgba(0, 0, 0, 0.3));\n",
              "      fill: #FFFFFF;\n",
              "    }\n",
              "  </style>\n",
              "\n",
              "      <script>\n",
              "        const buttonEl =\n",
              "          document.querySelector('#df-997e8ab2-474c-419f-8f7a-9670ac239e48 button.colab-df-convert');\n",
              "        buttonEl.style.display =\n",
              "          google.colab.kernel.accessAllowed ? 'block' : 'none';\n",
              "\n",
              "        async function convertToInteractive(key) {\n",
              "          const element = document.querySelector('#df-997e8ab2-474c-419f-8f7a-9670ac239e48');\n",
              "          const dataTable =\n",
              "            await google.colab.kernel.invokeFunction('convertToInteractive',\n",
              "                                                     [key], {});\n",
              "          if (!dataTable) return;\n",
              "\n",
              "          const docLinkHtml = 'Like what you see? Visit the ' +\n",
              "            '<a target=\"_blank\" href=https://colab.research.google.com/notebooks/data_table.ipynb>data table notebook</a>'\n",
              "            + ' to learn more about interactive tables.';\n",
              "          element.innerHTML = '';\n",
              "          dataTable['output_type'] = 'display_data';\n",
              "          await google.colab.output.renderOutput(dataTable, element);\n",
              "          const docLink = document.createElement('div');\n",
              "          docLink.innerHTML = docLinkHtml;\n",
              "          element.appendChild(docLink);\n",
              "        }\n",
              "      </script>\n",
              "    </div>\n",
              "  </div>\n",
              "  "
            ],
            "text/plain": [
              "   Restaurant ID  Desserts  Vegetables  ...   predict  rating2  review\n",
              "0          80603         0           5  ...  5.504342        1   551.0\n",
              "1          71703         7          10  ...  5.010865        0  2314.0\n",
              "2           6885         0          16  ...  9.355489        4  1392.0\n",
              "3         122605         5          10  ...  5.642945        1   386.0\n",
              "4          44832         0          16  ...  8.357649        3   595.0\n",
              "\n",
              "[5 rows x 25 columns]"
            ]
          },
          "metadata": {},
          "execution_count": 1
        }
      ]
    },
    {
      "cell_type": "code",
      "metadata": {
        "id": "XLU0W3ffvbsl"
      },
      "source": [
        "# train,test split (names only) 10% test set \n",
        "X_train, X_test, y_train, y_test = train_test_split(justeat_menu['rest_name'].str.lower(), justeat_menu['predict'], test_size=0.1, random_state=42)"
      ],
      "execution_count": null,
      "outputs": []
    },
    {
      "cell_type": "code",
      "metadata": {
        "colab": {
          "base_uri": "https://localhost:8080/"
        },
        "id": "alJ5TXXsxTZ_",
        "outputId": "2ca5103b-1ad8-43ea-9fef-5d1868e18eb3"
      },
      "source": [
        "X_train.shape, X_test.shape, y_train.shape, y_test.shape"
      ],
      "execution_count": null,
      "outputs": [
        {
          "output_type": "execute_result",
          "data": {
            "text/plain": [
              "((49117,), (5458,), (49117,), (5458,))"
            ]
          },
          "metadata": {},
          "execution_count": 3
        }
      ]
    },
    {
      "cell_type": "markdown",
      "metadata": {
        "id": "qErrVpWPxn6y"
      },
      "source": [
        "# Model 0: Baseline model "
      ]
    },
    {
      "cell_type": "code",
      "metadata": {
        "colab": {
          "base_uri": "https://localhost:8080/"
        },
        "id": "FVgldVbaxls2",
        "outputId": "a04fbfaa-00a7-4e8d-9351-8ec9aae639a7"
      },
      "source": [
        "from sklearn.feature_extraction.text import TfidfVectorizer\n",
        "from sklearn.svm import SVR\n",
        "from sklearn.pipeline import Pipeline\n",
        "from sklearn.metrics import mean_absolute_error, f1_score, accuracy_score,classification_report,explained_variance_score, r2_score, mean_absolute_percentage_error\n",
        "\n",
        "# Create tokenization and modelling pipeline\n",
        "model_0 = Pipeline([\n",
        "                    (\"tfidf\", TfidfVectorizer()), # convert words to numbers using tfidf\n",
        "                    (\"svr\", SVR()) # model the scores\n",
        "])\n",
        "\n",
        "# Fit the pipeline to the training data\n",
        "model_0.fit(X_train, y_train)"
      ],
      "execution_count": null,
      "outputs": [
        {
          "output_type": "execute_result",
          "data": {
            "text/plain": [
              "Pipeline(steps=[('tfidf', TfidfVectorizer()), ('svr', SVR())])"
            ]
          },
          "metadata": {},
          "execution_count": 4
        }
      ]
    },
    {
      "cell_type": "code",
      "metadata": {
        "id": "52E9muLF0HhC"
      },
      "source": [
        "# Create a function to convert continous scores to categorical ratings (based on Louis' model)\n",
        "def score_to_rating_lg(val):\n",
        "  return (pd.cut(val,\n",
        "                 bins=[-10000, 5.33,6.66,7.99,9.33,10.66,10000],\n",
        "                 labels=['0','1','2','3','4','5']))"
      ],
      "execution_count": null,
      "outputs": []
    },
    {
      "cell_type": "code",
      "metadata": {
        "id": "ARGV4tGkyPi9"
      },
      "source": [
        "def model_evaluation(model_name, X_train, y_train, X_test, y_test, fun, accuracy_score=False): \n",
        "  '''\n",
        "  This function takes in the model and test data to evaluate model performance\n",
        "  '''\n",
        "  y_pred_train = model_name.predict(X_train)\n",
        "  y_pred_test = model_name.predict(X_test)\n",
        "  print(f'The Mean Asbolute Error(MAE) for the training set is {mean_absolute_error(y_train, y_pred_train):.2f}')\n",
        "  print(\"---\\n\")\n",
        "  print(f'The MAE for the test set is {mean_absolute_error(y_test, y_pred_test):.2f}')\n",
        "\n",
        "  print(\"---\\n\")\n",
        "  print(f'The explained variance for the training set is {explained_variance_score(y_train, y_pred_train):.2f}')\n",
        "  print(\"---\\n\")\n",
        "  print(f'The explained variance for the test set is {explained_variance_score(y_test, y_pred_test):.2f}')\n",
        "\n",
        "  print(\"---\\n\")\n",
        "  print(f'The R-square for the training set is {r2_score(y_train, y_pred_train):.2f}')\n",
        "  print(\"---\\n\")\n",
        "  print(f'The R-square for the test set is {r2_score(y_test, y_pred_test):.2f}')\n",
        "\n",
        "  print(\"---\\n\")\n",
        "  print(f'The mean absolute percentage error for the training set is {mean_absolute_percentage_error(y_train, y_pred_train):.2f}')\n",
        "  print(\"---\\n\")\n",
        "  print(f'The mean_absolute_percentage_error for the test set is {mean_absolute_percentage_error(y_test, y_pred_test):.2f}')\n",
        "  \n",
        "  if accuracy_score:\n",
        "    y_pred_train_cat = fun(y_pred_train)\n",
        "    y_pred_test_cat = fun(y_pred_test)\n",
        "    y_train_cat = fun(y_train)\n",
        "    y_test_cat = fun(y_test)\n",
        "    \n",
        "    print(\"---\\n\")\n",
        "    print(\"Accuracy scores for the training set\")\n",
        "\n",
        "    # Now we can evaluate accuracy and F1 score based on the categorical ratings \n",
        "    clf_report_train = classification_report(y_train_cat, y_pred_train_cat,zero_division=0,output_dict=True)\n",
        "    print(pd.DataFrame(clf_report_train).T)\n",
        "    print(\"---\\n\")\n",
        "    print(\"Accuracy scores for the test set \")\n",
        "    clf_report_test = classification_report(y_test_cat, y_pred_test_cat,zero_division=0,output_dict=True)\n",
        "    print(pd.DataFrame(clf_report_test).T)"
      ],
      "execution_count": null,
      "outputs": []
    },
    {
      "cell_type": "code",
      "metadata": {
        "colab": {
          "base_uri": "https://localhost:8080/"
        },
        "id": "PKRO6qn46efU",
        "outputId": "58b36833-3d50-47ff-eb78-a12dd40b2d81"
      },
      "source": [
        "# Evaluate the model performance for the baseline model \n",
        "model_evaluation(model_0,X_train,y_train, X_test, y_test, fun=score_to_rating_lg, accuracy_score=True)"
      ],
      "execution_count": null,
      "outputs": [
        {
          "output_type": "stream",
          "name": "stdout",
          "text": [
            "The Mean Asbolute Error(MAE) for the training set is 0.46\n",
            "---\n",
            "\n",
            "The MAE for the test set is 0.81\n",
            "---\n",
            "\n",
            "The explained variance for the training set is 0.71\n",
            "---\n",
            "\n",
            "The explained variance for the test set is 0.41\n",
            "---\n",
            "\n",
            "The R-square for the training set is 0.71\n",
            "---\n",
            "\n",
            "The R-square for the test set is 0.41\n",
            "---\n",
            "\n",
            "The mean absolute percentage error for the training set is 0.12\n",
            "---\n",
            "\n",
            "The mean_absolute_percentage_error for the test set is 0.17\n",
            "---\n",
            "\n",
            "Accuracy scores for the training set\n",
            "              precision    recall  f1-score       support\n",
            "0              0.875542  0.543202  0.670447  10775.000000\n",
            "1              0.670953  0.874682  0.759391  17715.000000\n",
            "2              0.680479  0.793309  0.732575  14408.000000\n",
            "3              0.765523  0.340418  0.471269   5505.000000\n",
            "4              0.516129  0.069364  0.122293    692.000000\n",
            "5              0.000000  0.000000  0.000000     22.000000\n",
            "accuracy       0.706476  0.706476  0.706476      0.706476\n",
            "macro avg      0.584771  0.436829  0.459329  49117.000000\n",
            "weighted avg   0.726747  0.706476  0.690404  49117.000000\n",
            "---\n",
            "\n",
            "Accuracy scores for the test set \n",
            "              precision    recall  f1-score      support\n",
            "0              0.695225  0.409091  0.515088  1210.000000\n",
            "1              0.507398  0.708312  0.591253  1985.000000\n",
            "2              0.491176  0.536632  0.512899  1556.000000\n",
            "3              0.505703  0.212121  0.298876   627.000000\n",
            "4              0.333333  0.051948  0.089888    77.000000\n",
            "5              0.000000  0.000000  0.000000     3.000000\n",
            "accuracy       0.526383  0.526383  0.526383     0.526383\n",
            "macro avg      0.422139  0.319684  0.334667  5458.000000\n",
            "weighted avg   0.541484  0.526383  0.511045  5458.000000\n"
          ]
        }
      ]
    },
    {
      "cell_type": "code",
      "metadata": {
        "id": "5gdJN49CTHj6"
      },
      "source": [
        "# What if we create three categories of menu healthiness (based on tertiles), instead of 6? what would the accuracy look like? \n",
        "def score_to_rating_tert(val):\n",
        "  return (pd.cut(val,\n",
        "                 bins=[-10000, 5.798860,6.951254,10000],\n",
        "                 labels=['Lowest Tertile','Medium Tertile','Highest Tertile']))"
      ],
      "execution_count": null,
      "outputs": []
    },
    {
      "cell_type": "code",
      "metadata": {
        "colab": {
          "base_uri": "https://localhost:8080/"
        },
        "id": "-YWAngpVUWMi",
        "outputId": "6a51ea22-6825-4c1d-d42d-c825fa2e74f3"
      },
      "source": [
        "y_train.quantile(q=[0,1/3,2/3,1]), y_test.quantile(q=[0,1/3,2/3,1])"
      ],
      "execution_count": null,
      "outputs": [
        {
          "data": {
            "text/plain": [
              "(0.000000    -6.722594\n",
              " 0.333333     5.798860\n",
              " 0.666667     6.951254\n",
              " 1.000000    11.174057\n",
              " Name: predict, dtype: float64, 0.000000    -5.025233\n",
              " 0.333333     5.797106\n",
              " 0.666667     6.975387\n",
              " 1.000000    11.132556\n",
              " Name: predict, dtype: float64)"
            ]
          },
          "execution_count": 20,
          "metadata": {},
          "output_type": "execute_result"
        }
      ]
    },
    {
      "cell_type": "code",
      "metadata": {
        "colab": {
          "base_uri": "https://localhost:8080/"
        },
        "id": "8PmttB6mTQ4q",
        "outputId": "819eca16-98d6-4404-9d41-7a1a64a12120"
      },
      "source": [
        "model_evaluation(model_0,X_train,y_train, X_test, y_test, fun=score_to_rating_tert)"
      ],
      "execution_count": null,
      "outputs": [
        {
          "name": "stdout",
          "output_type": "stream",
          "text": [
            "The Mean Asbolute Error(MAE) for the training set is 0.46\n",
            "---\n",
            "\n",
            "The MAE for the test set is 0.81\n",
            "---\n",
            "\n",
            "Accuracy scores for the training set\n",
            "                 precision    recall  f1-score       support\n",
            "Highest Tertile   0.917353  0.810164  0.860433  16372.000000\n",
            "Lowest Tertile    0.886289  0.721103  0.795208  16386.000000\n",
            "Medium Tertile    0.663650  0.865151  0.751121  16359.000000\n",
            "accuracy          0.798766  0.798766  0.798766      0.798766\n",
            "macro avg         0.822430  0.798806  0.802254  49117.000000\n",
            "weighted avg      0.822491  0.798766  0.802266  49117.000000\n",
            "---\n",
            "\n",
            "Accuracy scores for the test set \n",
            "                 precision    recall  f1-score      support\n",
            "Highest Tertile   0.743719  0.559697  0.638718  1851.000000\n",
            "Lowest Tertile    0.722386  0.536652  0.615819  1828.000000\n",
            "Medium Tertile    0.449575  0.684092  0.542577  1779.000000\n",
            "accuracy          0.592525  0.592525  0.592525     0.592525\n",
            "macro avg         0.638560  0.593481  0.599038  5458.000000\n",
            "weighted avg      0.640700  0.592525  0.599712  5458.000000\n"
          ]
        }
      ]
    },
    {
      "cell_type": "markdown",
      "metadata": {
        "id": "bTqvGWQ5Fj2c"
      },
      "source": [
        "# Tokenization "
      ]
    },
    {
      "cell_type": "markdown",
      "metadata": {
        "id": "zF6Kc9XyG95D"
      },
      "source": [
        "## Word tokenization"
      ]
    },
    {
      "cell_type": "code",
      "metadata": {
        "id": "u5GqrS_dEtgK"
      },
      "source": [
        "import tensorflow as tf\n",
        "from tensorflow.keras.layers import TextVectorization\n",
        "# Setup text vectorization with custom variables\n",
        "max_vocab_length=20000\n",
        "max_length = 10 # max length our sequences will be (e.g. how many words from the restaurant name does our model see?)\n",
        "\n",
        "word_vectorizer = TextVectorization(output_mode=\"int\",\n",
        "                                    max_tokens = max_vocab_length,\n",
        "                                    split = \"whitespace\",\n",
        "                                    standardize =\"lower_and_strip_punctuation\",\n",
        "                                    output_sequence_length=max_length)"
      ],
      "execution_count": null,
      "outputs": []
    },
    {
      "cell_type": "code",
      "metadata": {
        "colab": {
          "base_uri": "https://localhost:8080/"
        },
        "id": "66h5aMUMGr4q",
        "outputId": "158556f9-5492-40b5-c25b-65a0b5308cfc"
      },
      "source": [
        "# Find average number of tokens (words) in training restaurant names\n",
        "round(sum([len(i.split()) for i in X_train])/len(X_train)), max([len(i.split()) for i in X_train])"
      ],
      "execution_count": null,
      "outputs": [
        {
          "data": {
            "text/plain": [
              "(3, 10)"
            ]
          },
          "execution_count": 8,
          "metadata": {},
          "output_type": "execute_result"
        }
      ]
    },
    {
      "cell_type": "code",
      "metadata": {
        "id": "x4Kw3Y1EG13F"
      },
      "source": [
        "# Fit the text vectorizer to the training text\n",
        "word_vectorizer.adapt(X_train)"
      ],
      "execution_count": null,
      "outputs": []
    },
    {
      "cell_type": "code",
      "metadata": {
        "colab": {
          "base_uri": "https://localhost:8080/"
        },
        "id": "dNEx4W81HDry",
        "outputId": "73f18ba2-acf8-4378-a134-924ab0fba1a9"
      },
      "source": [
        "# Get the unique words in the vocabulary\n",
        "words_in_vocab = word_vectorizer.get_vocabulary()\n",
        "top_10_words = words_in_vocab[:10] # most common tokens (notice the [UNK] token for \"unknown\" words)\n",
        "bottom_10_words = words_in_vocab[-10:] # least common tokens\n",
        "print(f\"Number of words in vocab: {len(words_in_vocab)}\")\n",
        "print(f\"Top 10 most common words: {top_10_words}\") \n",
        "print(f\"Bottom 10 least common words: {bottom_10_words}\")"
      ],
      "execution_count": null,
      "outputs": [
        {
          "name": "stdout",
          "output_type": "stream",
          "text": [
            "Number of words in vocab: 18598\n",
            "Top 10 most common words: ['', '[UNK]', 'pizza', 'the', 'restaurant', 'cafe', 'grill', 'fish', 'chicken', 'bar']\n",
            "Bottom 10 least common words: ['1103', '110118', '1093', '1083', '1066', '105', '102104', '1018a', '1001', '01']\n"
          ]
        }
      ]
    },
    {
      "cell_type": "markdown",
      "metadata": {
        "id": "ExmRTpLS4zfr"
      },
      "source": [
        "## Sub-word level tokenization\n",
        "\n",
        "\"*The main advantage of a subword tokenizer is that it interpolates between word-based and character-based tokenization. Common words get a slot in the vocabulary, but the tokenizer can fall back to word pieces and individual characters for unknown words.*\"\n",
        "\n",
        "Source: https://www.tensorflow.org/text/guide/subwords_tokenizer"
      ]
    },
    {
      "cell_type": "code",
      "metadata": {
        "id": "I82K3SnQ__r_"
      },
      "source": [
        "!pip install -q -U tensorflow-text\n",
        "!pip install -q tensorflow_datasets"
      ],
      "execution_count": null,
      "outputs": []
    },
    {
      "cell_type": "code",
      "metadata": {
        "id": "1Vu1IpodLugf"
      },
      "source": [
        "X_train_tf = tf.data.Dataset.from_tensor_slices(X_train_)"
      ],
      "execution_count": null,
      "outputs": []
    },
    {
      "cell_type": "code",
      "metadata": {
        "id": "sk7Wru3jAL8m"
      },
      "source": [
        "from tensorflow_text.tools.wordpiece_vocab import bert_vocab_from_dataset as bert_vocab\n",
        "bert_tokenizer_params=dict(lower_case=True)\n",
        "reserved_tokens=[\"[PAD]\", \"[UNK]\", \"[START]\", \"[END]\"]\n",
        "\n",
        "bert_vocab_args = dict(\n",
        "    # The target vocabulary size\n",
        "    vocab_size = 10000,\n",
        "    # Reserved tokens that must be included in the vocabulary\n",
        "    reserved_tokens=reserved_tokens,\n",
        "    # Arguments for `text.BertTokenizer`\n",
        "    bert_tokenizer_params=bert_tokenizer_params,\n",
        "    # Arguments for `wordpiece_vocab.wordpiece_tokenizer_learner_lib.learn`\n",
        "    learn_params={},\n",
        ")"
      ],
      "execution_count": null,
      "outputs": []
    },
    {
      "cell_type": "code",
      "metadata": {
        "id": "WMfeilBRArFz"
      },
      "source": [
        "pt_vocab = bert_vocab.bert_vocab_from_dataset(\n",
        "    X_train_tf,\n",
        "    **bert_vocab_args\n",
        ")"
      ],
      "execution_count": null,
      "outputs": []
    },
    {
      "cell_type": "code",
      "metadata": {
        "colab": {
          "base_uri": "https://localhost:8080/"
        },
        "id": "ih7l3AdqLwoM",
        "outputId": "5688367d-8af3-41bf-8434-4cd9395bbba3"
      },
      "source": [
        "# Examples of the resulting library\n",
        "print(pt_vocab[:10])\n",
        "print(pt_vocab[130:140])\n",
        "print(pt_vocab[1000:1010])\n",
        "print(pt_vocab[-10:])"
      ],
      "execution_count": null,
      "outputs": [
        {
          "name": "stdout",
          "output_type": "stream",
          "text": [
            "['[PAD]', '[UNK]', '[START]', '[END]', '!', '\"', '#', '%', '&', \"'\"]\n",
            "['garden', 'lounge', 'burgers', 'china', 'box', 'delivery', 'taste', '##l', '##k', 'la']\n",
            "['heaven', 'joint', 'lion', 'livingston', 'lodge', 'oh', 'paisley', 'pearl', 'peppers', 'pies']\n",
            "['##~', '##¡', '##®', '##°', '##–', '##‘', '##’', '##“', '##”', '##•']\n"
          ]
        }
      ]
    },
    {
      "cell_type": "code",
      "metadata": {
        "id": "-GbVxaijLAtn"
      },
      "source": [
        "def write_vocab_file(filepath, vocab):\n",
        "  with open(filepath, 'w') as f:\n",
        "    for token in vocab:\n",
        "      print(token, file=f)"
      ],
      "execution_count": null,
      "outputs": []
    },
    {
      "cell_type": "code",
      "metadata": {
        "id": "v_Ok6e2_A_O4"
      },
      "source": [
        "write_vocab_file('rest_vocab.txt', pt_vocab)"
      ],
      "execution_count": null,
      "outputs": []
    },
    {
      "cell_type": "code",
      "metadata": {
        "id": "4NNpSLFpNKWW"
      },
      "source": [
        "subword_tokenizer = text.BertTokenizer('/content/rest_vocab.txt', **bert_tokenizer_params)"
      ],
      "execution_count": null,
      "outputs": []
    },
    {
      "cell_type": "code",
      "metadata": {
        "id": "lf5Df3ltNOy5"
      },
      "source": [
        "# Tokenize the examples -> (batch, word, word-piece)\n",
        "token_batch = subword_tokenizer.tokenize()\n",
        "# Merge the word and word-piece axes -> (batch, tokens)\n",
        "token_batch = token_batch.merge_dims(-2,-1)"
      ],
      "execution_count": null,
      "outputs": []
    },
    {
      "cell_type": "markdown",
      "metadata": {
        "id": "GA0j7SddHJes"
      },
      "source": [
        "## Character level tokenization\n",
        "\n",
        "\"*Character level models give up the semantic information that words have, as well as the plug and play ecosystem of pre-trained word vectors. In exchange, character level deep learning models provide two fundamental advantages. They alleviate vocabulary problems we encounter on the input of our model, and they remove the computational bottleneck at the output of our model*.\"\n",
        "\n",
        "source: [Character Level NLP](https://www.lighttag.io/blog/character-level-NLP/)"
      ]
    },
    {
      "cell_type": "code",
      "metadata": {
        "id": "QsY_S_54HL5B"
      },
      "source": [
        "# set up character level tokenization\n",
        "max_length_char = 25 # max length our sequences will be (e.g. how many characters from the restaurant name does our model see?)\n",
        "max_char_length = 50\n",
        "\n",
        "def char_split(input_data):\n",
        "  return(tf.strings.unicode_split(input_data,'UTF-8'))\n",
        "\n",
        "char_vectorizer = TextVectorization(max_tokens = max_char_length, \n",
        "                                    output_mode=\"int\",\n",
        "                                    split = char_split,\n",
        "                                    standardize =\"lower_and_strip_punctuation\",\n",
        "                                    output_sequence_length=max_length_char)"
      ],
      "execution_count": null,
      "outputs": []
    },
    {
      "cell_type": "code",
      "metadata": {
        "id": "KWglPVYvJRKB"
      },
      "source": [
        "char_vectorizer.adapt(X_train)"
      ],
      "execution_count": null,
      "outputs": []
    },
    {
      "cell_type": "code",
      "metadata": {
        "colab": {
          "base_uri": "https://localhost:8080/"
        },
        "id": "qYxxeyg3H8qU",
        "outputId": "9f57479d-b977-40a5-c77b-2455af7e46f4"
      },
      "source": [
        "# Average number of characters in the restaurant name \n",
        "round(sum([len(tf.strings.unicode_split(i,\"UTF-8\")) for i in X_train])/len(X_train))"
      ],
      "execution_count": null,
      "outputs": [
        {
          "data": {
            "text/plain": [
              "18"
            ]
          },
          "execution_count": 13,
          "metadata": {},
          "output_type": "execute_result"
        }
      ]
    },
    {
      "cell_type": "code",
      "metadata": {
        "colab": {
          "base_uri": "https://localhost:8080/"
        },
        "id": "qLkr7nQwIpjj",
        "outputId": "95086766-fd19-4782-eca5-645f12b27c20"
      },
      "source": [
        "# Maximum number of characters in the restaurant name \n",
        "max([len(tf.strings.unicode_split(i,\"UTF-8\")) for i in X_train])"
      ],
      "execution_count": null,
      "outputs": [
        {
          "data": {
            "text/plain": [
              "50"
            ]
          },
          "execution_count": 14,
          "metadata": {},
          "output_type": "execute_result"
        }
      ]
    },
    {
      "cell_type": "markdown",
      "metadata": {
        "id": "kAbGIMnaw6bt"
      },
      "source": [
        "# Validation Train Split\n",
        "\n",
        "Split the training data further into train validation datasets \n",
        "\n"
      ]
    },
    {
      "cell_type": "code",
      "metadata": {
        "id": "PEpgG3ESxHKN"
      },
      "source": [
        "X_train_, X_val, y_train_, y_val = train_test_split(X_train,y_train,test_size=0.1, random_state=42)"
      ],
      "execution_count": null,
      "outputs": []
    },
    {
      "cell_type": "markdown",
      "metadata": {
        "id": "59EP7OcUI7Sx"
      },
      "source": [
        "# Model 1: LSTM, word level"
      ]
    },
    {
      "cell_type": "code",
      "metadata": {
        "colab": {
          "base_uri": "https://localhost:8080/"
        },
        "id": "ePegiisOJFnX",
        "outputId": "e3a75ff6-d01e-4275-d600-0e2d31d6b9b2"
      },
      "source": [
        "# Set random seed and create embedding layer (new embedding layer for each model)\n",
        "tf.random.set_seed(42)\n",
        "from tensorflow.keras import layers\n",
        "model_1_embedding = layers.Embedding(input_dim=max_vocab_length,\n",
        "                                     output_dim=64,\n",
        "                                     embeddings_initializer=\"uniform\",\n",
        "                                     input_length=max_length,\n",
        "                                     name=\"embedding_1\")\n",
        "\n",
        "\n",
        "# Create LSTM model\n",
        "inputs = layers.Input(shape=(1,), dtype=\"string\")\n",
        "x = word_vectorizer(inputs)\n",
        "x = model_1_embedding(x)\n",
        "print(x.shape)\n",
        "# x = layers.LSTM(64, return_sequences=True)(x) # return vector for each word in the Tweet (you can stack RNN cells as long as return_sequences=True)\n",
        "x = layers.LSTM(64)(x) # return vector for whole sequence\n",
        "print(x.shape)\n",
        "#x = layers.Dense(64, activation=\"relu\")(x) # optional dense layer on top of output of LSTM cell\n",
        "outputs = layers.Dense(1)(x)\n",
        "model_1 = tf.keras.Model(inputs, outputs, name=\"model_1_LSTM\")\n",
        "model_1.summary()"
      ],
      "execution_count": null,
      "outputs": [
        {
          "name": "stdout",
          "output_type": "stream",
          "text": [
            "(None, 10, 64)\n",
            "(None, 64)\n",
            "Model: \"model_1_LSTM\"\n",
            "_________________________________________________________________\n",
            " Layer (type)                Output Shape              Param #   \n",
            "=================================================================\n",
            " input_10 (InputLayer)       [(None, 1)]               0         \n",
            "                                                                 \n",
            " text_vectorization (TextVec  (None, 10)               0         \n",
            " torization)                                                     \n",
            "                                                                 \n",
            " embedding_1 (Embedding)     (None, 10, 64)            1280000   \n",
            "                                                                 \n",
            " lstm_9 (LSTM)               (None, 64)                33024     \n",
            "                                                                 \n",
            " dense_13 (Dense)            (None, 1)                 65        \n",
            "                                                                 \n",
            "=================================================================\n",
            "Total params: 1,313,089\n",
            "Trainable params: 1,313,089\n",
            "Non-trainable params: 0\n",
            "_________________________________________________________________\n"
          ]
        }
      ]
    },
    {
      "cell_type": "code",
      "metadata": {
        "id": "GszDSIGEKWBJ"
      },
      "source": [
        "# Fit model 1\n",
        "model_1.compile(loss=\"mean_absolute_error\",\n",
        "                optimizer=tf.keras.optimizers.Adam(learning_rate=0.0005))"
      ],
      "execution_count": null,
      "outputs": []
    },
    {
      "cell_type": "code",
      "metadata": {
        "colab": {
          "base_uri": "https://localhost:8080/"
        },
        "id": "iWEA8XVWLHrN",
        "outputId": "a9443128-4d27-477f-f608-d1318c430c2b"
      },
      "source": [
        "model_1_history = model_1.fit(X_train_, y_train_, epochs=20, validation_data = (X_val, y_val))"
      ],
      "execution_count": null,
      "outputs": [
        {
          "name": "stdout",
          "output_type": "stream",
          "text": [
            "Epoch 1/20\n",
            "1382/1382 [==============================] - 15s 9ms/step - loss: 1.0441 - val_loss: 0.8091\n",
            "Epoch 2/20\n",
            "1382/1382 [==============================] - 12s 9ms/step - loss: 0.7617 - val_loss: 0.8050\n",
            "Epoch 3/20\n",
            "1382/1382 [==============================] - 12s 9ms/step - loss: 0.6971 - val_loss: 0.8242\n",
            "Epoch 4/20\n",
            "1382/1382 [==============================] - 12s 9ms/step - loss: 0.6561 - val_loss: 0.8075\n",
            "Epoch 5/20\n",
            "1382/1382 [==============================] - 12s 9ms/step - loss: 0.6287 - val_loss: 0.8000\n",
            "Epoch 6/20\n",
            "1382/1382 [==============================] - 12s 9ms/step - loss: 0.6072 - val_loss: 0.8006\n",
            "Epoch 7/20\n",
            "1382/1382 [==============================] - 13s 9ms/step - loss: 0.5863 - val_loss: 0.8032\n",
            "Epoch 8/20\n",
            "1382/1382 [==============================] - 12s 9ms/step - loss: 0.5683 - val_loss: 0.7951\n",
            "Epoch 9/20\n",
            "1382/1382 [==============================] - 12s 9ms/step - loss: 0.5524 - val_loss: 0.8024\n",
            "Epoch 10/20\n",
            "1382/1382 [==============================] - 12s 9ms/step - loss: 0.5398 - val_loss: 0.7915\n",
            "Epoch 11/20\n",
            "1382/1382 [==============================] - 12s 9ms/step - loss: 0.5273 - val_loss: 0.7938\n",
            "Epoch 12/20\n",
            "1382/1382 [==============================] - 12s 9ms/step - loss: 0.5171 - val_loss: 0.7984\n",
            "Epoch 13/20\n",
            "1382/1382 [==============================] - 12s 9ms/step - loss: 0.5063 - val_loss: 0.7942\n",
            "Epoch 14/20\n",
            "1382/1382 [==============================] - 12s 9ms/step - loss: 0.4990 - val_loss: 0.7970\n",
            "Epoch 15/20\n",
            "1382/1382 [==============================] - 13s 9ms/step - loss: 0.4908 - val_loss: 0.8046\n",
            "Epoch 16/20\n",
            "1382/1382 [==============================] - 12s 9ms/step - loss: 0.4814 - val_loss: 0.7970\n",
            "Epoch 17/20\n",
            "1382/1382 [==============================] - 12s 9ms/step - loss: 0.4786 - val_loss: 0.8016\n",
            "Epoch 18/20\n",
            "1382/1382 [==============================] - 12s 9ms/step - loss: 0.4689 - val_loss: 0.8087\n",
            "Epoch 19/20\n",
            "1382/1382 [==============================] - 12s 9ms/step - loss: 0.4624 - val_loss: 0.8057\n",
            "Epoch 20/20\n",
            "1382/1382 [==============================] - 12s 9ms/step - loss: 0.4580 - val_loss: 0.8162\n"
          ]
        }
      ]
    },
    {
      "cell_type": "code",
      "metadata": {
        "id": "V_quLycyLRwi"
      },
      "source": [
        "# plot the loss \n",
        "import matplotlib.pyplot as plt\n",
        "def plot_loss(history):\n",
        "  plt.plot(history.history['loss'], label='loss')\n",
        "  plt.plot(history.history['val_loss'], label='val_loss')\n",
        "  plt.xlabel('Epoch')\n",
        "  plt.ylabel('Error [Menu Healthiness]')\n",
        "  plt.legend()\n",
        "  plt.grid(True)"
      ],
      "execution_count": null,
      "outputs": []
    },
    {
      "cell_type": "code",
      "metadata": {
        "colab": {
          "base_uri": "https://localhost:8080/",
          "height": 279
        },
        "id": "jG8DYzZh1KfP",
        "outputId": "7046db3a-62b7-44b4-96e2-bc98c28b35b3"
      },
      "source": [
        "plot_loss(model_1_history)"
      ],
      "execution_count": null,
      "outputs": [
        {
          "data": {
            "image/png": "[encoded data removed]",
            "text/plain": [
              "<Figure size 432x288 with 1 Axes>"
            ]
          },
          "metadata": {},
          "output_type": "display_data"
        }
      ]
    },
    {
      "cell_type": "markdown",
      "metadata": {
        "id": "LtkBDKoxuy9H"
      },
      "source": [
        "# Model 2: LSTM, character level "
      ]
    },
    {
      "cell_type": "code",
      "metadata": {
        "colab": {
          "base_uri": "https://localhost:8080/"
        },
        "id": "kR2rxSnvx99N",
        "outputId": "5278f90c-66b5-438d-c7e7-8bd3c4e41386"
      },
      "source": [
        "# Set random seed and create embedding layer (new embedding layer for each model)\n",
        "tf.random.set_seed(42)\n",
        "model_2_embedding = layers.Embedding(input_dim = max_char_length, \n",
        "                                     output_dim=64,\n",
        "                                     embeddings_initializer=\"uniform\",\n",
        "                                     input_length=max_length_char,\n",
        "                                     name=\"embedding_2\")\n",
        "\n",
        "\n",
        "# Create LSTM model\n",
        "inputs = layers.Input(shape=(1,), dtype=\"string\")\n",
        "x = char_vectorizer(inputs)\n",
        "x = model_2_embedding(x)\n",
        "print(x.shape)\n",
        "# x = layers.LSTM(64, return_sequences=True)(x) # return vector for each word in the Tweet (you can stack RNN cells as long as return_sequences=True)\n",
        "x = layers.LSTM(64)(x) # return vector for whole sequence\n",
        "print(x.shape)\n",
        "#x = layers.Dense(64, activation=\"relu\")(x) # optional dense layer on top of output of LSTM cell\n",
        "outputs = layers.Dense(1)(x)\n",
        "model_2 = tf.keras.Model(inputs, outputs, name=\"model_2_LSTM\")\n",
        "model_2.summary()"
      ],
      "execution_count": null,
      "outputs": [
        {
          "name": "stdout",
          "output_type": "stream",
          "text": [
            "(None, 25, 64)\n",
            "(None, 64)\n",
            "Model: \"model_2_LSTM\"\n",
            "_________________________________________________________________\n",
            " Layer (type)                Output Shape              Param #   \n",
            "=================================================================\n",
            " input_8 (InputLayer)        [(None, 1)]               0         \n",
            "                                                                 \n",
            " text_vectorization_4 (TextV  (None, 25)               0         \n",
            " ectorization)                                                   \n",
            "                                                                 \n",
            " embedding_2 (Embedding)     (None, 25, 64)            3200      \n",
            "                                                                 \n",
            " lstm_7 (LSTM)               (None, 64)                33024     \n",
            "                                                                 \n",
            " dense_11 (Dense)            (None, 1)                 65        \n",
            "                                                                 \n",
            "=================================================================\n",
            "Total params: 36,289\n",
            "Trainable params: 36,289\n",
            "Non-trainable params: 0\n",
            "_________________________________________________________________\n"
          ]
        }
      ]
    },
    {
      "cell_type": "code",
      "metadata": {
        "id": "wvvgZfOB2cVz"
      },
      "source": [
        "model_2.compile(loss=\"mean_absolute_error\",\n",
        "                optimizer=tf.keras.optimizers.Adam(learning_rate = 0.0005))"
      ],
      "execution_count": null,
      "outputs": []
    },
    {
      "cell_type": "code",
      "metadata": {
        "colab": {
          "base_uri": "https://localhost:8080/"
        },
        "id": "5Wnv6LDy2hIg",
        "outputId": "49c1ddd6-ff98-4847-e9dc-bde7dca05eea"
      },
      "source": [
        "model_2_history = model_2.fit(X_train_, y_train_, epochs=50, validation_data = (X_val, y_val))"
      ],
      "execution_count": null,
      "outputs": [
        {
          "name": "stdout",
          "output_type": "stream",
          "text": [
            "Epoch 1/50\n",
            "1382/1382 [==============================] - 20s 13ms/step - loss: 1.2162 - val_loss: 1.0971\n",
            "Epoch 2/50\n",
            "1382/1382 [==============================] - 17s 13ms/step - loss: 1.0367 - val_loss: 1.0024\n",
            "Epoch 3/50\n",
            "1382/1382 [==============================] - 18s 13ms/step - loss: 1.0071 - val_loss: 1.0590\n",
            "Epoch 4/50\n",
            "1382/1382 [==============================] - 18s 13ms/step - loss: 0.9921 - val_loss: 0.9751\n",
            "Epoch 5/50\n",
            "1382/1382 [==============================] - 18s 13ms/step - loss: 0.9770 - val_loss: 0.9649\n",
            "Epoch 6/50\n",
            "1382/1382 [==============================] - 18s 13ms/step - loss: 0.9649 - val_loss: 0.9525\n",
            "Epoch 7/50\n",
            "1382/1382 [==============================] - 18s 13ms/step - loss: 0.9517 - val_loss: 0.9411\n",
            "Epoch 8/50\n",
            "1382/1382 [==============================] - 18s 13ms/step - loss: 0.9369 - val_loss: 0.9282\n",
            "Epoch 9/50\n",
            "1382/1382 [==============================] - 18s 13ms/step - loss: 0.9254 - val_loss: 0.9235\n",
            "Epoch 10/50\n",
            "1382/1382 [==============================] - 18s 13ms/step - loss: 0.9146 - val_loss: 0.9155\n",
            "Epoch 11/50\n",
            "1382/1382 [==============================] - 18s 13ms/step - loss: 0.9045 - val_loss: 0.8935\n",
            "Epoch 12/50\n",
            "1382/1382 [==============================] - 18s 13ms/step - loss: 0.8952 - val_loss: 0.8907\n",
            "Epoch 13/50\n",
            "1382/1382 [==============================] - 18s 13ms/step - loss: 0.8847 - val_loss: 0.8765\n",
            "Epoch 14/50\n",
            "1382/1382 [==============================] - 18s 13ms/step - loss: 0.8726 - val_loss: 0.8651\n",
            "Epoch 15/50\n",
            "1382/1382 [==============================] - 18s 13ms/step - loss: 0.8640 - val_loss: 0.8646\n",
            "Epoch 16/50\n",
            "1382/1382 [==============================] - 18s 13ms/step - loss: 0.8546 - val_loss: 0.8547\n",
            "Epoch 17/50\n",
            "1382/1382 [==============================] - 18s 13ms/step - loss: 0.8468 - val_loss: 0.8531\n",
            "Epoch 18/50\n",
            "1382/1382 [==============================] - 18s 13ms/step - loss: 0.8390 - val_loss: 0.8478\n",
            "Epoch 19/50\n",
            "1382/1382 [==============================] - 18s 13ms/step - loss: 0.8296 - val_loss: 0.8392\n",
            "Epoch 20/50\n",
            "1382/1382 [==============================] - 18s 13ms/step - loss: 0.8229 - val_loss: 0.8347\n",
            "Epoch 21/50\n",
            "1382/1382 [==============================] - 18s 13ms/step - loss: 0.8156 - val_loss: 0.8287\n",
            "Epoch 22/50\n",
            "1382/1382 [==============================] - 18s 13ms/step - loss: 0.8084 - val_loss: 0.8272\n",
            "Epoch 23/50\n",
            "1382/1382 [==============================] - 18s 13ms/step - loss: 0.8012 - val_loss: 0.8213\n",
            "Epoch 24/50\n",
            "1382/1382 [==============================] - 18s 13ms/step - loss: 0.7946 - val_loss: 0.8174\n",
            "Epoch 25/50\n",
            "1382/1382 [==============================] - 18s 13ms/step - loss: 0.7893 - val_loss: 0.8166\n",
            "Epoch 26/50\n",
            "1382/1382 [==============================] - 18s 13ms/step - loss: 0.7851 - val_loss: 0.8115\n",
            "Epoch 27/50\n",
            "1382/1382 [==============================] - 18s 13ms/step - loss: 0.7805 - val_loss: 0.8156\n",
            "Epoch 28/50\n",
            "1382/1382 [==============================] - 18s 13ms/step - loss: 0.7737 - val_loss: 0.8092\n",
            "Epoch 29/50\n",
            "1382/1382 [==============================] - 18s 13ms/step - loss: 0.7707 - val_loss: 0.8160\n",
            "Epoch 30/50\n",
            "1382/1382 [==============================] - 18s 13ms/step - loss: 0.7650 - val_loss: 0.8104\n",
            "Epoch 31/50\n",
            "1382/1382 [==============================] - 18s 13ms/step - loss: 0.7593 - val_loss: 0.8048\n",
            "Epoch 32/50\n",
            "1382/1382 [==============================] - 18s 13ms/step - loss: 0.7550 - val_loss: 0.8109\n",
            "Epoch 33/50\n",
            "1382/1382 [==============================] - 18s 13ms/step - loss: 0.7505 - val_loss: 0.8108\n",
            "Epoch 34/50\n",
            "1382/1382 [==============================] - 18s 13ms/step - loss: 0.7464 - val_loss: 0.8085\n",
            "Epoch 35/50\n",
            "1382/1382 [==============================] - 18s 13ms/step - loss: 0.7415 - val_loss: 0.8104\n",
            "Epoch 36/50\n",
            "1382/1382 [==============================] - 18s 13ms/step - loss: 0.7363 - val_loss: 0.8110\n",
            "Epoch 37/50\n",
            "1382/1382 [==============================] - 18s 13ms/step - loss: 0.7324 - val_loss: 0.8072\n",
            "Epoch 38/50\n",
            "1382/1382 [==============================] - 18s 13ms/step - loss: 0.7286 - val_loss: 0.8067\n",
            "Epoch 39/50\n",
            "1382/1382 [==============================] - 18s 13ms/step - loss: 0.7235 - val_loss: 0.8099\n",
            "Epoch 40/50\n",
            "1382/1382 [==============================] - 18s 13ms/step - loss: 0.7195 - val_loss: 0.8103\n",
            "Epoch 41/50\n",
            "1382/1382 [==============================] - 18s 13ms/step - loss: 0.7155 - val_loss: 0.8031\n",
            "Epoch 42/50\n",
            "1382/1382 [==============================] - 18s 13ms/step - loss: 0.7111 - val_loss: 0.8073\n",
            "Epoch 43/50\n",
            "1382/1382 [==============================] - 18s 13ms/step - loss: 0.7077 - val_loss: 0.8064\n",
            "Epoch 44/50\n",
            "1382/1382 [==============================] - 18s 13ms/step - loss: 0.7030 - val_loss: 0.8137\n",
            "Epoch 45/50\n",
            "1382/1382 [==============================] - 18s 13ms/step - loss: 0.6989 - val_loss: 0.8080\n",
            "Epoch 46/50\n",
            "1382/1382 [==============================] - 18s 13ms/step - loss: 0.6952 - val_loss: 0.8054\n",
            "Epoch 47/50\n",
            "1382/1382 [==============================] - 18s 13ms/step - loss: 0.6917 - val_loss: 0.8035\n",
            "Epoch 48/50\n",
            "1382/1382 [==============================] - 18s 13ms/step - loss: 0.6869 - val_loss: 0.8131\n",
            "Epoch 49/50\n",
            "1382/1382 [==============================] - 18s 13ms/step - loss: 0.6841 - val_loss: 0.8085\n",
            "Epoch 50/50\n",
            "1382/1382 [==============================] - 18s 13ms/step - loss: 0.6809 - val_loss: 0.8090\n"
          ]
        }
      ]
    },
    {
      "cell_type": "code",
      "metadata": {
        "colab": {
          "base_uri": "https://localhost:8080/",
          "height": 279
        },
        "id": "qXq6WbWy4bFZ",
        "outputId": "a00b2c6b-6381-4375-e36e-0b01db20e846"
      },
      "source": [
        "plot_loss(model_2_history)"
      ],
      "execution_count": null,
      "outputs": [
        {
          "data": {
            "image/png": "[encoded data removed]",
            "text/plain": [
              "<Figure size 432x288 with 1 Axes>"
            ]
          },
          "metadata": {},
          "output_type": "display_data"
        }
      ]
    },
    {
      "cell_type": "markdown",
      "metadata": {
        "id": "xQbRFvvDSLyN"
      },
      "source": [
        "# Model 3: GRU, word level \n",
        "Another popular and effective RNN component is the GRU or gated recurrent unit.\n",
        "\n",
        "The GRU cell has similar features to an LSTM cell but has less parameters."
      ]
    },
    {
      "cell_type": "code",
      "metadata": {
        "id": "gbQIjtQISLRP"
      },
      "source": [
        "# Set random seed and create embedding layer (new embedding layer for each model)\n",
        "tf.random.set_seed(42)\n",
        "from tensorflow.keras import layers\n",
        "model_3_embedding = layers.Embedding(input_dim=max_vocab_length,\n",
        "                                     output_dim=64,\n",
        "                                     embeddings_initializer=\"uniform\",\n",
        "                                     input_length=max_length,\n",
        "                                     name=\"embedding_3\")\n",
        "\n",
        "# Build an RNN using the GRU cell\n",
        "inputs = layers.Input(shape=(1,), dtype=\"string\")\n",
        "x = word_vectorizer(inputs)\n",
        "x = model_3_embedding(x)\n",
        "# x = layers.GRU(64, return_sequences=True) # stacking recurrent cells requires return_sequences=True\n",
        "x = layers.GRU(64)(x) \n",
        "# x = layers.Dense(64, activation=\"relu\")(x) # optional dense layer after GRU cell\n",
        "outputs = layers.Dense(1)(x)\n",
        "model_3 = tf.keras.Model(inputs, outputs, name=\"model_3_GRU\")"
      ],
      "execution_count": null,
      "outputs": []
    },
    {
      "cell_type": "code",
      "metadata": {
        "colab": {
          "base_uri": "https://localhost:8080/"
        },
        "id": "ZVk5NB4ZTNN2",
        "outputId": "e98826fa-60d5-4dbf-8e6a-738586c72c43"
      },
      "source": [
        "model_3.compile(loss=\"mean_absolute_error\",\n",
        "                optimizer=tf.keras.optimizers.Adam(learning_rate = 0.0005))\n",
        "model_3.summary()"
      ],
      "execution_count": null,
      "outputs": [
        {
          "name": "stdout",
          "output_type": "stream",
          "text": [
            "Model: \"model_3_GRU\"\n",
            "_________________________________________________________________\n",
            " Layer (type)                Output Shape              Param #   \n",
            "=================================================================\n",
            " input_12 (InputLayer)       [(None, 1)]               0         \n",
            "                                                                 \n",
            " text_vectorization (TextVec  (None, 10)               0         \n",
            " torization)                                                     \n",
            "                                                                 \n",
            " embedding_3 (Embedding)     (None, 10, 64)            1280000   \n",
            "                                                                 \n",
            " gru (GRU)                   (None, 64)                24960     \n",
            "                                                                 \n",
            " dense_14 (Dense)            (None, 1)                 65        \n",
            "                                                                 \n",
            "=================================================================\n",
            "Total params: 1,305,025\n",
            "Trainable params: 1,305,025\n",
            "Non-trainable params: 0\n",
            "_________________________________________________________________\n"
          ]
        }
      ]
    },
    {
      "cell_type": "code",
      "metadata": {
        "colab": {
          "base_uri": "https://localhost:8080/"
        },
        "id": "GDJp6n0XTTK8",
        "outputId": "555e73a2-1ed6-4ef2-e904-3ddd748ea2d6"
      },
      "source": [
        "model_3_history = model_3.fit(X_train_, y_train_, epochs=20, validation_data = (X_val, y_val))"
      ],
      "execution_count": null,
      "outputs": [
        {
          "name": "stdout",
          "output_type": "stream",
          "text": [
            "Epoch 1/20\n",
            "1382/1382 [==============================] - 15s 9ms/step - loss: 1.0545 - val_loss: 0.8089\n",
            "Epoch 2/20\n",
            "1382/1382 [==============================] - 12s 9ms/step - loss: 0.7653 - val_loss: 0.8001\n",
            "Epoch 3/20\n",
            "1382/1382 [==============================] - 12s 9ms/step - loss: 0.7020 - val_loss: 0.7943\n",
            "Epoch 4/20\n",
            "1382/1382 [==============================] - 12s 9ms/step - loss: 0.6620 - val_loss: 0.8011\n",
            "Epoch 5/20\n",
            "1382/1382 [==============================] - 12s 9ms/step - loss: 0.6351 - val_loss: 0.8079\n",
            "Epoch 6/20\n",
            "1382/1382 [==============================] - 12s 9ms/step - loss: 0.6133 - val_loss: 0.8053\n",
            "Epoch 7/20\n",
            "1382/1382 [==============================] - 12s 9ms/step - loss: 0.5932 - val_loss: 0.7998\n",
            "Epoch 8/20\n",
            "1382/1382 [==============================] - 12s 9ms/step - loss: 0.5767 - val_loss: 0.8067\n",
            "Epoch 9/20\n",
            "1382/1382 [==============================] - 12s 9ms/step - loss: 0.5609 - val_loss: 0.7921\n",
            "Epoch 10/20\n",
            "1382/1382 [==============================] - 12s 9ms/step - loss: 0.5445 - val_loss: 0.7948\n",
            "Epoch 11/20\n",
            "1382/1382 [==============================] - 12s 9ms/step - loss: 0.5297 - val_loss: 0.7861\n",
            "Epoch 12/20\n",
            "1382/1382 [==============================] - 12s 8ms/step - loss: 0.5144 - val_loss: 0.7980\n",
            "Epoch 13/20\n",
            "1382/1382 [==============================] - 12s 8ms/step - loss: 0.5019 - val_loss: 0.7885\n",
            "Epoch 14/20\n",
            "1382/1382 [==============================] - 12s 8ms/step - loss: 0.4916 - val_loss: 0.7885\n",
            "Epoch 15/20\n",
            "1382/1382 [==============================] - 12s 8ms/step - loss: 0.4832 - val_loss: 0.7918\n",
            "Epoch 16/20\n",
            "1382/1382 [==============================] - 12s 8ms/step - loss: 0.4755 - val_loss: 0.7894\n",
            "Epoch 17/20\n",
            "1382/1382 [==============================] - 12s 9ms/step - loss: 0.4673 - val_loss: 0.7967\n",
            "Epoch 18/20\n",
            "1382/1382 [==============================] - 12s 9ms/step - loss: 0.4611 - val_loss: 0.8001\n",
            "Epoch 19/20\n",
            "1382/1382 [==============================] - 12s 9ms/step - loss: 0.4543 - val_loss: 0.8063\n",
            "Epoch 20/20\n",
            "1382/1382 [==============================] - 12s 9ms/step - loss: 0.4495 - val_loss: 0.7998\n"
          ]
        }
      ]
    },
    {
      "cell_type": "code",
      "metadata": {
        "colab": {
          "base_uri": "https://localhost:8080/",
          "height": 279
        },
        "id": "r-iqlTg1Tg_E",
        "outputId": "b6cac413-90b5-4da3-a955-a8c589024a14"
      },
      "source": [
        "plot_loss(model_3_history)"
      ],
      "execution_count": null,
      "outputs": [
        {
          "data": {
            "image/png": "[encoded data removed]",
            "text/plain": [
              "<Figure size 432x288 with 1 Axes>"
            ]
          },
          "metadata": {},
          "output_type": "display_data"
        }
      ]
    },
    {
      "cell_type": "markdown",
      "metadata": {
        "id": "HsZcHqo4TnFY"
      },
      "source": [
        "# Model 4: GRU, character level "
      ]
    },
    {
      "cell_type": "code",
      "metadata": {
        "id": "UqZWRE0RTrBi"
      },
      "source": [
        "# Set random seed and create embedding layer (new embedding layer for each model)\n",
        "tf.random.set_seed(42)\n",
        "from tensorflow.keras import layers\n",
        "model_4_embedding = layers.Embedding(input_dim=max_char_length,\n",
        "                                     output_dim=64,\n",
        "                                     embeddings_initializer=\"uniform\",\n",
        "                                     input_length=max_length_char,\n",
        "                                     name=\"embedding_4\")\n",
        "\n",
        "# Build an RNN using the GRU cell\n",
        "inputs = layers.Input(shape=(1,), dtype=\"string\")\n",
        "x = char_vectorizer(inputs)\n",
        "x = model_4_embedding(x)\n",
        "# x = layers.GRU(64, return_sequences=True) # stacking recurrent cells requires return_sequences=True\n",
        "x = layers.GRU(32)(x) \n",
        "# x = layers.Dense(64, activation=\"relu\")(x) # optional dense layer after GRU cell\n",
        "outputs = layers.Dense(1)(x)\n",
        "model_4 = tf.keras.Model(inputs, outputs, name=\"model_4_GRU\")"
      ],
      "execution_count": null,
      "outputs": []
    },
    {
      "cell_type": "code",
      "metadata": {
        "colab": {
          "base_uri": "https://localhost:8080/"
        },
        "id": "ZwY0myNVUHt3",
        "outputId": "00b5cd3b-7c1e-452d-d6a8-a8d2412bce88"
      },
      "source": [
        "model_4.compile(loss=\"mean_absolute_error\",\n",
        "                optimizer=tf.keras.optimizers.Adam(learning_rate = 0.0005))\n",
        "model_4.summary()"
      ],
      "execution_count": null,
      "outputs": [
        {
          "name": "stdout",
          "output_type": "stream",
          "text": [
            "Model: \"model_4_GRU\"\n",
            "_________________________________________________________________\n",
            " Layer (type)                Output Shape              Param #   \n",
            "=================================================================\n",
            " input_13 (InputLayer)       [(None, 1)]               0         \n",
            "                                                                 \n",
            " text_vectorization_4 (TextV  (None, 25)               0         \n",
            " ectorization)                                                   \n",
            "                                                                 \n",
            " embedding_4 (Embedding)     (None, 25, 64)            3200      \n",
            "                                                                 \n",
            " gru_1 (GRU)                 (None, 32)                9408      \n",
            "                                                                 \n",
            " dense_15 (Dense)            (None, 1)                 33        \n",
            "                                                                 \n",
            "=================================================================\n",
            "Total params: 12,641\n",
            "Trainable params: 12,641\n",
            "Non-trainable params: 0\n",
            "_________________________________________________________________\n"
          ]
        }
      ]
    },
    {
      "cell_type": "code",
      "metadata": {
        "colab": {
          "base_uri": "https://localhost:8080/"
        },
        "id": "Na45-lGAURLv",
        "outputId": "2fa7c2d2-6611-4c2b-fc18-7ff07109fe5d"
      },
      "source": [
        "model_4_history = model_4.fit(X_train_, y_train_, epochs=20, validation_data = (X_val, y_val))"
      ],
      "execution_count": null,
      "outputs": [
        {
          "name": "stdout",
          "output_type": "stream",
          "text": [
            "Epoch 1/20\n",
            "1382/1382 [==============================] - 19s 12ms/step - loss: 1.3006 - val_loss: 1.0511\n",
            "Epoch 2/20\n",
            "1382/1382 [==============================] - 16s 12ms/step - loss: 1.0418 - val_loss: 1.0295\n",
            "Epoch 3/20\n",
            "1382/1382 [==============================] - 16s 12ms/step - loss: 1.0237 - val_loss: 1.0156\n",
            "Epoch 4/20\n",
            "1382/1382 [==============================] - 16s 12ms/step - loss: 1.0111 - val_loss: 1.0033\n",
            "Epoch 5/20\n",
            "1382/1382 [==============================] - 16s 12ms/step - loss: 1.0036 - val_loss: 0.9916\n",
            "Epoch 6/20\n",
            "1382/1382 [==============================] - 16s 12ms/step - loss: 0.9929 - val_loss: 0.9794\n",
            "Epoch 7/20\n",
            "1382/1382 [==============================] - 16s 12ms/step - loss: 0.9810 - val_loss: 0.9664\n",
            "Epoch 8/20\n",
            "1382/1382 [==============================] - 16s 12ms/step - loss: 0.9683 - val_loss: 0.9568\n",
            "Epoch 9/20\n",
            "1382/1382 [==============================] - 16s 12ms/step - loss: 0.9554 - val_loss: 0.9645\n",
            "Epoch 10/20\n",
            "1382/1382 [==============================] - 16s 12ms/step - loss: 0.9445 - val_loss: 0.9367\n",
            "Epoch 11/20\n",
            "1382/1382 [==============================] - 16s 12ms/step - loss: 0.9373 - val_loss: 0.9393\n",
            "Epoch 12/20\n",
            "1382/1382 [==============================] - 16s 12ms/step - loss: 0.9287 - val_loss: 0.9230\n",
            "Epoch 13/20\n",
            "1382/1382 [==============================] - 16s 12ms/step - loss: 0.9210 - val_loss: 0.9152\n",
            "Epoch 14/20\n",
            "1382/1382 [==============================] - 16s 11ms/step - loss: 0.9135 - val_loss: 0.9117\n",
            "Epoch 15/20\n",
            "1382/1382 [==============================] - 16s 12ms/step - loss: 0.9056 - val_loss: 0.9021\n",
            "Epoch 16/20\n",
            "1382/1382 [==============================] - 16s 12ms/step - loss: 0.8984 - val_loss: 0.8985\n",
            "Epoch 17/20\n",
            "1382/1382 [==============================] - 16s 12ms/step - loss: 0.8912 - val_loss: 0.8952\n",
            "Epoch 18/20\n",
            "1382/1382 [==============================] - 16s 12ms/step - loss: 0.8846 - val_loss: 0.9090\n",
            "Epoch 19/20\n",
            "1382/1382 [==============================] - 16s 12ms/step - loss: 0.8763 - val_loss: 0.8744\n",
            "Epoch 20/20\n",
            "1382/1382 [==============================] - 16s 11ms/step - loss: 0.8703 - val_loss: 0.8745\n"
          ]
        }
      ]
    },
    {
      "cell_type": "code",
      "metadata": {
        "colab": {
          "base_uri": "https://localhost:8080/",
          "height": 279
        },
        "id": "tm8rfRzFVoIa",
        "outputId": "f7217a6e-6f51-4a90-dde0-35d5765eb68c"
      },
      "source": [
        "plot_loss(model_4_history)"
      ],
      "execution_count": null,
      "outputs": [
        {
          "data": {
            "image/png": "[encoded data removed]",
            "text/plain": [
              "<Figure size 432x288 with 1 Axes>"
            ]
          },
          "metadata": {},
          "output_type": "display_data"
        }
      ]
    },
    {
      "cell_type": "markdown",
      "metadata": {
        "id": "XX8zoM8dUyic"
      },
      "source": [
        "# Model 5: Convolutional Neural Network, word level tokenization"
      ]
    },
    {
      "cell_type": "code",
      "metadata": {
        "id": "Qn8oGjFuUxdY"
      },
      "source": [
        "# Set random seed and create embedding layer (new embedding layer for each model)\n",
        "tf.random.set_seed(42)\n",
        "from tensorflow.keras import layers\n",
        "model_5_embedding = layers.Embedding(input_dim=max_vocab_length,\n",
        "                                     output_dim=64,\n",
        "                                     embeddings_initializer=\"uniform\",\n",
        "                                     input_length=max_length,\n",
        "                                     name=\"embedding_5\")\n",
        "\n",
        "# Create 1-dimensional convolutional layer to model sequences\n",
        "from tensorflow.keras import layers\n",
        "inputs = layers.Input(shape=(1,), dtype=\"string\")\n",
        "x = word_vectorizer(inputs)\n",
        "x = model_5_embedding(x)\n",
        "x = layers.Conv1D(filters=32, kernel_size=5, activation=\"relu\")(x)\n",
        "x = layers.GlobalMaxPool1D()(x)\n",
        "# x = layers.Dense(64, activation=\"relu\")(x) # optional dense layer\n",
        "outputs = layers.Dense(1)(x)\n",
        "model_5 = tf.keras.Model(inputs, outputs, name=\"model_5_Conv1D\")\n"
      ],
      "execution_count": null,
      "outputs": []
    },
    {
      "cell_type": "code",
      "metadata": {
        "colab": {
          "base_uri": "https://localhost:8080/"
        },
        "id": "TV5DAQLhWGCM",
        "outputId": "c54807ae-7db5-480e-8bda-6e2255fae62e"
      },
      "source": [
        "model_5.compile(loss=\"mean_absolute_error\",\n",
        "                optimizer=tf.keras.optimizers.Adam(learning_rate = 0.0005))\n",
        "model_5.summary()"
      ],
      "execution_count": null,
      "outputs": [
        {
          "name": "stdout",
          "output_type": "stream",
          "text": [
            "Model: \"model_5_Conv1D\"\n",
            "_________________________________________________________________\n",
            " Layer (type)                Output Shape              Param #   \n",
            "=================================================================\n",
            " input_15 (InputLayer)       [(None, 1)]               0         \n",
            "                                                                 \n",
            " text_vectorization (TextVec  (None, 10)               0         \n",
            " torization)                                                     \n",
            "                                                                 \n",
            " embedding_5 (Embedding)     (None, 10, 64)            1280000   \n",
            "                                                                 \n",
            " conv1d (Conv1D)             (None, 6, 32)             10272     \n",
            "                                                                 \n",
            " global_max_pooling1d (Globa  (None, 32)               0         \n",
            " lMaxPooling1D)                                                  \n",
            "                                                                 \n",
            " dense_16 (Dense)            (None, 1)                 33        \n",
            "                                                                 \n",
            "=================================================================\n",
            "Total params: 1,290,305\n",
            "Trainable params: 1,290,305\n",
            "Non-trainable params: 0\n",
            "_________________________________________________________________\n"
          ]
        }
      ]
    },
    {
      "cell_type": "code",
      "metadata": {
        "colab": {
          "base_uri": "https://localhost:8080/"
        },
        "id": "gqim0MusWLsk",
        "outputId": "78f7f646-b71f-4596-9b91-6d0ecd948795"
      },
      "source": [
        "model_5_history = model_5.fit(X_train_, y_train_, epochs=10, validation_data = (X_val, y_val))"
      ],
      "execution_count": null,
      "outputs": [
        {
          "name": "stdout",
          "output_type": "stream",
          "text": [
            "Epoch 1/10\n",
            "1382/1382 [==============================] - 10s 7ms/step - loss: 0.4813 - val_loss: 0.8015\n",
            "Epoch 2/10\n",
            "1382/1382 [==============================] - 10s 7ms/step - loss: 0.4686 - val_loss: 0.8007\n",
            "Epoch 3/10\n",
            "1382/1382 [==============================] - 10s 7ms/step - loss: 0.4540 - val_loss: 0.8027\n",
            "Epoch 4/10\n",
            "1382/1382 [==============================] - 10s 7ms/step - loss: 0.4466 - val_loss: 0.8039\n",
            "Epoch 5/10\n",
            "1382/1382 [==============================] - 10s 7ms/step - loss: 0.4369 - val_loss: 0.8055\n",
            "Epoch 6/10\n",
            "1382/1382 [==============================] - 10s 7ms/step - loss: 0.4286 - val_loss: 0.8058\n",
            "Epoch 7/10\n",
            "1382/1382 [==============================] - 10s 7ms/step - loss: 0.4219 - val_loss: 0.8082\n",
            "Epoch 8/10\n",
            "1382/1382 [==============================] - 10s 7ms/step - loss: 0.4148 - val_loss: 0.8081\n",
            "Epoch 9/10\n",
            "1382/1382 [==============================] - 10s 7ms/step - loss: 0.4078 - val_loss: 0.8112\n",
            "Epoch 10/10\n",
            "1382/1382 [==============================] - 10s 7ms/step - loss: 0.4023 - val_loss: 0.8099\n"
          ]
        }
      ]
    },
    {
      "cell_type": "code",
      "metadata": {
        "colab": {
          "base_uri": "https://localhost:8080/",
          "height": 279
        },
        "id": "_hUGRBhOXIQC",
        "outputId": "360ffba5-bc68-4a44-cd58-4af8527391d8"
      },
      "source": [
        "plot_loss(model_5_history)"
      ],
      "execution_count": null,
      "outputs": [
        {
          "data": {
            "image/png": "[encoded data removed]",
            "text/plain": [
              "<Figure size 432x288 with 1 Axes>"
            ]
          },
          "metadata": {},
          "output_type": "display_data"
        }
      ]
    },
    {
      "cell_type": "markdown",
      "metadata": {
        "id": "5j_FlFoHnfQo"
      },
      "source": [
        "# Adding Hygiene Ratings\n",
        "\n",
        "How to combine numeric and text inputs in deep learning models? \n",
        "\n",
        "> **Multiple input models**:  end-to-end model; what happens in such a model is that we basically stack two models on top of each other, but perserve the ability to train stimultaneously by the same target label.\n",
        "\n",
        "\n",
        "\n",
        "\n",
        "![0*tpf_SYzWOebd_7cx.png](data:image/png;base64,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)\n",
        "\n",
        "\n",
        "\n",
        "\n"
      ]
    },
    {
      "cell_type": "code",
      "metadata": {
        "colab": {
          "base_uri": "https://localhost:8080/",
          "height": 204
        },
        "id": "OWeJNPn2o7_p",
        "outputId": "cdc3e9cd-c528-4d68-9198-f6c89b2849cc"
      },
      "source": [
        "ratings = pd.read_csv('ratings.csv')\n",
        "ratings.head()"
      ],
      "execution_count": null,
      "outputs": [
        {
          "output_type": "execute_result",
          "data": {
            "text/html": [
              "\n",
              "  <div id=\"df-96975d5f-2000-4a77-bd98-d2bdac705ed8\">\n",
              "    <div class=\"colab-df-container\">\n",
              "      <div>\n",
              "<style scoped>\n",
              "    .dataframe tbody tr th:only-of-type {\n",
              "        vertical-align: middle;\n",
              "    }\n",
              "\n",
              "    .dataframe tbody tr th {\n",
              "        vertical-align: top;\n",
              "    }\n",
              "\n",
              "    .dataframe thead th {\n",
              "        text-align: right;\n",
              "    }\n",
              "</style>\n",
              "<table border=\"1\" class=\"dataframe\">\n",
              "  <thead>\n",
              "    <tr style=\"text-align: right;\">\n",
              "      <th></th>\n",
              "      <th>Unnamed: 0</th>\n",
              "      <th>0</th>\n",
              "    </tr>\n",
              "  </thead>\n",
              "  <tbody>\n",
              "    <tr>\n",
              "      <th>0</th>\n",
              "      <td>0</td>\n",
              "      <td>Pass</td>\n",
              "    </tr>\n",
              "    <tr>\n",
              "      <th>1</th>\n",
              "      <td>1</td>\n",
              "      <td>NaN</td>\n",
              "    </tr>\n",
              "    <tr>\n",
              "      <th>2</th>\n",
              "      <td>2</td>\n",
              "      <td>Pass</td>\n",
              "    </tr>\n",
              "    <tr>\n",
              "      <th>3</th>\n",
              "      <td>3</td>\n",
              "      <td>NaN</td>\n",
              "    </tr>\n",
              "    <tr>\n",
              "      <th>4</th>\n",
              "      <td>4</td>\n",
              "      <td>Improvement Required</td>\n",
              "    </tr>\n",
              "  </tbody>\n",
              "</table>\n",
              "</div>\n",
              "      <button class=\"colab-df-convert\" onclick=\"convertToInteractive('df-96975d5f-2000-4a77-bd98-d2bdac705ed8')\"\n",
              "              title=\"Convert this dataframe to an interactive table.\"\n",
              "              style=\"display:none;\">\n",
              "        \n",
              "  <svg xmlns=\"http://www.w3.org/2000/svg\" height=\"24px\"viewBox=\"0 0 24 24\"\n",
              "       width=\"24px\">\n",
              "    <path d=\"M0 0h24v24H0V0z\" fill=\"none\"/>\n",
              "    <path d=\"M18.56 5.44l.94 2.06.94-2.06 2.06-.94-2.06-.94-.94-2.06-.94 2.06-2.06.94zm-11 1L8.5 8.5l.94-2.06 2.06-.94-2.06-.94L8.5 2.5l-.94 2.06-2.06.94zm10 10l.94 2.06.94-2.06 2.06-.94-2.06-.94-.94-2.06-.94 2.06-2.06.94z\"/><path d=\"M17.41 7.96l-1.37-1.37c-.4-.4-.92-.59-1.43-.59-.52 0-1.04.2-1.43.59L10.3 9.45l-7.72 7.72c-.78.78-.78 2.05 0 2.83L4 21.41c.39.39.9.59 1.41.59.51 0 1.02-.2 1.41-.59l7.78-7.78 2.81-2.81c.8-.78.8-2.07 0-2.86zM5.41 20L4 18.59l7.72-7.72 1.47 1.35L5.41 20z\"/>\n",
              "  </svg>\n",
              "      </button>\n",
              "      \n",
              "  <style>\n",
              "    .colab-df-container {\n",
              "      display:flex;\n",
              "      flex-wrap:wrap;\n",
              "      gap: 12px;\n",
              "    }\n",
              "\n",
              "    .colab-df-convert {\n",
              "      background-color: #E8F0FE;\n",
              "      border: none;\n",
              "      border-radius: 50%;\n",
              "      cursor: pointer;\n",
              "      display: none;\n",
              "      fill: #1967D2;\n",
              "      height: 32px;\n",
              "      padding: 0 0 0 0;\n",
              "      width: 32px;\n",
              "    }\n",
              "\n",
              "    .colab-df-convert:hover {\n",
              "      background-color: #E2EBFA;\n",
              "      box-shadow: 0px 1px 2px rgba(60, 64, 67, 0.3), 0px 1px 3px 1px rgba(60, 64, 67, 0.15);\n",
              "      fill: #174EA6;\n",
              "    }\n",
              "\n",
              "    [theme=dark] .colab-df-convert {\n",
              "      background-color: #3B4455;\n",
              "      fill: #D2E3FC;\n",
              "    }\n",
              "\n",
              "    [theme=dark] .colab-df-convert:hover {\n",
              "      background-color: #434B5C;\n",
              "      box-shadow: 0px 1px 3px 1px rgba(0, 0, 0, 0.15);\n",
              "      filter: drop-shadow(0px 1px 2px rgba(0, 0, 0, 0.3));\n",
              "      fill: #FFFFFF;\n",
              "    }\n",
              "  </style>\n",
              "\n",
              "      <script>\n",
              "        const buttonEl =\n",
              "          document.querySelector('#df-96975d5f-2000-4a77-bd98-d2bdac705ed8 button.colab-df-convert');\n",
              "        buttonEl.style.display =\n",
              "          google.colab.kernel.accessAllowed ? 'block' : 'none';\n",
              "\n",
              "        async function convertToInteractive(key) {\n",
              "          const element = document.querySelector('#df-96975d5f-2000-4a77-bd98-d2bdac705ed8');\n",
              "          const dataTable =\n",
              "            await google.colab.kernel.invokeFunction('convertToInteractive',\n",
              "                                                     [key], {});\n",
              "          if (!dataTable) return;\n",
              "\n",
              "          const docLinkHtml = 'Like what you see? Visit the ' +\n",
              "            '<a target=\"_blank\" href=https://colab.research.google.com/notebooks/data_table.ipynb>data table notebook</a>'\n",
              "            + ' to learn more about interactive tables.';\n",
              "          element.innerHTML = '';\n",
              "          dataTable['output_type'] = 'display_data';\n",
              "          await google.colab.output.renderOutput(dataTable, element);\n",
              "          const docLink = document.createElement('div');\n",
              "          docLink.innerHTML = docLinkHtml;\n",
              "          element.appendChild(docLink);\n",
              "        }\n",
              "      </script>\n",
              "    </div>\n",
              "  </div>\n",
              "  "
            ],
            "text/plain": [
              "   Unnamed: 0                     0\n",
              "0           0                  Pass\n",
              "1           1                   NaN\n",
              "2           2                  Pass\n",
              "3           3                   NaN\n",
              "4           4  Improvement Required"
            ]
          },
          "metadata": {},
          "execution_count": 12
        }
      ]
    },
    {
      "cell_type": "code",
      "metadata": {
        "colab": {
          "base_uri": "https://localhost:8080/"
        },
        "id": "E6B_HUavs9cS",
        "outputId": "aba66bb6-dad2-43ff-999e-777779db7a72"
      },
      "source": [
        "# How many of the restaurants have food hyginene rating? \n",
        "import collections\n",
        "collections.Counter(ratings.iloc[:,1])"
      ],
      "execution_count": null,
      "outputs": [
        {
          "output_type": "execute_result",
          "data": {
            "text/plain": [
              "Counter({'0': 59,\n",
              "         '1': 985,\n",
              "         '2': 1209,\n",
              "         '3': 6788,\n",
              "         '4': 10075,\n",
              "         '5': 23643,\n",
              "         'Improvement Required': 306,\n",
              "         'Pass': 2820,\n",
              "         'Pass and Eat Safe': 9,\n",
              "         nan: 8681})"
            ]
          },
          "metadata": {},
          "execution_count": 13
        }
      ]
    },
    {
      "cell_type": "code",
      "metadata": {
        "id": "sHjYfCaqs--3"
      },
      "source": [
        "justeat_menu['hyginene'] = ratings.iloc[:,1]"
      ],
      "execution_count": null,
      "outputs": []
    },
    {
      "cell_type": "code",
      "metadata": {
        "colab": {
          "base_uri": "https://localhost:8080/"
        },
        "id": "_f9_OxFztGPA",
        "outputId": "216f25ee-63d2-4b14-baea-8da666bc2b83"
      },
      "source": [
        "# focus on England only: restaurants with hyginene ratings\n",
        "justeat_hr = justeat_menu[justeat_menu['hyginene'].notnull()]\n",
        "justeat_eng = justeat_hr[justeat_hr['hyginene'].str.contains('0|1|2|3|4|5')]\n",
        "justeat_eng['hg_rating'] = justeat_eng.hyginene.astype(\"float64\")\n",
        "justeat_eng['rest_name'] = justeat_eng.rest_name.astype(\"string\")\n",
        "justeat_eng.hg_rating.dtypes, justeat_eng.item_price_median.dtypes"
      ],
      "execution_count": null,
      "outputs": [
        {
          "output_type": "stream",
          "name": "stderr",
          "text": [
            "/usr/local/lib/python3.7/dist-packages/ipykernel_launcher.py:4: SettingWithCopyWarning: \n",
            "A value is trying to be set on a copy of a slice from a DataFrame.\n",
            "Try using .loc[row_indexer,col_indexer] = value instead\n",
            "\n",
            "See the caveats in the documentation: https://pandas.pydata.org/pandas-docs/stable/user_guide/indexing.html#returning-a-view-versus-a-copy\n",
            "  after removing the cwd from sys.path.\n",
            "/usr/local/lib/python3.7/dist-packages/ipykernel_launcher.py:5: SettingWithCopyWarning: \n",
            "A value is trying to be set on a copy of a slice from a DataFrame.\n",
            "Try using .loc[row_indexer,col_indexer] = value instead\n",
            "\n",
            "See the caveats in the documentation: https://pandas.pydata.org/pandas-docs/stable/user_guide/indexing.html#returning-a-view-versus-a-copy\n",
            "  \"\"\"\n"
          ]
        },
        {
          "output_type": "execute_result",
          "data": {
            "text/plain": [
              "(dtype('float64'), dtype('float64'))"
            ]
          },
          "metadata": {},
          "execution_count": 15
        }
      ]
    },
    {
      "cell_type": "code",
      "metadata": {
        "id": "Cq2R1mw9tHZ0"
      },
      "source": [
        "# Train test split \n",
        "\n",
        "# Use train_test_split to split training data into training and test sets\n",
        "train_data, test_data, train_label, test_label = train_test_split(justeat_eng[[\"rest_name\",'hg_rating']],\n",
        "                                                                            justeat_eng[\"predict\"],\n",
        "                                                                            test_size=0.1, # dedicate 10% of samples to test set\n",
        "                                                                            random_state=42) # random state for repr"
      ],
      "execution_count": null,
      "outputs": []
    },
    {
      "cell_type": "code",
      "metadata": {
        "id": "VJz7xwiatQ8M"
      },
      "source": [
        "# Train validation Split \n",
        "X_train_hr, X_val_hr, y_train_hr, y_val_hr = train_test_split(train_data,train_label,test_size=0.1, random_state=42)"
      ],
      "execution_count": null,
      "outputs": []
    },
    {
      "cell_type": "markdown",
      "metadata": {
        "id": "uFkKBjA1pQFx"
      },
      "source": [
        "# Model 6: GRU, word level, add food hygiene rating"
      ]
    },
    {
      "cell_type": "code",
      "metadata": {
        "id": "L3N8lq07pWrO"
      },
      "source": [
        "#import tensorflow as tf\n",
        "#from tensorflow.keras import layers\n",
        "nlp_input = tf.keras.Input(shape=(10,), name='nlp_input')\n",
        "#nlp_token = word_vectorizer(nlp_input)\n",
        "hygiene_input = tf.keras.Input(shape=(1,), name='hygiene_input')\n",
        "#hygiene_out = layers.Dense(64, activation = 'relu')(hygiene_input)\n",
        "emb = layers.Embedding(output_dim=64, input_dim=max_vocab_length, input_length=max_length)(nlp_input)\n",
        "nlp_out = layers.GRU(64)(emb)\n",
        "x = tf.concat([nlp_out, hygiene_input],1)\n",
        "x = layers.Dense(64, activation='relu')(x)\n",
        "x = layers.Dense(1)(x)\n",
        "model_6 = tf.keras.Model(inputs=[nlp_input , hygiene_input], outputs=[x])"
      ],
      "execution_count": null,
      "outputs": []
    },
    {
      "cell_type": "code",
      "metadata": {
        "colab": {
          "base_uri": "https://localhost:8080/"
        },
        "id": "ZLgkdnfrr-fU",
        "outputId": "c4229511-fa3e-42b0-d416-e6a4ae9ae4ea"
      },
      "source": [
        "model_6.compile(loss=\"mean_absolute_error\",\n",
        "                optimizer=tf.keras.optimizers.Adam(0.0005,epsilon= 1e-6))\n",
        "\n",
        "model_6.summary()"
      ],
      "execution_count": null,
      "outputs": [
        {
          "name": "stdout",
          "output_type": "stream",
          "text": [
            "Model: \"model_11\"\n",
            "__________________________________________________________________________________________________\n",
            " Layer (type)                   Output Shape         Param #     Connected to                     \n",
            "==================================================================================================\n",
            " nlp_input (InputLayer)         [(None, 10)]         0           []                               \n",
            "                                                                                                  \n",
            " embedding_11 (Embedding)       (None, 10, 64)       1280000     ['nlp_input[0][0]']              \n",
            "                                                                                                  \n",
            " gru_11 (GRU)                   (None, 64)           24960       ['embedding_11[0][0]']           \n",
            "                                                                                                  \n",
            " hygiene_input (InputLayer)     [(None, 1)]          0           []                               \n",
            "                                                                                                  \n",
            " tf.concat_11 (TFOpLambda)      (None, 65)           0           ['gru_11[0][0]',                 \n",
            "                                                                  'hygiene_input[0][0]']          \n",
            "                                                                                                  \n",
            " dense_24 (Dense)               (None, 64)           4224        ['tf.concat_11[0][0]']           \n",
            "                                                                                                  \n",
            " dense_25 (Dense)               (None, 1)            65          ['dense_24[0][0]']               \n",
            "                                                                                                  \n",
            "==================================================================================================\n",
            "Total params: 1,309,249\n",
            "Trainable params: 1,309,249\n",
            "Non-trainable params: 0\n",
            "__________________________________________________________________________________________________\n"
          ]
        }
      ]
    },
    {
      "cell_type": "code",
      "metadata": {
        "id": "VC7H1OVvfwHo"
      },
      "source": [
        "import tensorflow as tf\n",
        "from tensorflow.keras.layers import TextVectorization\n",
        "# Setup text vectorization with custom variables\n",
        "max_vocab_length=20000\n",
        "max_length = 10 # max length our sequences will be (e.g. how many words from the restaurant name does our model see?)\n",
        "\n",
        "word_vectorizer = TextVectorization(output_mode=\"int\",\n",
        "                                    max_tokens = max_vocab_length,\n",
        "                                    split = \"whitespace\",\n",
        "                                    standardize =\"lower_and_strip_punctuation\",\n",
        "                                    output_sequence_length=max_length)\n",
        "word_vectorizer.adapt(X_train_hr['rest_name'])"
      ],
      "execution_count": null,
      "outputs": []
    },
    {
      "cell_type": "code",
      "metadata": {
        "colab": {
          "base_uri": "https://localhost:8080/",
          "height": 664
        },
        "id": "GH8OxlPNf4DG",
        "outputId": "31f50b94-c9e6-4740-bfb0-3a1ddf84de1a"
      },
      "source": [
        "X_train_hr_name = word_vectorizer(tf.convert_to_tensor(X_train_hr['rest_name'].values))\n",
        "print(X_train_hr_name.shape)\n",
        "\n",
        "X_val_hr_name = word_vectorizer(tf.convert_to_tensor(X_val_hr['rest_name'].values))\n",
        "print(X_val_hr_name.shape)"
      ],
      "execution_count": null,
      "outputs": [
        {
          "output_type": "error",
          "ename": "FailedPreconditionError",
          "evalue": "ignored",
          "traceback": [
            "\u001b[0;31m---------------------------------------------------------------------------\u001b[0m",
            "\u001b[0;31mFailedPreconditionError\u001b[0m                   Traceback (most recent call last)",
            "\u001b[0;32m<ipython-input-59-ba18f85b26f1>\u001b[0m in \u001b[0;36m<module>\u001b[0;34m()\u001b[0m\n\u001b[0;32m----> 1\u001b[0;31m \u001b[0mX_train_hr_name\u001b[0m \u001b[0;34m=\u001b[0m \u001b[0mword_vectorizer\u001b[0m\u001b[0;34m(\u001b[0m\u001b[0mtf\u001b[0m\u001b[0;34m.\u001b[0m\u001b[0mconvert_to_tensor\u001b[0m\u001b[0;34m(\u001b[0m\u001b[0mX_train_hr\u001b[0m\u001b[0;34m[\u001b[0m\u001b[0;34m'rest_name'\u001b[0m\u001b[0;34m]\u001b[0m\u001b[0;34m.\u001b[0m\u001b[0mvalues\u001b[0m\u001b[0;34m)\u001b[0m\u001b[0;34m)\u001b[0m\u001b[0;34m\u001b[0m\u001b[0;34m\u001b[0m\u001b[0m\n\u001b[0m\u001b[1;32m      2\u001b[0m \u001b[0mprint\u001b[0m\u001b[0;34m(\u001b[0m\u001b[0mX_train_hr_name\u001b[0m\u001b[0;34m.\u001b[0m\u001b[0mshape\u001b[0m\u001b[0;34m)\u001b[0m\u001b[0;34m\u001b[0m\u001b[0;34m\u001b[0m\u001b[0m\n\u001b[1;32m      3\u001b[0m \u001b[0;34m\u001b[0m\u001b[0m\n\u001b[1;32m      4\u001b[0m \u001b[0mX_val_hr_name\u001b[0m \u001b[0;34m=\u001b[0m \u001b[0mword_vectorizer\u001b[0m\u001b[0;34m(\u001b[0m\u001b[0mtf\u001b[0m\u001b[0;34m.\u001b[0m\u001b[0mconvert_to_tensor\u001b[0m\u001b[0;34m(\u001b[0m\u001b[0mX_val_hr\u001b[0m\u001b[0;34m[\u001b[0m\u001b[0;34m'rest_name'\u001b[0m\u001b[0;34m]\u001b[0m\u001b[0;34m.\u001b[0m\u001b[0mvalues\u001b[0m\u001b[0;34m)\u001b[0m\u001b[0;34m)\u001b[0m\u001b[0;34m\u001b[0m\u001b[0;34m\u001b[0m\u001b[0m\n\u001b[1;32m      5\u001b[0m \u001b[0mprint\u001b[0m\u001b[0;34m(\u001b[0m\u001b[0mX_val_hr_name\u001b[0m\u001b[0;34m.\u001b[0m\u001b[0mshape\u001b[0m\u001b[0;34m)\u001b[0m\u001b[0;34m\u001b[0m\u001b[0;34m\u001b[0m\u001b[0m\n",
            "\u001b[0;32m/usr/local/lib/python3.7/dist-packages/keras/utils/traceback_utils.py\u001b[0m in \u001b[0;36merror_handler\u001b[0;34m(*args, **kwargs)\u001b[0m\n\u001b[1;32m     65\u001b[0m     \u001b[0;32mexcept\u001b[0m \u001b[0mException\u001b[0m \u001b[0;32mas\u001b[0m \u001b[0me\u001b[0m\u001b[0;34m:\u001b[0m  \u001b[0;31m# pylint: disable=broad-except\u001b[0m\u001b[0;34m\u001b[0m\u001b[0;34m\u001b[0m\u001b[0m\n\u001b[1;32m     66\u001b[0m       \u001b[0mfiltered_tb\u001b[0m \u001b[0;34m=\u001b[0m \u001b[0m_process_traceback_frames\u001b[0m\u001b[0;34m(\u001b[0m\u001b[0me\u001b[0m\u001b[0;34m.\u001b[0m\u001b[0m__traceback__\u001b[0m\u001b[0;34m)\u001b[0m\u001b[0;34m\u001b[0m\u001b[0;34m\u001b[0m\u001b[0m\n\u001b[0;32m---> 67\u001b[0;31m       \u001b[0;32mraise\u001b[0m \u001b[0me\u001b[0m\u001b[0;34m.\u001b[0m\u001b[0mwith_traceback\u001b[0m\u001b[0;34m(\u001b[0m\u001b[0mfiltered_tb\u001b[0m\u001b[0;34m)\u001b[0m \u001b[0;32mfrom\u001b[0m \u001b[0;32mNone\u001b[0m\u001b[0;34m\u001b[0m\u001b[0;34m\u001b[0m\u001b[0m\n\u001b[0m\u001b[1;32m     68\u001b[0m     \u001b[0;32mfinally\u001b[0m\u001b[0;34m:\u001b[0m\u001b[0;34m\u001b[0m\u001b[0;34m\u001b[0m\u001b[0m\n\u001b[1;32m     69\u001b[0m       \u001b[0;32mdel\u001b[0m \u001b[0mfiltered_tb\u001b[0m\u001b[0;34m\u001b[0m\u001b[0;34m\u001b[0m\u001b[0m\n",
            "\u001b[0;32m/usr/local/lib/python3.7/dist-packages/keras/layers/preprocessing/index_lookup.py\u001b[0m in \u001b[0;36m_lookup_dense\u001b[0;34m(self, inputs)\u001b[0m\n\u001b[1;32m    667\u001b[0m       \u001b[0mlookups\u001b[0m \u001b[0;34m=\u001b[0m \u001b[0mtf\u001b[0m\u001b[0;34m.\u001b[0m\u001b[0mzeros_like\u001b[0m\u001b[0;34m(\u001b[0m\u001b[0minputs\u001b[0m\u001b[0;34m,\u001b[0m \u001b[0mdtype\u001b[0m\u001b[0;34m=\u001b[0m\u001b[0mself\u001b[0m\u001b[0;34m.\u001b[0m\u001b[0m_value_dtype\u001b[0m\u001b[0;34m)\u001b[0m\u001b[0;34m\u001b[0m\u001b[0;34m\u001b[0m\u001b[0m\n\u001b[1;32m    668\u001b[0m     \u001b[0;32melse\u001b[0m\u001b[0;34m:\u001b[0m\u001b[0;34m\u001b[0m\u001b[0;34m\u001b[0m\u001b[0m\n\u001b[0;32m--> 669\u001b[0;31m       \u001b[0mlookups\u001b[0m \u001b[0;34m=\u001b[0m \u001b[0mself\u001b[0m\u001b[0;34m.\u001b[0m\u001b[0mlookup_table\u001b[0m\u001b[0;34m.\u001b[0m\u001b[0mlookup\u001b[0m\u001b[0;34m(\u001b[0m\u001b[0minputs\u001b[0m\u001b[0;34m)\u001b[0m\u001b[0;34m\u001b[0m\u001b[0;34m\u001b[0m\u001b[0m\n\u001b[0m\u001b[1;32m    670\u001b[0m \u001b[0;34m\u001b[0m\u001b[0m\n\u001b[1;32m    671\u001b[0m     \u001b[0;32mif\u001b[0m \u001b[0mself\u001b[0m\u001b[0;34m.\u001b[0m\u001b[0mmask_token\u001b[0m \u001b[0;32mis\u001b[0m \u001b[0;32mnot\u001b[0m \u001b[0;32mNone\u001b[0m\u001b[0;34m:\u001b[0m\u001b[0;34m\u001b[0m\u001b[0;34m\u001b[0m\u001b[0m\n",
            "\u001b[0;31mFailedPreconditionError\u001b[0m: Exception encountered when calling layer \"string_lookup\" (type StringLookup).\n\nTable not initialized. [Op:LookupTableFindV2]\n\nCall arguments received:\n  • inputs=<tf.RaggedTensor [[b'tiffin', b'wala'], [b'papa', b'johns', b'hinckley'], [b'menad', b'turkish', b'restaurant', b'meze', b'bar'], [b'bhaizans', b'grill'], [b'panache', b'fine', b'indian', b'cuisine', b'restaurant'], [b'rossi\\xe2\\x80\\x99s'], [b'walnut', b'tree', b'traditional', b'fish', b'chips'], [b'bambu'], [b'dynasty', b'chinese', b'restaurant'], [b'tasty', b'bites'], [b'gusto', b'italian'], [b'pizza', b'bros'], [b'new', b'kam', b'tong'], [b'fancy', b'thai'], [b'il', b'peperone', b'piccante'], [b'romans', b'pizza'], [b'batman', b'grill'], [b'taste', b'of', b'india'], [b'ashton\\xe2\\x80\\x99s', b'fish', b'and', b'chips'], [b'bengal', b'delight'], [b'pizza', b'pork', b'joint'], [b'subway', b'pride', b'park'], [b'marcos', b'italian', b'takeaway'], [b'flames', b'grill'], [b'western', b'peri', b'peri', b'shawarma'], [b'fratellis'], [b'ms', b'cafe'], [b'kfc', b'rochford', b'cherry', b'orchard', b'way'], [b'mannicitas'], [b'friends', b'fish', b'bar'], [b'shalimar', b'gardens'], [b'golden', b'empire', b'chinese', b'restaurant'], [b'pasta', b'rasta'], [b'hello', b'pizza', b'burger'], [b'mr', b'wings'], [b'kfc', b'plymouth', b'mutley', b'plain'], [b'alis', b'turkish', b'kebab', b'pizza'], [b'the', b'british', b'raj'], [b'shandaar', b'sweets', b'ice', b'cream', b'bar'], [b'breakfast', b'station'], [b'fireaway', b'designer', b'pizza', b'bermondsey'], [b'madina', b'food', b'store'], [b'zorbas', b'bar', b'and', b'grill'], [b'warwick', b'spice'], [b'wimpy', b'rayleigh'], [b'th..."
          ]
        }
      ]
    },
    {
      "cell_type": "code",
      "metadata": {
        "colab": {
          "base_uri": "https://localhost:8080/"
        },
        "id": "nzD09iLshBII",
        "outputId": "aa05c20c-1a79-43a6-aa65-8c87d9de7f6c"
      },
      "source": [
        "X_train_hr_hr = X_train_hr['hg_rating'].values\n",
        "print(X_train_hr_hr.shape)\n",
        "\n",
        "X_val_hr_hr = X_val_hr['hg_rating'].values\n",
        "print(X_val_hr_hr.shape)"
      ],
      "execution_count": null,
      "outputs": [
        {
          "output_type": "stream",
          "name": "stdout",
          "text": [
            "(34634,)\n",
            "(3849,)\n"
          ]
        }
      ]
    },
    {
      "cell_type": "code",
      "metadata": {
        "colab": {
          "base_uri": "https://localhost:8080/",
          "height": 564
        },
        "id": "j5JMv8U0eDdE",
        "outputId": "89cbb84f-9eff-4701-cf03-050bbee2ad26"
      },
      "source": [
        "from tensorflow.keras.utils import plot_model\n",
        "plot_model(model_6)"
      ],
      "execution_count": null,
      "outputs": [
        {
          "output_type": "execute_result",
          "data": {
            "image/png": "[encoded data removed]",
            "text/plain": [
              "<IPython.core.display.Image object>"
            ]
          },
          "metadata": {},
          "execution_count": 60
        }
      ]
    },
    {
      "cell_type": "code",
      "metadata": {
        "colab": {
          "base_uri": "https://localhost:8080/"
        },
        "id": "E6LwdiYtsP6B",
        "outputId": "1f22cbc7-c34b-4069-b15b-9ed1bf53c14f"
      },
      "source": [
        "model_6_history = model_6.fit([X_train_hr_name,X_train_hr_hr], y_train_hr, epochs=10,\n",
        "                              validation_data = ([X_val_hr_name,X_val_hr_hr], y_val_hr))"
      ],
      "execution_count": null,
      "outputs": [
        {
          "name": "stdout",
          "output_type": "stream",
          "text": [
            "Epoch 1/10\n",
            "1083/1083 [==============================] - 11s 9ms/step - loss: 1.0541 - val_loss: 0.8388\n",
            "Epoch 2/10\n",
            "1083/1083 [==============================] - 8s 8ms/step - loss: 0.7528 - val_loss: 0.8081\n",
            "Epoch 3/10\n",
            "1083/1083 [==============================] - 9s 8ms/step - loss: 0.6813 - val_loss: 0.8454\n",
            "Epoch 4/10\n",
            "1083/1083 [==============================] - 9s 8ms/step - loss: 0.6361 - val_loss: 0.8080\n",
            "Epoch 5/10\n",
            "1083/1083 [==============================] - 8s 8ms/step - loss: 0.6019 - val_loss: 0.8101\n",
            "Epoch 6/10\n",
            "1083/1083 [==============================] - 9s 8ms/step - loss: 0.5790 - val_loss: 0.7932\n",
            "Epoch 7/10\n",
            "1083/1083 [==============================] - 9s 8ms/step - loss: 0.5624 - val_loss: 0.7952\n",
            "Epoch 8/10\n",
            "1083/1083 [==============================] - 9s 8ms/step - loss: 0.5415 - val_loss: 0.7789\n",
            "Epoch 9/10\n",
            "1083/1083 [==============================] - 9s 8ms/step - loss: 0.5233 - val_loss: 0.7751\n",
            "Epoch 10/10\n",
            "1083/1083 [==============================] - 8s 8ms/step - loss: 0.5064 - val_loss: 0.7872\n"
          ]
        }
      ]
    },
    {
      "cell_type": "code",
      "metadata": {
        "colab": {
          "base_uri": "https://localhost:8080/",
          "height": 279
        },
        "id": "0OfNyjW1rCSK",
        "outputId": "47eacd64-e37a-4a61-f3d5-a2b7a021dc3f"
      },
      "source": [
        "plot_loss(model_6_history)"
      ],
      "execution_count": null,
      "outputs": [
        {
          "data": {
            "image/png": "[encoded data removed]",
            "text/plain": [
              "<Figure size 432x288 with 1 Axes>"
            ]
          },
          "metadata": {},
          "output_type": "display_data"
        }
      ]
    },
    {
      "cell_type": "markdown",
      "metadata": {
        "id": "PyK1Tj-mrUUe"
      },
      "source": [
        "# Model 7: GRU, character level, add food hygiene rating"
      ]
    },
    {
      "cell_type": "code",
      "metadata": {
        "id": "f-agKSGorcJ9"
      },
      "source": [
        "import tensorflow as tf\n",
        "from tensorflow.keras import layers\n",
        "\n",
        "nlp_input = tf.keras.Input(shape=(25,), name='nlp_input')\n",
        "#nlp_token = word_vectorizer(nlp_input)\n",
        "hygiene_input = tf.keras.Input(shape=(1,), name='hygiene_input')\n",
        "#hygiene_out = layers.Dense(64, activation = 'relu')(hygiene_input)\n",
        "emb = layers.Embedding(output_dim=64, input_dim=max_char_length, input_length=max_length_char)(nlp_input)\n",
        "nlp_out = layers.GRU(64)(emb)\n",
        "x = tf.concat([nlp_out, hygiene_input],1)\n",
        "x = layers.Dense(64, activation='relu')(x)\n",
        "x = layers.Dense(1)(x)\n",
        "model_7 = tf.keras.Model(inputs=[nlp_input , hygiene_input], outputs=[x])"
      ],
      "execution_count": null,
      "outputs": []
    },
    {
      "cell_type": "code",
      "metadata": {
        "id": "goowWQ1krld9"
      },
      "source": [
        "# set up character level tokenization\n",
        "from tensorflow.keras.layers import TextVectorization\n",
        "max_length_char = 25 # max length our sequences will be (e.g. how many characters from the restaurant name does our model see?)\n",
        "max_char_length = 50\n",
        "\n",
        "def char_split(input_data):\n",
        "  return(tf.strings.unicode_split(input_data,'UTF-8'))\n",
        "\n",
        "char_vectorizer = TextVectorization(max_tokens = max_char_length, \n",
        "                                    output_mode=\"int\",\n",
        "                                    split = char_split,\n",
        "                                    standardize =\"lower_and_strip_punctuation\",\n",
        "                                    output_sequence_length=max_length_char)"
      ],
      "execution_count": null,
      "outputs": []
    },
    {
      "cell_type": "code",
      "metadata": {
        "colab": {
          "base_uri": "https://localhost:8080/"
        },
        "id": "phm3ajKerwDT",
        "outputId": "3f156654-5cdf-425d-c99d-0c10298944be"
      },
      "source": [
        "char_vectorizer.adapt(X_train_hr['rest_name'])\n",
        "\n",
        "X_train_hr_name_char = char_vectorizer(tf.convert_to_tensor(X_train_hr['rest_name'].values))\n",
        "print(X_train_hr_name_char.shape)\n",
        "\n",
        "X_val_hr_name_char = char_vectorizer(tf.convert_to_tensor(X_val_hr['rest_name'].values))\n",
        "print(X_val_hr_name_char.shape)"
      ],
      "execution_count": null,
      "outputs": [
        {
          "output_type": "stream",
          "name": "stdout",
          "text": [
            "(34634, 25)\n",
            "(3849, 25)\n"
          ]
        }
      ]
    },
    {
      "cell_type": "code",
      "metadata": {
        "colab": {
          "base_uri": "https://localhost:8080/"
        },
        "id": "6nOgCS8RsidZ",
        "outputId": "2567b804-3bd1-4e9f-98d6-49029d0c4c5c"
      },
      "source": [
        "model_7.compile(loss=\"mean_squared_error\",\n",
        "                optimizer=tf.keras.optimizers.Adam(0.0005,epsilon= 1e-6),\n",
        "                metrics = ['mae','mean_absolute_percentage_error'])\n",
        "\n",
        "model_7.summary()"
      ],
      "execution_count": null,
      "outputs": [
        {
          "output_type": "stream",
          "name": "stdout",
          "text": [
            "Model: \"model\"\n",
            "__________________________________________________________________________________________________\n",
            " Layer (type)                   Output Shape         Param #     Connected to                     \n",
            "==================================================================================================\n",
            " nlp_input (InputLayer)         [(None, 25)]         0           []                               \n",
            "                                                                                                  \n",
            " embedding (Embedding)          (None, 25, 64)       3200        ['nlp_input[0][0]']              \n",
            "                                                                                                  \n",
            " gru (GRU)                      (None, 64)           24960       ['embedding[0][0]']              \n",
            "                                                                                                  \n",
            " hygiene_input (InputLayer)     [(None, 1)]          0           []                               \n",
            "                                                                                                  \n",
            " tf.concat (TFOpLambda)         (None, 65)           0           ['gru[0][0]',                    \n",
            "                                                                  'hygiene_input[0][0]']          \n",
            "                                                                                                  \n",
            " dense (Dense)                  (None, 64)           4224        ['tf.concat[0][0]']              \n",
            "                                                                                                  \n",
            " dense_1 (Dense)                (None, 1)            65          ['dense[0][0]']                  \n",
            "                                                                                                  \n",
            "==================================================================================================\n",
            "Total params: 32,449\n",
            "Trainable params: 32,449\n",
            "Non-trainable params: 0\n",
            "__________________________________________________________________________________________________\n"
          ]
        }
      ]
    },
    {
      "cell_type": "code",
      "metadata": {
        "colab": {
          "base_uri": "https://localhost:8080/"
        },
        "id": "ypG-2Qwdszpm",
        "outputId": "18c56db9-df93-43c3-92a7-bc04c864950d"
      },
      "source": [
        "model_7_history = model_7.fit([X_train_hr_name_char,X_train_hr.hg_rating], y_train_hr, epochs=20,\n",
        "                              validation_data = ([X_val_hr_name_char,X_val_hr.hg_rating], y_val_hr))"
      ],
      "execution_count": null,
      "outputs": [
        {
          "output_type": "stream",
          "name": "stdout",
          "text": [
            "Epoch 1/20\n",
            "1083/1083 [==============================] - 11s 10ms/step - loss: 1.1950 - mae: 0.8141 - mean_absolute_percentage_error: 16.6380 - val_loss: 1.3022 - val_mae: 0.8445 - val_mean_absolute_percentage_error: 17.8599\n",
            "Epoch 2/20\n",
            "1083/1083 [==============================] - 11s 10ms/step - loss: 1.1804 - mae: 0.8079 - mean_absolute_percentage_error: 16.4673 - val_loss: 1.2937 - val_mae: 0.8377 - val_mean_absolute_percentage_error: 17.6360\n",
            "Epoch 3/20\n",
            "1083/1083 [==============================] - 11s 10ms/step - loss: 1.1642 - mae: 0.8019 - mean_absolute_percentage_error: 16.2804 - val_loss: 1.2832 - val_mae: 0.8310 - val_mean_absolute_percentage_error: 17.5787\n",
            "Epoch 4/20\n",
            "1083/1083 [==============================] - 11s 10ms/step - loss: 1.1455 - mae: 0.7955 - mean_absolute_percentage_error: 16.1820 - val_loss: 1.2551 - val_mae: 0.8229 - val_mean_absolute_percentage_error: 16.7137\n",
            "Epoch 5/20\n",
            "1083/1083 [==============================] - 11s 10ms/step - loss: 1.1291 - mae: 0.7899 - mean_absolute_percentage_error: 16.0184 - val_loss: 1.2451 - val_mae: 0.8164 - val_mean_absolute_percentage_error: 17.0987\n",
            "Epoch 6/20\n",
            "1083/1083 [==============================] - 11s 10ms/step - loss: 1.1113 - mae: 0.7827 - mean_absolute_percentage_error: 15.8097 - val_loss: 1.2457 - val_mae: 0.8214 - val_mean_absolute_percentage_error: 16.8653\n",
            "Epoch 7/20\n",
            "1083/1083 [==============================] - 11s 10ms/step - loss: 1.1004 - mae: 0.7798 - mean_absolute_percentage_error: 15.7244 - val_loss: 1.2475 - val_mae: 0.8173 - val_mean_absolute_percentage_error: 16.4343\n",
            "Epoch 8/20\n",
            "1083/1083 [==============================] - 11s 10ms/step - loss: 1.0864 - mae: 0.7748 - mean_absolute_percentage_error: 15.6575 - val_loss: 1.2563 - val_mae: 0.8163 - val_mean_absolute_percentage_error: 17.1506\n",
            "Epoch 9/20\n",
            "1083/1083 [==============================] - 11s 10ms/step - loss: 1.0715 - mae: 0.7690 - mean_absolute_percentage_error: 15.4113 - val_loss: 1.2552 - val_mae: 0.8196 - val_mean_absolute_percentage_error: 16.6457\n",
            "Epoch 10/20\n",
            "1083/1083 [==============================] - 11s 10ms/step - loss: 1.0550 - mae: 0.7630 - mean_absolute_percentage_error: 15.2715 - val_loss: 1.2454 - val_mae: 0.8166 - val_mean_absolute_percentage_error: 16.7356\n",
            "Epoch 11/20\n",
            "1083/1083 [==============================] - 11s 10ms/step - loss: 1.0423 - mae: 0.7597 - mean_absolute_percentage_error: 15.1433 - val_loss: 1.2400 - val_mae: 0.8145 - val_mean_absolute_percentage_error: 17.0563\n",
            "Epoch 12/20\n",
            "1083/1083 [==============================] - 11s 10ms/step - loss: 1.0275 - mae: 0.7538 - mean_absolute_percentage_error: 15.0125 - val_loss: 1.2480 - val_mae: 0.8168 - val_mean_absolute_percentage_error: 16.6058\n",
            "Epoch 13/20\n",
            "1083/1083 [==============================] - 11s 10ms/step - loss: 1.0135 - mae: 0.7467 - mean_absolute_percentage_error: 14.7936 - val_loss: 1.2565 - val_mae: 0.8088 - val_mean_absolute_percentage_error: 17.0278\n",
            "Epoch 14/20\n",
            "1083/1083 [==============================] - 11s 10ms/step - loss: 0.9974 - mae: 0.7415 - mean_absolute_percentage_error: 14.7310 - val_loss: 1.2558 - val_mae: 0.8173 - val_mean_absolute_percentage_error: 16.5056\n",
            "Epoch 15/20\n",
            "1083/1083 [==============================] - 11s 10ms/step - loss: 0.9859 - mae: 0.7373 - mean_absolute_percentage_error: 14.5857 - val_loss: 1.2704 - val_mae: 0.8306 - val_mean_absolute_percentage_error: 16.6488\n",
            "Epoch 16/20\n",
            "1083/1083 [==============================] - 11s 10ms/step - loss: 0.9734 - mae: 0.7322 - mean_absolute_percentage_error: 14.3734 - val_loss: 1.2424 - val_mae: 0.8087 - val_mean_absolute_percentage_error: 16.5602\n",
            "Epoch 17/20\n",
            "1083/1083 [==============================] - 11s 10ms/step - loss: 0.9579 - mae: 0.7261 - mean_absolute_percentage_error: 14.2540 - val_loss: 1.2481 - val_mae: 0.8061 - val_mean_absolute_percentage_error: 16.8124\n",
            "Epoch 18/20\n",
            "1083/1083 [==============================] - 11s 10ms/step - loss: 0.9468 - mae: 0.7233 - mean_absolute_percentage_error: 14.1518 - val_loss: 1.2375 - val_mae: 0.8111 - val_mean_absolute_percentage_error: 16.2272\n",
            "Epoch 19/20\n",
            "1083/1083 [==============================] - 11s 10ms/step - loss: 0.9371 - mae: 0.7200 - mean_absolute_percentage_error: 14.0500 - val_loss: 1.2452 - val_mae: 0.8096 - val_mean_absolute_percentage_error: 16.4894\n",
            "Epoch 20/20\n",
            "1083/1083 [==============================] - 11s 10ms/step - loss: 0.9209 - mae: 0.7121 - mean_absolute_percentage_error: 13.8825 - val_loss: 1.2462 - val_mae: 0.8073 - val_mean_absolute_percentage_error: 16.4848\n"
          ]
        }
      ]
    },
    {
      "cell_type": "code",
      "metadata": {
        "colab": {
          "base_uri": "https://localhost:8080/",
          "height": 279
        },
        "id": "Jv3pu7mfuiaW",
        "outputId": "c356d236-bc4d-4e50-e13f-260b74dede2f"
      },
      "source": [
        "plot_loss(model_7_history)"
      ],
      "execution_count": null,
      "outputs": [
        {
          "output_type": "display_data",
          "data": {
            "image/png": "[encoded data removed]",
            "text/plain": [
              "<Figure size 432x288 with 1 Axes>"
            ]
          },
          "metadata": {
            "needs_background": "light"
          }
        }
      ]
    },
    {
      "cell_type": "markdown",
      "metadata": {
        "id": "C8-J4RiavaNI"
      },
      "source": [
        "# Model 8: GRU, character level, add food hygiene rating, change activation function"
      ]
    },
    {
      "cell_type": "code",
      "metadata": {
        "id": "JvEhAIS3wCVL"
      },
      "source": [
        "# Using Tanh instead of Relu \n",
        "nlp_input = tf.keras.Input(shape=(25,), name='nlp_input')\n",
        "#nlp_token = word_vectorizer(nlp_input)\n",
        "hygiene_input = tf.keras.Input(shape=(1,), name='hygiene_input')\n",
        "#hygiene_out = layers.Dense(64, activation = 'relu')(hygiene_input)\n",
        "emb = layers.Embedding(output_dim=64, input_dim=max_vocab_length, input_length=max_length)(nlp_input)\n",
        "nlp_out = layers.GRU(64)(emb)\n",
        "x = tf.concat([nlp_out, hygiene_input],1)\n",
        "x = layers.Dense(64, activation='tanh')(x)\n",
        "x = layers.Dense(1)(x)\n",
        "model_8 = tf.keras.Model(inputs=[nlp_input , hygiene_input], outputs=[x])"
      ],
      "execution_count": null,
      "outputs": []
    },
    {
      "cell_type": "code",
      "metadata": {
        "id": "sSEgu7v6wzPC"
      },
      "source": [
        "model_8.compile(loss=\"mean_absolute_error\",\n",
        "                optimizer=tf.keras.optimizers.Adam())\n"
      ],
      "execution_count": null,
      "outputs": []
    },
    {
      "cell_type": "code",
      "metadata": {
        "colab": {
          "base_uri": "https://localhost:8080/"
        },
        "id": "QFiR8sE5xODY",
        "outputId": "cce2be81-1035-4c22-fdc8-c629a5fe16b1"
      },
      "source": [
        "model_8_history = model_8.fit([X_train_hr_name_char,X_train_hr_hr], y_train_hr, epochs=20,\n",
        "                              validation_data = ([X_val_hr_name_char,X_val_hr_hr], y_val_hr))"
      ],
      "execution_count": null,
      "outputs": [
        {
          "output_type": "stream",
          "name": "stdout",
          "text": [
            "Epoch 1/20\n",
            "1083/1083 [==============================] - 14s 11ms/step - loss: 1.1647 - val_loss: 1.0304\n",
            "Epoch 2/20\n",
            "1083/1083 [==============================] - 11s 10ms/step - loss: 0.9960 - val_loss: 0.9726\n",
            "Epoch 3/20\n",
            "1083/1083 [==============================] - 11s 10ms/step - loss: 0.9472 - val_loss: 0.9547\n",
            "Epoch 4/20\n",
            "1083/1083 [==============================] - 11s 10ms/step - loss: 0.9188 - val_loss: 0.9118\n",
            "Epoch 5/20\n",
            "1083/1083 [==============================] - 11s 11ms/step - loss: 0.8984 - val_loss: 0.9011\n",
            "Epoch 6/20\n",
            "1083/1083 [==============================] - 13s 12ms/step - loss: 0.8802 - val_loss: 0.8908\n",
            "Epoch 7/20\n",
            "1083/1083 [==============================] - 11s 10ms/step - loss: 0.8620 - val_loss: 0.8618\n",
            "Epoch 8/20\n",
            "1083/1083 [==============================] - 11s 10ms/step - loss: 0.8474 - val_loss: 0.8543\n",
            "Epoch 9/20\n",
            "1083/1083 [==============================] - 11s 10ms/step - loss: 0.8322 - val_loss: 0.8386\n",
            "Epoch 10/20\n",
            "1083/1083 [==============================] - 11s 10ms/step - loss: 0.8179 - val_loss: 0.8293\n",
            "Epoch 11/20\n",
            "1083/1083 [==============================] - 11s 10ms/step - loss: 0.8046 - val_loss: 0.8269\n",
            "Epoch 12/20\n",
            "1083/1083 [==============================] - 11s 10ms/step - loss: 0.7919 - val_loss: 0.8150\n",
            "Epoch 13/20\n",
            "1083/1083 [==============================] - 11s 10ms/step - loss: 0.7804 - val_loss: 0.8065\n",
            "Epoch 14/20\n",
            "1083/1083 [==============================] - 11s 10ms/step - loss: 0.7689 - val_loss: 0.8117\n",
            "Epoch 15/20\n",
            "1083/1083 [==============================] - 12s 11ms/step - loss: 0.7598 - val_loss: 0.8029\n",
            "Epoch 16/20\n",
            "1083/1083 [==============================] - 11s 10ms/step - loss: 0.7458 - val_loss: 0.7964\n",
            "Epoch 17/20\n",
            "1083/1083 [==============================] - 11s 10ms/step - loss: 0.7368 - val_loss: 0.7954\n",
            "Epoch 18/20\n",
            "1083/1083 [==============================] - 11s 10ms/step - loss: 0.7242 - val_loss: 0.7870\n",
            "Epoch 19/20\n",
            "1083/1083 [==============================] - 11s 10ms/step - loss: 0.7165 - val_loss: 0.7920\n",
            "Epoch 20/20\n",
            "1083/1083 [==============================] - 11s 10ms/step - loss: 0.7054 - val_loss: 0.8011\n"
          ]
        }
      ]
    },
    {
      "cell_type": "code",
      "source": [
        "plot_loss(model_8_history)"
      ],
      "metadata": {
        "colab": {
          "base_uri": "https://localhost:8080/",
          "height": 279
        },
        "id": "No7Y_vCzQFyu",
        "outputId": "bd0205ad-8259-445f-ae30-eeae7fa3bab2"
      },
      "execution_count": null,
      "outputs": [
        {
          "output_type": "display_data",
          "data": {
            "image/png": "[encoded data removed]",
            "text/plain": [
              "<Figure size 432x288 with 1 Axes>"
            ]
          },
          "metadata": {
            "needs_background": "light"
          }
        }
      ]
    },
    {
      "cell_type": "markdown",
      "source": [
        ""
      ],
      "metadata": {
        "id": "MWwcXv8TSJRf"
      }
    }
  ]
}