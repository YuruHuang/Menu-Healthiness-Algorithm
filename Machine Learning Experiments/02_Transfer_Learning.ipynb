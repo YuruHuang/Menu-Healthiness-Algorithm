{
  "cells": [
    {
      "cell_type": "markdown",
      "metadata": {
        "id": "view-in-github",
        "colab_type": "text"
      },
      "source": [
        "<a href=\"https://colab.research.google.com/github/YuruHuang/deep-learning-menu-healthiness/blob/main/02_Transfer_Learning.ipynb\" target=\"_parent\"><img src=\"https://colab.research.google.com/assets/colab-badge.svg\" alt=\"Open In Colab\"/></a>"
      ]
    },
    {
      "cell_type": "markdown",
      "metadata": {
        "id": "q5GUJ3pDK7zS"
      },
      "source": [
        "In this notebook, I will fine tune existing state-of-art models to our menu healthiness prediction problem. \n",
        "\n",
        "From Tom Bishop's experiments with the takeaway cuisine classifier, the step that made the most difference was when he **fine tuned some of the layers**. Below are the basic steps for transfer learning: \n",
        "\n",
        ">![Transfer-learning-steps.webp](data:image/webp;base64,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)"
      ]
    },
    {
      "cell_type": "markdown",
      "metadata": {
        "id": "9qKbjs2aLq3F"
      },
      "source": [
        "# Data Preprocessing "
      ]
    },
    {
      "cell_type": "markdown",
      "metadata": {
        "id": "ormTKeL1NhUf"
      },
      "source": [
        "## Load the data!"
      ]
    },
    {
      "cell_type": "code",
      "execution_count": 7,
      "metadata": {
        "id": "NhmjW5YBQVhG"
      },
      "outputs": [],
      "source": [
        "# all the packages load\n",
        "#!pip install unidecode\n",
        "#!pip install tensorflow-text\n",
        "import tensorflow_text\n",
        "from unidecode import unidecode\n",
        "import pandas as pd\n",
        "import tensorflow as tf\n",
        "import numpy as np\n",
        "from tensorflow.keras.layers import TextVectorization\n",
        "import string\n",
        "import tensorflow_hub as hub\n",
        "from tensorflow.keras import layers\n",
        "from tensorflow.keras.utils import plot_model"
      ]
    },
    {
      "cell_type": "code",
      "execution_count": 8,
      "metadata": {
        "colab": {
          "base_uri": "https://localhost:8080/",
          "height": 511
        },
        "id": "msAIsKWaKf3W",
        "outputId": "983fceb1-cfe6-41d1-c9b6-5af0b6a1d36c"
      },
      "outputs": [
        {
          "output_type": "execute_result",
          "data": {
            "text/html": [
              "\n",
              "  <div id=\"df-ea4e4fc5-a311-46c3-8368-115131edbee4\">\n",
              "    <div class=\"colab-df-container\">\n",
              "      <div>\n",
              "<style scoped>\n",
              "    .dataframe tbody tr th:only-of-type {\n",
              "        vertical-align: middle;\n",
              "    }\n",
              "\n",
              "    .dataframe tbody tr th {\n",
              "        vertical-align: top;\n",
              "    }\n",
              "\n",
              "    .dataframe thead th {\n",
              "        text-align: right;\n",
              "    }\n",
              "</style>\n",
              "<table border=\"1\" class=\"dataframe\">\n",
              "  <thead>\n",
              "    <tr style=\"text-align: right;\">\n",
              "      <th></th>\n",
              "      <th>Restaurant ID</th>\n",
              "      <th>Desserts</th>\n",
              "      <th>Vegetables</th>\n",
              "      <th>Salads</th>\n",
              "      <th>Chips</th>\n",
              "      <th>Water</th>\n",
              "      <th>Milk</th>\n",
              "      <th>Special Offers</th>\n",
              "      <th>rest_name</th>\n",
              "      <th>n_reviews</th>\n",
              "      <th>average_review</th>\n",
              "      <th>item_price_mean</th>\n",
              "      <th>item_price_median</th>\n",
              "      <th>n_items</th>\n",
              "      <th>url</th>\n",
              "      <th>cuisine</th>\n",
              "      <th>address</th>\n",
              "      <th>postcode</th>\n",
              "      <th>postcode_district</th>\n",
              "      <th>specialOffers</th>\n",
              "      <th>chips</th>\n",
              "      <th>salads</th>\n",
              "      <th>predict</th>\n",
              "      <th>rating2</th>\n",
              "      <th>review</th>\n",
              "    </tr>\n",
              "  </thead>\n",
              "  <tbody>\n",
              "    <tr>\n",
              "      <th>0</th>\n",
              "      <td>80603</td>\n",
              "      <td>0</td>\n",
              "      <td>5</td>\n",
              "      <td>2</td>\n",
              "      <td>11</td>\n",
              "      <td>1</td>\n",
              "      <td>0</td>\n",
              "      <td>5</td>\n",
              "      <td>Pasha Kebabs &amp; Pizzas</td>\n",
              "      <td>View 551 reviews</td>\n",
              "      <td>5.06 stars out of 6.</td>\n",
              "      <td>6.037634</td>\n",
              "      <td>7.000</td>\n",
              "      <td>93</td>\n",
              "      <td>URL</td>\n",
              "      <td>Kebab,Pizza,Halal</td>\n",
              "      <td>25 Windmill Brae, Aberdeen, AB11 6HU</td>\n",
              "      <td>AB11 6HU</td>\n",
              "      <td>AB11</td>\n",
              "      <td>5</td>\n",
              "      <td>11</td>\n",
              "      <td>2</td>\n",
              "      <td>5.504342</td>\n",
              "      <td>1</td>\n",
              "      <td>551.0</td>\n",
              "    </tr>\n",
              "    <tr>\n",
              "      <th>1</th>\n",
              "      <td>71703</td>\n",
              "      <td>7</td>\n",
              "      <td>10</td>\n",
              "      <td>2</td>\n",
              "      <td>14</td>\n",
              "      <td>0</td>\n",
              "      <td>0</td>\n",
              "      <td>4</td>\n",
              "      <td>Paco's Tacos</td>\n",
              "      <td>View 2314 reviews</td>\n",
              "      <td>4.65 stars out of 6.</td>\n",
              "      <td>5.431358</td>\n",
              "      <td>4.450</td>\n",
              "      <td>162</td>\n",
              "      <td>URL</td>\n",
              "      <td>Mexican,American</td>\n",
              "      <td>42-44 Market Street, Aberdeenshire, AB11 5PL</td>\n",
              "      <td>AB11 5PL</td>\n",
              "      <td>AB11</td>\n",
              "      <td>4</td>\n",
              "      <td>14</td>\n",
              "      <td>2</td>\n",
              "      <td>5.010865</td>\n",
              "      <td>0</td>\n",
              "      <td>2314.0</td>\n",
              "    </tr>\n",
              "    <tr>\n",
              "      <th>2</th>\n",
              "      <td>6885</td>\n",
              "      <td>0</td>\n",
              "      <td>16</td>\n",
              "      <td>12</td>\n",
              "      <td>1</td>\n",
              "      <td>0</td>\n",
              "      <td>0</td>\n",
              "      <td>2</td>\n",
              "      <td>Dil Se</td>\n",
              "      <td>View 1392 reviews</td>\n",
              "      <td>5.19 stars out of 6.</td>\n",
              "      <td>7.473418</td>\n",
              "      <td>8.225</td>\n",
              "      <td>158</td>\n",
              "      <td>URL</td>\n",
              "      <td>Indian,Curry</td>\n",
              "      <td>Unit 8, The Green Berrymuir Road, Portlethen, ...</td>\n",
              "      <td>AB12 4UN</td>\n",
              "      <td>AB12</td>\n",
              "      <td>2</td>\n",
              "      <td>1</td>\n",
              "      <td>12</td>\n",
              "      <td>9.355489</td>\n",
              "      <td>4</td>\n",
              "      <td>1392.0</td>\n",
              "    </tr>\n",
              "    <tr>\n",
              "      <th>3</th>\n",
              "      <td>122605</td>\n",
              "      <td>5</td>\n",
              "      <td>10</td>\n",
              "      <td>6</td>\n",
              "      <td>44</td>\n",
              "      <td>0</td>\n",
              "      <td>0</td>\n",
              "      <td>1</td>\n",
              "      <td>Mannofield Pizza Grill and Kebab</td>\n",
              "      <td>View 386 reviews</td>\n",
              "      <td>5.16 stars out of 6.</td>\n",
              "      <td>8.069737</td>\n",
              "      <td>7.700</td>\n",
              "      <td>152</td>\n",
              "      <td>URL</td>\n",
              "      <td>Pizza,Kebab</td>\n",
              "      <td>483a Great Western Road, Aberdeen, AB10 6NN</td>\n",
              "      <td>AB10 6NN</td>\n",
              "      <td>AB10</td>\n",
              "      <td>1</td>\n",
              "      <td>15</td>\n",
              "      <td>6</td>\n",
              "      <td>5.642945</td>\n",
              "      <td>1</td>\n",
              "      <td>386.0</td>\n",
              "    </tr>\n",
              "    <tr>\n",
              "      <th>4</th>\n",
              "      <td>44832</td>\n",
              "      <td>0</td>\n",
              "      <td>16</td>\n",
              "      <td>2</td>\n",
              "      <td>1</td>\n",
              "      <td>0</td>\n",
              "      <td>0</td>\n",
              "      <td>2</td>\n",
              "      <td>Lasan Healthy Indian Brasserie</td>\n",
              "      <td>View 595 reviews</td>\n",
              "      <td>5.04 stars out of 6.</td>\n",
              "      <td>6.877143</td>\n",
              "      <td>4.500</td>\n",
              "      <td>105</td>\n",
              "      <td>URL</td>\n",
              "      <td>Indian,Healthy</td>\n",
              "      <td>Unit 2 Westhill Drive, Westhill, Aberdeenshire...</td>\n",
              "      <td>AB32 6FS</td>\n",
              "      <td>AB32</td>\n",
              "      <td>2</td>\n",
              "      <td>1</td>\n",
              "      <td>2</td>\n",
              "      <td>8.357649</td>\n",
              "      <td>3</td>\n",
              "      <td>595.0</td>\n",
              "    </tr>\n",
              "  </tbody>\n",
              "</table>\n",
              "</div>\n",
              "      <button class=\"colab-df-convert\" onclick=\"convertToInteractive('df-ea4e4fc5-a311-46c3-8368-115131edbee4')\"\n",
              "              title=\"Convert this dataframe to an interactive table.\"\n",
              "              style=\"display:none;\">\n",
              "        \n",
              "  <svg xmlns=\"http://www.w3.org/2000/svg\" height=\"24px\"viewBox=\"0 0 24 24\"\n",
              "       width=\"24px\">\n",
              "    <path d=\"M0 0h24v24H0V0z\" fill=\"none\"/>\n",
              "    <path d=\"M18.56 5.44l.94 2.06.94-2.06 2.06-.94-2.06-.94-.94-2.06-.94 2.06-2.06.94zm-11 1L8.5 8.5l.94-2.06 2.06-.94-2.06-.94L8.5 2.5l-.94 2.06-2.06.94zm10 10l.94 2.06.94-2.06 2.06-.94-2.06-.94-.94-2.06-.94 2.06-2.06.94z\"/><path d=\"M17.41 7.96l-1.37-1.37c-.4-.4-.92-.59-1.43-.59-.52 0-1.04.2-1.43.59L10.3 9.45l-7.72 7.72c-.78.78-.78 2.05 0 2.83L4 21.41c.39.39.9.59 1.41.59.51 0 1.02-.2 1.41-.59l7.78-7.78 2.81-2.81c.8-.78.8-2.07 0-2.86zM5.41 20L4 18.59l7.72-7.72 1.47 1.35L5.41 20z\"/>\n",
              "  </svg>\n",
              "      </button>\n",
              "      \n",
              "  <style>\n",
              "    .colab-df-container {\n",
              "      display:flex;\n",
              "      flex-wrap:wrap;\n",
              "      gap: 12px;\n",
              "    }\n",
              "\n",
              "    .colab-df-convert {\n",
              "      background-color: #E8F0FE;\n",
              "      border: none;\n",
              "      border-radius: 50%;\n",
              "      cursor: pointer;\n",
              "      display: none;\n",
              "      fill: #1967D2;\n",
              "      height: 32px;\n",
              "      padding: 0 0 0 0;\n",
              "      width: 32px;\n",
              "    }\n",
              "\n",
              "    .colab-df-convert:hover {\n",
              "      background-color: #E2EBFA;\n",
              "      box-shadow: 0px 1px 2px rgba(60, 64, 67, 0.3), 0px 1px 3px 1px rgba(60, 64, 67, 0.15);\n",
              "      fill: #174EA6;\n",
              "    }\n",
              "\n",
              "    [theme=dark] .colab-df-convert {\n",
              "      background-color: #3B4455;\n",
              "      fill: #D2E3FC;\n",
              "    }\n",
              "\n",
              "    [theme=dark] .colab-df-convert:hover {\n",
              "      background-color: #434B5C;\n",
              "      box-shadow: 0px 1px 3px 1px rgba(0, 0, 0, 0.15);\n",
              "      filter: drop-shadow(0px 1px 2px rgba(0, 0, 0, 0.3));\n",
              "      fill: #FFFFFF;\n",
              "    }\n",
              "  </style>\n",
              "\n",
              "      <script>\n",
              "        const buttonEl =\n",
              "          document.querySelector('#df-ea4e4fc5-a311-46c3-8368-115131edbee4 button.colab-df-convert');\n",
              "        buttonEl.style.display =\n",
              "          google.colab.kernel.accessAllowed ? 'block' : 'none';\n",
              "\n",
              "        async function convertToInteractive(key) {\n",
              "          const element = document.querySelector('#df-ea4e4fc5-a311-46c3-8368-115131edbee4');\n",
              "          const dataTable =\n",
              "            await google.colab.kernel.invokeFunction('convertToInteractive',\n",
              "                                                     [key], {});\n",
              "          if (!dataTable) return;\n",
              "\n",
              "          const docLinkHtml = 'Like what you see? Visit the ' +\n",
              "            '<a target=\"_blank\" href=https://colab.research.google.com/notebooks/data_table.ipynb>data table notebook</a>'\n",
              "            + ' to learn more about interactive tables.';\n",
              "          element.innerHTML = '';\n",
              "          dataTable['output_type'] = 'display_data';\n",
              "          await google.colab.output.renderOutput(dataTable, element);\n",
              "          const docLink = document.createElement('div');\n",
              "          docLink.innerHTML = docLinkHtml;\n",
              "          element.appendChild(docLink);\n",
              "        }\n",
              "      </script>\n",
              "    </div>\n",
              "  </div>\n",
              "  "
            ],
            "text/plain": [
              "   Restaurant ID  Desserts  Vegetables  ...   predict  rating2  review\n",
              "0          80603         0           5  ...  5.504342        1   551.0\n",
              "1          71703         7          10  ...  5.010865        0  2314.0\n",
              "2           6885         0          16  ...  9.355489        4  1392.0\n",
              "3         122605         5          10  ...  5.642945        1   386.0\n",
              "4          44832         0          16  ...  8.357649        3   595.0\n",
              "\n",
              "[5 rows x 25 columns]"
            ]
          },
          "metadata": {},
          "execution_count": 8
        }
      ],
      "source": [
        "from sklearn.model_selection import train_test_split\n",
        "justeat_menu = pd.read_csv('JustEat_extracted_211021.csv')\n",
        "justeat_menu.head()"
      ]
    },
    {
      "cell_type": "markdown",
      "metadata": {
        "id": "pgFqo3VAW3vX"
      },
      "source": [
        "Using Tom Bishop's methods to clean restaurant names (replace some special characters)"
      ]
    },
    {
      "cell_type": "code",
      "execution_count": 9,
      "metadata": {
        "id": "3cpN3cwpXAZ_"
      },
      "outputs": [],
      "source": [
        "justeat_menu['ascii_name'] = justeat_menu.rest_name.apply(lambda x: unidecode(str(x)))\n",
        "justeat_menu['ascii_name_fix'] = justeat_menu.ascii_name.str.replace('`',\"'\")\n",
        "justeat_menu['ascii_name_fix'] = justeat_menu.ascii_name_fix.str.replace('~',\" \")\n",
        "justeat_menu['ascii_name_fix'] = justeat_menu.ascii_name_fix.str.replace(']',\" \")\n",
        "justeat_menu['ascii_name_fix'] = justeat_menu.ascii_name_fix.str.replace('[',\" \")\n",
        "justeat_menu['ascii_name_fix'] = justeat_menu.ascii_name_fix.str.replace('\\\\',\" \")\n",
        "justeat_menu['ascii_name_fix'] = justeat_menu.ascii_name_fix.str.replace('%',\" \")\n",
        "justeat_menu['ascii_name_fix'] = justeat_menu.ascii_name_fix.str.replace('*',\" \")\n",
        "justeat_menu['ascii_name_fix'] = justeat_menu.ascii_name_fix.str.replace(':',\" \")\n",
        "justeat_menu['ascii_name_fix'] = justeat_menu.ascii_name_fix.str.replace('+',\" and \")\n",
        "justeat_menu['ascii_name_fix'] = justeat_menu.ascii_name_fix.str.replace('&',\" and \")\n",
        "justeat_menu['ascii_name_fix'] = justeat_menu.ascii_name_fix.str.replace('/',\" \")"
      ]
    },
    {
      "cell_type": "code",
      "execution_count": null,
      "metadata": {
        "colab": {
          "base_uri": "https://localhost:8080/"
        },
        "id": "eSHVnE8vOewU",
        "outputId": "142d7392-e01d-4c60-dadd-ecb9a21948bf"
      },
      "outputs": [
        {
          "data": {
            "text/plain": [
              "((49117,), (49117,), (2729,), (2729,), (2729,), (2729,))"
            ]
          },
          "execution_count": 50,
          "metadata": {},
          "output_type": "execute_result"
        }
      ],
      "source": [
        "X_train, X_test_, y_train, y_test_ = train_test_split(justeat_menu['ascii_name_fix'].str.lower(), justeat_menu['predict'], test_size=0.1, random_state=42)\n",
        "X_val, X_test, y_val, y_test = train_test_split(X_test_,y_test_, test_size=0.5, random_state=42)\n",
        "X_train.shape, y_train.shape, X_test.shape, y_test.shape, X_val.shape, y_val.shape"
      ]
    },
    {
      "cell_type": "markdown",
      "metadata": {
        "id": "A7dTg5NZP4Pk"
      },
      "source": [
        "## Create tensorflow datasets for faster processing"
      ]
    },
    {
      "cell_type": "code",
      "execution_count": null,
      "metadata": {
        "colab": {
          "base_uri": "https://localhost:8080/"
        },
        "id": "4L_-qN4qP78_",
        "outputId": "ec781663-1f85-4018-d6df-7cd3481d7783"
      },
      "outputs": [
        {
          "data": {
            "text/plain": [
              "<TensorSliceDataset shapes: ((), ()), types: (tf.string, tf.float64)>"
            ]
          },
          "execution_count": 116,
          "metadata": {},
          "output_type": "execute_result"
        }
      ],
      "source": [
        "# Turn our data into TensorFlow Datasets\n",
        "train_dataset = tf.data.Dataset.from_tensor_slices((X_train, y_train))\n",
        "valid_dataset = tf.data.Dataset.from_tensor_slices((X_val, y_val))\n",
        "test_dataset = tf.data.Dataset.from_tensor_slices((X_test, y_test))\n",
        "\n",
        "train_dataset"
      ]
    },
    {
      "cell_type": "code",
      "execution_count": null,
      "metadata": {
        "colab": {
          "base_uri": "https://localhost:8080/"
        },
        "id": "BxcQo5UKQCW8",
        "outputId": "d031daf6-5993-4354-afa0-1dfcbc14017c"
      },
      "outputs": [
        {
          "data": {
            "text/plain": [
              "<PrefetchDataset shapes: ((None,), (None,)), types: (tf.string, tf.float64)>"
            ]
          },
          "execution_count": 117,
          "metadata": {},
          "output_type": "execute_result"
        }
      ],
      "source": [
        "# Take the TensorSliceDataset's and turn them into prefetched batches\n",
        "train_dataset = train_dataset.batch(32).prefetch(tf.data.AUTOTUNE)\n",
        "valid_dataset = valid_dataset.batch(32).prefetch(tf.data.AUTOTUNE)\n",
        "test_dataset = test_dataset.batch(32).prefetch(tf.data.AUTOTUNE)\n",
        "\n",
        "train_dataset"
      ]
    },
    {
      "cell_type": "markdown",
      "metadata": {
        "id": "T3mV61WHNcxv"
      },
      "source": [
        "# Tokenization and Embedding"
      ]
    },
    {
      "cell_type": "markdown",
      "metadata": {
        "id": "Ix1Kzw5cQeib"
      },
      "source": [
        "## Tokenization (character level)\n"
      ]
    },
    {
      "cell_type": "code",
      "execution_count": null,
      "metadata": {
        "colab": {
          "base_uri": "https://localhost:8080/",
          "height": 37
        },
        "id": "_v7tsr3iRK0i",
        "outputId": "84412c67-e27c-4c53-c9f5-31f2a7076b0d"
      },
      "outputs": [
        {
          "data": {
            "application/vnd.google.colaboratory.intrinsic+json": {
              "type": "string"
            },
            "text/plain": [
              "\"M c D o n a l d ' s   -   C a m b r i d g e\""
            ]
          },
          "execution_count": 53,
          "metadata": {},
          "output_type": "execute_result"
        }
      ],
      "source": [
        "# create a character level tokenizer \n",
        "\n",
        "# Make function to split sentences into characters\n",
        "def split_chars(text):\n",
        "  return \" \".join(list(text))\n",
        "\n",
        "split_chars(\"McDonald's - Cambridge\")"
      ]
    },
    {
      "cell_type": "code",
      "execution_count": null,
      "metadata": {
        "colab": {
          "base_uri": "https://localhost:8080/"
        },
        "id": "ygC2oyofSVFF",
        "outputId": "c8b7a822-b854-47ea-8aad-1488d73d0e8b"
      },
      "outputs": [
        {
          "name": "stdout",
          "output_type": "stream",
          "text": [
            "c h i c a g o   k e b a b     a n d     b u r g e r s\n"
          ]
        }
      ],
      "source": [
        "# splits into character-level \n",
        "train_chars = [split_chars(name) for name in X_train]\n",
        "test_chars = [split_chars(name) for name in X_test]\n",
        "val_chars = [split_chars(name) for name in X_val]\n",
        "\n",
        "print(train_chars[0])"
      ]
    },
    {
      "cell_type": "code",
      "execution_count": null,
      "metadata": {
        "colab": {
          "base_uri": "https://localhost:8080/"
        },
        "id": "WEGj4qF3Sxqz",
        "outputId": "69be6223-c24a-4d94-c567-e3761ced206c"
      },
      "outputs": [
        {
          "data": {
            "text/plain": [
              "18.262658549992874"
            ]
          },
          "execution_count": 55,
          "metadata": {},
          "output_type": "execute_result"
        }
      ],
      "source": [
        "# What's the average character length?\n",
        "char_lens = [len(name) for name in X_train]\n",
        "mean_char_len = np.mean(char_lens)\n",
        "mean_char_len"
      ]
    },
    {
      "cell_type": "code",
      "execution_count": null,
      "metadata": {
        "colab": {
          "base_uri": "https://localhost:8080/"
        },
        "id": "VtMCFFuDTNsG",
        "outputId": "a4cedfb9-6922-4407-c2b4-167d35c59ad6"
      },
      "outputs": [
        {
          "name": "stdout",
          "output_type": "stream",
          "text": [
            "57\n"
          ]
        }
      ],
      "source": [
        "np.percentile(char_lens, [95,99,100])\n",
        "output_seq_char_len = max(char_lens)\n",
        "print(output_seq_char_len) # see all the characters (restaurant names are quite short )"
      ]
    },
    {
      "cell_type": "code",
      "execution_count": null,
      "metadata": {
        "colab": {
          "base_uri": "https://localhost:8080/"
        },
        "id": "qPCKe1zkUJ3K",
        "outputId": "b340c4f5-df39-4344-f469-1417b8f9ea9e"
      },
      "outputs": [
        {
          "data": {
            "text/plain": [
              "45"
            ]
          },
          "execution_count": 57,
          "metadata": {},
          "output_type": "execute_result"
        }
      ],
      "source": [
        "len(list(string.ascii_lowercase + \" -'@&)(.\" +\"0123456789\"))+1 # one for unknown characters"
      ]
    },
    {
      "cell_type": "code",
      "execution_count": null,
      "metadata": {
        "id": "wulfjJrTUIji"
      },
      "outputs": [],
      "source": [
        "# Create char-level token vectorizer instance\n",
        "NUM_CHAR_TOKENS = 45\n",
        "char_vectorizer = TextVectorization(max_tokens=NUM_CHAR_TOKENS,  \n",
        "                                    output_sequence_length=output_seq_char_len,\n",
        "                                    standardize=\"lower_and_strip_punctuation\",\n",
        "                                    name=\"char_vectorizer\")\n",
        "\n",
        "# Adapt character vectorizer to training characters\n",
        "char_vectorizer.adapt(train_chars)"
      ]
    },
    {
      "cell_type": "code",
      "execution_count": null,
      "metadata": {
        "colab": {
          "base_uri": "https://localhost:8080/"
        },
        "id": "Nxz8VVeiVvBp",
        "outputId": "ad638d15-8f6d-468a-bd96-e7e79f1b6710"
      },
      "outputs": [
        {
          "name": "stdout",
          "output_type": "stream",
          "text": [
            "Number of different characters in character vocab: 38\n",
            "5 most common characters: ['', '[UNK]', 'a', 'e', 'i']\n",
            "5 least common characters: ['5', '8', '6', '7', '9']\n"
          ]
        }
      ],
      "source": [
        "# Check character vocabulary characteristics\n",
        "char_vocab = char_vectorizer.get_vocabulary()\n",
        "print(f\"Number of different characters in character vocab: {len(char_vocab)}\")\n",
        "print(f\"5 most common characters: {char_vocab[:5]}\")\n",
        "print(f\"5 least common characters: {char_vocab[-5:]}\")"
      ]
    },
    {
      "cell_type": "code",
      "execution_count": null,
      "metadata": {
        "colab": {
          "base_uri": "https://localhost:8080/"
        },
        "id": "-iuh56FJZph_",
        "outputId": "cd7723fb-365a-4120-ab85-11a2dd788f77"
      },
      "outputs": [
        {
          "name": "stdout",
          "output_type": "stream",
          "text": [
            "Charified text:\n",
            "p a r m e s a n   h o u s e\n",
            "\n",
            "Length of chars: 13\n",
            "\n",
            "Vectorized chars:\n",
            "[[14  2  5 19  3  6  2  7 11  8 16  6  3  0  0  0  0  0  0  0  0  0  0  0\n",
            "   0  0  0  0  0  0  0  0  0  0  0  0  0  0  0  0  0  0  0  0  0  0  0  0\n",
            "   0  0  0  0  0  0  0  0  0]]\n",
            "\n",
            "Length of vectorized chars: 57\n"
          ]
        }
      ],
      "source": [
        "# Test out character vectorizer\n",
        "random_train_chars = np.random.choice(train_chars)\n",
        "print(f\"Charified text:\\n{random_train_chars}\")\n",
        "print(f\"\\nLength of chars: {len(random_train_chars.split())}\")\n",
        "vectorized_chars = char_vectorizer([random_train_chars])\n",
        "print(f\"\\nVectorized chars:\\n{vectorized_chars}\")\n",
        "print(f\"\\nLength of vectorized chars: {len(vectorized_chars[0])}\")"
      ]
    },
    {
      "cell_type": "markdown",
      "metadata": {
        "id": "ydSciDBGaQib"
      },
      "source": [
        "## Embedding layer"
      ]
    },
    {
      "cell_type": "code",
      "execution_count": 28,
      "metadata": {
        "id": "DFQb-bNGaBfg"
      },
      "outputs": [],
      "source": [
        "# Pre trained embedding layer\n",
        "ulmfit = hub.load('https://tfhub.dev/edrone/ulmfit/en/sp35k_uncased/1')\n",
        "encoder = hub.KerasLayer(ulmfit.signatures['string_encoder'], trainable= False, name = \"universal_language_model\")"
      ]
    },
    {
      "cell_type": "code",
      "execution_count": null,
      "metadata": {
        "id": "xnrMGe4rewPh"
      },
      "outputs": [],
      "source": [
        "# Character embedding layer \n",
        "char_embed = layers.Embedding(input_dim=NUM_CHAR_TOKENS, # number of different characters\n",
        "                              output_dim=25, # embedding dimension of each character (same as Figure 1 in https://arxiv.org/pdf/1612.05251.pdf)\n",
        "                              mask_zero=True, # don't use masks (this messes up model_5 if set to True)\n",
        "                              name=\"char_embed\",\n",
        "                              )\n"
      ]
    },
    {
      "cell_type": "markdown",
      "metadata": {
        "id": "8hikQe3wm_vS"
      },
      "source": [
        "# Model 0: pre-trained embedding layer from Universal Language Model"
      ]
    },
    {
      "cell_type": "code",
      "execution_count": null,
      "metadata": {
        "id": "nU9E4ESvnFJ7"
      },
      "outputs": [],
      "source": [
        "# frozen weights - embedding layer uses the default subword tokenization\n",
        "token_inputs = layers.Input(shape=(), dtype=tf.string, name=\"token_input\")\n",
        "token_embeddings = encoder(token_inputs) # the output is a dictionary consisting of output_flat and output_rows\n",
        "token_embeddings_ragged = tf.RaggedTensor.from_row_splits(token_embeddings['output_flat'],   # converting to RaggedTensor\n",
        "                                                 token_embeddings['output_rows'])\n",
        "vector_average = tf.reduce_mean(token_embeddings_ragged, axis=1) \n",
        "token_output = layers.Dense(128, activation=\"relu\")(vector_average)\n",
        "model_0 = tf.keras.Model(inputs=token_inputs,\n",
        "                             outputs=token_output, name ='ULM_embedding')"
      ]
    },
    {
      "cell_type": "code",
      "execution_count": null,
      "metadata": {
        "colab": {
          "base_uri": "https://localhost:8080/"
        },
        "id": "pBj3lqsJnYiM",
        "outputId": "fe81220b-ca51-4821-c8c1-09164e653640"
      },
      "outputs": [
        {
          "name": "stdout",
          "output_type": "stream",
          "text": [
            "Model: \"ULM_embedding\"\n",
            "__________________________________________________________________________________________________\n",
            " Layer (type)                   Output Shape         Param #     Connected to                     \n",
            "==================================================================================================\n",
            " token_input (InputLayer)       [(None,)]            0           []                               \n",
            "                                                                                                  \n",
            " universal_language_model (Kera  {'output_flat': (No  34262464   ['token_input[0][0]']            \n",
            " sLayer)                        ne, 400),                                                         \n",
            "                                 'output_rows': (No                                               \n",
            "                                ne,)}                                                             \n",
            "                                                                                                  \n",
            " tf.RaggedTensor.from_row_split  (None, None, 400)   0           ['universal_language_model[0][0]'\n",
            " s_4 (ClassMethod)                                               , 'universal_language_model[0][1]\n",
            "                                                                 ']                               \n",
            "                                                                                                  \n",
            " tf.math.reduce_mean_4 (TFOpLam  (None, 400)         0           ['tf.RaggedTensor.from_row_splits\n",
            " bda)                                                            _4[0][0]']                       \n",
            "                                                                                                  \n",
            " dense_18 (Dense)               (None, 128)          51328       ['tf.math.reduce_mean_4[0][0]']  \n",
            "                                                                                                  \n",
            "==================================================================================================\n",
            "Total params: 34,313,792\n",
            "Trainable params: 51,328\n",
            "Non-trainable params: 34,262,464\n",
            "__________________________________________________________________________________________________\n"
          ]
        }
      ],
      "source": [
        "model_0.summary()"
      ]
    },
    {
      "cell_type": "code",
      "execution_count": null,
      "metadata": {
        "id": "oeycnHPfpCbr"
      },
      "outputs": [],
      "source": [
        "model_0.compile(loss=tf.keras.losses.mean_absolute_error,\n",
        "                optimizer=tf.keras.optimizers.Adam())"
      ]
    },
    {
      "cell_type": "code",
      "execution_count": null,
      "metadata": {
        "colab": {
          "base_uri": "https://localhost:8080/"
        },
        "id": "3Ubl--lmpUa4",
        "outputId": "d5a2a2ab-ab3d-4e6a-8e18-824f7568b79a"
      },
      "outputs": [
        {
          "name": "stdout",
          "output_type": "stream",
          "text": [
            "Epoch 1/25\n",
            "1535/1535 [==============================] - 136s 89ms/step - loss: 0.9946 - val_loss: 1.0363\n",
            "Epoch 2/25\n",
            "1535/1535 [==============================] - 128s 84ms/step - loss: 0.9921 - val_loss: 1.0347\n",
            "Epoch 3/25\n",
            "1535/1535 [==============================] - 128s 83ms/step - loss: 0.9898 - val_loss: 1.0334\n",
            "Epoch 4/25\n",
            "1535/1535 [==============================] - 129s 84ms/step - loss: 0.9877 - val_loss: 1.0322\n",
            "Epoch 5/25\n",
            "1535/1535 [==============================] - 128s 83ms/step - loss: 0.9858 - val_loss: 1.0312\n",
            "Epoch 6/25\n",
            "1535/1535 [==============================] - 128s 83ms/step - loss: 0.9841 - val_loss: 1.0302\n",
            "Epoch 7/25\n",
            "1535/1535 [==============================] - 128s 83ms/step - loss: 0.9825 - val_loss: 1.0292\n",
            "Epoch 8/25\n",
            "1535/1535 [==============================] - 128s 83ms/step - loss: 0.9810 - val_loss: 1.0282\n",
            "Epoch 9/25\n",
            "1535/1535 [==============================] - 210s 137ms/step - loss: 0.9796 - val_loss: 1.0273\n",
            "Epoch 10/25\n",
            "1535/1535 [==============================] - 134s 87ms/step - loss: 0.9783 - val_loss: 1.0264\n",
            "Epoch 11/25\n",
            "1535/1535 [==============================] - 130s 85ms/step - loss: 0.9770 - val_loss: 1.0257\n",
            "Epoch 12/25\n",
            "1535/1535 [==============================] - 129s 84ms/step - loss: 0.9758 - val_loss: 1.0250\n",
            "Epoch 13/25\n",
            "1535/1535 [==============================] - 128s 84ms/step - loss: 0.9747 - val_loss: 1.0243\n",
            "Epoch 14/25\n",
            "1535/1535 [==============================] - 129s 84ms/step - loss: 0.9736 - val_loss: 1.0237\n",
            "Epoch 15/25\n",
            "1535/1535 [==============================] - 129s 84ms/step - loss: 0.9726 - val_loss: 1.0230\n",
            "Epoch 16/25\n",
            "1535/1535 [==============================] - 131s 85ms/step - loss: 0.9716 - val_loss: 1.0224\n",
            "Epoch 17/25\n",
            "1535/1535 [==============================] - 131s 86ms/step - loss: 0.9708 - val_loss: 1.0219\n",
            "Epoch 18/25\n",
            "1535/1535 [==============================] - 131s 86ms/step - loss: 0.9699 - val_loss: 1.0214\n",
            "Epoch 19/25\n",
            "1535/1535 [==============================] - 131s 85ms/step - loss: 0.9691 - val_loss: 1.0209\n",
            "Epoch 20/25\n",
            "1535/1535 [==============================] - 131s 85ms/step - loss: 0.9683 - val_loss: 1.0206\n",
            "Epoch 21/25\n",
            "1535/1535 [==============================] - 131s 85ms/step - loss: 0.9676 - val_loss: 1.0202\n",
            "Epoch 22/25\n",
            "1535/1535 [==============================] - 130s 85ms/step - loss: 0.9669 - val_loss: 1.0198\n",
            "Epoch 23/25\n",
            "1535/1535 [==============================] - 130s 85ms/step - loss: 0.9662 - val_loss: 1.0194\n",
            "Epoch 24/25\n",
            "1535/1535 [==============================] - 131s 85ms/step - loss: 0.9656 - val_loss: 1.0190\n",
            "Epoch 25/25\n",
            "1535/1535 [==============================] - 130s 85ms/step - loss: 0.9649 - val_loss: 1.0185\n"
          ]
        }
      ],
      "source": [
        "# Fit the model on tokens and chars\n",
        "model_0_history = model_0.fit(train_dataset, # train on dataset of token and characters\n",
        "                              epochs=25,\n",
        "                              validation_data=valid_dataset)"
      ]
    },
    {
      "cell_type": "code",
      "execution_count": null,
      "metadata": {
        "colab": {
          "base_uri": "https://localhost:8080/"
        },
        "id": "nxJCh8YG0bbE",
        "outputId": "52db48f8-33d0-48da-8597-e66dd85dbdf0"
      },
      "outputs": [
        {
          "name": "stdout",
          "output_type": "stream",
          "text": [
            "0 token_input True\n",
            "1 universal_language_model False\n",
            "2 tf.RaggedTensor.from_row_splits_4 True\n",
            "3 tf.math.reduce_mean_4 True\n",
            "4 dense_18 True\n"
          ]
        }
      ],
      "source": [
        "for layer_number, layer in enumerate(model_0.layers):\n",
        "  print(layer_number, layer.name, layer.trainable)"
      ]
    },
    {
      "cell_type": "code",
      "execution_count": null,
      "metadata": {
        "id": "UvzHczjI0jJV"
      },
      "outputs": [],
      "source": [
        "model_0.trainable = True\n",
        "\n",
        "# Recompile the model (always recompile after any adjustments to a model)\n",
        "model_0.compile(loss=\"mae\",\n",
        "              optimizer=tf.keras.optimizers.Adam(lr=0.0001)) # lr is 10x lower than before for fine-tuning)"
      ]
    },
    {
      "cell_type": "code",
      "execution_count": null,
      "metadata": {
        "colab": {
          "background_save": true,
          "base_uri": "https://localhost:8080/"
        },
        "id": "XyKk537p012I",
        "outputId": "c3ff97b0-15a2-4d03-9e71-4d8c0b0a9830"
      },
      "outputs": [
        {
          "name": "stdout",
          "output_type": "stream",
          "text": [
            "Epoch 25/50\n",
            "1535/1535 [==============================] - 403s 259ms/step - loss: 0.8708 - val_loss: 0.8694\n",
            "Epoch 26/50\n",
            "1535/1535 [==============================] - 381s 248ms/step - loss: 0.7632 - val_loss: 0.8483\n",
            "Epoch 27/50\n",
            "1535/1535 [==============================] - 379s 247ms/step - loss: 0.7065 - val_loss: 0.8222\n",
            "Epoch 28/50\n",
            "1535/1535 [==============================] - 379s 247ms/step - loss: 0.6593 - val_loss: 0.8165\n",
            "Epoch 29/50\n",
            "1535/1535 [==============================] - 379s 247ms/step - loss: 0.6144 - val_loss: 0.8406\n",
            "Epoch 30/50\n",
            "1535/1535 [==============================] - 379s 247ms/step - loss: 0.5718 - val_loss: 0.8771\n",
            "Epoch 31/50\n",
            "1535/1535 [==============================] - 378s 246ms/step - loss: 0.5357 - val_loss: 0.8290\n",
            "Epoch 32/50\n",
            "1535/1535 [==============================] - 379s 247ms/step - loss: 0.5035 - val_loss: 0.8128\n",
            "Epoch 33/50\n",
            "1535/1535 [==============================] - 378s 247ms/step - loss: 0.4706 - val_loss: 0.8416\n",
            "Epoch 34/50\n",
            "1535/1535 [==============================] - 377s 246ms/step - loss: 0.4463 - val_loss: 0.8225\n",
            "Epoch 35/50\n",
            "1535/1535 [==============================] - 377s 246ms/step - loss: 0.4258 - val_loss: 0.8322\n",
            "Epoch 36/50\n",
            "1535/1535 [==============================] - 378s 246ms/step - loss: 0.4055 - val_loss: 0.8261\n",
            "Epoch 37/50\n",
            "1535/1535 [==============================] - 376s 245ms/step - loss: 0.3896 - val_loss: 0.8078\n",
            "Epoch 38/50\n",
            "1535/1535 [==============================] - 376s 245ms/step - loss: 0.3777 - val_loss: 0.8428\n",
            "Epoch 39/50\n",
            "1535/1535 [==============================] - 376s 245ms/step - loss: 0.3676 - val_loss: 0.8210\n",
            "Epoch 40/50\n",
            "1535/1535 [==============================] - 373s 243ms/step - loss: 0.3527 - val_loss: 0.7940\n",
            "Epoch 41/50\n",
            "1535/1535 [==============================] - 373s 243ms/step - loss: 0.3377 - val_loss: 0.8119\n",
            "Epoch 42/50\n",
            "1535/1535 [==============================] - 372s 242ms/step - loss: 0.3297 - val_loss: 0.8168\n",
            "Epoch 43/50\n",
            "1535/1535 [==============================] - 374s 244ms/step - loss: 0.3215 - val_loss: 0.8166\n",
            "Epoch 44/50\n",
            "1535/1535 [==============================] - 372s 243ms/step - loss: 0.3155 - val_loss: 0.8209\n",
            "Epoch 45/50\n",
            "1535/1535 [==============================] - 374s 244ms/step - loss: 0.3037 - val_loss: 0.8196\n",
            "Epoch 46/50\n",
            "1535/1535 [==============================] - 373s 243ms/step - loss: 0.2934 - val_loss: 0.8098\n",
            "Epoch 47/50\n",
            "1535/1535 [==============================] - 374s 244ms/step - loss: 0.2900 - val_loss: 0.8266\n",
            "Epoch 48/50\n",
            " 972/1535 [=================>............] - ETA: 2:15 - loss: 0.2897"
          ]
        }
      ],
      "source": [
        "# fine tune for another 25 epochs \n",
        "fine_tune_epochs = 50\n",
        "\n",
        "# Refit the model (same as model_2 except with more trainable layers)\n",
        "history_fine_tune_model_0= model_0.fit(train_dataset,\n",
        "                                       epochs=fine_tune_epochs,\n",
        "                                       validation_data=valid_dataset,\n",
        "                                               initial_epoch=model_0_history.epoch[-1], # start from previous last epoch\n",
        "                                               validation_steps=int(0.25 * len(valid_dataset)))\n"
      ]
    },
    {
      "cell_type": "markdown",
      "metadata": {
        "id": "II73WN8yc8A9"
      },
      "source": [
        "# Model 1: Combining character level tokenization layer and pre-trained embedding layer\n"
      ]
    },
    {
      "cell_type": "code",
      "execution_count": null,
      "metadata": {
        "id": "So83lg2ocOf8"
      },
      "outputs": [],
      "source": [
        "# 1. Setup token inputs/model\n",
        "token_inputs = layers.Input(shape=(), dtype=tf.string, name=\"token_input\")\n",
        "token_embeddings = encoder(token_inputs) # the output is a dictionary consisting of output_flat and output_rows\n",
        "token_embeddings_ragged = tf.RaggedTensor.from_row_splits(token_embeddings['output_flat'],   # converting to RaggedTensor\n",
        "                                                 token_embeddings['output_rows'])\n",
        "vector_average = tf.reduce_mean(token_embeddings_ragged, axis=1) \n",
        "token_output = layers.Dense(128, activation=\"relu\")(vector_average)\n",
        "token_model = tf.keras.Model(inputs=token_inputs,\n",
        "                             outputs=token_output)\n",
        "\n",
        "# 2. Setup char inputs/model\n",
        "char_inputs = layers.Input(shape=(1,), dtype=tf.string, name=\"char_input\")\n",
        "char_vectors = char_vectorizer(char_inputs)\n",
        "char_embeddings = char_embed(char_vectors)\n",
        "char_bi_lstm = layers.Bidirectional(layers.LSTM(25))(char_embeddings) # bi-LSTM shown in Figure 1 of https://arxiv.org/pdf/1612.05251.pdf\n",
        "char_model = tf.keras.Model(inputs=char_inputs,\n",
        "                            outputs=char_bi_lstm)\n",
        "\n",
        "# 3. Concatenate token and char inputs (create hybrid token embedding)\n",
        "token_char_concat = layers.Concatenate(name=\"token_char_hybrid\")([token_model.output, \n",
        "                                                                  char_model.output])\n",
        "\n",
        "# 4. Create output layers - addition of dropout discussed in 4.2 of https://arxiv.org/pdf/1612.05251.pdf\n",
        "combined_dropout = layers.Dropout(0.5)(token_char_concat)\n",
        "combined_dense = layers.Dense(200, activation=\"relu\")(combined_dropout) # slightly different to Figure 1 due to different shapes of token/char embedding layers\n",
        "final_dropout = layers.Dropout(0.5)(combined_dense)\n",
        "output_layer = layers.Dense(1)(final_dropout)\n",
        "\n",
        "# 5. Construct model with char and token inputs\n",
        "model_1 = tf.keras.Model(inputs=[token_model.input, char_model.input],\n",
        "                         outputs=output_layer,\n",
        "                         name=\"model_1_token_and_char_embeddings\")"
      ]
    },
    {
      "cell_type": "code",
      "execution_count": null,
      "metadata": {
        "colab": {
          "base_uri": "https://localhost:8080/",
          "height": 953
        },
        "id": "PsgpH1bmjIpl",
        "outputId": "86e3af46-95e0-4c6b-9c25-40fde820100a"
      },
      "outputs": [
        {
          "data": {
            "image/png": "[encoded data removed]",
            "text/plain": [
              "<IPython.core.display.Image object>"
            ]
          },
          "execution_count": 107,
          "metadata": {},
          "output_type": "execute_result"
        }
      ],
      "source": [
        "plot_model(model_1)"
      ]
    },
    {
      "cell_type": "code",
      "execution_count": null,
      "metadata": {
        "colab": {
          "base_uri": "https://localhost:8080/"
        },
        "id": "kLB5qBIcjUJv",
        "outputId": "94e322a7-0587-494c-8922-cb8d742f7b62"
      },
      "outputs": [
        {
          "name": "stdout",
          "output_type": "stream",
          "text": [
            "Model: \"model_1_token_and_char_embeddings\"\n",
            "__________________________________________________________________________________________________\n",
            " Layer (type)                   Output Shape         Param #     Connected to                     \n",
            "==================================================================================================\n",
            " token_input (InputLayer)       [(None,)]            0           []                               \n",
            "                                                                                                  \n",
            " keras_layer_2 (KerasLayer)     {'output_flat': (No  34262464    ['token_input[0][0]']            \n",
            "                                ne, 400),                                                         \n",
            "                                 'output_rows': (No                                               \n",
            "                                ne,)}                                                             \n",
            "                                                                                                  \n",
            " char_input (InputLayer)        [(None, 1)]          0           []                               \n",
            "                                                                                                  \n",
            " tf.RaggedTensor.from_row_split  (None, None, 400)   0           ['keras_layer_2[3][0]',          \n",
            " s_3 (ClassMethod)                                                'keras_layer_2[3][1]']          \n",
            "                                                                                                  \n",
            " char_vectorizer (TextVectoriza  (None, 57)          0           ['char_input[0][0]']             \n",
            " tion)                                                                                            \n",
            "                                                                                                  \n",
            " tf.math.reduce_mean_3 (TFOpLam  (None, 400)         0           ['tf.RaggedTensor.from_row_splits\n",
            " bda)                                                            _3[0][0]']                       \n",
            "                                                                                                  \n",
            " char_embed (Embedding)         (None, 57, 25)       1125        ['char_vectorizer[3][0]']        \n",
            "                                                                                                  \n",
            " dense_15 (Dense)               (None, 128)          51328       ['tf.math.reduce_mean_3[0][0]']  \n",
            "                                                                                                  \n",
            " bidirectional_3 (Bidirectional  (None, 50)          10200       ['char_embed[0][0]']             \n",
            " )                                                                                                \n",
            "                                                                                                  \n",
            " token_char_hybrid (Concatenate  (None, 178)         0           ['dense_15[0][0]',               \n",
            " )                                                                'bidirectional_3[0][0]']        \n",
            "                                                                                                  \n",
            " dropout_6 (Dropout)            (None, 178)          0           ['token_char_hybrid[0][0]']      \n",
            "                                                                                                  \n",
            " dense_16 (Dense)               (None, 200)          35800       ['dropout_6[0][0]']              \n",
            "                                                                                                  \n",
            " dropout_7 (Dropout)            (None, 200)          0           ['dense_16[0][0]']               \n",
            "                                                                                                  \n",
            " dense_17 (Dense)               (None, 1)            201         ['dropout_7[0][0]']              \n",
            "                                                                                                  \n",
            "==================================================================================================\n",
            "Total params: 34,361,118\n",
            "Trainable params: 34,361,118\n",
            "Non-trainable params: 0\n",
            "__________________________________________________________________________________________________\n"
          ]
        }
      ],
      "source": [
        "model_1.summary()"
      ]
    },
    {
      "cell_type": "code",
      "execution_count": null,
      "metadata": {
        "id": "Iv0IJm1xji02"
      },
      "outputs": [],
      "source": [
        "# Compile token char model\n",
        "model_1.compile(loss=tf.keras.losses.mean_absolute_error,\n",
        "                optimizer=tf.keras.optimizers.Adam(), # section 4.2 of https://arxiv.org/pdf/1612.05251.pdf mentions using SGD but we'll stick with Adam\n",
        "                metrics=[\"mae\",'mse'])"
      ]
    },
    {
      "cell_type": "markdown",
      "metadata": {
        "id": "s1nTnyWgkGGs"
      },
      "source": [
        "## create tf datasets"
      ]
    },
    {
      "cell_type": "code",
      "execution_count": null,
      "metadata": {
        "id": "Gl34C3NwkC_8"
      },
      "outputs": [],
      "source": [
        "# Combine chars and tokens into a dataset\n",
        "train_char_token_data = tf.data.Dataset.from_tensor_slices((X_train, train_chars)) # make data\n",
        "train_char_token_labels = tf.data.Dataset.from_tensor_slices(y_train) # make labels\n",
        "train_char_token_dataset = tf.data.Dataset.zip((train_char_token_data, train_char_token_labels)) # combine data and labels\n",
        "\n",
        "# Repeat same steps validation data\n",
        "val_char_token_data = tf.data.Dataset.from_tensor_slices((X_val, val_chars))\n",
        "val_char_token_labels = tf.data.Dataset.from_tensor_slices(y_val)\n",
        "val_char_token_dataset = tf.data.Dataset.zip((val_char_token_data, val_char_token_labels))\n",
        "\n",
        "# Prefetch and batch train data\n",
        "train_char_token_dataset = train_char_token_dataset.batch(32).prefetch(tf.data.AUTOTUNE) \n",
        "val_char_token_dataset = val_char_token_dataset.batch(32).prefetch(tf.data.AUTOTUNE)"
      ]
    },
    {
      "cell_type": "code",
      "execution_count": null,
      "metadata": {
        "colab": {
          "base_uri": "https://localhost:8080/"
        },
        "id": "RMA0mo_Qkg61",
        "outputId": "95e24aff-4fbf-4917-d37b-6886a742cddd"
      },
      "outputs": [
        {
          "data": {
            "text/plain": [
              "(<PrefetchDataset shapes: (((None,), (None,)), (None,)), types: ((tf.string, tf.string), tf.float64)>,\n",
              " <PrefetchDataset shapes: (((None,), (None,)), (None,)), types: ((tf.string, tf.string), tf.float64)>)"
            ]
          },
          "execution_count": 102,
          "metadata": {},
          "output_type": "execute_result"
        }
      ],
      "source": [
        "# Check out training char and token embedding dataset\n",
        "train_char_token_dataset, val_char_token_dataset"
      ]
    },
    {
      "cell_type": "code",
      "execution_count": null,
      "metadata": {
        "colab": {
          "base_uri": "https://localhost:8080/"
        },
        "id": "RAox1GuLkjwV",
        "outputId": "36a9343f-118f-43f7-8a6a-8db83dfa4ea5"
      },
      "outputs": [
        {
          "name": "stdout",
          "output_type": "stream",
          "text": [
            "Epoch 1/10\n",
            "153/153 [==============================] - 58s 302ms/step - loss: 1.5410 - mae: 1.5410 - mse: 4.1390 - val_loss: 1.0907 - val_mae: 1.0907 - val_mse: 1.9204\n",
            "Epoch 2/10\n",
            "153/153 [==============================] - 43s 279ms/step - loss: 1.2283 - mae: 1.2283 - mse: 2.5204 - val_loss: 0.8422 - val_mae: 0.8422 - val_mse: 1.4549\n",
            "Epoch 3/10\n",
            "153/153 [==============================] - 43s 279ms/step - loss: 1.2080 - mae: 1.2080 - mse: 2.3673 - val_loss: 0.8121 - val_mae: 0.8121 - val_mse: 1.4034\n",
            "Epoch 4/10\n",
            "153/153 [==============================] - 43s 278ms/step - loss: 1.1414 - mae: 1.1414 - mse: 2.1162 - val_loss: 0.8969 - val_mae: 0.8969 - val_mse: 1.5143\n",
            "Epoch 5/10\n",
            "153/153 [==============================] - 43s 281ms/step - loss: 1.1176 - mae: 1.1176 - mse: 2.1223 - val_loss: 0.9235 - val_mae: 0.9235 - val_mse: 1.7056\n",
            "Epoch 6/10\n",
            "153/153 [==============================] - 42s 277ms/step - loss: 1.1050 - mae: 1.1050 - mse: 2.0474 - val_loss: 0.8122 - val_mae: 0.8122 - val_mse: 1.3570\n",
            "Epoch 7/10\n",
            "153/153 [==============================] - 43s 280ms/step - loss: 1.0709 - mae: 1.0709 - mse: 1.9290 - val_loss: 0.8149 - val_mae: 0.8149 - val_mse: 1.3505\n",
            "Epoch 8/10\n",
            "153/153 [==============================] - 42s 275ms/step - loss: 1.0566 - mae: 1.0566 - mse: 1.8720 - val_loss: 0.8807 - val_mae: 0.8807 - val_mse: 1.4954\n",
            "Epoch 9/10\n",
            "153/153 [==============================] - 43s 279ms/step - loss: 1.0282 - mae: 1.0282 - mse: 1.7747 - val_loss: 0.8323 - val_mae: 0.8323 - val_mse: 1.4315\n",
            "Epoch 10/10\n",
            "153/153 [==============================] - 42s 276ms/step - loss: 1.0146 - mae: 1.0146 - mse: 1.7772 - val_loss: 0.8575 - val_mae: 0.8575 - val_mse: 1.4683\n"
          ]
        }
      ],
      "source": [
        "# Fit the model on tokens and chars\n",
        "model_1_history = model_1.fit(train_char_token_dataset, # train on dataset of token and characters\n",
        "                              steps_per_epoch=int(0.1 * len(train_char_token_dataset)),\n",
        "                              epochs=10,\n",
        "                              validation_data=val_char_token_dataset,\n",
        "                              validation_steps=int(0.1 * len(val_char_token_dataset)))"
      ]
    },
    {
      "cell_type": "markdown",
      "source": [
        "# Model 2: Incorporating hygiene rating into the model"
      ],
      "metadata": {
        "id": "DMifOxFYsZHy"
      }
    },
    {
      "cell_type": "markdown",
      "source": [
        "## Data preparation\n",
        "Add hygiene ratings"
      ],
      "metadata": {
        "id": "r5OGjFsmtKIn"
      }
    },
    {
      "cell_type": "code",
      "source": [
        "ratings = pd.read_csv('ratings.csv')\n",
        "ratings.head()"
      ],
      "metadata": {
        "id": "r5_msFP5s7uX",
        "outputId": "fea0e89c-ad54-4312-9f11-26a135e3b150",
        "colab": {
          "base_uri": "https://localhost:8080/",
          "height": 204
        }
      },
      "execution_count": 10,
      "outputs": [
        {
          "output_type": "execute_result",
          "data": {
            "text/html": [
              "\n",
              "  <div id=\"df-5988b657-e6b1-40e2-af56-8debc048ab27\">\n",
              "    <div class=\"colab-df-container\">\n",
              "      <div>\n",
              "<style scoped>\n",
              "    .dataframe tbody tr th:only-of-type {\n",
              "        vertical-align: middle;\n",
              "    }\n",
              "\n",
              "    .dataframe tbody tr th {\n",
              "        vertical-align: top;\n",
              "    }\n",
              "\n",
              "    .dataframe thead th {\n",
              "        text-align: right;\n",
              "    }\n",
              "</style>\n",
              "<table border=\"1\" class=\"dataframe\">\n",
              "  <thead>\n",
              "    <tr style=\"text-align: right;\">\n",
              "      <th></th>\n",
              "      <th>Unnamed: 0</th>\n",
              "      <th>0</th>\n",
              "    </tr>\n",
              "  </thead>\n",
              "  <tbody>\n",
              "    <tr>\n",
              "      <th>0</th>\n",
              "      <td>0</td>\n",
              "      <td>Pass</td>\n",
              "    </tr>\n",
              "    <tr>\n",
              "      <th>1</th>\n",
              "      <td>1</td>\n",
              "      <td>NaN</td>\n",
              "    </tr>\n",
              "    <tr>\n",
              "      <th>2</th>\n",
              "      <td>2</td>\n",
              "      <td>Pass</td>\n",
              "    </tr>\n",
              "    <tr>\n",
              "      <th>3</th>\n",
              "      <td>3</td>\n",
              "      <td>NaN</td>\n",
              "    </tr>\n",
              "    <tr>\n",
              "      <th>4</th>\n",
              "      <td>4</td>\n",
              "      <td>Improvement Required</td>\n",
              "    </tr>\n",
              "  </tbody>\n",
              "</table>\n",
              "</div>\n",
              "      <button class=\"colab-df-convert\" onclick=\"convertToInteractive('df-5988b657-e6b1-40e2-af56-8debc048ab27')\"\n",
              "              title=\"Convert this dataframe to an interactive table.\"\n",
              "              style=\"display:none;\">\n",
              "        \n",
              "  <svg xmlns=\"http://www.w3.org/2000/svg\" height=\"24px\"viewBox=\"0 0 24 24\"\n",
              "       width=\"24px\">\n",
              "    <path d=\"M0 0h24v24H0V0z\" fill=\"none\"/>\n",
              "    <path d=\"M18.56 5.44l.94 2.06.94-2.06 2.06-.94-2.06-.94-.94-2.06-.94 2.06-2.06.94zm-11 1L8.5 8.5l.94-2.06 2.06-.94-2.06-.94L8.5 2.5l-.94 2.06-2.06.94zm10 10l.94 2.06.94-2.06 2.06-.94-2.06-.94-.94-2.06-.94 2.06-2.06.94z\"/><path d=\"M17.41 7.96l-1.37-1.37c-.4-.4-.92-.59-1.43-.59-.52 0-1.04.2-1.43.59L10.3 9.45l-7.72 7.72c-.78.78-.78 2.05 0 2.83L4 21.41c.39.39.9.59 1.41.59.51 0 1.02-.2 1.41-.59l7.78-7.78 2.81-2.81c.8-.78.8-2.07 0-2.86zM5.41 20L4 18.59l7.72-7.72 1.47 1.35L5.41 20z\"/>\n",
              "  </svg>\n",
              "      </button>\n",
              "      \n",
              "  <style>\n",
              "    .colab-df-container {\n",
              "      display:flex;\n",
              "      flex-wrap:wrap;\n",
              "      gap: 12px;\n",
              "    }\n",
              "\n",
              "    .colab-df-convert {\n",
              "      background-color: #E8F0FE;\n",
              "      border: none;\n",
              "      border-radius: 50%;\n",
              "      cursor: pointer;\n",
              "      display: none;\n",
              "      fill: #1967D2;\n",
              "      height: 32px;\n",
              "      padding: 0 0 0 0;\n",
              "      width: 32px;\n",
              "    }\n",
              "\n",
              "    .colab-df-convert:hover {\n",
              "      background-color: #E2EBFA;\n",
              "      box-shadow: 0px 1px 2px rgba(60, 64, 67, 0.3), 0px 1px 3px 1px rgba(60, 64, 67, 0.15);\n",
              "      fill: #174EA6;\n",
              "    }\n",
              "\n",
              "    [theme=dark] .colab-df-convert {\n",
              "      background-color: #3B4455;\n",
              "      fill: #D2E3FC;\n",
              "    }\n",
              "\n",
              "    [theme=dark] .colab-df-convert:hover {\n",
              "      background-color: #434B5C;\n",
              "      box-shadow: 0px 1px 3px 1px rgba(0, 0, 0, 0.15);\n",
              "      filter: drop-shadow(0px 1px 2px rgba(0, 0, 0, 0.3));\n",
              "      fill: #FFFFFF;\n",
              "    }\n",
              "  </style>\n",
              "\n",
              "      <script>\n",
              "        const buttonEl =\n",
              "          document.querySelector('#df-5988b657-e6b1-40e2-af56-8debc048ab27 button.colab-df-convert');\n",
              "        buttonEl.style.display =\n",
              "          google.colab.kernel.accessAllowed ? 'block' : 'none';\n",
              "\n",
              "        async function convertToInteractive(key) {\n",
              "          const element = document.querySelector('#df-5988b657-e6b1-40e2-af56-8debc048ab27');\n",
              "          const dataTable =\n",
              "            await google.colab.kernel.invokeFunction('convertToInteractive',\n",
              "                                                     [key], {});\n",
              "          if (!dataTable) return;\n",
              "\n",
              "          const docLinkHtml = 'Like what you see? Visit the ' +\n",
              "            '<a target=\"_blank\" href=https://colab.research.google.com/notebooks/data_table.ipynb>data table notebook</a>'\n",
              "            + ' to learn more about interactive tables.';\n",
              "          element.innerHTML = '';\n",
              "          dataTable['output_type'] = 'display_data';\n",
              "          await google.colab.output.renderOutput(dataTable, element);\n",
              "          const docLink = document.createElement('div');\n",
              "          docLink.innerHTML = docLinkHtml;\n",
              "          element.appendChild(docLink);\n",
              "        }\n",
              "      </script>\n",
              "    </div>\n",
              "  </div>\n",
              "  "
            ],
            "text/plain": [
              "   Unnamed: 0                     0\n",
              "0           0                  Pass\n",
              "1           1                   NaN\n",
              "2           2                  Pass\n",
              "3           3                   NaN\n",
              "4           4  Improvement Required"
            ]
          },
          "metadata": {},
          "execution_count": 10
        }
      ]
    },
    {
      "cell_type": "code",
      "source": [
        "# How many of the restaurants have food hyginene rating? \n",
        "import collections\n",
        "collections.Counter(ratings.iloc[:,1])"
      ],
      "metadata": {
        "id": "qvHjdQOYtSAv",
        "outputId": "5754b000-74a5-4ff4-b91a-86345e3923b7",
        "colab": {
          "base_uri": "https://localhost:8080/"
        }
      },
      "execution_count": 11,
      "outputs": [
        {
          "output_type": "execute_result",
          "data": {
            "text/plain": [
              "Counter({'0': 59,\n",
              "         '1': 985,\n",
              "         '2': 1209,\n",
              "         '3': 6788,\n",
              "         '4': 10075,\n",
              "         '5': 23643,\n",
              "         'Improvement Required': 306,\n",
              "         'Pass': 2820,\n",
              "         'Pass and Eat Safe': 9,\n",
              "         nan: 8681})"
            ]
          },
          "metadata": {},
          "execution_count": 11
        }
      ]
    },
    {
      "cell_type": "code",
      "source": [
        "justeat_menu['hygiene'] = ratings.iloc[:,1]"
      ],
      "metadata": {
        "id": "zN-CkejbtUU6"
      },
      "execution_count": 13,
      "outputs": []
    },
    {
      "cell_type": "code",
      "source": [
        "# focus on England only: restaurants with hyginene ratings\n",
        "justeat_hr = justeat_menu[justeat_menu['hygiene'].notnull()]\n",
        "justeat_eng = justeat_hr[justeat_hr['hygiene'].str.contains('0|1|2|3|4|5')]\n",
        "justeat_eng['hg_rating'] = justeat_eng.hygiene.astype(\"float64\")\n",
        "justeat_eng['ascii_name_fix'] = justeat_eng.rest_name.astype(\"string\").str.lower()\n",
        "justeat_eng.hg_rating.dtypes"
      ],
      "metadata": {
        "id": "1IjIHWw5tZv9",
        "outputId": "811ac8d1-6a1b-456b-81a7-8030f14050d5",
        "colab": {
          "base_uri": "https://localhost:8080/"
        }
      },
      "execution_count": 16,
      "outputs": [
        {
          "output_type": "stream",
          "name": "stderr",
          "text": [
            "/usr/local/lib/python3.7/dist-packages/ipykernel_launcher.py:4: SettingWithCopyWarning: \n",
            "A value is trying to be set on a copy of a slice from a DataFrame.\n",
            "Try using .loc[row_indexer,col_indexer] = value instead\n",
            "\n",
            "See the caveats in the documentation: https://pandas.pydata.org/pandas-docs/stable/user_guide/indexing.html#returning-a-view-versus-a-copy\n",
            "  after removing the cwd from sys.path.\n",
            "/usr/local/lib/python3.7/dist-packages/ipykernel_launcher.py:5: SettingWithCopyWarning: \n",
            "A value is trying to be set on a copy of a slice from a DataFrame.\n",
            "Try using .loc[row_indexer,col_indexer] = value instead\n",
            "\n",
            "See the caveats in the documentation: https://pandas.pydata.org/pandas-docs/stable/user_guide/indexing.html#returning-a-view-versus-a-copy\n",
            "  \"\"\"\n"
          ]
        },
        {
          "output_type": "execute_result",
          "data": {
            "text/plain": [
              "dtype('float64')"
            ]
          },
          "metadata": {},
          "execution_count": 16
        }
      ]
    },
    {
      "cell_type": "code",
      "source": [
        "X_train_hr, X_test_, y_train_hr, y_test_ = train_test_split(justeat_eng[['ascii_name_fix','hg_rating']], justeat_eng['predict'], test_size=0.1, random_state=42)\n",
        "X_val_hr, X_test_hr, y_val_hr, y_test_hr = train_test_split(X_test_,y_test_, test_size=0.5, random_state=42)\n",
        "X_train_hr.shape, y_train_hr.shape, X_test_hr.shape, y_test_hr.shape, X_val_hr.shape, y_val_hr.shape"
      ],
      "metadata": {
        "id": "W5M-fOgXt_Ft",
        "outputId": "f4b8a7d6-dfc6-4eb4-be50-f7ed9ed1f691",
        "colab": {
          "base_uri": "https://localhost:8080/"
        }
      },
      "execution_count": 19,
      "outputs": [
        {
          "output_type": "execute_result",
          "data": {
            "text/plain": [
              "((38483, 2), (38483,), (2138, 2), (2138,), (2138, 2), (2138,))"
            ]
          },
          "metadata": {},
          "execution_count": 19
        }
      ]
    },
    {
      "cell_type": "code",
      "source": [
        "# normalize the hygiene scores \n",
        "from sklearn.preprocessing import StandardScaler\n",
        "\n",
        "# create a scaler object\n",
        "std_scaler = StandardScaler()\n",
        "std_scaler\n",
        "# fit and transform the data\n",
        "X_train_hr['hg_rating']=std_scaler.fit_transform(X_train_hr[['hg_rating']])\n",
        "X_val_hr['hg_rating']=std_scaler.transform(X_val_hr[['hg_rating']])\n",
        "X_test_hr['hg_rating']=std_scaler.transform(X_test_hr[['hg_rating']])"
      ],
      "metadata": {
        "id": "GIpHiDbtw1_O"
      },
      "execution_count": 26,
      "outputs": []
    },
    {
      "cell_type": "markdown",
      "source": [
        "## Create tf datasets"
      ],
      "metadata": {
        "id": "sK7sctiX0sDD"
      }
    },
    {
      "cell_type": "code",
      "source": [
        "train_hygiene_token_data = tf.data.Dataset.from_tensor_slices((X_train_hr.ascii_name_fix, X_train_hr.hg_rating)) # make data\n",
        "train_hygiene_token_labels = tf.data.Dataset.from_tensor_slices(y_train_hr) # make labels\n",
        "train_hygiene_token_dataset = tf.data.Dataset.zip((train_hygiene_token_data, train_hygiene_token_labels)) # combine data and labels\n",
        "\n",
        "# Repeat same steps validation data\n",
        "val_hygiene_token_data = tf.data.Dataset.from_tensor_slices((X_val_hr.ascii_name_fix, X_val_hr.hg_rating))\n",
        "val_hygiene_token_labels = tf.data.Dataset.from_tensor_slices(y_val_hr)\n",
        "val_hygiene_token_dataset = tf.data.Dataset.zip((val_hygiene_token_data, val_hygiene_token_labels))\n",
        "\n",
        "# Prefetch and batch train data\n",
        "train_hygiene_token_dataset = train_hygiene_token_dataset.batch(32).prefetch(tf.data.AUTOTUNE) \n",
        "val_hygiene_token_dataset = val_hygiene_token_dataset.batch(32).prefetch(tf.data.AUTOTUNE)"
      ],
      "metadata": {
        "id": "r9Iqr1jH0vBE"
      },
      "execution_count": 43,
      "outputs": []
    },
    {
      "cell_type": "markdown",
      "source": [
        "## Combining pre-trained embedding layer (ULM) and hygiene rating"
      ],
      "metadata": {
        "id": "-H6wdBpguWyl"
      }
    },
    {
      "cell_type": "code",
      "source": [
        "encoder = hub.KerasLayer(ulmfit.signatures['string_encoder'], trainable= False, name = \"universal_language_model\")\n",
        "\n",
        "# 1. Setup token inputs/model\n",
        "token_inputs = layers.Input(shape=(), dtype=tf.string, name=\"token_input\")\n",
        "token_embeddings = encoder(token_inputs) # the output is a dictionary consisting of output_flat and output_rows\n",
        "token_embeddings_ragged = tf.RaggedTensor.from_row_splits(token_embeddings['output_flat'],   # converting to RaggedTensor\n",
        "                                                 token_embeddings['output_rows'])\n",
        "vector_average = tf.reduce_mean(token_embeddings_ragged, axis=1) \n",
        "token_output = layers.Dense(128, activation=\"relu\")(vector_average)\n",
        "token_model = tf.keras.Model(inputs=token_inputs,\n",
        "                             outputs=token_output)\n",
        "\n",
        "# 2. Setup hygiene rating model \n",
        "hygiene_inputs = layers.Input(shape=(1,), name=\"hygiene_input\")\n",
        "hygiene_output = layers.Dense(128, activation=\"relu\")(hygiene_inputs)\n",
        "hygiene_model = tf.keras.Model(inputs=hygiene_inputs,\n",
        "                            outputs=hygiene_output)\n",
        "\n",
        "# 3. Concatenate token and char inputs (create hybrid token embedding)\n",
        "token_hygiene_concat = layers.Concatenate(name=\"token_hygiene_hybrid\")([token_model.output, \n",
        "                                                                  hygiene_model.output])\n",
        "\n",
        "# 4. Create output layers - addition of dropout discussed in 4.2 of https://arxiv.org/pdf/1612.05251.pdf\n",
        "combined_dropout = layers.Dropout(0.5)(token_hygiene_concat)\n",
        "combined_dense = layers.Dense(128, activation=\"relu\")(combined_dropout) # slightly different to Figure 1 due to different shapes of token/char embedding layers\n",
        "final_dropout = layers.Dropout(0.5)(combined_dense)\n",
        "output_layer = layers.Dense(1)(final_dropout)\n",
        "\n",
        "# 5. Construct model with char and token inputs\n",
        "model_2 = tf.keras.Model(inputs=[token_model.input, hygiene_model.input],\n",
        "                         outputs=output_layer,\n",
        "                         name=\"model_2_token_and_hygiene_pretrained\")"
      ],
      "metadata": {
        "id": "dtMtoJsQvEdY"
      },
      "execution_count": 35,
      "outputs": []
    },
    {
      "cell_type": "code",
      "source": [
        "plot_model(model_2)"
      ],
      "metadata": {
        "id": "jSSqq0PXzP2q",
        "outputId": "e636f160-866e-4bd8-e5bf-76a101521f1c",
        "colab": {
          "base_uri": "https://localhost:8080/",
          "height": 953
        }
      },
      "execution_count": 36,
      "outputs": [
        {
          "output_type": "execute_result",
          "data": {
            "image/png": "[encoded data removed]",
            "text/plain": [
              "<IPython.core.display.Image object>"
            ]
          },
          "metadata": {},
          "execution_count": 36
        }
      ]
    },
    {
      "cell_type": "code",
      "source": [
        "model_2.compile(loss=\"mean_absolute_error\",\n",
        "                optimizer=tf.keras.optimizers.Adam())"
      ],
      "metadata": {
        "id": "0IQHGHzGz3ib"
      },
      "execution_count": 37,
      "outputs": []
    },
    {
      "cell_type": "code",
      "source": [
        "# Fit the model on tokens and hygiene ratings \n",
        "model_2_history = model_2.fit(train_hygiene_token_dataset, # train on dataset of token and characters\n",
        "                              #steps_per_epoch=int(0.1 * len(train_hygiene_token_dataset)),\n",
        "                              epochs=20,\n",
        "                              validation_data=val_hygiene_token_dataset,\n",
        "                              #validation_steps=int(0.1 * len(val_hygiene_token_dataset))\n",
        "                              )"
      ],
      "metadata": {
        "id": "Tq_mwZFy1s0e",
        "outputId": "569aa55b-0be6-4704-c44b-b21265b3433a",
        "colab": {
          "base_uri": "https://localhost:8080/"
        }
      },
      "execution_count": 47,
      "outputs": [
        {
          "output_type": "stream",
          "name": "stdout",
          "text": [
            "Epoch 1/20\n",
            "1203/1203 [==============================] - 103s 86ms/step - loss: 1.2061 - val_loss: 1.9969\n",
            "Epoch 2/20\n",
            "1203/1203 [==============================] - 103s 85ms/step - loss: 1.1657 - val_loss: 1.9306\n",
            "Epoch 3/20\n",
            "1203/1203 [==============================] - 106s 88ms/step - loss: 1.1308 - val_loss: 1.8545\n",
            "Epoch 4/20\n",
            "1203/1203 [==============================] - 106s 88ms/step - loss: 1.1051 - val_loss: 1.5084\n",
            "Epoch 5/20\n",
            "1203/1203 [==============================] - 105s 87ms/step - loss: 1.0759 - val_loss: 1.2596\n",
            "Epoch 6/20\n",
            "1203/1203 [==============================] - 106s 88ms/step - loss: 1.0589 - val_loss: 1.2698\n",
            "Epoch 7/20\n",
            "1203/1203 [==============================] - 107s 89ms/step - loss: 1.0480 - val_loss: 1.1678\n",
            "Epoch 8/20\n",
            "1203/1203 [==============================] - 105s 88ms/step - loss: 1.0314 - val_loss: 1.1027\n",
            "Epoch 9/20\n",
            "1203/1203 [==============================] - 106s 88ms/step - loss: 1.0227 - val_loss: 1.2403\n",
            "Epoch 10/20\n",
            "1203/1203 [==============================] - 106s 88ms/step - loss: 1.0078 - val_loss: 1.0105\n",
            "Epoch 11/20\n",
            "1203/1203 [==============================] - 106s 88ms/step - loss: 0.9882 - val_loss: 0.9985\n",
            "Epoch 12/20\n",
            "1203/1203 [==============================] - 105s 88ms/step - loss: 0.9795 - val_loss: 1.0001\n",
            "Epoch 13/20\n",
            "1203/1203 [==============================] - 105s 87ms/step - loss: 0.9674 - val_loss: 0.9735\n",
            "Epoch 14/20\n",
            "1203/1203 [==============================] - 105s 87ms/step - loss: 0.9549 - val_loss: 0.9615\n",
            "Epoch 15/20\n",
            "1203/1203 [==============================] - 105s 87ms/step - loss: 0.9488 - val_loss: 0.9707\n",
            "Epoch 16/20\n",
            "1203/1203 [==============================] - 105s 88ms/step - loss: 0.9370 - val_loss: 0.9917\n",
            "Epoch 17/20\n",
            "1203/1203 [==============================] - 105s 87ms/step - loss: 0.9313 - val_loss: 0.9882\n",
            "Epoch 18/20\n",
            "1203/1203 [==============================] - 106s 88ms/step - loss: 0.9250 - val_loss: 1.0180\n",
            "Epoch 19/20\n",
            "1203/1203 [==============================] - 105s 87ms/step - loss: 0.9158 - val_loss: 0.9775\n",
            "Epoch 20/20\n",
            "1203/1203 [==============================] - 105s 87ms/step - loss: 0.9101 - val_loss: 0.9747\n"
          ]
        }
      ]
    },
    {
      "cell_type": "code",
      "source": [
        "# now make the unfreeze the layer \n",
        "for layer_number, layer in enumerate(model_2.layers):\n",
        "  print(layer_number, layer.name, layer.trainable)\n",
        "\n",
        "model_2.trainable = True"
      ],
      "metadata": {
        "id": "IoDrY9Ag7EuM",
        "outputId": "27566df3-306e-463e-c6e5-e71e8b4667d3",
        "colab": {
          "base_uri": "https://localhost:8080/"
        }
      },
      "execution_count": 51,
      "outputs": [
        {
          "output_type": "stream",
          "name": "stdout",
          "text": [
            "0 token_input True\n",
            "1 universal_language_model True\n",
            "2 tf.RaggedTensor.from_row_splits_6 True\n",
            "3 tf.math.reduce_mean_6 True\n",
            "4 hygiene_input True\n",
            "5 dense_20 True\n",
            "6 dense_21 True\n",
            "7 token_hygiene_hybrid True\n",
            "8 dropout_2 True\n",
            "9 dense_22 True\n",
            "10 dropout_3 True\n",
            "11 dense_23 True\n"
          ]
        }
      ]
    },
    {
      "cell_type": "code",
      "source": [
        "# now unfreeze the layer and fine tune with lower learning rates \n",
        "# Recompile the model (always recompile after any adjustments to a model)\n",
        "model_2.compile(loss=\"mae\",\n",
        "              optimizer=tf.keras.optimizers.Adam(1e-4)) # lr is 10x lower than before for fine-tuning)"
      ],
      "metadata": {
        "id": "KdpHIDG42j8a"
      },
      "execution_count": 57,
      "outputs": []
    },
    {
      "cell_type": "code",
      "source": [
        "# fine tune for another 20 epochs \n",
        "fine_tune_epochs = 30\n",
        "\n",
        "# Refit the model (same as model_2 except with more trainable layers)\n",
        "history_fine_tune_model_2= model_2.fit(train_hygiene_token_dataset,\n",
        "                                       epochs=fine_tune_epochs,\n",
        "                                       validation_data=val_hygiene_token_dataset,\n",
        "                                               initial_epoch=model_2_history.epoch[-1]) # start from previous last epoch\n"
      ],
      "metadata": {
        "id": "gqhagHLaBW4w",
        "outputId": "61fecc2d-1c17-44f8-9288-83de7e6ff43d",
        "colab": {
          "base_uri": "https://localhost:8080/"
        }
      },
      "execution_count": 58,
      "outputs": [
        {
          "output_type": "stream",
          "name": "stdout",
          "text": [
            "Epoch 20/30\n",
            "1203/1203 [==============================] - 299s 246ms/step - loss: 0.5457 - val_loss: 0.8561\n",
            "Epoch 21/30\n",
            "1203/1203 [==============================] - 292s 243ms/step - loss: 0.5196 - val_loss: 0.8476\n",
            "Epoch 22/30\n",
            "1203/1203 [==============================] - 292s 243ms/step - loss: 0.5013 - val_loss: 0.8442\n",
            "Epoch 23/30\n",
            "1203/1203 [==============================] - 295s 245ms/step - loss: 0.4830 - val_loss: 0.8482\n",
            "Epoch 24/30\n",
            "1203/1203 [==============================] - 295s 245ms/step - loss: 0.4721 - val_loss: 0.8496\n",
            "Epoch 25/30\n",
            "1203/1203 [==============================] - 295s 245ms/step - loss: 0.4591 - val_loss: 0.8559\n",
            "Epoch 26/30\n",
            "1203/1203 [==============================] - 297s 247ms/step - loss: 0.4454 - val_loss: 0.8513\n",
            "Epoch 27/30\n",
            "1203/1203 [==============================] - 297s 247ms/step - loss: 0.4349 - val_loss: 0.8532\n",
            "Epoch 28/30\n",
            "1203/1203 [==============================] - 297s 247ms/step - loss: 0.4252 - val_loss: 0.8534\n",
            "Epoch 29/30\n",
            "1203/1203 [==============================] - 299s 249ms/step - loss: 0.4163 - val_loss: 0.8550\n",
            "Epoch 30/30\n",
            "1203/1203 [==============================] - 298s 248ms/step - loss: 0.4072 - val_loss: 0.8551\n"
          ]
        }
      ]
    },
    {
      "cell_type": "markdown",
      "source": [
        "# Model 3: Incorporating hygiene rating and geographical coordinates into the model \n",
        "\n",
        "Geographic corrdinate encoding reference: https://medium.com/riga-data-science-club/geographic-coordinate-encoding-with-tensorflow-feature-columns-e750ae338b7c\n"
      ],
      "metadata": {
        "id": "0nYGgzDysunn"
      }
    }
  ],
  "metadata": {
    "accelerator": "GPU",
    "colab": {
      "name": "02_Transfer_Learning.ipynb",
      "toc_visible": true,
      "provenance": [],
      "authorship_tag": "ABX9TyOfOEthzXfKUzkhL49Loi4X",
      "include_colab_link": true
    },
    "kernelspec": {
      "display_name": "Python 3",
      "name": "python3"
    },
    "language_info": {
      "name": "python"
    }
  },
  "nbformat": 4,
  "nbformat_minor": 0
}